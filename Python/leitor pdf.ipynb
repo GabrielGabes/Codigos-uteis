{
 "cells": [
  {
   "cell_type": "code",
   "execution_count": 1,
   "id": "25f4e2dc-f7da-48d7-bdd8-77238a5cb919",
   "metadata": {},
   "outputs": [
    {
     "ename": "ModuleNotFoundError",
     "evalue": "No module named 'PyPDF2'",
     "output_type": "error",
     "traceback": [
      "\u001b[1;31m---------------------------------------------------------------------------\u001b[0m",
      "\u001b[1;31mModuleNotFoundError\u001b[0m                       Traceback (most recent call last)",
      "Cell \u001b[1;32mIn[1], line 1\u001b[0m\n\u001b[1;32m----> 1\u001b[0m \u001b[38;5;28;01mfrom\u001b[39;00m \u001b[38;5;21;01mPyPDF2\u001b[39;00m \u001b[38;5;28;01mimport\u001b[39;00m PdfReader\n",
      "\u001b[1;31mModuleNotFoundError\u001b[0m: No module named 'PyPDF2'"
     ]
    }
   ],
   "source": [
    "from PyPDF2 import PdfReader"
   ]
  },
  {
   "cell_type": "code",
   "execution_count": 23,
   "id": "e966dce2-5156-4322-af78-2f570af1ab02",
   "metadata": {},
   "outputs": [
    {
     "name": "stdout",
     "output_type": "stream",
     "text": [
      "=================================== C:/Users/gabri/Downloads/Aluguel_mes_06.pdf ===================================\n"
     ]
    }
   ],
   "source": [
    "pasta = 'C:/Users/gabri/Downloads/'\n",
    "arquivos_pdf = 'Aluguel_mes_06.pdf'\n",
    "arquivo_sorteado = pasta+arquivos_pdf\n",
    "print('='*35, arquivo_sorteado, '='*35)"
   ]
  },
  {
   "cell_type": "code",
   "execution_count": 27,
   "id": "64b5fafb-ab5e-4fd2-ab58-78ce80bf90c8",
   "metadata": {},
   "outputs": [
    {
     "data": {
      "text/plain": [
       "\".\\n<bound method PageObject.extract_text of {'/Type': '/Page', '/Parent': IndirectObject(1, 0, 2441847955472), '/Resources': IndirectObject(2, 0, 2441847955472), '/Contents': IndirectObject(4, 0, 2441847955472), '/MediaBox': [0, 0, 595.28, 841.89]}>\""
      ]
     },
     "execution_count": 27,
     "metadata": {},
     "output_type": "execute_result"
    }
   ],
   "source": [
    "reader = PdfReader( arquivo_sorteado )\n",
    "texto_completo = '.'\n",
    "for i in range(len(reader.pages)):\n",
    "    page = reader.pages[i]\n",
    "    texto_completo = texto_completo+'\\n'+str(page.extract_text)\n",
    "print(texto_completo)"
   ]
  },
  {
   "cell_type": "code",
   "execution_count": 19,
   "id": "04070be6-705c-42f3-ad6a-da2853df9a61",
   "metadata": {},
   "outputs": [
    {
     "ename": "IndexError",
     "evalue": "sequence index out of range",
     "output_type": "error",
     "traceback": [
      "\u001b[1;31m---------------------------------------------------------------------------\u001b[0m",
      "\u001b[1;31mIndexError\u001b[0m                                Traceback (most recent call last)",
      "Cell \u001b[1;32mIn[19], line 1\u001b[0m\n\u001b[1;32m----> 1\u001b[0m reader\u001b[38;5;241m.\u001b[39mpages[\u001b[38;5;241m1\u001b[39m]\u001b[38;5;241m.\u001b[39mextract_text\n",
      "File \u001b[1;32m~\\anaconda3\\Lib\\site-packages\\PyPDF2\\_page.py:2077\u001b[0m, in \u001b[0;36m_VirtualList.__getitem__\u001b[1;34m(self, index)\u001b[0m\n\u001b[0;32m   2075\u001b[0m     index \u001b[38;5;241m=\u001b[39m len_self \u001b[38;5;241m+\u001b[39m index\n\u001b[0;32m   2076\u001b[0m \u001b[38;5;28;01mif\u001b[39;00m index \u001b[38;5;241m<\u001b[39m \u001b[38;5;241m0\u001b[39m \u001b[38;5;129;01mor\u001b[39;00m index \u001b[38;5;241m>\u001b[39m\u001b[38;5;241m=\u001b[39m len_self:\n\u001b[1;32m-> 2077\u001b[0m     \u001b[38;5;28;01mraise\u001b[39;00m \u001b[38;5;167;01mIndexError\u001b[39;00m(\u001b[38;5;124m\"\u001b[39m\u001b[38;5;124msequence index out of range\u001b[39m\u001b[38;5;124m\"\u001b[39m)\n\u001b[0;32m   2078\u001b[0m \u001b[38;5;28;01mreturn\u001b[39;00m \u001b[38;5;28mself\u001b[39m\u001b[38;5;241m.\u001b[39mget_function(index)\n",
      "\u001b[1;31mIndexError\u001b[0m: sequence index out of range"
     ]
    }
   ],
   "source": [
    "reader.pages[1].extract_text"
   ]
  }
 ],
 "metadata": {
  "kernelspec": {
   "display_name": "Python 3 (ipykernel)",
   "language": "python",
   "name": "python3"
  },
  "language_info": {
   "codemirror_mode": {
    "name": "ipython",
    "version": 3
   },
   "file_extension": ".py",
   "mimetype": "text/x-python",
   "name": "python",
   "nbconvert_exporter": "python",
   "pygments_lexer": "ipython3",
   "version": "3.12.4"
  }
 },
 "nbformat": 4,
 "nbformat_minor": 5
}
