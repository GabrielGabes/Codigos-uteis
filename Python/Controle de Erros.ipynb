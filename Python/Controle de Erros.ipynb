{
 "cells": [
  {
   "cell_type": "code",
   "execution_count": 3,
   "metadata": {},
   "outputs": [],
   "source": [
    "# Tramento de erros\n",
    "import traceback\n",
    "import logging"
   ]
  },
  {
   "cell_type": "markdown",
   "metadata": {},
   "source": [
    "# Sempre usar"
   ]
  },
  {
   "cell_type": "code",
   "execution_count": 20,
   "metadata": {},
   "outputs": [
    {
     "name": "stdout",
     "output_type": "stream",
     "text": [
      "Traceback (most recent call last):\n",
      "  File \"C:\\Users\\gabri\\AppData\\Local\\Temp\\ipykernel_17124\\3805040850.py\", line 5, in <module>\n",
      "    result = x / y\n",
      "             ~~^~~\n",
      "ZeroDivisionError: division by zero\n",
      "\n"
     ]
    }
   ],
   "source": [
    "## Obter todas informações sobre o erro\n",
    "import traceback\n",
    "\n",
    "try:\n",
    "    x = 10; y = 0\n",
    "    result = x / y\n",
    "except Exception as e:\n",
    "    print(traceback.format_exc())"
   ]
  },
  {
   "cell_type": "markdown",
   "metadata": {},
   "source": [
    "# Criando um erro próprio"
   ]
  },
  {
   "cell_type": "code",
   "execution_count": null,
   "metadata": {},
   "outputs": [
    {
     "name": "stdout",
     "output_type": "stream",
     "text": [
      "Erro: Falha ao conectar com a API\n"
     ]
    }
   ],
   "source": [
    "#################### Criando um erro próprio - Modo Rapido e Simples ####################\n",
    "\n",
    "class ErroAPI(Exception):\n",
    "    \"\"\"Exceção personalizada para erros de API.\"\"\"\n",
    "    pass\n",
    "\n",
    "# Exemplo de como utilizar o ErroAPI\n",
    "def chamada_api():\n",
    "    # Simulando um erro na chamada de uma API\n",
    "    raise ErroAPI(\"Falha ao conectar com a API\")\n",
    "\n",
    "try:\n",
    "    chamada_api()\n",
    "except ErroAPI as e:\n",
    "    print(f\"Erro: {e}\")"
   ]
  },
  {
   "cell_type": "code",
   "execution_count": 30,
   "metadata": {},
   "outputs": [
    {
     "name": "stdout",
     "output_type": "stream",
     "text": [
      "Erro: Falha ao conectar com a API - Código: 500\n"
     ]
    }
   ],
   "source": [
    "#################### Criando um erro próprio - Modo Detalhado ####################\n",
    "\n",
    "class ErroAPI(Exception):\n",
    "    \"\"\"Exceção personalizada para erros de API.\"\"\"\n",
    "    def __init__(self, mensagem, codigo=None):\n",
    "        super().__init__(mensagem)\n",
    "        self.codigo = codigo\n",
    "\n",
    "# Exemplo de como utilizar o ErroAPI\n",
    "def chamada_api():\n",
    "    # Simulando um erro na chamada de uma API\n",
    "    raise ErroAPI(\"Falha ao conectar com a API\", codigo=500)\n",
    "\n",
    "try:\n",
    "    chamada_api()\n",
    "except ErroAPI as e:\n",
    "    print(f\"Erro: {e} - Código: {e.codigo}\")"
   ]
  },
  {
   "cell_type": "markdown",
   "metadata": {},
   "source": [
    "# Outros"
   ]
  },
  {
   "cell_type": "code",
   "execution_count": 32,
   "metadata": {},
   "outputs": [
    {
     "name": "stdout",
     "output_type": "stream",
     "text": [
      "Error: ErroTeste\n",
      "Error: ErroTeste\n"
     ]
    }
   ],
   "source": [
    "## Obter mensagem do erro\n",
    "try:\n",
    "    # exceção do tipo ValueError com a mensagem \"Erro de exemplo\"\n",
    "    raise ValueError(\"ErroTeste\")\n",
    "    # exceção do tipo NameError com a mensagem \"Erro de exemplo\"\n",
    "    # raise NameError('ErroTeste')\n",
    "except Exception as e:\n",
    "    print(\"Error:\", e)"
   ]
  },
  {
   "cell_type": "code",
   "execution_count": 28,
   "metadata": {},
   "outputs": [
    {
     "name": "stdout",
     "output_type": "stream",
     "text": [
      "Error: Erro de exemplo\n",
      "Traceback:\n",
      "Traceback (most recent call last):\n",
      "  File \"C:\\Users\\gabri\\AppData\\Local\\Temp\\ipykernel_17124\\1864067279.py\", line 7, in <module>\n",
      "    raise ValueError(\"Erro de exemplo\") # Código que pode causar exceção\n",
      "    ^^^^^^^^^^^^^^^^^^^^^^^^^^^^^^^^^^^\n",
      "ValueError: Erro de exemplo\n",
      "\n"
     ]
    }
   ],
   "source": [
    "# Obter Mais Informações com traceback\n",
    "## O módulo traceback permite obter detalhes sobre onde a exceção ocorreu no código.\n",
    "\n",
    "import traceback\n",
    "\n",
    "try:\n",
    "    raise ValueError(\"Erro de exemplo\") # Código que pode causar exceção\n",
    "except Exception as e:\n",
    "    print(\"Error:\", e)\n",
    "    print(\"Traceback:\")\n",
    "    print(traceback.format_exc())"
   ]
  },
  {
   "cell_type": "code",
   "execution_count": 35,
   "metadata": {},
   "outputs": [
    {
     "name": "stdout",
     "output_type": "stream",
     "text": [
      "Error: division by zero\n",
      "Exception Type: ZeroDivisionError\n"
     ]
    }
   ],
   "source": [
    "## Obter o Tipo de Exceção\n",
    "\n",
    "try:\n",
    "    x = 10; y = 0\n",
    "    result = x / y\n",
    "    #raise ValueError(\"Erro de exemplo\") # Código que pode causar exceção\n",
    "except Exception as e:\n",
    "    print(f\"Error: {e}\")\n",
    "    print(f\"Exception Type: {type(e).__name__}\")"
   ]
  },
  {
   "cell_type": "code",
   "execution_count": 23,
   "metadata": {},
   "outputs": [
    {
     "name": "stdout",
     "output_type": "stream",
     "text": [
      "Error: division by zero\n",
      "Exception Type: ZeroDivisionError\n",
      "File: C:\\Users\\gabri\\AppData\\Local\\Temp\\ipykernel_17124\\1810988179.py\n",
      "Line: 9\n",
      "Function: <module>\n",
      "Local Variables: result = x / y\n"
     ]
    }
   ],
   "source": [
    "# Incluir Variáveis Locais\n",
    "## Capturar variáveis locais no momento em que a exceção ocorreu\n",
    "\n",
    "import sys\n",
    "import traceback\n",
    "\n",
    "try:\n",
    "    x = 10; y = 0\n",
    "    result = x / y\n",
    "except Exception as e:\n",
    "    print(f\"Error: {e}\")\n",
    "    print(f\"Exception Type: {type(e).__name__}\")\n",
    "    _, _, tb = sys.exc_info()\n",
    "    frame = traceback.extract_tb(tb)[-1]\n",
    "    print(f\"File: {frame.filename}\")\n",
    "    print(f\"Line: {frame.lineno}\")\n",
    "    print(f\"Function: {frame.name}\")\n",
    "    print(f\"Local Variables: {frame.line}\")"
   ]
  },
  {
   "cell_type": "code",
   "execution_count": 26,
   "metadata": {},
   "outputs": [
    {
     "name": "stdout",
     "output_type": "stream",
     "text": [
      "Error: division by zero\n",
      "Veja os detalhes no arquivo 'error.log'\n"
     ]
    }
   ],
   "source": [
    "## Logging para Depuração Melhorada\n",
    "\n",
    "import logging\n",
    "import traceback\n",
    "\n",
    "logging.basicConfig(filename='error.log', level=logging.ERROR)\n",
    "\n",
    "try:\n",
    "    x = 10; y = 0\n",
    "    result = x / y\n",
    "except Exception as e:\n",
    "    logging.error(\"Exception occurred\", exc_info=True)\n",
    "    print(f\"Error: {e}\")\n",
    "    print(\"Veja os detalhes no arquivo 'error.log'\")"
   ]
  },
  {
   "cell_type": "code",
   "execution_count": null,
   "metadata": {},
   "outputs": [
    {
     "name": "stdout",
     "output_type": "stream",
     "text": [
      "Error: Erro de exemplo\n",
      "Veja os detalhes no arquivo 'error.log'\n"
     ]
    }
   ],
   "source": [
    "## Usar o Decorator para Capturar Exceções Globalmente\n",
    "\n",
    "import logging\n",
    "import traceback\n",
    "\n",
    "logging.basicConfig(filename='error.log', level=logging.ERROR)\n",
    "\n",
    "def exception_logger(func):\n",
    "    def wrapper(*args, **kwargs):\n",
    "        try:\n",
    "            return func(*args, **kwargs)\n",
    "        except Exception as e:\n",
    "            logging.error(\"Exception in %s\", func.__name__, exc_info=True)\n",
    "            print(f\"Error: {e}\")\n",
    "            print(\"Veja os detalhes no arquivo 'error.log'\")\n",
    "    return wrapper\n",
    "\n",
    "exception_logger\n",
    "def example_function():\n",
    "    raise ValueError(\"Erro de exemplo\")\n",
    "\n",
    "example_function()"
   ]
  },
  {
   "cell_type": "code",
   "execution_count": null,
   "metadata": {},
   "outputs": [],
   "source": []
  }
 ],
 "metadata": {
  "kernelspec": {
   "display_name": "Python 3",
   "language": "python",
   "name": "python3"
  },
  "language_info": {
   "codemirror_mode": {
    "name": "ipython",
    "version": 3
   },
   "file_extension": ".py",
   "mimetype": "text/x-python",
   "name": "python",
   "nbconvert_exporter": "python",
   "pygments_lexer": "ipython3",
   "version": "3.12.4"
  }
 },
 "nbformat": 4,
 "nbformat_minor": 2
}
