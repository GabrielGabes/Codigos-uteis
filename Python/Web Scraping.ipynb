{
 "cells": [
  {
   "cell_type": "code",
   "execution_count": null,
   "metadata": {},
   "outputs": [],
   "source": [
    "# Lidar com Tempo de espera\n",
    "import time\n",
    "from time import sleep"
   ]
  },
  {
   "cell_type": "markdown",
   "metadata": {},
   "source": [
    "# Requisições HTTP"
   ]
  },
  {
   "cell_type": "code",
   "execution_count": 12,
   "metadata": {},
   "outputs": [],
   "source": [
    "# Requisições HTTP\n",
    "import requests\n",
    "from bs4 import BeautifulSoup"
   ]
  },
  {
   "cell_type": "code",
   "execution_count": null,
   "metadata": {},
   "outputs": [],
   "source": [
    "# Faz a requisição e pega o conteúdo HTML da página\n",
    "response = requests.get('https://www.linkedin.com/in/gabriel-silva-dos-anjos-gabes/')\n",
    "html_content = response.content\n",
    "\n",
    "# Analisa o HTML usando BeautifulSoup\n",
    "soup = BeautifulSoup(html_content, 'html.parser')\n",
    "print(soup)"
   ]
  },
  {
   "cell_type": "markdown",
   "metadata": {},
   "source": [
    "# PyAutoGUI"
   ]
  },
  {
   "cell_type": "code",
   "execution_count": null,
   "metadata": {},
   "outputs": [],
   "source": [
    "############################### PYAUTOGUI ###############################\n",
    "# Controle Mouse e Teclado\n",
    "import pyautogui\n",
    "\n",
    "# FUNÇÃO: ENCONTRAR LOCALIZAÇÃO \n",
    "import pyperclip # copiar texto\n",
    "def achar_loc():\n",
    "    pyautogui.sleep(2)\n",
    "    posicao = pyautogui.position()\n",
    "    texto = 'click_and_reset(' + str(posicao[0]) + ', ' + str(posicao[1]) + ')'\n",
    "    pyperclip.copy(texto)\n",
    "    return texto\n",
    "\n",
    "def reset_selecao2(x=200, y=200, tempo_sleep=0.3):\n",
    "    posicao_antiga = pyautogui.position() \n",
    "    #click no vazio\n",
    "    pyautogui.click(x, y); sleep(tempo_sleep); pyautogui.click(x, y)\n",
    "    pyautogui.moveTo(posicao_antiga)\n",
    "\n",
    "# FUNÇÃO: CLICAR E RETONAR\n",
    "def click_and_reset(x, y):\n",
    "    posicao_antiga = pyautogui.position()\n",
    "    pyautogui.click(x, y)\n",
    "    pyautogui.moveTo(posicao_antiga)\n",
    "\n",
    "# FUNÇÃO: VERIFICAR CONTORNO COM O MOUSE\n",
    "def verificar_quadratura(left, top, width, height, tempo_sleep = 0.1):\n",
    "    for _ in range(6):\n",
    "        pyautogui.moveTo(left, top); sleep(tempo_sleep)\n",
    "        pyautogui.moveTo(left, height); sleep(tempo_sleep)\n",
    "        pyautogui.moveTo(width, height); sleep(tempo_sleep)\n",
    "        pyautogui.moveTo(width, top)"
   ]
  },
  {
   "cell_type": "markdown",
   "metadata": {},
   "source": [
    "# Selenium"
   ]
  },
  {
   "cell_type": "code",
   "execution_count": null,
   "metadata": {},
   "outputs": [],
   "source": [
    "############################### SELENIUM ###############################\n",
    "from selenium import webdriver # navegador\n",
    "\n",
    "# Ações ###############################\n",
    "from selenium.webdriver.common.by import By # localizar elementos\n",
    "from selenium.webdriver.common.keys import Keys # comandos do teclado\n",
    "from selenium.webdriver.common.action_chains import ActionChains # ações do mouse e teclado\n",
    "\n",
    "# Exceções|Erros e Espera ###############################\n",
    "from selenium.common.exceptions import NoSuchElementException # exceção para elementos não encontrados # CONTROLE DE ERROS\n",
    "from selenium.webdriver.support.ui import WebDriverWait # esperar\n",
    "\n",
    "# condições de espera ###############################\n",
    "from selenium.webdriver.support.expected_conditions import (visibility_of, staleness_of, invisibility_of_element, visibility_of_element_located)\n",
    "from selenium.webdriver.support import expected_conditions as EC # condições de espera (atalho)\n",
    "from selenium.common.exceptions import TimeoutException # exceção para tempo limite"
   ]
  },
  {
   "cell_type": "code",
   "execution_count": null,
   "metadata": {},
   "outputs": [],
   "source": [
    "############################### Abrindo navegador\n",
    "\n",
    "## ChromeDriver ###############################\n",
    "from selenium.webdriver.chrome.service import Service\n",
    "from webdriver_manager.chrome import ChromeDriverManager\n",
    "browser = webdriver.Chrome(service=Service(ChromeDriverManager().install()))\n",
    "\n",
    "# Firefox ###############################\n",
    "from selenium.webdriver.firefox.service import Service\n",
    "from webdriver_manager.firefox import GeckoDriverManager\n",
    "browser = webdriver.Firefox(service=Service(GeckoDriverManager().install()))\n",
    "\n",
    "# EdgeDriver ###############################\n",
    "from selenium.webdriver.edge.service import Service\n",
    "from webdriver_manager.microsoft import EdgeChromiumDriverManager\n",
    "browser = webdriver.Edge(service=Service(EdgeChromiumDriverManager().install()))\n",
    "\n",
    "# OperaDriver ###############################\n",
    "from selenium import webdriver\n",
    "from selenium.webdriver.opera.service import Service\n",
    "from webdriver_manager.opera import OperaDriverManager\n",
    "browser = webdriver.Opera(service=Service(OperaDriverManager().install()))\n",
    "\n",
    "##############################################################\n",
    "# Para usar ActionChains\n",
    "action_chains = ActionChains(browser)\n",
    "\n",
    "# Entrar no Site\n",
    "browser.get('https://www.google.com/'); sleep(5)"
   ]
  },
  {
   "cell_type": "code",
   "execution_count": null,
   "metadata": {},
   "outputs": [],
   "source": [
    "# FUNÇÕES XPATH\n",
    "def xpath_element(xpath):\n",
    "    return browser.find_element(\"xpath\", xpath)\n",
    "        \n",
    "def xpath_click(xpath):\n",
    "    try:\n",
    "        xpath_element(xpath).click()\n",
    "    except:\n",
    "        sleep(1)\n",
    "        xpath_element(xpath).click()\n",
    "    \n",
    "def xpath_send_keys(xpath, texto):\n",
    "    xpath_element(xpath).send_keys(texto)\n",
    "    \n",
    "def xpath_clear(xpath):\n",
    "    xpath_element(xpath).clear()\n",
    "\n",
    "def existencia(xpath):\n",
    "    elementos = browser.find_elements(By.XPATH, xpath)\n",
    "    return bool(elementos)\n",
    "\n",
    "# FUNÇÕES RESET CLICK/SELEÇÃO ##############\n",
    "def reset_selecao(xpath='/html'):\n",
    "    xpath_click(xpath)\n",
    "\n",
    "def fechar_caixa_de_selecao():\n",
    "    # Localiza um elemento que é seguro para clicar (por exemplo, o corpo da página)\n",
    "    elemento_seguro = browser.find_element(By.TAG_NAME, 'body')\n",
    "    # Cria uma ação para clicar no elemento seguro\n",
    "    ActionChains(browser).move_to_element(elemento_seguro).click().perform()\n",
    "\n",
    "def reset_selecao_selenium():\n",
    "    fechar_caixa_de_selecao(); sleep(0.3)\n",
    "    fechar_caixa_de_selecao()    \n",
    "\n",
    "# FUNÇÃO SUBIR PARA TOPO DA PAGINA\n",
    "def subir_pg():\n",
    "    browser.execute_script(\"window.scrollTo(0, 0);\")\n",
    "    #pyautogui.scroll(-250)\n",
    "\n",
    "# FUNÇÃO ESPERAR APARECER\n",
    "def esperar_elemento_aparecer(elemento, tempo_sleep=10):\n",
    "    WebDriverWait(browser, tempo_sleep).until(visibility_of(xpath_element(elemento)))"
   ]
  }
 ],
 "metadata": {
  "kernelspec": {
   "display_name": "Python 3",
   "language": "python",
   "name": "python3"
  },
  "language_info": {
   "codemirror_mode": {
    "name": "ipython",
    "version": 3
   },
   "file_extension": ".py",
   "mimetype": "text/x-python",
   "name": "python",
   "nbconvert_exporter": "python",
   "pygments_lexer": "ipython3",
   "version": "3.12.4"
  }
 },
 "nbformat": 4,
 "nbformat_minor": 2
}
