{
 "cells": [
  {
   "cell_type": "markdown",
   "id": "33f531f6-63c8-4ae4-a088-2990fb85d414",
   "metadata": {},
   "source": [
    "# Metodos de String:"
   ]
  },
  {
   "cell_type": "markdown",
   "id": "646570aa-5c1b-4442-b118-d1192db31410",
   "metadata": {},
   "source": [
    "fontes:\n",
    "\n",
    "https://awari.com.br/metodos-de-string-em-python-aprenda-a-manipular-textos-com-facilidade/?utm_source=blog&utm_campaign=projeto+blog&utm_medium=M%C3%A9todos%20de%20String%20em%20Python:%20Aprenda%20a%20Manipular%20Textos%20com%20Facilidade\n",
    "\n",
    "https://terminalroot.com.br/2021/11/aprenda-25-exemplos-de-metodos-para-strings-em-python.html\n",
    "\n",
    "https://josafa.com.br/blog/23-metodos-de-string-em-python/"
   ]
  },
  {
   "cell_type": "markdown",
   "id": "e14bcaf8-5648-422f-b342-8e081da8d252",
   "metadata": {},
   "source": [
    "## Operações simples:"
   ]
  },
  {
   "cell_type": "code",
   "execution_count": 106,
   "id": "a21f8a54-021e-4415-afa4-f98f576286c9",
   "metadata": {},
   "outputs": [
    {
     "data": {
      "text/plain": [
       "'gabriel silva dos anjos 1223 '"
      ]
     },
     "execution_count": 106,
     "metadata": {},
     "output_type": "execute_result"
    }
   ],
   "source": [
    "texto = 'gabriel silva dos anjos 1223 '\n",
    "texto"
   ]
  },
  {
   "cell_type": "code",
   "execution_count": 107,
   "id": "cccb6d72-a94e-4ef5-8c6b-1d41d648aa82",
   "metadata": {},
   "outputs": [
    {
     "data": {
      "text/plain": [
       "'GABRIEL SILVA DOS ANJOS 1223 '"
      ]
     },
     "execution_count": 107,
     "metadata": {},
     "output_type": "execute_result"
    }
   ],
   "source": [
    "texto.upper()"
   ]
  },
  {
   "cell_type": "code",
   "execution_count": 108,
   "id": "43f5ebd0-1418-4ff4-a4e8-67c9932d27ac",
   "metadata": {},
   "outputs": [
    {
     "data": {
      "text/plain": [
       "'gabriel silva dos anjos 1223 '"
      ]
     },
     "execution_count": 108,
     "metadata": {},
     "output_type": "execute_result"
    }
   ],
   "source": [
    "texto.lower()"
   ]
  },
  {
   "cell_type": "code",
   "execution_count": 109,
   "id": "ffa118e0-9ea7-4153-ba31-2671a1e493de",
   "metadata": {},
   "outputs": [
    {
     "data": {
      "text/plain": [
       "'Gabriel silva dos anjos 1223 '"
      ]
     },
     "execution_count": 109,
     "metadata": {},
     "output_type": "execute_result"
    }
   ],
   "source": [
    "texto.capitalize()"
   ]
  },
  {
   "cell_type": "code",
   "execution_count": 113,
   "id": "6c6c6fb7-1e20-417b-9697-b43cacb867b4",
   "metadata": {},
   "outputs": [
    {
     "data": {
      "text/plain": [
       "'gabriel silva dos anjos 1223'"
      ]
     },
     "execution_count": 113,
     "metadata": {},
     "output_type": "execute_result"
    }
   ],
   "source": [
    "texto.strip()\n",
    "\n",
    "#texto.lstrip()\n",
    "\n",
    "#texto.rstrip()"
   ]
  },
  {
   "cell_type": "code",
   "execution_count": 114,
   "id": "e451ffd2-23e5-422f-a705-791de8f12bfe",
   "metadata": {},
   "outputs": [
    {
     "data": {
      "text/plain": [
       "3"
      ]
     },
     "execution_count": 114,
     "metadata": {},
     "output_type": "execute_result"
    }
   ],
   "source": [
    "texto.count('a')"
   ]
  },
  {
   "cell_type": "code",
   "execution_count": 115,
   "id": "dcb30a72-5ce1-49c9-99ce-0ea4acc958f4",
   "metadata": {},
   "outputs": [
    {
     "data": {
      "text/plain": [
       "'gabriel souza dos anjos 1223 '"
      ]
     },
     "execution_count": 115,
     "metadata": {},
     "output_type": "execute_result"
    }
   ],
   "source": [
    "texto.replace('silva','souza')"
   ]
  },
  {
   "cell_type": "code",
   "execution_count": 118,
   "id": "1b0a3263-5c77-43fb-9ba2-79c6ef6046bc",
   "metadata": {},
   "outputs": [
    {
     "data": {
      "text/plain": [
       "'          gabriel silva dos anjos 1223            '"
      ]
     },
     "execution_count": 118,
     "metadata": {},
     "output_type": "execute_result"
    }
   ],
   "source": [
    "texto.center(50)"
   ]
  },
  {
   "cell_type": "code",
   "execution_count": 121,
   "id": "25334f63-5664-4ae4-ac7f-db6c07482db6",
   "metadata": {},
   "outputs": [
    {
     "data": {
      "text/plain": [
       "';;;;;;;;;;gabriel silva dos anjos 1223 ;;;;;;;;;;;'"
      ]
     },
     "execution_count": 121,
     "metadata": {},
     "output_type": "execute_result"
    }
   ],
   "source": [
    "texto.center(50, ';')"
   ]
  },
  {
   "cell_type": "code",
   "execution_count": 122,
   "id": "473faae1-8bfc-4a78-8a10-f7ff5897d175",
   "metadata": {},
   "outputs": [
    {
     "data": {
      "text/plain": [
       "'gabriel silva dos anjos 1223 '"
      ]
     },
     "execution_count": 122,
     "metadata": {},
     "output_type": "execute_result"
    }
   ],
   "source": [
    "texto"
   ]
  },
  {
   "cell_type": "code",
   "execution_count": 123,
   "id": "572f2fd8-6565-4abc-a53b-c48520521f99",
   "metadata": {},
   "outputs": [
    {
     "data": {
      "text/plain": [
       "8"
      ]
     },
     "execution_count": 123,
     "metadata": {},
     "output_type": "execute_result"
    }
   ],
   "source": [
    "texto.find('silva')"
   ]
  },
  {
   "cell_type": "code",
   "execution_count": 125,
   "id": "befad8b8-ccde-4ddd-85a6-d80c7ec182bf",
   "metadata": {},
   "outputs": [
    {
     "name": "stdout",
     "output_type": "stream",
     "text": [
      "gabriel \n"
     ]
    }
   ],
   "source": [
    "print(texto[8:])\n",
    "#print(texto[:8])"
   ]
  },
  {
   "cell_type": "code",
   "execution_count": 129,
   "id": "5920d3cd-091a-4029-8871-c0fa243e7c24",
   "metadata": {},
   "outputs": [
    {
     "data": {
      "text/plain": [
       "5"
      ]
     },
     "execution_count": 129,
     "metadata": {},
     "output_type": "execute_result"
    }
   ],
   "source": [
    "len('cinco')"
   ]
  },
  {
   "cell_type": "code",
   "execution_count": 130,
   "id": "97466f96-4021-4e57-850e-64f47bfb2396",
   "metadata": {},
   "outputs": [
    {
     "data": {
      "text/plain": [
       "'silva'"
      ]
     },
     "execution_count": 130,
     "metadata": {},
     "output_type": "execute_result"
    }
   ],
   "source": [
    "texto[8:8+5]"
   ]
  },
  {
   "cell_type": "code",
   "execution_count": 131,
   "id": "15ec329a-bdf6-43c6-80bc-fface68e6f22",
   "metadata": {},
   "outputs": [
    {
     "data": {
      "text/plain": [
       "8"
      ]
     },
     "execution_count": 131,
     "metadata": {},
     "output_type": "execute_result"
    }
   ],
   "source": [
    "texto.index('s')"
   ]
  },
  {
   "cell_type": "code",
   "execution_count": 69,
   "id": "4092b8f0-6762-47b1-bf63-c5243879be8c",
   "metadata": {},
   "outputs": [
    {
     "name": "stdout",
     "output_type": "stream",
     "text": [
      "Error: substring not found\n"
     ]
    }
   ],
   "source": [
    "try:\n",
    "    texto.index('w')\n",
    "except Exception as e:\n",
    "    print(\"Error:\", e)"
   ]
  },
  {
   "cell_type": "code",
   "execution_count": 136,
   "id": "d3ee10b2-0303-4fd8-81f8-179bae307289",
   "metadata": {},
   "outputs": [
    {
     "data": {
      "text/plain": [
       "-1"
      ]
     },
     "execution_count": 136,
     "metadata": {},
     "output_type": "execute_result"
    }
   ],
   "source": [
    "texto.find('w')"
   ]
  },
  {
   "cell_type": "code",
   "execution_count": 137,
   "id": "9a1069b0-c435-44bc-86f2-51833c2a86eb",
   "metadata": {},
   "outputs": [],
   "source": [
    "texto = 'gabriel silva dos anjos - 24 Anos - Estatistico'"
   ]
  },
  {
   "cell_type": "code",
   "execution_count": 138,
   "id": "af7771f3-3adb-4970-b8c4-c6457ed4e052",
   "metadata": {},
   "outputs": [
    {
     "data": {
      "text/plain": [
       "['gabriel silva dos anjos ', ' 24 Anos ', ' Estatistico']"
      ]
     },
     "execution_count": 138,
     "metadata": {},
     "output_type": "execute_result"
    }
   ],
   "source": [
    "lista = texto.split('-')\n",
    "lista"
   ]
  },
  {
   "cell_type": "code",
   "execution_count": 141,
   "id": "bee1ddfd-c7ad-44e9-b8b6-c931c48785d1",
   "metadata": {},
   "outputs": [
    {
     "data": {
      "text/plain": [
       "'gabriel silva dos anjos  24 Anos  Estatistico'"
      ]
     },
     "execution_count": 141,
     "metadata": {},
     "output_type": "execute_result"
    }
   ],
   "source": [
    "';'.join(lista)"
   ]
  },
  {
   "cell_type": "markdown",
   "id": "87f35990-38ca-47dc-8e5c-b69320417125",
   "metadata": {},
   "source": [
    "## Bibliotecas auxiladoras"
   ]
  },
  {
   "cell_type": "markdown",
   "id": "4289a136-bfa5-44b9-8b9d-ef52a7bd1c3e",
   "metadata": {},
   "source": [
    "### Unidecode - Eliminar caracteres especiais"
   ]
  },
  {
   "cell_type": "code",
   "execution_count": 142,
   "id": "35f5d647-d145-4a01-b416-52fcfd6148ed",
   "metadata": {},
   "outputs": [],
   "source": [
    "import unidecode"
   ]
  },
  {
   "cell_type": "code",
   "execution_count": 143,
   "id": "d9ece751-1628-4000-b38b-028639170527",
   "metadata": {},
   "outputs": [],
   "source": [
    "texto = 'Ana Brasíl António Brandão - 18 Anos'"
   ]
  },
  {
   "cell_type": "code",
   "execution_count": 144,
   "id": "b1c539da-5a8a-432e-a981-216003ded376",
   "metadata": {},
   "outputs": [
    {
     "data": {
      "text/plain": [
       "'Ana Brasil Antonio Brandao - 18 Anos'"
      ]
     },
     "execution_count": 144,
     "metadata": {},
     "output_type": "execute_result"
    }
   ],
   "source": [
    "unidecode.unidecode(texto)"
   ]
  },
  {
   "cell_type": "markdown",
   "id": "39bb2a27-32e7-48fc-b9d3-a7d5efe4fb73",
   "metadata": {},
   "source": [
    "### Regex - Expressões Regulares"
   ]
  },
  {
   "cell_type": "code",
   "execution_count": 146,
   "id": "62abc2b8-40e0-4329-9b6d-9691854a6c14",
   "metadata": {},
   "outputs": [
    {
     "data": {
      "text/plain": [
       "'Ana Brasíl António Brandão - 18 Anos'"
      ]
     },
     "execution_count": 146,
     "metadata": {},
     "output_type": "execute_result"
    }
   ],
   "source": [
    "texto"
   ]
  },
  {
   "cell_type": "code",
   "execution_count": 145,
   "id": "db932460-f271-4dc8-91f4-a18f9e351a4d",
   "metadata": {},
   "outputs": [],
   "source": [
    "import re"
   ]
  },
  {
   "cell_type": "code",
   "execution_count": 148,
   "id": "4b618a70-5ef6-4092-8754-2f030dd30762",
   "metadata": {},
   "outputs": [
    {
     "data": {
      "text/plain": [
       "['18 Anos']"
      ]
     },
     "execution_count": 148,
     "metadata": {},
     "output_type": "execute_result"
    }
   ],
   "source": [
    "re.findall(r'\\d[0-9]{1,2} Anos', texto)"
   ]
  },
  {
   "cell_type": "code",
   "execution_count": null,
   "id": "3e83ffc5-d446-44ee-baaf-b4b97989a05d",
   "metadata": {},
   "outputs": [],
   "source": [
    "idade = re.findall(r'\\d[0-9]{1,2} Anos', texto)[0]\n",
    "idade"
   ]
  },
  {
   "cell_type": "markdown",
   "id": "a41829a6-5bb3-4353-8c43-7aca4e746780",
   "metadata": {},
   "source": [
    "## Pratica"
   ]
  },
  {
   "cell_type": "code",
   "execution_count": 149,
   "id": "c90de4ac-b3bb-4f40-b58a-2d3718b16777",
   "metadata": {},
   "outputs": [
    {
     "name": "stderr",
     "output_type": "stream",
     "text": [
      "C:\\Users\\ADM\\anaconda3\\Lib\\site-packages\\openpyxl\\styles\\stylesheet.py:226: UserWarning: Workbook contains no default style, apply openpyxl's default\n",
      "  warn(\"Workbook contains no default style, apply openpyxl's default\")\n"
     ]
    },
    {
     "data": {
      "text/html": [
       "<div>\n",
       "<style scoped>\n",
       "    .dataframe tbody tr th:only-of-type {\n",
       "        vertical-align: middle;\n",
       "    }\n",
       "\n",
       "    .dataframe tbody tr th {\n",
       "        vertical-align: top;\n",
       "    }\n",
       "\n",
       "    .dataframe thead th {\n",
       "        text-align: right;\n",
       "    }\n",
       "</style>\n",
       "<table border=\"1\" class=\"dataframe\">\n",
       "  <thead>\n",
       "    <tr style=\"text-align: right;\">\n",
       "      <th></th>\n",
       "      <th>Data Início/Término</th>\n",
       "      <th>Paciente</th>\n",
       "      <th>Idade Paciente</th>\n",
       "      <th>NA</th>\n",
       "      <th>Clínica</th>\n",
       "      <th>Sala</th>\n",
       "      <th>Convênio</th>\n",
       "      <th>Cirurgião</th>\n",
       "      <th>Anestesista</th>\n",
       "      <th>Anestesista Substituto</th>\n",
       "      <th>Código Procedimento</th>\n",
       "      <th>Procedimento</th>\n",
       "      <th>Observação</th>\n",
       "      <th>Observação Médica</th>\n",
       "    </tr>\n",
       "  </thead>\n",
       "  <tbody>\n",
       "    <tr>\n",
       "      <th>0</th>\n",
       "      <td>Início: 30/04/2024 05:55\\n Termino: 30/04/2024...</td>\n",
       "      <td>MAGALI VIEIRA</td>\n",
       "      <td>75 Anos 11 Meses</td>\n",
       "      <td>38808685.0</td>\n",
       "      <td>ANALIA FRANCO</td>\n",
       "      <td>HEMODINÂMICA</td>\n",
       "      <td>SUL AMERICA\\n</td>\n",
       "      <td>RAFAEL BIRELO MARTINS\\n</td>\n",
       "      <td>VICTOR AUGUSTO DE SOUZA MORAES\\n</td>\n",
       "      <td>NaN</td>\n",
       "      <td>40812030\\n40812049\\n40812111\\n</td>\n",
       "      <td>ANGIOGRAFIA POR CATETERISMO NÃO SELETIVO DE GR...</td>\n",
       "      <td>NaN</td>\n",
       "      <td>NaN</td>\n",
       "    </tr>\n",
       "    <tr>\n",
       "      <th>1</th>\n",
       "      <td>Início: 30/04/2024 06:00\\n Termino: 30/04/2024...</td>\n",
       "      <td>ANTONIO SANTOS PEREIRA</td>\n",
       "      <td>76 Anos 7 Meses</td>\n",
       "      <td>39356223.0</td>\n",
       "      <td>OSASCO</td>\n",
       "      <td>RESSONÂNCIA</td>\n",
       "      <td>SUL AMERICA\\n</td>\n",
       "      <td>PROCEDIMENTO DIAGNÓSTICO\\n</td>\n",
       "      <td>VITOR LUIZ ASSUNÇÃO MARTINS\\n</td>\n",
       "      <td>NaN</td>\n",
       "      <td>31602282\\n</td>\n",
       "      <td>ANESTESIA PARA EXAMES DE RESSONANCIA MAGNETICA\\n</td>\n",
       "      <td>NaN</td>\n",
       "      <td>NaN</td>\n",
       "    </tr>\n",
       "    <tr>\n",
       "      <th>2</th>\n",
       "      <td>Início: 30/04/2024 06:40\\n Termino: 30/04/2024...</td>\n",
       "      <td>TALITA AMBROSIO DOS SANTOS FERREIRA</td>\n",
       "      <td>34 Anos 6 Meses</td>\n",
       "      <td>2372116.0</td>\n",
       "      <td>ALPHAMED</td>\n",
       "      <td>CENTRO CIRÚRGICO</td>\n",
       "      <td>CENTRAL NACIONAL UNIMED\\n</td>\n",
       "      <td>WILLY RAMOS ROMAN\\n</td>\n",
       "      <td>LUCCAS VARELA GODOY\\n</td>\n",
       "      <td>NaN</td>\n",
       "      <td>30734053\\n</td>\n",
       "      <td>RECONSTRUÇÃO, RETENCIONAMENTO OU REFORÇO DE LI...</td>\n",
       "      <td>NaN</td>\n",
       "      <td>NaN</td>\n",
       "    </tr>\n",
       "    <tr>\n",
       "      <th>3</th>\n",
       "      <td>Início: 30/04/2024 07:20\\n Termino: 30/04/2024...</td>\n",
       "      <td>CARLOS ALMIR DA SILVA</td>\n",
       "      <td>59 Anos 6 Meses</td>\n",
       "      <td>9449007.0</td>\n",
       "      <td>AVICCENA</td>\n",
       "      <td>CENTRO CIRÚRGICO</td>\n",
       "      <td>SUL AMERICA\\n</td>\n",
       "      <td>MATHEUS LAMARTINE NOGUEIRA\\n</td>\n",
       "      <td>MARCELO MAIA DA SILVEIRA\\n</td>\n",
       "      <td>NaN</td>\n",
       "      <td>31403220\\n30722101\\n30731097\\n</td>\n",
       "      <td>MICRONEUROLISE MULTIPLAS\\nAPONEVROSE PALMAR RE...</td>\n",
       "      <td>NaN</td>\n",
       "      <td>NaN</td>\n",
       "    </tr>\n",
       "    <tr>\n",
       "      <th>4</th>\n",
       "      <td>Início: 30/04/2024 06:19\\n Termino: 30/04/2024...</td>\n",
       "      <td>MARIO MIRANDA PINHEIRO FILHO</td>\n",
       "      <td>82 Anos 7 Meses</td>\n",
       "      <td>39347934.0</td>\n",
       "      <td>JABAQUARA</td>\n",
       "      <td>RESSONANCIA</td>\n",
       "      <td>ADVANCE\\n</td>\n",
       "      <td>MÉDICO EXAMES\\n</td>\n",
       "      <td>BRUCE YE MAN CHOW\\n</td>\n",
       "      <td>NaN</td>\n",
       "      <td>NaN</td>\n",
       "      <td>NaN</td>\n",
       "      <td>NaN</td>\n",
       "      <td>NaN</td>\n",
       "    </tr>\n",
       "  </tbody>\n",
       "</table>\n",
       "</div>"
      ],
      "text/plain": [
       "                                 Data Início/Término  \\\n",
       "0  Início: 30/04/2024 05:55\\n Termino: 30/04/2024...   \n",
       "1  Início: 30/04/2024 06:00\\n Termino: 30/04/2024...   \n",
       "2  Início: 30/04/2024 06:40\\n Termino: 30/04/2024...   \n",
       "3  Início: 30/04/2024 07:20\\n Termino: 30/04/2024...   \n",
       "4  Início: 30/04/2024 06:19\\n Termino: 30/04/2024...   \n",
       "\n",
       "                              Paciente    Idade Paciente          NA  \\\n",
       "0                        MAGALI VIEIRA  75 Anos 11 Meses  38808685.0   \n",
       "1               ANTONIO SANTOS PEREIRA   76 Anos 7 Meses  39356223.0   \n",
       "2  TALITA AMBROSIO DOS SANTOS FERREIRA   34 Anos 6 Meses   2372116.0   \n",
       "3                CARLOS ALMIR DA SILVA   59 Anos 6 Meses   9449007.0   \n",
       "4         MARIO MIRANDA PINHEIRO FILHO   82 Anos 7 Meses  39347934.0   \n",
       "\n",
       "         Clínica              Sala                   Convênio  \\\n",
       "0  ANALIA FRANCO      HEMODINÂMICA              SUL AMERICA\\n   \n",
       "1         OSASCO       RESSONÂNCIA              SUL AMERICA\\n   \n",
       "2       ALPHAMED  CENTRO CIRÚRGICO  CENTRAL NACIONAL UNIMED\\n   \n",
       "3       AVICCENA  CENTRO CIRÚRGICO              SUL AMERICA\\n   \n",
       "4      JABAQUARA       RESSONANCIA                  ADVANCE\\n   \n",
       "\n",
       "                      Cirurgião                       Anestesista  \\\n",
       "0       RAFAEL BIRELO MARTINS\\n  VICTOR AUGUSTO DE SOUZA MORAES\\n   \n",
       "1    PROCEDIMENTO DIAGNÓSTICO\\n     VITOR LUIZ ASSUNÇÃO MARTINS\\n   \n",
       "2           WILLY RAMOS ROMAN\\n             LUCCAS VARELA GODOY\\n   \n",
       "3  MATHEUS LAMARTINE NOGUEIRA\\n        MARCELO MAIA DA SILVEIRA\\n   \n",
       "4               MÉDICO EXAMES\\n               BRUCE YE MAN CHOW\\n   \n",
       "\n",
       "  Anestesista Substituto             Código Procedimento  \\\n",
       "0                    NaN  40812030\\n40812049\\n40812111\\n   \n",
       "1                    NaN                      31602282\\n   \n",
       "2                    NaN                      30734053\\n   \n",
       "3                    NaN  31403220\\n30722101\\n30731097\\n   \n",
       "4                    NaN                             NaN   \n",
       "\n",
       "                                        Procedimento Observação  \\\n",
       "0  ANGIOGRAFIA POR CATETERISMO NÃO SELETIVO DE GR...        NaN   \n",
       "1   ANESTESIA PARA EXAMES DE RESSONANCIA MAGNETICA\\n        NaN   \n",
       "2  RECONSTRUÇÃO, RETENCIONAMENTO OU REFORÇO DE LI...        NaN   \n",
       "3  MICRONEUROLISE MULTIPLAS\\nAPONEVROSE PALMAR RE...        NaN   \n",
       "4                                                NaN        NaN   \n",
       "\n",
       "  Observação Médica  \n",
       "0               NaN  \n",
       "1               NaN  \n",
       "2               NaN  \n",
       "3               NaN  \n",
       "4               NaN  "
      ]
     },
     "execution_count": 149,
     "metadata": {},
     "output_type": "execute_result"
    }
   ],
   "source": [
    "import pandas as pd\n",
    "import openpyxl\n",
    "\n",
    "local_arquivo = 'C:/Users/ADM/Downloads/'\n",
    "arquivo = 'ConsultaProcedimento_cma_healthchess_com_br_356512.xlsx'\n",
    "\n",
    "df = pd.read_excel(local_arquivo + arquivo)\n",
    "df.head()"
   ]
  },
  {
   "cell_type": "code",
   "execution_count": 150,
   "id": "774a3c59-8803-4e33-927e-a1c6cd618468",
   "metadata": {
    "scrolled": true
   },
   "outputs": [
    {
     "data": {
      "text/plain": [
       "array(['75 Anos 11 Meses', '76 Anos 7 Meses', '34 Anos 6 Meses',\n",
       "       '59 Anos 6 Meses', '82 Anos 7 Meses', '65 Anos 11 Meses',\n",
       "       '36 Anos 4 Meses', '60 Anos 10 Meses', '48 Anos ', '66 Anos ',\n",
       "       '25 Anos 7 Meses', '74 Anos 5 Meses', '27 Anos 1 Meses',\n",
       "       '52 Anos 5 Meses', '29 Anos 6 Meses', '42 Anos 7 Meses',\n",
       "       '2 Anos 8 Meses', '4 Anos 1 Meses', '64 Anos 9 Meses',\n",
       "       '24 Anos 11 Meses', '44 Anos 8 Meses', '39 Anos 9 Meses',\n",
       "       '19 Anos 6 Meses', '24 Anos 7 Meses', nan, '24 Anos 2 Meses',\n",
       "       '63 Anos 3 Meses', '48 Anos 8 Meses', '37 Anos 5 Meses',\n",
       "       '53 Anos 7 Meses', '33 Anos 10 Meses', '72 Anos ',\n",
       "       '41 Anos 9 Meses', '42 Anos 3 Meses', '36 Anos 2 Meses',\n",
       "       '37 Anos ', '84 Anos 6 Meses', '54 Anos 11 Meses',\n",
       "       '26 Anos 9 Meses', '26 Anos 10 Meses', '57 Anos 9 Meses',\n",
       "       '64 Anos 1 Meses', '21 Anos 3 Meses', '67 Anos ',\n",
       "       '38 Anos 6 Meses', '64 Anos 7 Meses', '39 Anos 7 Meses',\n",
       "       '14 Anos 2 Meses', '48 Anos 5 Meses', '62 Anos 10 Meses',\n",
       "       '30 Anos 2 Meses', '23 Anos 8 Meses', '38 Anos 9 Meses',\n",
       "       '28 Anos 4 Meses', '32 Anos 10 Meses', '23 Anos 2 Meses',\n",
       "       '37 Anos 9 Meses', '48 Anos 1 Meses', '36 Anos 6 Meses',\n",
       "       '41 Anos 4 Meses', '63 Anos 4 Meses', '42 Anos 10 Meses',\n",
       "       '31 Anos 11 Meses', '18 Anos 11 Meses', '46 Anos 4 Meses',\n",
       "       '59 Anos 7 Meses', '68 Anos 6 Meses', '32 Anos 2 Meses',\n",
       "       '47 Anos 11 Meses', '36 Anos 5 Meses', '78 Anos 6 Meses',\n",
       "       '50 Anos 10 Meses', '77 Anos 5 Meses', '47 Anos 3 Meses',\n",
       "       '16 Anos 10 Meses', '34 Anos 3 Meses', '35 Anos 4 Meses',\n",
       "       '54 Anos 8 Meses', '43 Anos 9 Meses', '33 Anos 8 Meses',\n",
       "       '67 Anos 2 Meses', '20 Anos 11 Meses', '28 Anos 9 Meses',\n",
       "       '35 Anos 1 Meses', '42 Anos 9 Meses', '40 Anos 11 Meses',\n",
       "       '34 Anos 10 Meses', '31 Anos 8 Meses', '34 Anos 11 Meses',\n",
       "       '60 Anos 9 Meses', '77 Anos 7 Meses', '41 Anos 1 Meses',\n",
       "       '36 Anos 8 Meses', '72 Anos 10 Meses', '38 Anos 3 Meses',\n",
       "       '88 Anos 9 Meses', '34 Anos 5 Meses', '69 Anos 1 Meses',\n",
       "       '80 Anos 6 Meses', '40 Anos 9 Meses', '23 Anos 6 Meses',\n",
       "       '48 Anos 11 Meses', '43 Anos 11 Meses', '57 Anos 10 Meses',\n",
       "       '50 Anos 9 Meses', '59 Anos 9 Meses', '45 Anos 5 Meses',\n",
       "       '40 Anos 8 Meses', '46 Anos 11 Meses', '32 Anos 11 Meses',\n",
       "       '31 Anos 10 Meses', '19 Anos 8 Meses', '77 Anos 8 Meses',\n",
       "       '29 Anos 9 Meses', '49 Anos 4 Meses', '50 Anos 3 Meses',\n",
       "       '31 Anos 9 Meses', '45 Anos 10 Meses', '21 Anos 1 Meses',\n",
       "       '39 Anos 5 Meses', '53 Anos 1 Meses', '51 Anos 1 Meses',\n",
       "       '38 Anos 5 Meses', '54 Anos 3 Meses', '43 Anos 8 Meses',\n",
       "       '49 Anos 9 Meses', '37 Anos 6 Meses', '39 Anos 4 Meses',\n",
       "       '34 Anos 7 Meses', '33 Anos 6 Meses', '30 Anos 7 Meses',\n",
       "       '45 Anos 2 Meses', '58 Anos 2 Meses', '77 Anos 11 Meses',\n",
       "       '29 Anos 7 Meses', '73 Anos 11 Meses', '55 Anos 1 Meses',\n",
       "       '59 Anos 5 Meses', '74 Anos 11 Meses', '49 Anos 2 Meses',\n",
       "       '61 Anos 8 Meses', '53 Anos 6 Meses', '36 Anos 3 Meses',\n",
       "       '83 Anos 10 Meses', '66 Anos 4 Meses', '68 Anos 3 Meses',\n",
       "       '66 Anos 10 Meses', '65 Anos 9 Meses', '72 Anos 8 Meses',\n",
       "       '46 Anos 8 Meses', '61 Anos 1 Meses', '6 Anos 1 Meses',\n",
       "       '79 Anos 9 Meses', '29 Anos 8 Meses', '27 Anos 11 Meses',\n",
       "       '42 Anos 1 Meses', '40 Anos 6 Meses', '40 Anos 10 Meses',\n",
       "       '58 Anos 8 Meses', '45 Anos 8 Meses', '32 Anos ',\n",
       "       '61 Anos 9 Meses', '56 Anos 9 Meses', '71 Anos 11 Meses',\n",
       "       '42 Anos 6 Meses', '55 Anos 4 Meses', '31 Anos 4 Meses',\n",
       "       '54 Anos 5 Meses', '33 Anos 7 Meses', '34 Anos 1 Meses',\n",
       "       '33 Anos 2 Meses', '43 Anos 7 Meses', '79 Anos ',\n",
       "       '28 Anos 1 Meses', '73 Anos 3 Meses', '19 Anos 10 Meses',\n",
       "       '45 Anos 7 Meses', '37 Anos 7 Meses', '28 Anos 2 Meses',\n",
       "       '37 Anos 11 Meses', '47 Anos 9 Meses', '47 Anos 2 Meses',\n",
       "       '20 Anos 2 Meses', '44 Anos 3 Meses', '89 Anos 2 Meses',\n",
       "       '62 Anos 8 Meses', '51 Anos 7 Meses', '72 Anos 3 Meses',\n",
       "       '36 Anos 1 Meses', '2 Anos 1 Meses', '35 Anos 8 Meses',\n",
       "       '41 Anos 2 Meses', '46 Anos 6 Meses', '2 Meses', '65 Anos 2 Meses',\n",
       "       '44 Anos 9 Meses'], dtype=object)"
      ]
     },
     "execution_count": 150,
     "metadata": {},
     "output_type": "execute_result"
    }
   ],
   "source": [
    "df['Idade Paciente'].unique()"
   ]
  },
  {
   "cell_type": "code",
   "execution_count": 160,
   "id": "e8f68784-93c6-4731-8616-b3fb2185820a",
   "metadata": {},
   "outputs": [
    {
     "data": {
      "text/plain": [
       "'75 Anos 11 Meses'"
      ]
     },
     "execution_count": 160,
     "metadata": {},
     "output_type": "execute_result"
    }
   ],
   "source": [
    "texto = df['Idade Paciente'].unique()[0]\n",
    "texto"
   ]
  },
  {
   "cell_type": "code",
   "execution_count": 161,
   "id": "1f4441da-620a-4315-badc-753fe24169e8",
   "metadata": {},
   "outputs": [
    {
     "data": {
      "text/plain": [
       "'75 Anos'"
      ]
     },
     "execution_count": 161,
     "metadata": {},
     "output_type": "execute_result"
    }
   ],
   "source": [
    "idade = re.findall(r'\\d[0-9]{1,2} Anos', texto)[0]\n",
    "idade"
   ]
  },
  {
   "cell_type": "code",
   "execution_count": 162,
   "id": "cf7af56d-7c86-4ff3-a86c-4ce4af944004",
   "metadata": {},
   "outputs": [
    {
     "data": {
      "text/plain": [
       "'75 '"
      ]
     },
     "execution_count": 162,
     "metadata": {},
     "output_type": "execute_result"
    }
   ],
   "source": [
    "idade = idade.replace('Anos','')\n",
    "idade"
   ]
  },
  {
   "cell_type": "code",
   "execution_count": 164,
   "id": "3b38f037-2ce9-4564-b3d7-d4f3f7eeeafe",
   "metadata": {},
   "outputs": [
    {
     "data": {
      "text/plain": [
       "'75'"
      ]
     },
     "execution_count": 164,
     "metadata": {},
     "output_type": "execute_result"
    }
   ],
   "source": [
    "idade = idade.strip()\n",
    "idade"
   ]
  },
  {
   "cell_type": "code",
   "execution_count": 165,
   "id": "9be3fd8c-5630-4c87-8384-99970e8fff1e",
   "metadata": {},
   "outputs": [
    {
     "data": {
      "text/plain": [
       "75"
      ]
     },
     "execution_count": 165,
     "metadata": {},
     "output_type": "execute_result"
    }
   ],
   "source": [
    "idade = int(idade)\n",
    "idade"
   ]
  },
  {
   "cell_type": "code",
   "execution_count": 175,
   "id": "66d16dd6-9619-47ec-b7c2-1476cd401947",
   "metadata": {},
   "outputs": [
    {
     "data": {
      "text/plain": [
       "'75 Anos 11 Meses'"
      ]
     },
     "execution_count": 175,
     "metadata": {},
     "output_type": "execute_result"
    }
   ],
   "source": [
    "texto"
   ]
  },
  {
   "cell_type": "code",
   "execution_count": 184,
   "id": "1dedf825-ea6b-4cff-b787-6080b66b57f2",
   "metadata": {},
   "outputs": [
    {
     "data": {
      "text/plain": [
       "'11 Meses'"
      ]
     },
     "execution_count": 184,
     "metadata": {},
     "output_type": "execute_result"
    }
   ],
   "source": [
    "meses = re.findall(r'\\d[0-9]{1,2} Meses', texto)[0]\n",
    "meses"
   ]
  },
  {
   "cell_type": "code",
   "execution_count": 185,
   "id": "0f35b735-ff2b-4ac9-add0-4e2520097ecd",
   "metadata": {},
   "outputs": [
    {
     "data": {
      "text/plain": [
       "11"
      ]
     },
     "execution_count": 185,
     "metadata": {},
     "output_type": "execute_result"
    }
   ],
   "source": [
    "meses = meses.replace('Meses','').strip()\n",
    "meses = int(meses)\n",
    "meses"
   ]
  },
  {
   "cell_type": "markdown",
   "id": "2ffe196a-a0b1-413d-9700-67772b05c5b9",
   "metadata": {},
   "source": [
    "## aplicando looping"
   ]
  },
  {
   "cell_type": "code",
   "execution_count": 221,
   "id": "7ca69be3-b41b-4bcf-8e9f-9130964e8a07",
   "metadata": {},
   "outputs": [],
   "source": [
    "import numpy as np\n",
    "#ignorando Warning inuteis\n",
    "import warnings \n",
    "from pandas.errors import SettingWithCopyWarning\n",
    "warnings.simplefilter(action=\"ignore\", category=SettingWithCopyWarning)\n",
    "warnings.filterwarnings(action='ignore', category=FutureWarning)\n",
    "warnings.simplefilter(action='ignore', category=UserWarning)"
   ]
  },
  {
   "cell_type": "code",
   "execution_count": 192,
   "id": "ac5762b9-f13a-4231-b9c9-17e1a04bb067",
   "metadata": {},
   "outputs": [],
   "source": [
    "df['Idade'] = np.nan\n",
    "df['Meses'] = np.nan"
   ]
  },
  {
   "cell_type": "code",
   "execution_count": 237,
   "id": "fa8fc1ba-8228-4874-8130-868cbab404d8",
   "metadata": {},
   "outputs": [
    {
     "data": {
      "text/html": [
       "<div>\n",
       "<style scoped>\n",
       "    .dataframe tbody tr th:only-of-type {\n",
       "        vertical-align: middle;\n",
       "    }\n",
       "\n",
       "    .dataframe tbody tr th {\n",
       "        vertical-align: top;\n",
       "    }\n",
       "\n",
       "    .dataframe thead th {\n",
       "        text-align: right;\n",
       "    }\n",
       "</style>\n",
       "<table border=\"1\" class=\"dataframe\">\n",
       "  <thead>\n",
       "    <tr style=\"text-align: right;\">\n",
       "      <th></th>\n",
       "      <th>Data Início/Término</th>\n",
       "      <th>Paciente</th>\n",
       "      <th>Idade Paciente</th>\n",
       "      <th>NA</th>\n",
       "      <th>Clínica</th>\n",
       "      <th>Sala</th>\n",
       "      <th>Convênio</th>\n",
       "      <th>Cirurgião</th>\n",
       "      <th>Anestesista</th>\n",
       "      <th>Anestesista Substituto</th>\n",
       "      <th>Código Procedimento</th>\n",
       "      <th>Procedimento</th>\n",
       "      <th>Observação</th>\n",
       "      <th>Observação Médica</th>\n",
       "      <th>Meses</th>\n",
       "      <th>Idade</th>\n",
       "    </tr>\n",
       "  </thead>\n",
       "  <tbody>\n",
       "    <tr>\n",
       "      <th>0</th>\n",
       "      <td>Início: 30/04/2024 05:55\\n Termino: 30/04/2024...</td>\n",
       "      <td>MAGALI VIEIRA</td>\n",
       "      <td>75 Anos 11 Meses</td>\n",
       "      <td>38808685.0</td>\n",
       "      <td>ANALIA FRANCO</td>\n",
       "      <td>HEMODINÂMICA</td>\n",
       "      <td>SUL AMERICA\\n</td>\n",
       "      <td>RAFAEL BIRELO MARTINS\\n</td>\n",
       "      <td>VICTOR AUGUSTO DE SOUZA MORAES\\n</td>\n",
       "      <td>NaN</td>\n",
       "      <td>40812030\\n40812049\\n40812111\\n</td>\n",
       "      <td>ANGIOGRAFIA POR CATETERISMO NÃO SELETIVO DE GR...</td>\n",
       "      <td>NaN</td>\n",
       "      <td>NaN</td>\n",
       "      <td>NaN</td>\n",
       "      <td>75.0</td>\n",
       "    </tr>\n",
       "    <tr>\n",
       "      <th>1</th>\n",
       "      <td>Início: 30/04/2024 06:00\\n Termino: 30/04/2024...</td>\n",
       "      <td>ANTONIO SANTOS PEREIRA</td>\n",
       "      <td>76 Anos 7 Meses</td>\n",
       "      <td>39356223.0</td>\n",
       "      <td>OSASCO</td>\n",
       "      <td>RESSONÂNCIA</td>\n",
       "      <td>SUL AMERICA\\n</td>\n",
       "      <td>PROCEDIMENTO DIAGNÓSTICO\\n</td>\n",
       "      <td>VITOR LUIZ ASSUNÇÃO MARTINS\\n</td>\n",
       "      <td>NaN</td>\n",
       "      <td>31602282\\n</td>\n",
       "      <td>ANESTESIA PARA EXAMES DE RESSONANCIA MAGNETICA\\n</td>\n",
       "      <td>NaN</td>\n",
       "      <td>NaN</td>\n",
       "      <td>NaN</td>\n",
       "      <td>76.0</td>\n",
       "    </tr>\n",
       "    <tr>\n",
       "      <th>2</th>\n",
       "      <td>Início: 30/04/2024 06:40\\n Termino: 30/04/2024...</td>\n",
       "      <td>TALITA AMBROSIO DOS SANTOS FERREIRA</td>\n",
       "      <td>34 Anos 6 Meses</td>\n",
       "      <td>2372116.0</td>\n",
       "      <td>ALPHAMED</td>\n",
       "      <td>CENTRO CIRÚRGICO</td>\n",
       "      <td>CENTRAL NACIONAL UNIMED\\n</td>\n",
       "      <td>WILLY RAMOS ROMAN\\n</td>\n",
       "      <td>LUCCAS VARELA GODOY\\n</td>\n",
       "      <td>NaN</td>\n",
       "      <td>30734053\\n</td>\n",
       "      <td>RECONSTRUÇÃO, RETENCIONAMENTO OU REFORÇO DE LI...</td>\n",
       "      <td>NaN</td>\n",
       "      <td>NaN</td>\n",
       "      <td>NaN</td>\n",
       "      <td>34.0</td>\n",
       "    </tr>\n",
       "    <tr>\n",
       "      <th>3</th>\n",
       "      <td>Início: 30/04/2024 07:20\\n Termino: 30/04/2024...</td>\n",
       "      <td>CARLOS ALMIR DA SILVA</td>\n",
       "      <td>59 Anos 6 Meses</td>\n",
       "      <td>9449007.0</td>\n",
       "      <td>AVICCENA</td>\n",
       "      <td>CENTRO CIRÚRGICO</td>\n",
       "      <td>SUL AMERICA\\n</td>\n",
       "      <td>MATHEUS LAMARTINE NOGUEIRA\\n</td>\n",
       "      <td>MARCELO MAIA DA SILVEIRA\\n</td>\n",
       "      <td>NaN</td>\n",
       "      <td>31403220\\n30722101\\n30731097\\n</td>\n",
       "      <td>MICRONEUROLISE MULTIPLAS\\nAPONEVROSE PALMAR RE...</td>\n",
       "      <td>NaN</td>\n",
       "      <td>NaN</td>\n",
       "      <td>NaN</td>\n",
       "      <td>59.0</td>\n",
       "    </tr>\n",
       "    <tr>\n",
       "      <th>4</th>\n",
       "      <td>Início: 30/04/2024 06:19\\n Termino: 30/04/2024...</td>\n",
       "      <td>MARIO MIRANDA PINHEIRO FILHO</td>\n",
       "      <td>82 Anos 7 Meses</td>\n",
       "      <td>39347934.0</td>\n",
       "      <td>JABAQUARA</td>\n",
       "      <td>RESSONANCIA</td>\n",
       "      <td>ADVANCE\\n</td>\n",
       "      <td>MÉDICO EXAMES\\n</td>\n",
       "      <td>BRUCE YE MAN CHOW\\n</td>\n",
       "      <td>NaN</td>\n",
       "      <td>NaN</td>\n",
       "      <td>NaN</td>\n",
       "      <td>NaN</td>\n",
       "      <td>NaN</td>\n",
       "      <td>NaN</td>\n",
       "      <td>82.0</td>\n",
       "    </tr>\n",
       "    <tr>\n",
       "      <th>...</th>\n",
       "      <td>...</td>\n",
       "      <td>...</td>\n",
       "      <td>...</td>\n",
       "      <td>...</td>\n",
       "      <td>...</td>\n",
       "      <td>...</td>\n",
       "      <td>...</td>\n",
       "      <td>...</td>\n",
       "      <td>...</td>\n",
       "      <td>...</td>\n",
       "      <td>...</td>\n",
       "      <td>...</td>\n",
       "      <td>...</td>\n",
       "      <td>...</td>\n",
       "      <td>...</td>\n",
       "      <td>...</td>\n",
       "    </tr>\n",
       "    <tr>\n",
       "      <th>451</th>\n",
       "      <td>Início: 30/04/2024 15:00\\n Termino: 30/04/2024...</td>\n",
       "      <td>ROSANGELA CHAVES PEREIRA</td>\n",
       "      <td>NaN</td>\n",
       "      <td>NaN</td>\n",
       "      <td>OSASCO</td>\n",
       "      <td>NaN</td>\n",
       "      <td>SEGUROS UNIMED\\n</td>\n",
       "      <td>CAIO CARVALHO DE MORAIS\\n</td>\n",
       "      <td>NENHUM\\n</td>\n",
       "      <td>NaN</td>\n",
       "      <td>31403026\\n</td>\n",
       "      <td>BLOQUEIO DE NERVO PERIFÉRICO\\n</td>\n",
       "      <td>NaN</td>\n",
       "      <td>NaN</td>\n",
       "      <td>NaN</td>\n",
       "      <td>NaN</td>\n",
       "    </tr>\n",
       "    <tr>\n",
       "      <th>452</th>\n",
       "      <td>Início: 30/04/2024 15:00\\n Termino: 30/04/2024...</td>\n",
       "      <td>LILIAN RAFAELA XAVIER DA SILVA LIMA</td>\n",
       "      <td>39 Anos 5 Meses</td>\n",
       "      <td>NaN</td>\n",
       "      <td>OSASCO</td>\n",
       "      <td>NaN</td>\n",
       "      <td>SUL AMERICA\\n</td>\n",
       "      <td>GUILHERME RONDINELLI SECUNHO\\n</td>\n",
       "      <td>NENHUM\\n</td>\n",
       "      <td>NaN</td>\n",
       "      <td>30726077\\n</td>\n",
       "      <td>EPIFISITES E TENDINITES TRATAMENTO CIRURGICO\\n</td>\n",
       "      <td>NaN</td>\n",
       "      <td>NaN</td>\n",
       "      <td>NaN</td>\n",
       "      <td>39.0</td>\n",
       "    </tr>\n",
       "    <tr>\n",
       "      <th>453</th>\n",
       "      <td>Início: 30/04/2024 16:00\\n Termino: 30/04/2024...</td>\n",
       "      <td>MARIA DO SOCORRO LIMA DA SILVA FARIAS</td>\n",
       "      <td>NaN</td>\n",
       "      <td>NaN</td>\n",
       "      <td>OSASCO</td>\n",
       "      <td>NaN</td>\n",
       "      <td>BRADESCO SEGUROS\\n</td>\n",
       "      <td>NENHUM\\n</td>\n",
       "      <td>NENHUM\\n</td>\n",
       "      <td>NaN</td>\n",
       "      <td>31602118\\n</td>\n",
       "      <td>BLOQUEIO DE NERVO PERIFERICO\\n</td>\n",
       "      <td>NaN</td>\n",
       "      <td>NaN</td>\n",
       "      <td>NaN</td>\n",
       "      <td>NaN</td>\n",
       "    </tr>\n",
       "    <tr>\n",
       "      <th>454</th>\n",
       "      <td>Início: 30/04/2024 16:00\\n Termino: 30/04/2024...</td>\n",
       "      <td>SARAH CAMILA MACEDO MARTINS CORREA</td>\n",
       "      <td>NaN</td>\n",
       "      <td>NaN</td>\n",
       "      <td>OSASCO</td>\n",
       "      <td>NaN</td>\n",
       "      <td>PORTO SEGURO - SAUDE S/A\\n</td>\n",
       "      <td>RENATO MAGALHAES PATRIANI RODRIGUES\\n</td>\n",
       "      <td>NENHUM\\n</td>\n",
       "      <td>NaN</td>\n",
       "      <td>31304052\\n</td>\n",
       "      <td>CIRURGIA DE ESTERILIZACAO FEMININA (LAQUEADURA...</td>\n",
       "      <td>NaN</td>\n",
       "      <td>NaN</td>\n",
       "      <td>NaN</td>\n",
       "      <td>NaN</td>\n",
       "    </tr>\n",
       "    <tr>\n",
       "      <th>455</th>\n",
       "      <td>Início: 30/04/2024 17:00\\n Termino: 30/04/2024...</td>\n",
       "      <td>CLEBERSON PEREIRA DA SILVA</td>\n",
       "      <td>39 Anos 4 Meses</td>\n",
       "      <td>NaN</td>\n",
       "      <td>OSASCO</td>\n",
       "      <td>NaN</td>\n",
       "      <td>BRADESCO SEGUROS\\n</td>\n",
       "      <td>RAPHAEL DOS SANTOS ABILIO\\n</td>\n",
       "      <td>NENHUM\\n</td>\n",
       "      <td>NaN</td>\n",
       "      <td>31403034\\n</td>\n",
       "      <td>DENERVACAO PERCUTANEA DE FACETA ARTICULAR - PO...</td>\n",
       "      <td>NaN</td>\n",
       "      <td>NaN</td>\n",
       "      <td>NaN</td>\n",
       "      <td>39.0</td>\n",
       "    </tr>\n",
       "  </tbody>\n",
       "</table>\n",
       "<p>456 rows × 16 columns</p>\n",
       "</div>"
      ],
      "text/plain": [
       "                                   Data Início/Término  \\\n",
       "0    Início: 30/04/2024 05:55\\n Termino: 30/04/2024...   \n",
       "1    Início: 30/04/2024 06:00\\n Termino: 30/04/2024...   \n",
       "2    Início: 30/04/2024 06:40\\n Termino: 30/04/2024...   \n",
       "3    Início: 30/04/2024 07:20\\n Termino: 30/04/2024...   \n",
       "4    Início: 30/04/2024 06:19\\n Termino: 30/04/2024...   \n",
       "..                                                 ...   \n",
       "451  Início: 30/04/2024 15:00\\n Termino: 30/04/2024...   \n",
       "452  Início: 30/04/2024 15:00\\n Termino: 30/04/2024...   \n",
       "453  Início: 30/04/2024 16:00\\n Termino: 30/04/2024...   \n",
       "454  Início: 30/04/2024 16:00\\n Termino: 30/04/2024...   \n",
       "455  Início: 30/04/2024 17:00\\n Termino: 30/04/2024...   \n",
       "\n",
       "                                  Paciente    Idade Paciente          NA  \\\n",
       "0                            MAGALI VIEIRA  75 Anos 11 Meses  38808685.0   \n",
       "1                   ANTONIO SANTOS PEREIRA   76 Anos 7 Meses  39356223.0   \n",
       "2      TALITA AMBROSIO DOS SANTOS FERREIRA   34 Anos 6 Meses   2372116.0   \n",
       "3                    CARLOS ALMIR DA SILVA   59 Anos 6 Meses   9449007.0   \n",
       "4             MARIO MIRANDA PINHEIRO FILHO   82 Anos 7 Meses  39347934.0   \n",
       "..                                     ...               ...         ...   \n",
       "451               ROSANGELA CHAVES PEREIRA               NaN         NaN   \n",
       "452    LILIAN RAFAELA XAVIER DA SILVA LIMA   39 Anos 5 Meses         NaN   \n",
       "453  MARIA DO SOCORRO LIMA DA SILVA FARIAS               NaN         NaN   \n",
       "454     SARAH CAMILA MACEDO MARTINS CORREA               NaN         NaN   \n",
       "455             CLEBERSON PEREIRA DA SILVA   39 Anos 4 Meses         NaN   \n",
       "\n",
       "           Clínica              Sala                    Convênio  \\\n",
       "0    ANALIA FRANCO      HEMODINÂMICA               SUL AMERICA\\n   \n",
       "1           OSASCO       RESSONÂNCIA               SUL AMERICA\\n   \n",
       "2         ALPHAMED  CENTRO CIRÚRGICO   CENTRAL NACIONAL UNIMED\\n   \n",
       "3         AVICCENA  CENTRO CIRÚRGICO               SUL AMERICA\\n   \n",
       "4        JABAQUARA       RESSONANCIA                   ADVANCE\\n   \n",
       "..             ...               ...                         ...   \n",
       "451         OSASCO               NaN            SEGUROS UNIMED\\n   \n",
       "452         OSASCO               NaN               SUL AMERICA\\n   \n",
       "453         OSASCO               NaN          BRADESCO SEGUROS\\n   \n",
       "454         OSASCO               NaN  PORTO SEGURO - SAUDE S/A\\n   \n",
       "455         OSASCO               NaN          BRADESCO SEGUROS\\n   \n",
       "\n",
       "                                 Cirurgião                       Anestesista  \\\n",
       "0                  RAFAEL BIRELO MARTINS\\n  VICTOR AUGUSTO DE SOUZA MORAES\\n   \n",
       "1               PROCEDIMENTO DIAGNÓSTICO\\n     VITOR LUIZ ASSUNÇÃO MARTINS\\n   \n",
       "2                      WILLY RAMOS ROMAN\\n             LUCCAS VARELA GODOY\\n   \n",
       "3             MATHEUS LAMARTINE NOGUEIRA\\n        MARCELO MAIA DA SILVEIRA\\n   \n",
       "4                          MÉDICO EXAMES\\n               BRUCE YE MAN CHOW\\n   \n",
       "..                                     ...                               ...   \n",
       "451              CAIO CARVALHO DE MORAIS\\n                          NENHUM\\n   \n",
       "452         GUILHERME RONDINELLI SECUNHO\\n                          NENHUM\\n   \n",
       "453                               NENHUM\\n                          NENHUM\\n   \n",
       "454  RENATO MAGALHAES PATRIANI RODRIGUES\\n                          NENHUM\\n   \n",
       "455            RAPHAEL DOS SANTOS ABILIO\\n                          NENHUM\\n   \n",
       "\n",
       "    Anestesista Substituto             Código Procedimento  \\\n",
       "0                      NaN  40812030\\n40812049\\n40812111\\n   \n",
       "1                      NaN                      31602282\\n   \n",
       "2                      NaN                      30734053\\n   \n",
       "3                      NaN  31403220\\n30722101\\n30731097\\n   \n",
       "4                      NaN                             NaN   \n",
       "..                     ...                             ...   \n",
       "451                    NaN                      31403026\\n   \n",
       "452                    NaN                      30726077\\n   \n",
       "453                    NaN                      31602118\\n   \n",
       "454                    NaN                      31304052\\n   \n",
       "455                    NaN                      31403034\\n   \n",
       "\n",
       "                                          Procedimento Observação  \\\n",
       "0    ANGIOGRAFIA POR CATETERISMO NÃO SELETIVO DE GR...        NaN   \n",
       "1     ANESTESIA PARA EXAMES DE RESSONANCIA MAGNETICA\\n        NaN   \n",
       "2    RECONSTRUÇÃO, RETENCIONAMENTO OU REFORÇO DE LI...        NaN   \n",
       "3    MICRONEUROLISE MULTIPLAS\\nAPONEVROSE PALMAR RE...        NaN   \n",
       "4                                                  NaN        NaN   \n",
       "..                                                 ...        ...   \n",
       "451                     BLOQUEIO DE NERVO PERIFÉRICO\\n        NaN   \n",
       "452     EPIFISITES E TENDINITES TRATAMENTO CIRURGICO\\n        NaN   \n",
       "453                     BLOQUEIO DE NERVO PERIFERICO\\n        NaN   \n",
       "454  CIRURGIA DE ESTERILIZACAO FEMININA (LAQUEADURA...        NaN   \n",
       "455  DENERVACAO PERCUTANEA DE FACETA ARTICULAR - PO...        NaN   \n",
       "\n",
       "    Observação Médica  Meses  Idade  \n",
       "0                 NaN    NaN   75.0  \n",
       "1                 NaN    NaN   76.0  \n",
       "2                 NaN    NaN   34.0  \n",
       "3                 NaN    NaN   59.0  \n",
       "4                 NaN    NaN   82.0  \n",
       "..                ...    ...    ...  \n",
       "451               NaN    NaN    NaN  \n",
       "452               NaN    NaN   39.0  \n",
       "453               NaN    NaN    NaN  \n",
       "454               NaN    NaN    NaN  \n",
       "455               NaN    NaN   39.0  \n",
       "\n",
       "[456 rows x 16 columns]"
      ]
     },
     "execution_count": 237,
     "metadata": {},
     "output_type": "execute_result"
    }
   ],
   "source": [
    "df"
   ]
  },
  {
   "cell_type": "code",
   "execution_count": 226,
   "id": "c23278d2-d7a2-458e-b450-acf783b128be",
   "metadata": {},
   "outputs": [
    {
     "data": {
      "text/plain": [
       "0      75.0\n",
       "1      76.0\n",
       "2      34.0\n",
       "3      59.0\n",
       "4      82.0\n",
       "       ... \n",
       "451     NaN\n",
       "452    39.0\n",
       "453     NaN\n",
       "454     NaN\n",
       "455    39.0\n",
       "Name: Idade, Length: 456, dtype: float64"
      ]
     },
     "execution_count": 226,
     "metadata": {},
     "output_type": "execute_result"
    }
   ],
   "source": [
    "for i in range( len(df) ):\n",
    "    idade = df['Idade Paciente'][i]\n",
    "\n",
    "    if pd.isnull(idade):\n",
    "        continue\n",
    "    else:\n",
    "        idade = re.findall(r'\\d[0-9]{0,2} Anos', idade)\n",
    "\n",
    "        if len(idade) < 1:\n",
    "            continue\n",
    "        else:        \n",
    "            idade = idade[0]\n",
    "            idade = idade.replace('Anos','').strip()\n",
    "            idade = int(idade)\n",
    "            df['Idade'][i] = idade\n",
    "\n",
    "df['Idade']"
   ]
  },
  {
   "cell_type": "code",
   "execution_count": null,
   "id": "8749c096-73d5-4afe-9cf5-696ca51be19a",
   "metadata": {},
   "outputs": [],
   "source": []
  },
  {
   "cell_type": "code",
   "execution_count": null,
   "id": "45e89f42-1249-4694-ac6e-3538973ceb6c",
   "metadata": {},
   "outputs": [],
   "source": []
  },
  {
   "cell_type": "code",
   "execution_count": null,
   "id": "8df5bc9c-67f8-4756-a066-e11f9fb54839",
   "metadata": {},
   "outputs": [],
   "source": []
  },
  {
   "cell_type": "code",
   "execution_count": null,
   "id": "2d02d701-5cfa-4291-8348-7e573b2e5651",
   "metadata": {},
   "outputs": [],
   "source": []
  },
  {
   "cell_type": "code",
   "execution_count": null,
   "id": "4d4523ad-1d31-41a5-b125-95f2cb952953",
   "metadata": {},
   "outputs": [],
   "source": []
  }
 ],
 "metadata": {
  "kernelspec": {
   "display_name": "Python 3 (ipykernel)",
   "language": "python",
   "name": "python3"
  },
  "language_info": {
   "codemirror_mode": {
    "name": "ipython",
    "version": 3
   },
   "file_extension": ".py",
   "mimetype": "text/x-python",
   "name": "python",
   "nbconvert_exporter": "python",
   "pygments_lexer": "ipython3",
   "version": "3.11.7"
  }
 },
 "nbformat": 4,
 "nbformat_minor": 5
}
