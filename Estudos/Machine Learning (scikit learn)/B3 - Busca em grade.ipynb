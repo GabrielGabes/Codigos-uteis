{
 "cells": [
  {
   "cell_type": "markdown",
   "id": "da54da3f",
   "metadata": {},
   "source": [
    "Curso de\n",
    "- Classificação: otimizando modelos de machine learning\n",
    "- Classificação: selecionando features"
   ]
  },
  {
   "cell_type": "markdown",
   "id": "89f399a3",
   "metadata": {},
   "source": [
    "# Funções, bibliotecas e Dataframe ficticios"
   ]
  },
  {
   "cell_type": "code",
   "execution_count": 12,
   "id": "e86b8253",
   "metadata": {},
   "outputs": [],
   "source": [
    "RANDOM_STATE = 3141592"
   ]
  },
  {
   "cell_type": "code",
   "execution_count": 13,
   "id": "547b5957",
   "metadata": {},
   "outputs": [],
   "source": [
    "import matplotlib.pyplot as plt\n",
    "plt.style.use('dark_background')\n",
    "%matplotlib inline\n",
    "\n",
    "# Manipulação e Tratamento de dados\n",
    "import openpyxl\n",
    "import pandas as pd\n",
    "import numpy as np\n",
    "from numpy import NaN\n",
    "\n",
    "#ignorando Warning inuteis\n",
    "import warnings \n",
    "from pandas.errors import SettingWithCopyWarning\n",
    "warnings.simplefilter(action=\"ignore\", category=SettingWithCopyWarning)\n",
    "warnings.filterwarnings(action='ignore', category=FutureWarning)\n",
    "warnings.simplefilter(action='ignore', category=UserWarning)"
   ]
  },
  {
   "cell_type": "code",
   "execution_count": 14,
   "id": "6fb3e65c",
   "metadata": {},
   "outputs": [
    {
     "data": {
      "text/html": [
       "<div>\n",
       "<style scoped>\n",
       "    .dataframe tbody tr th:only-of-type {\n",
       "        vertical-align: middle;\n",
       "    }\n",
       "\n",
       "    .dataframe tbody tr th {\n",
       "        vertical-align: top;\n",
       "    }\n",
       "\n",
       "    .dataframe thead th {\n",
       "        text-align: right;\n",
       "    }\n",
       "</style>\n",
       "<table border=\"1\" class=\"dataframe\">\n",
       "  <thead>\n",
       "    <tr style=\"text-align: right;\">\n",
       "      <th></th>\n",
       "      <th>x_num0</th>\n",
       "      <th>x_num1</th>\n",
       "      <th>x_num2</th>\n",
       "      <th>x_num3</th>\n",
       "      <th>x_num4</th>\n",
       "      <th>x_num5</th>\n",
       "      <th>x_num6</th>\n",
       "      <th>x_num7</th>\n",
       "      <th>x_num8</th>\n",
       "      <th>x_num9</th>\n",
       "      <th>...</th>\n",
       "      <th>x_bin0</th>\n",
       "      <th>x_bin1</th>\n",
       "      <th>x_bin2</th>\n",
       "      <th>x_bin3</th>\n",
       "      <th>x_bin4</th>\n",
       "      <th>x_cat0</th>\n",
       "      <th>x_cat1</th>\n",
       "      <th>x_cat2</th>\n",
       "      <th>x_cat_0</th>\n",
       "      <th>x_cat_1</th>\n",
       "    </tr>\n",
       "  </thead>\n",
       "  <tbody>\n",
       "    <tr>\n",
       "      <th>0</th>\n",
       "      <td>4.875997</td>\n",
       "      <td>-1.491729</td>\n",
       "      <td>2.491069</td>\n",
       "      <td>1.874948</td>\n",
       "      <td>-0.000381</td>\n",
       "      <td>1.478758</td>\n",
       "      <td>3.972563</td>\n",
       "      <td>0.230329</td>\n",
       "      <td>5.149503</td>\n",
       "      <td>0.595726</td>\n",
       "      <td>...</td>\n",
       "      <td>sim</td>\n",
       "      <td>não</td>\n",
       "      <td>sim</td>\n",
       "      <td>não</td>\n",
       "      <td>sim</td>\n",
       "      <td>A</td>\n",
       "      <td>B</td>\n",
       "      <td>A</td>\n",
       "      <td>C</td>\n",
       "      <td>D</td>\n",
       "    </tr>\n",
       "    <tr>\n",
       "      <th>1</th>\n",
       "      <td>3.750108</td>\n",
       "      <td>-0.510656</td>\n",
       "      <td>-0.462908</td>\n",
       "      <td>0.928715</td>\n",
       "      <td>0.496968</td>\n",
       "      <td>-0.995687</td>\n",
       "      <td>2.219878</td>\n",
       "      <td>-1.951839</td>\n",
       "      <td>0.335021</td>\n",
       "      <td>-0.071709</td>\n",
       "      <td>...</td>\n",
       "      <td>não</td>\n",
       "      <td>não</td>\n",
       "      <td>não</td>\n",
       "      <td>sim</td>\n",
       "      <td>não</td>\n",
       "      <td>B</td>\n",
       "      <td>B</td>\n",
       "      <td>C</td>\n",
       "      <td>C</td>\n",
       "      <td>B</td>\n",
       "    </tr>\n",
       "    <tr>\n",
       "      <th>2</th>\n",
       "      <td>1.915908</td>\n",
       "      <td>2.793605</td>\n",
       "      <td>2.989653</td>\n",
       "      <td>1.743696</td>\n",
       "      <td>-0.213394</td>\n",
       "      <td>-0.274895</td>\n",
       "      <td>0.106642</td>\n",
       "      <td>1.605156</td>\n",
       "      <td>2.169961</td>\n",
       "      <td>-1.126328</td>\n",
       "      <td>...</td>\n",
       "      <td>sim</td>\n",
       "      <td>sim</td>\n",
       "      <td>sim</td>\n",
       "      <td>não</td>\n",
       "      <td>sim</td>\n",
       "      <td>C</td>\n",
       "      <td>A</td>\n",
       "      <td>C</td>\n",
       "      <td>B</td>\n",
       "      <td>C</td>\n",
       "    </tr>\n",
       "    <tr>\n",
       "      <th>3</th>\n",
       "      <td>3.575351</td>\n",
       "      <td>2.779022</td>\n",
       "      <td>4.928382</td>\n",
       "      <td>3.046386</td>\n",
       "      <td>-1.832086</td>\n",
       "      <td>-2.961492</td>\n",
       "      <td>1.171947</td>\n",
       "      <td>1.044997</td>\n",
       "      <td>3.281876</td>\n",
       "      <td>-1.733729</td>\n",
       "      <td>...</td>\n",
       "      <td>não</td>\n",
       "      <td>não</td>\n",
       "      <td>não</td>\n",
       "      <td>sim</td>\n",
       "      <td>não</td>\n",
       "      <td>B</td>\n",
       "      <td>A</td>\n",
       "      <td>A</td>\n",
       "      <td>D</td>\n",
       "      <td>D</td>\n",
       "    </tr>\n",
       "    <tr>\n",
       "      <th>4</th>\n",
       "      <td>4.812294</td>\n",
       "      <td>0.316227</td>\n",
       "      <td>0.704474</td>\n",
       "      <td>0.908321</td>\n",
       "      <td>0.050424</td>\n",
       "      <td>-2.080064</td>\n",
       "      <td>2.597434</td>\n",
       "      <td>-1.643092</td>\n",
       "      <td>-0.138313</td>\n",
       "      <td>-1.498914</td>\n",
       "      <td>...</td>\n",
       "      <td>sim</td>\n",
       "      <td>não</td>\n",
       "      <td>não</td>\n",
       "      <td>não</td>\n",
       "      <td>não</td>\n",
       "      <td>A</td>\n",
       "      <td>B</td>\n",
       "      <td>A</td>\n",
       "      <td>D</td>\n",
       "      <td>B</td>\n",
       "    </tr>\n",
       "  </tbody>\n",
       "</table>\n",
       "<p>5 rows × 21 columns</p>\n",
       "</div>"
      ],
      "text/plain": [
       "     x_num0    x_num1    x_num2    x_num3    x_num4    x_num5    x_num6  \\\n",
       "0  4.875997 -1.491729  2.491069  1.874948 -0.000381  1.478758  3.972563   \n",
       "1  3.750108 -0.510656 -0.462908  0.928715  0.496968 -0.995687  2.219878   \n",
       "2  1.915908  2.793605  2.989653  1.743696 -0.213394 -0.274895  0.106642   \n",
       "3  3.575351  2.779022  4.928382  3.046386 -1.832086 -2.961492  1.171947   \n",
       "4  4.812294  0.316227  0.704474  0.908321  0.050424 -2.080064  2.597434   \n",
       "\n",
       "     x_num7    x_num8    x_num9  ... x_bin0 x_bin1 x_bin2 x_bin3 x_bin4  \\\n",
       "0  0.230329  5.149503  0.595726  ...    sim    não    sim    não    sim   \n",
       "1 -1.951839  0.335021 -0.071709  ...    não    não    não    sim    não   \n",
       "2  1.605156  2.169961 -1.126328  ...    sim    sim    sim    não    sim   \n",
       "3  1.044997  3.281876 -1.733729  ...    não    não    não    sim    não   \n",
       "4 -1.643092 -0.138313 -1.498914  ...    sim    não    não    não    não   \n",
       "\n",
       "  x_cat0 x_cat1 x_cat2 x_cat_0 x_cat_1  \n",
       "0      A      B      A       C       D  \n",
       "1      B      B      C       C       B  \n",
       "2      C      A      C       B       C  \n",
       "3      B      A      A       D       D  \n",
       "4      A      B      A       D       B  \n",
       "\n",
       "[5 rows x 21 columns]"
      ]
     },
     "metadata": {},
     "output_type": "display_data"
    },
    {
     "name": "stdout",
     "output_type": "stream",
     "text": [
      "TUDO OK\n"
     ]
    }
   ],
   "source": [
    "import requests\n",
    "\n",
    "# CARREGANDO BASE\n",
    "arquivo = 'fake_database'\n",
    "url = \"https://raw.githubusercontent.com/GabrielGabes/functions_gsa/main/\" + arquivo + \".py\"\n",
    "response = requests.get(url)\n",
    "code = response.text\n",
    "exec(code)\n",
    "df = fake_database2()\n",
    "display(df.head())\n",
    "\n",
    "arquivo = 'funcoes_estatisticas'\n",
    "url = \"https://raw.githubusercontent.com/GabrielGabes/functions_gsa/main/\" + arquivo + \".py\"\n",
    "response = requests.get(url)\n",
    "code = response.text\n",
    "exec(code)\n",
    "print('TUDO OK')"
   ]
  },
  {
   "cell_type": "code",
   "execution_count": 15,
   "id": "09dc1850",
   "metadata": {},
   "outputs": [
    {
     "data": {
      "text/plain": [
       "0    0\n",
       "1    1\n",
       "2    0\n",
       "3    1\n",
       "4    1\n",
       "Name: y, dtype: object"
      ]
     },
     "metadata": {},
     "output_type": "display_data"
    },
    {
     "data": {
      "text/html": [
       "<div>\n",
       "<style scoped>\n",
       "    .dataframe tbody tr th:only-of-type {\n",
       "        vertical-align: middle;\n",
       "    }\n",
       "\n",
       "    .dataframe tbody tr th {\n",
       "        vertical-align: top;\n",
       "    }\n",
       "\n",
       "    .dataframe thead th {\n",
       "        text-align: right;\n",
       "    }\n",
       "</style>\n",
       "<table border=\"1\" class=\"dataframe\">\n",
       "  <thead>\n",
       "    <tr style=\"text-align: right;\">\n",
       "      <th></th>\n",
       "      <th>x_num0</th>\n",
       "      <th>x_num1</th>\n",
       "      <th>x_num2</th>\n",
       "      <th>x_num3</th>\n",
       "      <th>x_num4</th>\n",
       "      <th>x_num5</th>\n",
       "      <th>x_num6</th>\n",
       "      <th>x_num7</th>\n",
       "      <th>x_num8</th>\n",
       "      <th>x_num9</th>\n",
       "      <th>x_bin0</th>\n",
       "      <th>x_bin1</th>\n",
       "      <th>x_bin2</th>\n",
       "      <th>x_bin3</th>\n",
       "      <th>x_bin4</th>\n",
       "      <th>x_cat0</th>\n",
       "      <th>x_cat1</th>\n",
       "      <th>x_cat2</th>\n",
       "      <th>x_cat_0</th>\n",
       "      <th>x_cat_1</th>\n",
       "    </tr>\n",
       "  </thead>\n",
       "  <tbody>\n",
       "    <tr>\n",
       "      <th>0</th>\n",
       "      <td>4.875997</td>\n",
       "      <td>-1.491729</td>\n",
       "      <td>2.491069</td>\n",
       "      <td>1.874948</td>\n",
       "      <td>-0.000381</td>\n",
       "      <td>1.478758</td>\n",
       "      <td>3.972563</td>\n",
       "      <td>0.230329</td>\n",
       "      <td>5.149503</td>\n",
       "      <td>0.595726</td>\n",
       "      <td>sim</td>\n",
       "      <td>não</td>\n",
       "      <td>sim</td>\n",
       "      <td>não</td>\n",
       "      <td>sim</td>\n",
       "      <td>A</td>\n",
       "      <td>B</td>\n",
       "      <td>A</td>\n",
       "      <td>C</td>\n",
       "      <td>D</td>\n",
       "    </tr>\n",
       "    <tr>\n",
       "      <th>1</th>\n",
       "      <td>3.750108</td>\n",
       "      <td>-0.510656</td>\n",
       "      <td>-0.462908</td>\n",
       "      <td>0.928715</td>\n",
       "      <td>0.496968</td>\n",
       "      <td>-0.995687</td>\n",
       "      <td>2.219878</td>\n",
       "      <td>-1.951839</td>\n",
       "      <td>0.335021</td>\n",
       "      <td>-0.071709</td>\n",
       "      <td>não</td>\n",
       "      <td>não</td>\n",
       "      <td>não</td>\n",
       "      <td>sim</td>\n",
       "      <td>não</td>\n",
       "      <td>B</td>\n",
       "      <td>B</td>\n",
       "      <td>C</td>\n",
       "      <td>C</td>\n",
       "      <td>B</td>\n",
       "    </tr>\n",
       "    <tr>\n",
       "      <th>2</th>\n",
       "      <td>1.915908</td>\n",
       "      <td>2.793605</td>\n",
       "      <td>2.989653</td>\n",
       "      <td>1.743696</td>\n",
       "      <td>-0.213394</td>\n",
       "      <td>-0.274895</td>\n",
       "      <td>0.106642</td>\n",
       "      <td>1.605156</td>\n",
       "      <td>2.169961</td>\n",
       "      <td>-1.126328</td>\n",
       "      <td>sim</td>\n",
       "      <td>sim</td>\n",
       "      <td>sim</td>\n",
       "      <td>não</td>\n",
       "      <td>sim</td>\n",
       "      <td>C</td>\n",
       "      <td>A</td>\n",
       "      <td>C</td>\n",
       "      <td>B</td>\n",
       "      <td>C</td>\n",
       "    </tr>\n",
       "    <tr>\n",
       "      <th>3</th>\n",
       "      <td>3.575351</td>\n",
       "      <td>2.779022</td>\n",
       "      <td>4.928382</td>\n",
       "      <td>3.046386</td>\n",
       "      <td>-1.832086</td>\n",
       "      <td>-2.961492</td>\n",
       "      <td>1.171947</td>\n",
       "      <td>1.044997</td>\n",
       "      <td>3.281876</td>\n",
       "      <td>-1.733729</td>\n",
       "      <td>não</td>\n",
       "      <td>não</td>\n",
       "      <td>não</td>\n",
       "      <td>sim</td>\n",
       "      <td>não</td>\n",
       "      <td>B</td>\n",
       "      <td>A</td>\n",
       "      <td>A</td>\n",
       "      <td>D</td>\n",
       "      <td>D</td>\n",
       "    </tr>\n",
       "    <tr>\n",
       "      <th>4</th>\n",
       "      <td>4.812294</td>\n",
       "      <td>0.316227</td>\n",
       "      <td>0.704474</td>\n",
       "      <td>0.908321</td>\n",
       "      <td>0.050424</td>\n",
       "      <td>-2.080064</td>\n",
       "      <td>2.597434</td>\n",
       "      <td>-1.643092</td>\n",
       "      <td>-0.138313</td>\n",
       "      <td>-1.498914</td>\n",
       "      <td>sim</td>\n",
       "      <td>não</td>\n",
       "      <td>não</td>\n",
       "      <td>não</td>\n",
       "      <td>não</td>\n",
       "      <td>A</td>\n",
       "      <td>B</td>\n",
       "      <td>A</td>\n",
       "      <td>D</td>\n",
       "      <td>B</td>\n",
       "    </tr>\n",
       "  </tbody>\n",
       "</table>\n",
       "</div>"
      ],
      "text/plain": [
       "     x_num0    x_num1    x_num2    x_num3    x_num4    x_num5    x_num6  \\\n",
       "0  4.875997 -1.491729  2.491069  1.874948 -0.000381  1.478758  3.972563   \n",
       "1  3.750108 -0.510656 -0.462908  0.928715  0.496968 -0.995687  2.219878   \n",
       "2  1.915908  2.793605  2.989653  1.743696 -0.213394 -0.274895  0.106642   \n",
       "3  3.575351  2.779022  4.928382  3.046386 -1.832086 -2.961492  1.171947   \n",
       "4  4.812294  0.316227  0.704474  0.908321  0.050424 -2.080064  2.597434   \n",
       "\n",
       "     x_num7    x_num8    x_num9 x_bin0 x_bin1 x_bin2 x_bin3 x_bin4 x_cat0  \\\n",
       "0  0.230329  5.149503  0.595726    sim    não    sim    não    sim      A   \n",
       "1 -1.951839  0.335021 -0.071709    não    não    não    sim    não      B   \n",
       "2  1.605156  2.169961 -1.126328    sim    sim    sim    não    sim      C   \n",
       "3  1.044997  3.281876 -1.733729    não    não    não    sim    não      B   \n",
       "4 -1.643092 -0.138313 -1.498914    sim    não    não    não    não      A   \n",
       "\n",
       "  x_cat1 x_cat2 x_cat_0 x_cat_1  \n",
       "0      B      A       C       D  \n",
       "1      B      C       C       B  \n",
       "2      A      C       B       C  \n",
       "3      A      A       D       D  \n",
       "4      B      A       D       B  "
      ]
     },
     "metadata": {},
     "output_type": "display_data"
    }
   ],
   "source": [
    "# Variavel Dependente\n",
    "var_dep = 'y'\n",
    "y = df[var_dep]\n",
    "display(y.head())\n",
    "\n",
    "x = df.drop('y', axis=1)\n",
    "display(x.head())"
   ]
  },
  {
   "cell_type": "code",
   "execution_count": 16,
   "id": "a1cdc01f-4ed2-46e2-9e27-1dc5cd6dcd5f",
   "metadata": {},
   "outputs": [
    {
     "name": "stdout",
     "output_type": "stream",
     "text": [
      "2 niveis: x_bin0 => ['sim' 'não']\n",
      "2 niveis: x_bin1 => ['não' 'sim']\n",
      "2 niveis: x_bin2 => ['sim' 'não']\n",
      "2 niveis: x_bin3 => ['não' 'sim']\n",
      "2 niveis: x_bin4 => ['sim' 'não']\n",
      "3 niveis: x_cat0 => ['A' 'B' 'C']\n",
      "3 niveis: x_cat1 => ['B' 'A' 'C']\n",
      "3 niveis: x_cat2 => ['A' 'C' 'B']\n",
      "3 niveis: x_cat_0 => ['C' 'B' 'D' 'A']\n",
      "3 niveis: x_cat_1 => ['D' 'B' 'C' 'A']\n",
      "(750, 32) (250, 32)\n",
      "(750,) (250,)\n"
     ]
    }
   ],
   "source": [
    "# DUMMYRIZAÇÃO\n",
    "colunas_categoricas = []\n",
    "colunas_binarias = []\n",
    "colunas_mais3_categorias = []\n",
    "\n",
    "for coluna in x.columns:\n",
    "    if df[coluna].dtype == 'O':\n",
    "        categorias = x[coluna].unique()\n",
    "        if len(categorias) == 2:\n",
    "            print('2 niveis:', coluna, '=>', categorias)\n",
    "            colunas_categoricas.append(coluna)\n",
    "            colunas_binarias.append(coluna)\n",
    "        else:\n",
    "            print('3 niveis:', coluna, '=>', categorias)\n",
    "            colunas_categoricas.append(coluna)\n",
    "            colunas_mais3_categorias.append(coluna)\n",
    "\n",
    "############################################################################################\n",
    "from sklearn.compose import make_column_transformer\n",
    "from sklearn.preprocessing import OneHotEncoder #transformando colunas com 2 categorias em 0 e 1\n",
    "\n",
    "coluna = x.columns\n",
    "one_hot = make_column_transformer((\n",
    "    OneHotEncoder(drop='if_binary'), #caso a coluna tenha apenas 2 categorias \n",
    "    colunas_categoricas), #passando quais são essas colunas\n",
    "    remainder = 'passthrough', sparse_threshold=0) #oque deve ser feito com as outras\n",
    "\n",
    "#Aplicando transformação\n",
    "x = one_hot.fit_transform(x)\n",
    "\n",
    "#Os novos nomes das colunas #'onehotencoder=transformadas; 'remainder'=não transformadas\n",
    "novos_nomes_colunas = one_hot.get_feature_names_out(coluna)\n",
    "\n",
    "x = pd.DataFrame(x, columns = novos_nomes_colunas) #alterando de volta\n",
    "x_columns = x.columns.tolist() \n",
    "\n",
    "############################################################################################\n",
    "# NORMALIZAÇÃO\n",
    "from sklearn.preprocessing import MinMaxScaler\n",
    "normalizacao = MinMaxScaler()\n",
    "x = normalizacao.fit_transform(x)\n",
    "\n",
    "#df['Close_padronizada'] = (df[coluna] - df[coluna].mean()) / df[coluna].std()\n",
    "#df['Close_normalizada'] = (df[coluna] - df[coluna].min()) / (df[coluna].max() - df[coluna].min())\n",
    "\n",
    "############################################################################################\n",
    "# DEFININDO A VARIAVEL DEPENDENTE\n",
    "from sklearn.preprocessing import LabelEncoder\n",
    "y = LabelEncoder().fit_transform(y)\n",
    "\n",
    "############################################################################################\n",
    "x_inteiro = x\n",
    "y_inteiro = y\n",
    "\n",
    "# DIVIDINDO BASE EM TREINO E TESTE\n",
    "from sklearn.model_selection import train_test_split\n",
    "x_treino, x_teste, y_treino, y_teste = train_test_split(x, y, \n",
    "                                                    stratify = y, #para manter a proporção da Var Dep nos splits\n",
    "                                                    random_state = 5) #raiz da aleatoridade\n",
    "# test_size = 0.25 #porcentagem que ira ser separado para testes\n",
    "\n",
    "print(x_treino.shape, x_teste.shape)\n",
    "print(y_treino.shape, y_teste.shape)"
   ]
  },
  {
   "cell_type": "markdown",
   "id": "9855429f",
   "metadata": {},
   "source": [
    "# Função de avaliação do modelo"
   ]
  },
  {
   "cell_type": "code",
   "execution_count": 17,
   "id": "8d77e65e",
   "metadata": {},
   "outputs": [
    {
     "data": {
      "text/plain": [
       "'\\nimport requests\\narquivo = \\'ML_supervised_learning\\'\\nurl = \"https://raw.githubusercontent.com/GabrielGabes/functions_gsa/main/\" + arquivo + \".py\"\\nresponse = requests.get(url)\\ncode = response.text\\nexec(code)\\n'"
      ]
     },
     "execution_count": 17,
     "metadata": {},
     "output_type": "execute_result"
    }
   ],
   "source": [
    "# Função para avaliação de modelos exibindo metricas de avaliação\n",
    "from sklearn.metrics import accuracy_score, confusion_matrix, classification_report, RocCurveDisplay\n",
    "\n",
    "\n",
    "def avaliar_modelo(y_verdadeiro, y_predito, conjunto_nome):\n",
    "    \"\"\"\n",
    "    Função para avaliar e imprimir o relatório de classificação e a matriz de confusão.\n",
    "    \"\"\"\n",
    "    #if conjunto_nome == \"Treino\":\n",
    "     #   pass\n",
    "    #else:\n",
    "    print('*' * 70)\n",
    "    print(\"Relatório de Classificação para o Conjunto de\", conjunto_nome,\":\\n\")\n",
    "    print(classification_report(y_verdadeiro, y_predito))\n",
    "    \n",
    "    print('*' * 55)\n",
    "    \n",
    "    print(\"Matriz de Confusão para o Conjunto de\", conjunto_nome,\":\\n\")\n",
    "    print(confusion_matrix(y_verdadeiro, y_predito))\n",
    "    print('*' * 70)\n",
    "\n",
    "    display(RocCurveDisplay.from_predictions(y_verdadeiro, y_predito, name = conjunto_nome))\n",
    "\n",
    "###############################################################################################\n",
    "# ou pode-se tbm carregar através de:\n",
    "'''\n",
    "import requests\n",
    "arquivo = 'ML_supervised_learning'\n",
    "url = \"https://raw.githubusercontent.com/GabrielGabes/functions_gsa/main/\" + arquivo + \".py\"\n",
    "response = requests.get(url)\n",
    "code = response.text\n",
    "exec(code)\n",
    "'''\n"
   ]
  },
  {
   "cell_type": "markdown",
   "id": "553c5c73-3c5f-4ec4-903d-840a5275757e",
   "metadata": {},
   "source": [
    "# Aplicação Basica (apenas para comparar)"
   ]
  },
  {
   "cell_type": "markdown",
   "id": "a54e888c",
   "metadata": {},
   "source": [
    "## Decision Tree Simples"
   ]
  },
  {
   "cell_type": "code",
   "execution_count": 18,
   "id": "dd4e8e90",
   "metadata": {},
   "outputs": [
    {
     "name": "stdout",
     "output_type": "stream",
     "text": [
      "**********************************************************************\n",
      "Relatório de Classificação para o Conjunto de Treino :\n",
      "\n",
      "              precision    recall  f1-score   support\n",
      "\n",
      "           0       0.81      0.88      0.85       374\n",
      "           1       0.87      0.80      0.83       376\n",
      "\n",
      "    accuracy                           0.84       750\n",
      "   macro avg       0.84      0.84      0.84       750\n",
      "weighted avg       0.84      0.84      0.84       750\n",
      "\n",
      "*******************************************************\n",
      "Matriz de Confusão para o Conjunto de Treino :\n",
      "\n",
      "[[329  45]\n",
      " [ 75 301]]\n",
      "**********************************************************************\n"
     ]
    },
    {
     "data": {
      "text/plain": [
       "<sklearn.metrics._plot.roc_curve.RocCurveDisplay at 0x203e271c250>"
      ]
     },
     "metadata": {},
     "output_type": "display_data"
    },
    {
     "name": "stdout",
     "output_type": "stream",
     "text": [
      "**********************************************************************\n",
      "Relatório de Classificação para o Conjunto de Teste :\n",
      "\n",
      "              precision    recall  f1-score   support\n",
      "\n",
      "           0       0.72      0.84      0.77       124\n",
      "           1       0.81      0.67      0.74       126\n",
      "\n",
      "    accuracy                           0.76       250\n",
      "   macro avg       0.76      0.76      0.75       250\n",
      "weighted avg       0.76      0.76      0.75       250\n",
      "\n",
      "*******************************************************\n",
      "Matriz de Confusão para o Conjunto de Teste :\n",
      "\n",
      "[[104  20]\n",
      " [ 41  85]]\n",
      "**********************************************************************\n"
     ]
    },
    {
     "data": {
      "text/plain": [
       "<sklearn.metrics._plot.roc_curve.RocCurveDisplay at 0x203e5306050>"
      ]
     },
     "metadata": {},
     "output_type": "display_data"
    },
    {
     "data": {
      "image/png": "[encoded data removed]",
      "text/plain": [
       "<Figure size 640x480 with 1 Axes>"
      ]
     },
     "metadata": {},
     "output_type": "display_data"
    },
    {
     "data": {
      "image/png": "[encoded data removed]",
      "text/plain": [
       "<Figure size 640x480 with 1 Axes>"
      ]
     },
     "metadata": {},
     "output_type": "display_data"
    }
   ],
   "source": [
    "from sklearn.tree import DecisionTreeClassifier\n",
    "\n",
    "modelo_dt = DecisionTreeClassifier(max_depth=3, random_state=RANDOM_STATE)\n",
    "modelo_dt.fit(x_treino, y_treino)\n",
    "#######################################################################################\n",
    "\n",
    "# Avaliação no conjunto de treino # Verificando Over/Under(Fitting)\n",
    "previsoes_treino = modelo_dt.predict(x_treino)\n",
    "avaliar_modelo(y_treino, previsoes_treino, \"Treino\")\n",
    "\n",
    "# Avaliação no conjunto de teste  # Relatório de classificação\n",
    "previsoes = modelo_dt.predict(x_teste)\n",
    "avaliar_modelo(y_teste, previsoes, \"Teste\")\n",
    "#######################################################################################"
   ]
  },
  {
   "cell_type": "markdown",
   "id": "3e3ed557",
   "metadata": {},
   "source": [
    "## Logistic Regression"
   ]
  },
  {
   "cell_type": "code",
   "execution_count": 19,
   "id": "62990c73",
   "metadata": {},
   "outputs": [
    {
     "name": "stdout",
     "output_type": "stream",
     "text": [
      "**********************************************************************\n",
      "Relatório de Classificação para o Conjunto de Treino :\n",
      "\n",
      "              precision    recall  f1-score   support\n",
      "\n",
      "           0       0.93      0.93      0.93       374\n",
      "           1       0.93      0.93      0.93       376\n",
      "\n",
      "    accuracy                           0.93       750\n",
      "   macro avg       0.93      0.93      0.93       750\n",
      "weighted avg       0.93      0.93      0.93       750\n",
      "\n",
      "*******************************************************\n",
      "Matriz de Confusão para o Conjunto de Treino :\n",
      "\n",
      "[[347  27]\n",
      " [ 25 351]]\n",
      "**********************************************************************\n"
     ]
    },
    {
     "data": {
      "text/plain": [
       "<sklearn.metrics._plot.roc_curve.RocCurveDisplay at 0x203e5365910>"
      ]
     },
     "metadata": {},
     "output_type": "display_data"
    },
    {
     "name": "stdout",
     "output_type": "stream",
     "text": [
      "**********************************************************************\n",
      "Relatório de Classificação para o Conjunto de Teste :\n",
      "\n",
      "              precision    recall  f1-score   support\n",
      "\n",
      "           0       0.88      0.92      0.90       124\n",
      "           1       0.92      0.88      0.90       126\n",
      "\n",
      "    accuracy                           0.90       250\n",
      "   macro avg       0.90      0.90      0.90       250\n",
      "weighted avg       0.90      0.90      0.90       250\n",
      "\n",
      "*******************************************************\n",
      "Matriz de Confusão para o Conjunto de Teste :\n",
      "\n",
      "[[114  10]\n",
      " [ 15 111]]\n",
      "**********************************************************************\n"
     ]
    },
    {
     "data": {
      "text/plain": [
       "<sklearn.metrics._plot.roc_curve.RocCurveDisplay at 0x203e2a8b9d0>"
      ]
     },
     "metadata": {},
     "output_type": "display_data"
    },
    {
     "data": {
      "image/png": "[encoded data removed]",
      "text/plain": [
       "<Figure size 640x480 with 1 Axes>"
      ]
     },
     "metadata": {},
     "output_type": "display_data"
    },
    {
     "data": {
      "image/png": "[encoded data removed]",
      "text/plain": [
       "<Figure size 640x480 with 1 Axes>"
      ]
     },
     "metadata": {},
     "output_type": "display_data"
    }
   ],
   "source": [
    "from sklearn.linear_model import LogisticRegression\n",
    "from sklearn.pipeline import make_pipeline\n",
    "from sklearn.preprocessing import StandardScaler\n",
    "classificador = make_pipeline(StandardScaler(), LogisticRegression(random_state=RANDOM_STATE))\n",
    "\n",
    "#######################################################################################\n",
    "# Treinamento do Modelo\n",
    "classificador.fit(x_treino, y_treino)\n",
    "\n",
    "# Avaliação no conjunto de treino # Verificando Over/Under(Fitting)\n",
    "previsoes_treino = classificador.predict(x_treino)\n",
    "avaliar_modelo(y_treino, previsoes_treino, \"Treino\")\n",
    "\n",
    "# Avaliação no conjunto de teste  # Relatório de classificação\n",
    "previsoes = classificador.predict(x_teste)\n",
    "avaliar_modelo(y_teste, previsoes, \"Teste\")\n",
    "#######################################################################################"
   ]
  },
  {
   "cell_type": "markdown",
   "id": "ce18128a",
   "metadata": {},
   "source": [
    "# ======================================="
   ]
  },
  {
   "cell_type": "markdown",
   "id": "31bd5c7a",
   "metadata": {},
   "source": [
    "# Busca em Grade (Grid Search) - Otimização de Hiperparâmetros\n",
    "\n",
    "A Busca em Grade, ou Grid Search, é uma técnica comum para otimização de hiperparâmetros em modelos de aprendizado de máquina. Este método sistemático testa exaustivamente uma série de combinações de hiperparâmetros para determinar a configuração ideal que resulta no melhor desempenho do modelo.\n",
    "\n",
    "- **Exaustividade:** Ao testar todas as possíveis combinações, garante-se que a melhor configuração dentro do espaço definido será encontrada.\n",
    "\n",
    "### Funcionamento\n",
    "\n",
    "1. **Definição do Espaço de Parâmetros:**\n",
    "   Antes de iniciar a busca, é necessário definir o \"grid\" de hiperparâmetros, que é essencialmente uma lista de valores a serem testados para cada hiperparâmetro do modelo.\n",
    "\n",
    "2. **Avaliação Exaustiva:**\n",
    "   Cada combinação possível de hiperparâmetros no grid é testada. O modelo é treinado com cada conjunto de hiperparâmetros, e seu desempenho é avaliado usando uma métrica específica, geralmente através de validação cruzada.\n",
    "\n",
    "3. **Seleção do Melhor Modelo:**\n",
    "   Depois de testar todas as combinações, a configuração que proporciona o melhor desempenho de acordo com a métrica escolhida é selecionada como a ideal.\n",
    "\n",
    "### Alternativas\n",
    "\n",
    "- **Busca Aleatória (Random Search):** Ao invés de testar todas as combinações possíveis, a Busca Aleatória seleciona um número fixo de combinações aleatoriamente, reduzindo o tempo necessário para a busca.\n",
    "- **Métodos Baseados em Gradiente:** Técnicas como otimização bayesiana usam modelos probabilísticos para selecionar inteligentemente os hiperparâmetros que têm maior probabilidade de melhorar o desempenho do modelo."
   ]
  },
  {
   "cell_type": "markdown",
   "id": "88ca5ef5",
   "metadata": {},
   "source": [
    "## Decision Tree Classifier"
   ]
  },
  {
   "cell_type": "code",
   "execution_count": 20,
   "id": "da35d759",
   "metadata": {},
   "outputs": [
    {
     "data": {
      "text/html": [
       "<style>#sk-container-id-2 {color: black;background-color: white;}#sk-container-id-2 pre{padding: 0;}#sk-container-id-2 div.sk-toggleable {background-color: white;}#sk-container-id-2 label.sk-toggleable__label {cursor: pointer;display: block;width: 100%;margin-bottom: 0;padding: 0.3em;box-sizing: border-box;text-align: center;}#sk-container-id-2 label.sk-toggleable__label-arrow:before {content: \"▸\";float: left;margin-right: 0.25em;color: #696969;}#sk-container-id-2 label.sk-toggleable__label-arrow:hover:before {color: black;}#sk-container-id-2 div.sk-estimator:hover label.sk-toggleable__label-arrow:before {color: black;}#sk-container-id-2 div.sk-toggleable__content {max-height: 0;max-width: 0;overflow: hidden;text-align: left;background-color: #f0f8ff;}#sk-container-id-2 div.sk-toggleable__content pre {margin: 0.2em;color: black;border-radius: 0.25em;background-color: #f0f8ff;}#sk-container-id-2 input.sk-toggleable__control:checked~div.sk-toggleable__content {max-height: 200px;max-width: 100%;overflow: auto;}#sk-container-id-2 input.sk-toggleable__control:checked~label.sk-toggleable__label-arrow:before {content: \"▾\";}#sk-container-id-2 div.sk-estimator input.sk-toggleable__control:checked~label.sk-toggleable__label {background-color: #d4ebff;}#sk-container-id-2 div.sk-label input.sk-toggleable__control:checked~label.sk-toggleable__label {background-color: #d4ebff;}#sk-container-id-2 input.sk-hidden--visually {border: 0;clip: rect(1px 1px 1px 1px);clip: rect(1px, 1px, 1px, 1px);height: 1px;margin: -1px;overflow: hidden;padding: 0;position: absolute;width: 1px;}#sk-container-id-2 div.sk-estimator {font-family: monospace;background-color: #f0f8ff;border: 1px dotted black;border-radius: 0.25em;box-sizing: border-box;margin-bottom: 0.5em;}#sk-container-id-2 div.sk-estimator:hover {background-color: #d4ebff;}#sk-container-id-2 div.sk-parallel-item::after {content: \"\";width: 100%;border-bottom: 1px solid gray;flex-grow: 1;}#sk-container-id-2 div.sk-label:hover label.sk-toggleable__label {background-color: #d4ebff;}#sk-container-id-2 div.sk-serial::before {content: \"\";position: absolute;border-left: 1px solid gray;box-sizing: border-box;top: 0;bottom: 0;left: 50%;z-index: 0;}#sk-container-id-2 div.sk-serial {display: flex;flex-direction: column;align-items: center;background-color: white;padding-right: 0.2em;padding-left: 0.2em;position: relative;}#sk-container-id-2 div.sk-item {position: relative;z-index: 1;}#sk-container-id-2 div.sk-parallel {display: flex;align-items: stretch;justify-content: center;background-color: white;position: relative;}#sk-container-id-2 div.sk-item::before, #sk-container-id-2 div.sk-parallel-item::before {content: \"\";position: absolute;border-left: 1px solid gray;box-sizing: border-box;top: 0;bottom: 0;left: 50%;z-index: -1;}#sk-container-id-2 div.sk-parallel-item {display: flex;flex-direction: column;z-index: 1;position: relative;background-color: white;}#sk-container-id-2 div.sk-parallel-item:first-child::after {align-self: flex-end;width: 50%;}#sk-container-id-2 div.sk-parallel-item:last-child::after {align-self: flex-start;width: 50%;}#sk-container-id-2 div.sk-parallel-item:only-child::after {width: 0;}#sk-container-id-2 div.sk-dashed-wrapped {border: 1px dashed gray;margin: 0 0.4em 0.5em 0.4em;box-sizing: border-box;padding-bottom: 0.4em;background-color: white;}#sk-container-id-2 div.sk-label label {font-family: monospace;font-weight: bold;display: inline-block;line-height: 1.2em;}#sk-container-id-2 div.sk-label-container {text-align: center;}#sk-container-id-2 div.sk-container {/* jupyter's `normalize.less` sets `[hidden] { display: none; }` but bootstrap.min.css set `[hidden] { display: none !important; }` so we also need the `!important` here to be able to override the default hidden behavior on the sphinx rendered scikit-learn.org. See: https://github.com/scikit-learn/scikit-learn/issues/21755 */display: inline-block !important;position: relative;}#sk-container-id-2 div.sk-text-repr-fallback {display: none;}</style><div id=\"sk-container-id-2\" class=\"sk-top-container\"><div class=\"sk-text-repr-fallback\"><pre>GridSearchCV(cv=StratifiedKFold(n_splits=5, random_state=3141592, shuffle=True),\n",
       "             estimator=DecisionTreeClassifier(random_state=3141592), n_jobs=-1,\n",
       "             param_grid={&#x27;criterion&#x27;: [&#x27;gini&#x27;, &#x27;entropy&#x27;],\n",
       "                         &#x27;max_depth&#x27;: array([ 6,  8, 10, 12]),\n",
       "                         &#x27;max_features&#x27;: [&#x27;sqrt&#x27;, &#x27;log2&#x27;],\n",
       "                         &#x27;min_samples_leaf&#x27;: array([ 5, 10, 15, 20]),\n",
       "                         &#x27;min_samples_split&#x27;: array([ 5, 10, 15, 20]),\n",
       "                         &#x27;splitter&#x27;: [&#x27;best&#x27;, &#x27;random&#x27;]},\n",
       "             scoring=&#x27;recall&#x27;)</pre><b>In a Jupyter environment, please rerun this cell to show the HTML representation or trust the notebook. <br />On GitHub, the HTML representation is unable to render, please try loading this page with nbviewer.org.</b></div><div class=\"sk-container\" hidden><div class=\"sk-item sk-dashed-wrapped\"><div class=\"sk-label-container\"><div class=\"sk-label sk-toggleable\"><input class=\"sk-toggleable__control sk-hidden--visually\" id=\"sk-estimator-id-4\" type=\"checkbox\" ><label for=\"sk-estimator-id-4\" class=\"sk-toggleable__label sk-toggleable__label-arrow\">GridSearchCV</label><div class=\"sk-toggleable__content\"><pre>GridSearchCV(cv=StratifiedKFold(n_splits=5, random_state=3141592, shuffle=True),\n",
       "             estimator=DecisionTreeClassifier(random_state=3141592), n_jobs=-1,\n",
       "             param_grid={&#x27;criterion&#x27;: [&#x27;gini&#x27;, &#x27;entropy&#x27;],\n",
       "                         &#x27;max_depth&#x27;: array([ 6,  8, 10, 12]),\n",
       "                         &#x27;max_features&#x27;: [&#x27;sqrt&#x27;, &#x27;log2&#x27;],\n",
       "                         &#x27;min_samples_leaf&#x27;: array([ 5, 10, 15, 20]),\n",
       "                         &#x27;min_samples_split&#x27;: array([ 5, 10, 15, 20]),\n",
       "                         &#x27;splitter&#x27;: [&#x27;best&#x27;, &#x27;random&#x27;]},\n",
       "             scoring=&#x27;recall&#x27;)</pre></div></div></div><div class=\"sk-parallel\"><div class=\"sk-parallel-item\"><div class=\"sk-item\"><div class=\"sk-label-container\"><div class=\"sk-label sk-toggleable\"><input class=\"sk-toggleable__control sk-hidden--visually\" id=\"sk-estimator-id-5\" type=\"checkbox\" ><label for=\"sk-estimator-id-5\" class=\"sk-toggleable__label sk-toggleable__label-arrow\">estimator: DecisionTreeClassifier</label><div class=\"sk-toggleable__content\"><pre>DecisionTreeClassifier(random_state=3141592)</pre></div></div></div><div class=\"sk-serial\"><div class=\"sk-item\"><div class=\"sk-estimator sk-toggleable\"><input class=\"sk-toggleable__control sk-hidden--visually\" id=\"sk-estimator-id-6\" type=\"checkbox\" ><label for=\"sk-estimator-id-6\" class=\"sk-toggleable__label sk-toggleable__label-arrow\">DecisionTreeClassifier</label><div class=\"sk-toggleable__content\"><pre>DecisionTreeClassifier(random_state=3141592)</pre></div></div></div></div></div></div></div></div></div></div>"
      ],
      "text/plain": [
       "GridSearchCV(cv=StratifiedKFold(n_splits=5, random_state=3141592, shuffle=True),\n",
       "             estimator=DecisionTreeClassifier(random_state=3141592), n_jobs=-1,\n",
       "             param_grid={'criterion': ['gini', 'entropy'],\n",
       "                         'max_depth': array([ 6,  8, 10, 12]),\n",
       "                         'max_features': ['sqrt', 'log2'],\n",
       "                         'min_samples_leaf': array([ 5, 10, 15, 20]),\n",
       "                         'min_samples_split': array([ 5, 10, 15, 20]),\n",
       "                         'splitter': ['best', 'random']},\n",
       "             scoring='recall')"
      ]
     },
     "execution_count": 20,
     "metadata": {},
     "output_type": "execute_result"
    }
   ],
   "source": [
    "from sklearn.model_selection import GridSearchCV\n",
    "\n",
    "# Definindo grade de hiperparametros\n",
    "param_grid_dt = {\n",
    "    'criterion': ['gini', 'entropy'], # a função que vai decidir a qualidade de uma divisão\n",
    "    'max_depth': np.linspace(6, 12, 4, dtype=int), # profundidade da arvore\n",
    "    'min_samples_split': np.linspace(5, 20, 4, dtype=int), # quantidade minima de amostra para dividir um nó interno\n",
    "    'min_samples_leaf': np.linspace(5, 20, 4, dtype=int), # quantidade minima de amostra para estar em uma folha\n",
    "    'max_features': ['sqrt', 'log2'], # quantidade máxima de features que devem estar na divisão de um nó\n",
    "    'splitter': ['best', 'random'] # mede se a forma de divisão é a melhor ou aleatória.\n",
    "}\n",
    "\n",
    "# Cross Validation -> CV estratificado\n",
    "from sklearn.model_selection import StratifiedKFold\n",
    "cv = StratifiedKFold(n_splits=5, \n",
    "                     shuffle=True, # embarelhamento dos dados\n",
    "                     random_state=RANDOM_STATE)\n",
    "\n",
    "grid_search = GridSearchCV(\n",
    "    estimator = DecisionTreeClassifier(random_state=RANDOM_STATE), #classificador - modelo\n",
    "    param_grid = param_grid_dt,  \n",
    "    scoring='recall', # metrica que sera avaliada\n",
    "    n_jobs=-1, # quantidade de processadores para usar da maquina #-1 usa todos os disponiveis\n",
    "    refit=True, # retreinar com os melhores hiper parametros\n",
    "    cv=cv, # validação cruzada #\n",
    "    verbose=0, # mede a quantidade de informações que sera retornada # 0 é o padrão\n",
    "    pre_dispatch='2*n_jobs', #\n",
    "    #error_score=nan, #\n",
    "    return_train_score=False) # scores de treinamento\n",
    "\n",
    "# Treinando modelo\n",
    "grid_search.fit(x_treino, y_treino)"
   ]
  },
  {
   "cell_type": "code",
   "execution_count": 21,
   "id": "b5c42d34",
   "metadata": {},
   "outputs": [
    {
     "data": {
      "text/html": [
       "<div>\n",
       "<style scoped>\n",
       "    .dataframe tbody tr th:only-of-type {\n",
       "        vertical-align: middle;\n",
       "    }\n",
       "\n",
       "    .dataframe tbody tr th {\n",
       "        vertical-align: top;\n",
       "    }\n",
       "\n",
       "    .dataframe thead th {\n",
       "        text-align: right;\n",
       "    }\n",
       "</style>\n",
       "<table border=\"1\" class=\"dataframe\">\n",
       "  <thead>\n",
       "    <tr style=\"text-align: right;\">\n",
       "      <th></th>\n",
       "      <th>0</th>\n",
       "      <th>1</th>\n",
       "      <th>2</th>\n",
       "      <th>3</th>\n",
       "      <th>4</th>\n",
       "    </tr>\n",
       "  </thead>\n",
       "  <tbody>\n",
       "    <tr>\n",
       "      <th>mean_fit_time</th>\n",
       "      <td>0.003501</td>\n",
       "      <td>0.00163</td>\n",
       "      <td>0.002258</td>\n",
       "      <td>0.001502</td>\n",
       "      <td>0.001906</td>\n",
       "    </tr>\n",
       "    <tr>\n",
       "      <th>std_fit_time</th>\n",
       "      <td>0.000999</td>\n",
       "      <td>0.000516</td>\n",
       "      <td>0.000391</td>\n",
       "      <td>0.000451</td>\n",
       "      <td>0.000491</td>\n",
       "    </tr>\n",
       "    <tr>\n",
       "      <th>mean_score_time</th>\n",
       "      <td>0.002705</td>\n",
       "      <td>0.00233</td>\n",
       "      <td>0.001658</td>\n",
       "      <td>0.001103</td>\n",
       "      <td>0.001799</td>\n",
       "    </tr>\n",
       "    <tr>\n",
       "      <th>std_score_time</th>\n",
       "      <td>0.000675</td>\n",
       "      <td>0.000449</td>\n",
       "      <td>0.000546</td>\n",
       "      <td>0.000201</td>\n",
       "      <td>0.000979</td>\n",
       "    </tr>\n",
       "    <tr>\n",
       "      <th>param_criterion</th>\n",
       "      <td>gini</td>\n",
       "      <td>gini</td>\n",
       "      <td>gini</td>\n",
       "      <td>gini</td>\n",
       "      <td>gini</td>\n",
       "    </tr>\n",
       "    <tr>\n",
       "      <th>param_max_depth</th>\n",
       "      <td>6</td>\n",
       "      <td>6</td>\n",
       "      <td>6</td>\n",
       "      <td>6</td>\n",
       "      <td>6</td>\n",
       "    </tr>\n",
       "    <tr>\n",
       "      <th>param_max_features</th>\n",
       "      <td>sqrt</td>\n",
       "      <td>sqrt</td>\n",
       "      <td>sqrt</td>\n",
       "      <td>sqrt</td>\n",
       "      <td>sqrt</td>\n",
       "    </tr>\n",
       "    <tr>\n",
       "      <th>param_min_samples_leaf</th>\n",
       "      <td>5</td>\n",
       "      <td>5</td>\n",
       "      <td>5</td>\n",
       "      <td>5</td>\n",
       "      <td>5</td>\n",
       "    </tr>\n",
       "    <tr>\n",
       "      <th>param_min_samples_split</th>\n",
       "      <td>5</td>\n",
       "      <td>5</td>\n",
       "      <td>10</td>\n",
       "      <td>10</td>\n",
       "      <td>15</td>\n",
       "    </tr>\n",
       "    <tr>\n",
       "      <th>param_splitter</th>\n",
       "      <td>best</td>\n",
       "      <td>random</td>\n",
       "      <td>best</td>\n",
       "      <td>random</td>\n",
       "      <td>best</td>\n",
       "    </tr>\n",
       "    <tr>\n",
       "      <th>params</th>\n",
       "      <td>{'criterion': 'gini', 'max_depth': 6, 'max_fea...</td>\n",
       "      <td>{'criterion': 'gini', 'max_depth': 6, 'max_fea...</td>\n",
       "      <td>{'criterion': 'gini', 'max_depth': 6, 'max_fea...</td>\n",
       "      <td>{'criterion': 'gini', 'max_depth': 6, 'max_fea...</td>\n",
       "      <td>{'criterion': 'gini', 'max_depth': 6, 'max_fea...</td>\n",
       "    </tr>\n",
       "    <tr>\n",
       "      <th>split0_test_score</th>\n",
       "      <td>0.736842</td>\n",
       "      <td>0.894737</td>\n",
       "      <td>0.736842</td>\n",
       "      <td>0.894737</td>\n",
       "      <td>0.868421</td>\n",
       "    </tr>\n",
       "    <tr>\n",
       "      <th>split1_test_score</th>\n",
       "      <td>0.773333</td>\n",
       "      <td>0.8</td>\n",
       "      <td>0.773333</td>\n",
       "      <td>0.8</td>\n",
       "      <td>0.84</td>\n",
       "    </tr>\n",
       "    <tr>\n",
       "      <th>split2_test_score</th>\n",
       "      <td>0.84</td>\n",
       "      <td>0.826667</td>\n",
       "      <td>0.84</td>\n",
       "      <td>0.826667</td>\n",
       "      <td>0.746667</td>\n",
       "    </tr>\n",
       "    <tr>\n",
       "      <th>split3_test_score</th>\n",
       "      <td>0.693333</td>\n",
       "      <td>0.853333</td>\n",
       "      <td>0.693333</td>\n",
       "      <td>0.853333</td>\n",
       "      <td>0.733333</td>\n",
       "    </tr>\n",
       "    <tr>\n",
       "      <th>split4_test_score</th>\n",
       "      <td>0.8</td>\n",
       "      <td>0.693333</td>\n",
       "      <td>0.8</td>\n",
       "      <td>0.693333</td>\n",
       "      <td>0.84</td>\n",
       "    </tr>\n",
       "    <tr>\n",
       "      <th>mean_test_score</th>\n",
       "      <td>0.768702</td>\n",
       "      <td>0.813614</td>\n",
       "      <td>0.768702</td>\n",
       "      <td>0.813614</td>\n",
       "      <td>0.805684</td>\n",
       "    </tr>\n",
       "    <tr>\n",
       "      <th>std_test_score</th>\n",
       "      <td>0.050557</td>\n",
       "      <td>0.067796</td>\n",
       "      <td>0.050557</td>\n",
       "      <td>0.067796</td>\n",
       "      <td>0.054788</td>\n",
       "    </tr>\n",
       "    <tr>\n",
       "      <th>rank_test_score</th>\n",
       "      <td>229</td>\n",
       "      <td>73</td>\n",
       "      <td>229</td>\n",
       "      <td>73</td>\n",
       "      <td>125</td>\n",
       "    </tr>\n",
       "  </tbody>\n",
       "</table>\n",
       "</div>"
      ],
      "text/plain": [
       "                                                                         0  \\\n",
       "mean_fit_time                                                     0.003501   \n",
       "std_fit_time                                                      0.000999   \n",
       "mean_score_time                                                   0.002705   \n",
       "std_score_time                                                    0.000675   \n",
       "param_criterion                                                       gini   \n",
       "param_max_depth                                                          6   \n",
       "param_max_features                                                    sqrt   \n",
       "param_min_samples_leaf                                                   5   \n",
       "param_min_samples_split                                                  5   \n",
       "param_splitter                                                        best   \n",
       "params                   {'criterion': 'gini', 'max_depth': 6, 'max_fea...   \n",
       "split0_test_score                                                 0.736842   \n",
       "split1_test_score                                                 0.773333   \n",
       "split2_test_score                                                     0.84   \n",
       "split3_test_score                                                 0.693333   \n",
       "split4_test_score                                                      0.8   \n",
       "mean_test_score                                                   0.768702   \n",
       "std_test_score                                                    0.050557   \n",
       "rank_test_score                                                        229   \n",
       "\n",
       "                                                                         1  \\\n",
       "mean_fit_time                                                      0.00163   \n",
       "std_fit_time                                                      0.000516   \n",
       "mean_score_time                                                    0.00233   \n",
       "std_score_time                                                    0.000449   \n",
       "param_criterion                                                       gini   \n",
       "param_max_depth                                                          6   \n",
       "param_max_features                                                    sqrt   \n",
       "param_min_samples_leaf                                                   5   \n",
       "param_min_samples_split                                                  5   \n",
       "param_splitter                                                      random   \n",
       "params                   {'criterion': 'gini', 'max_depth': 6, 'max_fea...   \n",
       "split0_test_score                                                 0.894737   \n",
       "split1_test_score                                                      0.8   \n",
       "split2_test_score                                                 0.826667   \n",
       "split3_test_score                                                 0.853333   \n",
       "split4_test_score                                                 0.693333   \n",
       "mean_test_score                                                   0.813614   \n",
       "std_test_score                                                    0.067796   \n",
       "rank_test_score                                                         73   \n",
       "\n",
       "                                                                         2  \\\n",
       "mean_fit_time                                                     0.002258   \n",
       "std_fit_time                                                      0.000391   \n",
       "mean_score_time                                                   0.001658   \n",
       "std_score_time                                                    0.000546   \n",
       "param_criterion                                                       gini   \n",
       "param_max_depth                                                          6   \n",
       "param_max_features                                                    sqrt   \n",
       "param_min_samples_leaf                                                   5   \n",
       "param_min_samples_split                                                 10   \n",
       "param_splitter                                                        best   \n",
       "params                   {'criterion': 'gini', 'max_depth': 6, 'max_fea...   \n",
       "split0_test_score                                                 0.736842   \n",
       "split1_test_score                                                 0.773333   \n",
       "split2_test_score                                                     0.84   \n",
       "split3_test_score                                                 0.693333   \n",
       "split4_test_score                                                      0.8   \n",
       "mean_test_score                                                   0.768702   \n",
       "std_test_score                                                    0.050557   \n",
       "rank_test_score                                                        229   \n",
       "\n",
       "                                                                         3  \\\n",
       "mean_fit_time                                                     0.001502   \n",
       "std_fit_time                                                      0.000451   \n",
       "mean_score_time                                                   0.001103   \n",
       "std_score_time                                                    0.000201   \n",
       "param_criterion                                                       gini   \n",
       "param_max_depth                                                          6   \n",
       "param_max_features                                                    sqrt   \n",
       "param_min_samples_leaf                                                   5   \n",
       "param_min_samples_split                                                 10   \n",
       "param_splitter                                                      random   \n",
       "params                   {'criterion': 'gini', 'max_depth': 6, 'max_fea...   \n",
       "split0_test_score                                                 0.894737   \n",
       "split1_test_score                                                      0.8   \n",
       "split2_test_score                                                 0.826667   \n",
       "split3_test_score                                                 0.853333   \n",
       "split4_test_score                                                 0.693333   \n",
       "mean_test_score                                                   0.813614   \n",
       "std_test_score                                                    0.067796   \n",
       "rank_test_score                                                         73   \n",
       "\n",
       "                                                                         4  \n",
       "mean_fit_time                                                     0.001906  \n",
       "std_fit_time                                                      0.000491  \n",
       "mean_score_time                                                   0.001799  \n",
       "std_score_time                                                    0.000979  \n",
       "param_criterion                                                       gini  \n",
       "param_max_depth                                                          6  \n",
       "param_max_features                                                    sqrt  \n",
       "param_min_samples_leaf                                                   5  \n",
       "param_min_samples_split                                                 15  \n",
       "param_splitter                                                        best  \n",
       "params                   {'criterion': 'gini', 'max_depth': 6, 'max_fea...  \n",
       "split0_test_score                                                 0.868421  \n",
       "split1_test_score                                                     0.84  \n",
       "split2_test_score                                                 0.746667  \n",
       "split3_test_score                                                 0.733333  \n",
       "split4_test_score                                                     0.84  \n",
       "mean_test_score                                                   0.805684  \n",
       "std_test_score                                                    0.054788  \n",
       "rank_test_score                                                        125  "
      ]
     },
     "metadata": {},
     "output_type": "display_data"
    },
    {
     "data": {
      "text/html": [
       "<div>\n",
       "<style scoped>\n",
       "    .dataframe tbody tr th:only-of-type {\n",
       "        vertical-align: middle;\n",
       "    }\n",
       "\n",
       "    .dataframe tbody tr th {\n",
       "        vertical-align: top;\n",
       "    }\n",
       "\n",
       "    .dataframe thead th {\n",
       "        text-align: right;\n",
       "    }\n",
       "</style>\n",
       "<table border=\"1\" class=\"dataframe\">\n",
       "  <thead>\n",
       "    <tr style=\"text-align: right;\">\n",
       "      <th></th>\n",
       "      <th>71</th>\n",
       "    </tr>\n",
       "  </thead>\n",
       "  <tbody>\n",
       "    <tr>\n",
       "      <th>mean_fit_time</th>\n",
       "      <td>0.001903</td>\n",
       "    </tr>\n",
       "    <tr>\n",
       "      <th>std_fit_time</th>\n",
       "      <td>0.000663</td>\n",
       "    </tr>\n",
       "    <tr>\n",
       "      <th>mean_score_time</th>\n",
       "      <td>0.001702</td>\n",
       "    </tr>\n",
       "    <tr>\n",
       "      <th>std_score_time</th>\n",
       "      <td>0.0004</td>\n",
       "    </tr>\n",
       "    <tr>\n",
       "      <th>param_criterion</th>\n",
       "      <td>gini</td>\n",
       "    </tr>\n",
       "    <tr>\n",
       "      <th>param_max_depth</th>\n",
       "      <td>8</td>\n",
       "    </tr>\n",
       "    <tr>\n",
       "      <th>param_max_features</th>\n",
       "      <td>sqrt</td>\n",
       "    </tr>\n",
       "    <tr>\n",
       "      <th>param_min_samples_leaf</th>\n",
       "      <td>5</td>\n",
       "    </tr>\n",
       "    <tr>\n",
       "      <th>param_min_samples_split</th>\n",
       "      <td>20</td>\n",
       "    </tr>\n",
       "    <tr>\n",
       "      <th>param_splitter</th>\n",
       "      <td>random</td>\n",
       "    </tr>\n",
       "    <tr>\n",
       "      <th>params</th>\n",
       "      <td>{'criterion': 'gini', 'max_depth': 8, 'max_fea...</td>\n",
       "    </tr>\n",
       "    <tr>\n",
       "      <th>split0_test_score</th>\n",
       "      <td>0.907895</td>\n",
       "    </tr>\n",
       "    <tr>\n",
       "      <th>split1_test_score</th>\n",
       "      <td>0.84</td>\n",
       "    </tr>\n",
       "    <tr>\n",
       "      <th>split2_test_score</th>\n",
       "      <td>0.866667</td>\n",
       "    </tr>\n",
       "    <tr>\n",
       "      <th>split3_test_score</th>\n",
       "      <td>0.813333</td>\n",
       "    </tr>\n",
       "    <tr>\n",
       "      <th>split4_test_score</th>\n",
       "      <td>0.733333</td>\n",
       "    </tr>\n",
       "    <tr>\n",
       "      <th>mean_test_score</th>\n",
       "      <td>0.832246</td>\n",
       "    </tr>\n",
       "    <tr>\n",
       "      <th>std_test_score</th>\n",
       "      <td>0.058496</td>\n",
       "    </tr>\n",
       "    <tr>\n",
       "      <th>rank_test_score</th>\n",
       "      <td>1</td>\n",
       "    </tr>\n",
       "  </tbody>\n",
       "</table>\n",
       "</div>"
      ],
      "text/plain": [
       "                                                                        71\n",
       "mean_fit_time                                                     0.001903\n",
       "std_fit_time                                                      0.000663\n",
       "mean_score_time                                                   0.001702\n",
       "std_score_time                                                      0.0004\n",
       "param_criterion                                                       gini\n",
       "param_max_depth                                                          8\n",
       "param_max_features                                                    sqrt\n",
       "param_min_samples_leaf                                                   5\n",
       "param_min_samples_split                                                 20\n",
       "param_splitter                                                      random\n",
       "params                   {'criterion': 'gini', 'max_depth': 8, 'max_fea...\n",
       "split0_test_score                                                 0.907895\n",
       "split1_test_score                                                     0.84\n",
       "split2_test_score                                                 0.866667\n",
       "split3_test_score                                                 0.813333\n",
       "split4_test_score                                                 0.733333\n",
       "mean_test_score                                                   0.832246\n",
       "std_test_score                                                    0.058496\n",
       "rank_test_score                                                          1"
      ]
     },
     "metadata": {},
     "output_type": "display_data"
    }
   ],
   "source": [
    "cv_results = pd.DataFrame(grid_search.cv_results_)\n",
    "display(cv_results.head().T)\n",
    "###################################################\n",
    "# melhores hiper-parametros\n",
    "#display(grid_search.best_params_)\n",
    "\n",
    "#  melhor modelo\n",
    "display(cv_results.loc[[grid_search.best_index_]].T)"
   ]
  },
  {
   "cell_type": "code",
   "execution_count": 22,
   "id": "8496879c",
   "metadata": {},
   "outputs": [
    {
     "name": "stdout",
     "output_type": "stream",
     "text": [
      "P-value (Kruskal-Wallis): 0.97\n"
     ]
    },
    {
     "data": {
      "application/vnd.plotly.v1+json": {
       "config": {
        "plotlyServerURL": "https://plot.ly"
       },
       "data": [
        {
         "alignmentgroup": "True",
         "box": {
          "visible": true
         },
         "hovertemplate": "param_max_depth=%{x}<br>mean_test_score=%{y}<extra></extra>",
         "legendgroup": "6",
         "marker": {
          "color": "#636efa"
         },
         "name": "6",
         "offsetgroup": "6",
         "orientation": "v",
         "points": "all",
         "scalegroup": "True",
         "showlegend": true,
         "type": "violin",
         "x": [
          6,
          6,
          6,
          6,
          6,
          6,
          6,
          6,
          6,
          6,
          6,
          6,
          6,
          6,
          6,
          6,
          6,
          6,
          6,
          6,
          6,
          6,
          6,
          6,
          6,
          6,
          6,
          6,
          6,
          6,
          6,
          6,
          6,
          6,
          6,
          6,
          6,
          6,
          6,
          6,
          6,
          6,
          6,
          6,
          6,
          6,
          6,
          6,
          6,
          6,
          6,
          6,
          6,
          6,
          6,
          6,
          6,
          6,
          6,
          6,
          6,
          6,
          6,
          6,
          6,
          6,
          6,
          6,
          6,
          6,
          6,
          6,
          6,
          6,
          6,
          6,
          6,
          6,
          6,
          6,
          6,
          6,
          6,
          6,
          6,
          6,
          6,
          6,
          6,
          6,
          6,
          6,
          6,
          6,
          6,
          6,
          6,
          6,
          6,
          6,
          6,
          6,
          6,
          6,
          6,
          6,
          6,
          6,
          6,
          6,
          6,
          6,
          6,
          6,
          6,
          6,
          6,
          6,
          6,
          6,
          6,
          6,
          6,
          6,
          6,
          6,
          6,
          6
         ],
         "x0": " ",
         "xaxis": "x",
         "y": [
          0.768701754385965,
          0.8136140350877193,
          0.768701754385965,
          0.8136140350877193,
          0.8056842105263158,
          0.8189122807017544,
          0.7552982456140352,
          0.7871228070175439,
          0.7552280701754385,
          0.7951578947368422,
          0.7552280701754385,
          0.7951578947368422,
          0.7552280701754385,
          0.7951578947368422,
          0.7552280701754385,
          0.7951578947368422,
          0.7525263157894736,
          0.8297192982456141,
          0.7525263157894736,
          0.8297192982456141,
          0.7525263157894736,
          0.8297192982456141,
          0.7525263157894736,
          0.8297192982456141,
          0.7289122807017544,
          0.7603508771929823,
          0.7289122807017544,
          0.7603508771929823,
          0.7289122807017544,
          0.7603508771929823,
          0.7289122807017544,
          0.7603508771929823,
          0.768701754385965,
          0.8136140350877193,
          0.768701754385965,
          0.8136140350877193,
          0.8056842105263158,
          0.8189122807017544,
          0.7552982456140352,
          0.7871228070175439,
          0.7552280701754385,
          0.7951578947368422,
          0.7552280701754385,
          0.7951578947368422,
          0.7552280701754385,
          0.7951578947368422,
          0.7552280701754385,
          0.7951578947368422,
          0.7525263157894736,
          0.8297192982456141,
          0.7525263157894736,
          0.8297192982456141,
          0.7525263157894736,
          0.8297192982456141,
          0.7525263157894736,
          0.8297192982456141,
          0.7289122807017544,
          0.7603508771929823,
          0.7289122807017544,
          0.7603508771929823,
          0.7289122807017544,
          0.7603508771929823,
          0.7289122807017544,
          0.7603508771929823,
          0.7871929824561403,
          0.8136140350877193,
          0.7871929824561403,
          0.8136140350877193,
          0.8217192982456141,
          0.8136491228070175,
          0.789578947368421,
          0.7818245614035088,
          0.7391228070175438,
          0.782,
          0.7391228070175438,
          0.782,
          0.7391228070175438,
          0.782,
          0.7391228070175438,
          0.782,
          0.763157894736842,
          0.8060350877192983,
          0.763157894736842,
          0.8060350877192983,
          0.763157894736842,
          0.8060350877192983,
          0.763157894736842,
          0.8060350877192983,
          0.7316140350877193,
          0.7208771929824562,
          0.7316140350877193,
          0.7208771929824562,
          0.7316140350877193,
          0.7208771929824562,
          0.7316140350877193,
          0.7208771929824562,
          0.7871929824561403,
          0.8136140350877193,
          0.7871929824561403,
          0.8136140350877193,
          0.8217192982456141,
          0.8136491228070175,
          0.789578947368421,
          0.7818245614035088,
          0.7391228070175438,
          0.782,
          0.7391228070175438,
          0.782,
          0.7391228070175438,
          0.782,
          0.7391228070175438,
          0.782,
          0.763157894736842,
          0.8060350877192983,
          0.763157894736842,
          0.8060350877192983,
          0.763157894736842,
          0.8060350877192983,
          0.763157894736842,
          0.8060350877192983,
          0.7316140350877193,
          0.7208771929824562,
          0.7316140350877193,
          0.7208771929824562,
          0.7316140350877193,
          0.7208771929824562,
          0.7316140350877193,
          0.7208771929824562
         ],
         "y0": " ",
         "yaxis": "y"
        },
        {
         "alignmentgroup": "True",
         "box": {
          "visible": true
         },
         "hovertemplate": "param_max_depth=%{x}<br>mean_test_score=%{y}<extra></extra>",
         "legendgroup": "8",
         "marker": {
          "color": "#EF553B"
         },
         "name": "8",
         "offsetgroup": "8",
         "orientation": "v",
         "points": "all",
         "scalegroup": "True",
         "showlegend": true,
         "type": "violin",
         "x": [
          8,
          8,
          8,
          8,
          8,
          8,
          8,
          8,
          8,
          8,
          8,
          8,
          8,
          8,
          8,
          8,
          8,
          8,
          8,
          8,
          8,
          8,
          8,
          8,
          8,
          8,
          8,
          8,
          8,
          8,
          8,
          8,
          8,
          8,
          8,
          8,
          8,
          8,
          8,
          8,
          8,
          8,
          8,
          8,
          8,
          8,
          8,
          8,
          8,
          8,
          8,
          8,
          8,
          8,
          8,
          8,
          8,
          8,
          8,
          8,
          8,
          8,
          8,
          8,
          8,
          8,
          8,
          8,
          8,
          8,
          8,
          8,
          8,
          8,
          8,
          8,
          8,
          8,
          8,
          8,
          8,
          8,
          8,
          8,
          8,
          8,
          8,
          8,
          8,
          8,
          8,
          8,
          8,
          8,
          8,
          8,
          8,
          8,
          8,
          8,
          8,
          8,
          8,
          8,
          8,
          8,
          8,
          8,
          8,
          8,
          8,
          8,
          8,
          8,
          8,
          8,
          8,
          8,
          8,
          8,
          8,
          8,
          8,
          8,
          8,
          8,
          8,
          8
         ],
         "x0": " ",
         "xaxis": "x",
         "y": [
          0.8032280701754386,
          0.8295438596491229,
          0.8032280701754386,
          0.8295438596491229,
          0.771438596491228,
          0.7843859649122807,
          0.7686315789473684,
          0.8322456140350877,
          0.7365964912280701,
          0.8295438596491229,
          0.7365964912280701,
          0.8295438596491229,
          0.7365964912280701,
          0.8295438596491229,
          0.7365964912280701,
          0.8295438596491229,
          0.7631929824561403,
          0.8004561403508772,
          0.7631929824561403,
          0.8004561403508772,
          0.7631929824561403,
          0.8004561403508772,
          0.7631929824561403,
          0.8004561403508772,
          0.7289122807017544,
          0.7469824561403509,
          0.7289122807017544,
          0.7469824561403509,
          0.7289122807017544,
          0.7469824561403509,
          0.7289122807017544,
          0.7469824561403509,
          0.8032280701754386,
          0.8295438596491229,
          0.8032280701754386,
          0.8295438596491229,
          0.771438596491228,
          0.7843859649122807,
          0.7686315789473684,
          0.8322456140350877,
          0.7365964912280701,
          0.8295438596491229,
          0.7365964912280701,
          0.8295438596491229,
          0.7365964912280701,
          0.8295438596491229,
          0.7365964912280701,
          0.8295438596491229,
          0.7631929824561403,
          0.8004561403508772,
          0.7631929824561403,
          0.8004561403508772,
          0.7631929824561403,
          0.8004561403508772,
          0.7631929824561403,
          0.8004561403508772,
          0.7289122807017544,
          0.7469824561403509,
          0.7289122807017544,
          0.7469824561403509,
          0.7289122807017544,
          0.7469824561403509,
          0.7289122807017544,
          0.7469824561403509,
          0.7710526315789474,
          0.8084912280701755,
          0.7710526315789474,
          0.8084912280701755,
          0.7657894736842106,
          0.8030526315789472,
          0.7472631578947369,
          0.8242456140350877,
          0.7470877192982457,
          0.8322105263157894,
          0.7470877192982457,
          0.8322105263157894,
          0.7470877192982457,
          0.8322105263157894,
          0.7470877192982457,
          0.8322105263157894,
          0.7501052631578948,
          0.7767719298245614,
          0.7501052631578948,
          0.7767719298245614,
          0.7501052631578948,
          0.7767719298245614,
          0.7501052631578948,
          0.7767719298245614,
          0.7422456140350877,
          0.7368771929824561,
          0.7422456140350877,
          0.7368771929824561,
          0.7422456140350877,
          0.7368771929824561,
          0.7422456140350877,
          0.7368771929824561,
          0.7710526315789474,
          0.8084912280701755,
          0.7710526315789474,
          0.8084912280701755,
          0.7657894736842106,
          0.8030526315789472,
          0.7472631578947369,
          0.8242456140350877,
          0.7470877192982457,
          0.8322105263157894,
          0.7470877192982457,
          0.8322105263157894,
          0.7470877192982457,
          0.8322105263157894,
          0.7470877192982457,
          0.8322105263157894,
          0.7501052631578948,
          0.7767719298245614,
          0.7501052631578948,
          0.7767719298245614,
          0.7501052631578948,
          0.7767719298245614,
          0.7501052631578948,
          0.7767719298245614,
          0.7422456140350877,
          0.7368771929824561,
          0.7422456140350877,
          0.7368771929824561,
          0.7422456140350877,
          0.7368771929824561,
          0.7422456140350877,
          0.7368771929824561
         ],
         "y0": " ",
         "yaxis": "y"
        },
        {
         "alignmentgroup": "True",
         "box": {
          "visible": true
         },
         "hovertemplate": "param_max_depth=%{x}<br>mean_test_score=%{y}<extra></extra>",
         "legendgroup": "10",
         "marker": {
          "color": "#00cc96"
         },
         "name": "10",
         "offsetgroup": "10",
         "orientation": "v",
         "points": "all",
         "scalegroup": "True",
         "showlegend": true,
         "type": "violin",
         "x": [
          10,
          10,
          10,
          10,
          10,
          10,
          10,
          10,
          10,
          10,
          10,
          10,
          10,
          10,
          10,
          10,
          10,
          10,
          10,
          10,
          10,
          10,
          10,
          10,
          10,
          10,
          10,
          10,
          10,
          10,
          10,
          10,
          10,
          10,
          10,
          10,
          10,
          10,
          10,
          10,
          10,
          10,
          10,
          10,
          10,
          10,
          10,
          10,
          10,
          10,
          10,
          10,
          10,
          10,
          10,
          10,
          10,
          10,
          10,
          10,
          10,
          10,
          10,
          10,
          10,
          10,
          10,
          10,
          10,
          10,
          10,
          10,
          10,
          10,
          10,
          10,
          10,
          10,
          10,
          10,
          10,
          10,
          10,
          10,
          10,
          10,
          10,
          10,
          10,
          10,
          10,
          10,
          10,
          10,
          10,
          10,
          10,
          10,
          10,
          10,
          10,
          10,
          10,
          10,
          10,
          10,
          10,
          10,
          10,
          10,
          10,
          10,
          10,
          10,
          10,
          10,
          10,
          10,
          10,
          10,
          10,
          10,
          10,
          10,
          10,
          10,
          10,
          10
         ],
         "x0": " ",
         "xaxis": "x",
         "y": [
          0.784561403508772,
          0.8058245614035087,
          0.784561403508772,
          0.8058245614035087,
          0.7447719298245614,
          0.8084210526315789,
          0.747298245614035,
          0.8269824561403508,
          0.7365964912280701,
          0.8057192982456141,
          0.7365964912280701,
          0.8057192982456141,
          0.7365964912280701,
          0.8057192982456141,
          0.7365964912280701,
          0.8057192982456141,
          0.7631929824561403,
          0.7924561403508772,
          0.7631929824561403,
          0.7924561403508772,
          0.7631929824561403,
          0.7924561403508772,
          0.7631929824561403,
          0.7924561403508772,
          0.7289122807017544,
          0.7469824561403509,
          0.7289122807017544,
          0.7469824561403509,
          0.7289122807017544,
          0.7469824561403509,
          0.7289122807017544,
          0.7469824561403509,
          0.784561403508772,
          0.8058245614035087,
          0.784561403508772,
          0.8058245614035087,
          0.7447719298245614,
          0.8084210526315789,
          0.747298245614035,
          0.8269824561403508,
          0.7365964912280701,
          0.8057192982456141,
          0.7365964912280701,
          0.8057192982456141,
          0.7365964912280701,
          0.8057192982456141,
          0.7365964912280701,
          0.8057192982456141,
          0.7631929824561403,
          0.7924561403508772,
          0.7631929824561403,
          0.7924561403508772,
          0.7631929824561403,
          0.7924561403508772,
          0.7631929824561403,
          0.7924561403508772,
          0.7289122807017544,
          0.7469824561403509,
          0.7289122807017544,
          0.7469824561403509,
          0.7289122807017544,
          0.7469824561403509,
          0.7289122807017544,
          0.7469824561403509,
          0.7766666666666667,
          0.8271578947368422,
          0.7766666666666667,
          0.8271578947368422,
          0.7578245614035086,
          0.8030526315789475,
          0.8137894736842105,
          0.8189473684210526,
          0.7684210526315789,
          0.8215789473684211,
          0.7684210526315789,
          0.8215789473684211,
          0.7684210526315789,
          0.8215789473684211,
          0.7684210526315789,
          0.8215789473684211,
          0.7501052631578948,
          0.7687719298245614,
          0.7501052631578948,
          0.7687719298245614,
          0.7501052631578948,
          0.7687719298245614,
          0.7501052631578948,
          0.7687719298245614,
          0.7422456140350877,
          0.7368771929824561,
          0.7422456140350877,
          0.7368771929824561,
          0.7422456140350877,
          0.7368771929824561,
          0.7422456140350877,
          0.7368771929824561,
          0.7766666666666667,
          0.8271578947368422,
          0.7766666666666667,
          0.8271578947368422,
          0.7578245614035086,
          0.8030526315789475,
          0.8137894736842105,
          0.8189473684210526,
          0.7684210526315789,
          0.8215789473684211,
          0.7684210526315789,
          0.8215789473684211,
          0.7684210526315789,
          0.8215789473684211,
          0.7684210526315789,
          0.8215789473684211,
          0.7501052631578948,
          0.7687719298245614,
          0.7501052631578948,
          0.7687719298245614,
          0.7501052631578948,
          0.7687719298245614,
          0.7501052631578948,
          0.7687719298245614,
          0.7422456140350877,
          0.7368771929824561,
          0.7422456140350877,
          0.7368771929824561,
          0.7422456140350877,
          0.7368771929824561,
          0.7422456140350877,
          0.7368771929824561
         ],
         "y0": " ",
         "yaxis": "y"
        },
        {
         "alignmentgroup": "True",
         "box": {
          "visible": true
         },
         "hovertemplate": "param_max_depth=%{x}<br>mean_test_score=%{y}<extra></extra>",
         "legendgroup": "12",
         "marker": {
          "color": "#ab63fa"
         },
         "name": "12",
         "offsetgroup": "12",
         "orientation": "v",
         "points": "all",
         "scalegroup": "True",
         "showlegend": true,
         "type": "violin",
         "x": [
          12,
          12,
          12,
          12,
          12,
          12,
          12,
          12,
          12,
          12,
          12,
          12,
          12,
          12,
          12,
          12,
          12,
          12,
          12,
          12,
          12,
          12,
          12,
          12,
          12,
          12,
          12,
          12,
          12,
          12,
          12,
          12,
          12,
          12,
          12,
          12,
          12,
          12,
          12,
          12,
          12,
          12,
          12,
          12,
          12,
          12,
          12,
          12,
          12,
          12,
          12,
          12,
          12,
          12,
          12,
          12,
          12,
          12,
          12,
          12,
          12,
          12,
          12,
          12,
          12,
          12,
          12,
          12,
          12,
          12,
          12,
          12,
          12,
          12,
          12,
          12,
          12,
          12,
          12,
          12,
          12,
          12,
          12,
          12,
          12,
          12,
          12,
          12,
          12,
          12,
          12,
          12,
          12,
          12,
          12,
          12,
          12,
          12,
          12,
          12,
          12,
          12,
          12,
          12,
          12,
          12,
          12,
          12,
          12,
          12,
          12,
          12,
          12,
          12,
          12,
          12,
          12,
          12,
          12,
          12,
          12,
          12,
          12,
          12,
          12,
          12,
          12,
          12
         ],
         "x0": " ",
         "xaxis": "x",
         "y": [
          0.784561403508772,
          0.8084561403508772,
          0.784561403508772,
          0.8084561403508772,
          0.7447719298245614,
          0.8084210526315789,
          0.747298245614035,
          0.8269824561403508,
          0.7365964912280701,
          0.8057192982456141,
          0.7365964912280701,
          0.8057192982456141,
          0.7365964912280701,
          0.8057192982456141,
          0.7365964912280701,
          0.8057192982456141,
          0.7631929824561403,
          0.7924561403508772,
          0.7631929824561403,
          0.7924561403508772,
          0.7631929824561403,
          0.7924561403508772,
          0.7631929824561403,
          0.7924561403508772,
          0.7289122807017544,
          0.7469824561403509,
          0.7289122807017544,
          0.7469824561403509,
          0.7289122807017544,
          0.7469824561403509,
          0.7289122807017544,
          0.7469824561403509,
          0.784561403508772,
          0.8084561403508772,
          0.784561403508772,
          0.8084561403508772,
          0.7447719298245614,
          0.8084210526315789,
          0.747298245614035,
          0.8269824561403508,
          0.7365964912280701,
          0.8057192982456141,
          0.7365964912280701,
          0.8057192982456141,
          0.7365964912280701,
          0.8057192982456141,
          0.7365964912280701,
          0.8057192982456141,
          0.7631929824561403,
          0.7924561403508772,
          0.7631929824561403,
          0.7924561403508772,
          0.7631929824561403,
          0.7924561403508772,
          0.7631929824561403,
          0.7924561403508772,
          0.7289122807017544,
          0.7469824561403509,
          0.7289122807017544,
          0.7469824561403509,
          0.7289122807017544,
          0.7469824561403509,
          0.7289122807017544,
          0.7469824561403509,
          0.7633333333333333,
          0.8111228070175439,
          0.7633333333333333,
          0.8111228070175439,
          0.7631578947368419,
          0.8164210526315789,
          0.8137894736842105,
          0.8189473684210526,
          0.7684210526315789,
          0.8215789473684211,
          0.7684210526315789,
          0.8215789473684211,
          0.7684210526315789,
          0.8215789473684211,
          0.7684210526315789,
          0.8215789473684211,
          0.7501052631578948,
          0.7687719298245614,
          0.7501052631578948,
          0.7687719298245614,
          0.7501052631578948,
          0.7687719298245614,
          0.7501052631578948,
          0.7687719298245614,
          0.7422456140350877,
          0.7368771929824561,
          0.7422456140350877,
          0.7368771929824561,
          0.7422456140350877,
          0.7368771929824561,
          0.7422456140350877,
          0.7368771929824561,
          0.7633333333333333,
          0.8111228070175439,
          0.7633333333333333,
          0.8111228070175439,
          0.7631578947368419,
          0.8164210526315789,
          0.8137894736842105,
          0.8189473684210526,
          0.7684210526315789,
          0.8215789473684211,
          0.7684210526315789,
          0.8215789473684211,
          0.7684210526315789,
          0.8215789473684211,
          0.7684210526315789,
          0.8215789473684211,
          0.7501052631578948,
          0.7687719298245614,
          0.7501052631578948,
          0.7687719298245614,
          0.7501052631578948,
          0.7687719298245614,
          0.7501052631578948,
          0.7687719298245614,
          0.7422456140350877,
          0.7368771929824561,
          0.7422456140350877,
          0.7368771929824561,
          0.7422456140350877,
          0.7368771929824561,
          0.7422456140350877,
          0.7368771929824561
         ],
         "y0": " ",
         "yaxis": "y"
        }
       ],
       "layout": {
        "legend": {
         "title": {
          "text": "param_max_depth"
         },
         "tracegroupgap": 0
        },
        "margin": {
         "t": 60
        },
        "template": {
         "data": {
          "bar": [
           {
            "error_x": {
             "color": "#2a3f5f"
            },
            "error_y": {
             "color": "#2a3f5f"
            },
            "marker": {
             "line": {
              "color": "#E5ECF6",
              "width": 0.5
             },
             "pattern": {
              "fillmode": "overlay",
              "size": 10,
              "solidity": 0.2
             }
            },
            "type": "bar"
           }
          ],
          "barpolar": [
           {
            "marker": {
             "line": {
              "color": "#E5ECF6",
              "width": 0.5
             },
             "pattern": {
              "fillmode": "overlay",
              "size": 10,
              "solidity": 0.2
             }
            },
            "type": "barpolar"
           }
          ],
          "carpet": [
           {
            "aaxis": {
             "endlinecolor": "#2a3f5f",
             "gridcolor": "white",
             "linecolor": "white",
             "minorgridcolor": "white",
             "startlinecolor": "#2a3f5f"
            },
            "baxis": {
             "endlinecolor": "#2a3f5f",
             "gridcolor": "white",
             "linecolor": "white",
             "minorgridcolor": "white",
             "startlinecolor": "#2a3f5f"
            },
            "type": "carpet"
           }
          ],
          "choropleth": [
           {
            "colorbar": {
             "outlinewidth": 0,
             "ticks": ""
            },
            "type": "choropleth"
           }
          ],
          "contour": [
           {
            "colorbar": {
             "outlinewidth": 0,
             "ticks": ""
            },
            "colorscale": [
             [
              0,
              "#0d0887"
             ],
             [
              0.1111111111111111,
              "#46039f"
             ],
             [
              0.2222222222222222,
              "#7201a8"
             ],
             [
              0.3333333333333333,
              "#9c179e"
             ],
             [
              0.4444444444444444,
              "#bd3786"
             ],
             [
              0.5555555555555556,
              "#d8576b"
             ],
             [
              0.6666666666666666,
              "#ed7953"
             ],
             [
              0.7777777777777778,
              "#fb9f3a"
             ],
             [
              0.8888888888888888,
              "#fdca26"
             ],
             [
              1,
              "#f0f921"
             ]
            ],
            "type": "contour"
           }
          ],
          "contourcarpet": [
           {
            "colorbar": {
             "outlinewidth": 0,
             "ticks": ""
            },
            "type": "contourcarpet"
           }
          ],
          "heatmap": [
           {
            "colorbar": {
             "outlinewidth": 0,
             "ticks": ""
            },
            "colorscale": [
             [
              0,
              "#0d0887"
             ],
             [
              0.1111111111111111,
              "#46039f"
             ],
             [
              0.2222222222222222,
              "#7201a8"
             ],
             [
              0.3333333333333333,
              "#9c179e"
             ],
             [
              0.4444444444444444,
              "#bd3786"
             ],
             [
              0.5555555555555556,
              "#d8576b"
             ],
             [
              0.6666666666666666,
              "#ed7953"
             ],
             [
              0.7777777777777778,
              "#fb9f3a"
             ],
             [
              0.8888888888888888,
              "#fdca26"
             ],
             [
              1,
              "#f0f921"
             ]
            ],
            "type": "heatmap"
           }
          ],
          "heatmapgl": [
           {
            "colorbar": {
             "outlinewidth": 0,
             "ticks": ""
            },
            "colorscale": [
             [
              0,
              "#0d0887"
             ],
             [
              0.1111111111111111,
              "#46039f"
             ],
             [
              0.2222222222222222,
              "#7201a8"
             ],
             [
              0.3333333333333333,
              "#9c179e"
             ],
             [
              0.4444444444444444,
              "#bd3786"
             ],
             [
              0.5555555555555556,
              "#d8576b"
             ],
             [
              0.6666666666666666,
              "#ed7953"
             ],
             [
              0.7777777777777778,
              "#fb9f3a"
             ],
             [
              0.8888888888888888,
              "#fdca26"
             ],
             [
              1,
              "#f0f921"
             ]
            ],
            "type": "heatmapgl"
           }
          ],
          "histogram": [
           {
            "marker": {
             "pattern": {
              "fillmode": "overlay",
              "size": 10,
              "solidity": 0.2
             }
            },
            "type": "histogram"
           }
          ],
          "histogram2d": [
           {
            "colorbar": {
             "outlinewidth": 0,
             "ticks": ""
            },
            "colorscale": [
             [
              0,
              "#0d0887"
             ],
             [
              0.1111111111111111,
              "#46039f"
             ],
             [
              0.2222222222222222,
              "#7201a8"
             ],
             [
              0.3333333333333333,
              "#9c179e"
             ],
             [
              0.4444444444444444,
              "#bd3786"
             ],
             [
              0.5555555555555556,
              "#d8576b"
             ],
             [
              0.6666666666666666,
              "#ed7953"
             ],
             [
              0.7777777777777778,
              "#fb9f3a"
             ],
             [
              0.8888888888888888,
              "#fdca26"
             ],
             [
              1,
              "#f0f921"
             ]
            ],
            "type": "histogram2d"
           }
          ],
          "histogram2dcontour": [
           {
            "colorbar": {
             "outlinewidth": 0,
             "ticks": ""
            },
            "colorscale": [
             [
              0,
              "#0d0887"
             ],
             [
              0.1111111111111111,
              "#46039f"
             ],
             [
              0.2222222222222222,
              "#7201a8"
             ],
             [
              0.3333333333333333,
              "#9c179e"
             ],
             [
              0.4444444444444444,
              "#bd3786"
             ],
             [
              0.5555555555555556,
              "#d8576b"
             ],
             [
              0.6666666666666666,
              "#ed7953"
             ],
             [
              0.7777777777777778,
              "#fb9f3a"
             ],
             [
              0.8888888888888888,
              "#fdca26"
             ],
             [
              1,
              "#f0f921"
             ]
            ],
            "type": "histogram2dcontour"
           }
          ],
          "mesh3d": [
           {
            "colorbar": {
             "outlinewidth": 0,
             "ticks": ""
            },
            "type": "mesh3d"
           }
          ],
          "parcoords": [
           {
            "line": {
             "colorbar": {
              "outlinewidth": 0,
              "ticks": ""
             }
            },
            "type": "parcoords"
           }
          ],
          "pie": [
           {
            "automargin": true,
            "type": "pie"
           }
          ],
          "scatter": [
           {
            "fillpattern": {
             "fillmode": "overlay",
             "size": 10,
             "solidity": 0.2
            },
            "type": "scatter"
           }
          ],
          "scatter3d": [
           {
            "line": {
             "colorbar": {
              "outlinewidth": 0,
              "ticks": ""
             }
            },
            "marker": {
             "colorbar": {
              "outlinewidth": 0,
              "ticks": ""
             }
            },
            "type": "scatter3d"
           }
          ],
          "scattercarpet": [
           {
            "marker": {
             "colorbar": {
              "outlinewidth": 0,
              "ticks": ""
             }
            },
            "type": "scattercarpet"
           }
          ],
          "scattergeo": [
           {
            "marker": {
             "colorbar": {
              "outlinewidth": 0,
              "ticks": ""
             }
            },
            "type": "scattergeo"
           }
          ],
          "scattergl": [
           {
            "marker": {
             "colorbar": {
              "outlinewidth": 0,
              "ticks": ""
             }
            },
            "type": "scattergl"
           }
          ],
          "scattermapbox": [
           {
            "marker": {
             "colorbar": {
              "outlinewidth": 0,
              "ticks": ""
             }
            },
            "type": "scattermapbox"
           }
          ],
          "scatterpolar": [
           {
            "marker": {
             "colorbar": {
              "outlinewidth": 0,
              "ticks": ""
             }
            },
            "type": "scatterpolar"
           }
          ],
          "scatterpolargl": [
           {
            "marker": {
             "colorbar": {
              "outlinewidth": 0,
              "ticks": ""
             }
            },
            "type": "scatterpolargl"
           }
          ],
          "scatterternary": [
           {
            "marker": {
             "colorbar": {
              "outlinewidth": 0,
              "ticks": ""
             }
            },
            "type": "scatterternary"
           }
          ],
          "surface": [
           {
            "colorbar": {
             "outlinewidth": 0,
             "ticks": ""
            },
            "colorscale": [
             [
              0,
              "#0d0887"
             ],
             [
              0.1111111111111111,
              "#46039f"
             ],
             [
              0.2222222222222222,
              "#7201a8"
             ],
             [
              0.3333333333333333,
              "#9c179e"
             ],
             [
              0.4444444444444444,
              "#bd3786"
             ],
             [
              0.5555555555555556,
              "#d8576b"
             ],
             [
              0.6666666666666666,
              "#ed7953"
             ],
             [
              0.7777777777777778,
              "#fb9f3a"
             ],
             [
              0.8888888888888888,
              "#fdca26"
             ],
             [
              1,
              "#f0f921"
             ]
            ],
            "type": "surface"
           }
          ],
          "table": [
           {
            "cells": {
             "fill": {
              "color": "#EBF0F8"
             },
             "line": {
              "color": "white"
             }
            },
            "header": {
             "fill": {
              "color": "#C8D4E3"
             },
             "line": {
              "color": "white"
             }
            },
            "type": "table"
           }
          ]
         },
         "layout": {
          "annotationdefaults": {
           "arrowcolor": "#2a3f5f",
           "arrowhead": 0,
           "arrowwidth": 1
          },
          "autotypenumbers": "strict",
          "coloraxis": {
           "colorbar": {
            "outlinewidth": 0,
            "ticks": ""
           }
          },
          "colorscale": {
           "diverging": [
            [
             0,
             "#8e0152"
            ],
            [
             0.1,
             "#c51b7d"
            ],
            [
             0.2,
             "#de77ae"
            ],
            [
             0.3,
             "#f1b6da"
            ],
            [
             0.4,
             "#fde0ef"
            ],
            [
             0.5,
             "#f7f7f7"
            ],
            [
             0.6,
             "#e6f5d0"
            ],
            [
             0.7,
             "#b8e186"
            ],
            [
             0.8,
             "#7fbc41"
            ],
            [
             0.9,
             "#4d9221"
            ],
            [
             1,
             "#276419"
            ]
           ],
           "sequential": [
            [
             0,
             "#0d0887"
            ],
            [
             0.1111111111111111,
             "#46039f"
            ],
            [
             0.2222222222222222,
             "#7201a8"
            ],
            [
             0.3333333333333333,
             "#9c179e"
            ],
            [
             0.4444444444444444,
             "#bd3786"
            ],
            [
             0.5555555555555556,
             "#d8576b"
            ],
            [
             0.6666666666666666,
             "#ed7953"
            ],
            [
             0.7777777777777778,
             "#fb9f3a"
            ],
            [
             0.8888888888888888,
             "#fdca26"
            ],
            [
             1,
             "#f0f921"
            ]
           ],
           "sequentialminus": [
            [
             0,
             "#0d0887"
            ],
            [
             0.1111111111111111,
             "#46039f"
            ],
            [
             0.2222222222222222,
             "#7201a8"
            ],
            [
             0.3333333333333333,
             "#9c179e"
            ],
            [
             0.4444444444444444,
             "#bd3786"
            ],
            [
             0.5555555555555556,
             "#d8576b"
            ],
            [
             0.6666666666666666,
             "#ed7953"
            ],
            [
             0.7777777777777778,
             "#fb9f3a"
            ],
            [
             0.8888888888888888,
             "#fdca26"
            ],
            [
             1,
             "#f0f921"
            ]
           ]
          },
          "colorway": [
           "#636efa",
           "#EF553B",
           "#00cc96",
           "#ab63fa",
           "#FFA15A",
           "#19d3f3",
           "#FF6692",
           "#B6E880",
           "#FF97FF",
           "#FECB52"
          ],
          "font": {
           "color": "#2a3f5f"
          },
          "geo": {
           "bgcolor": "white",
           "lakecolor": "white",
           "landcolor": "#E5ECF6",
           "showlakes": true,
           "showland": true,
           "subunitcolor": "white"
          },
          "hoverlabel": {
           "align": "left"
          },
          "hovermode": "closest",
          "mapbox": {
           "style": "light"
          },
          "paper_bgcolor": "white",
          "plot_bgcolor": "#E5ECF6",
          "polar": {
           "angularaxis": {
            "gridcolor": "white",
            "linecolor": "white",
            "ticks": ""
           },
           "bgcolor": "#E5ECF6",
           "radialaxis": {
            "gridcolor": "white",
            "linecolor": "white",
            "ticks": ""
           }
          },
          "scene": {
           "xaxis": {
            "backgroundcolor": "#E5ECF6",
            "gridcolor": "white",
            "gridwidth": 2,
            "linecolor": "white",
            "showbackground": true,
            "ticks": "",
            "zerolinecolor": "white"
           },
           "yaxis": {
            "backgroundcolor": "#E5ECF6",
            "gridcolor": "white",
            "gridwidth": 2,
            "linecolor": "white",
            "showbackground": true,
            "ticks": "",
            "zerolinecolor": "white"
           },
           "zaxis": {
            "backgroundcolor": "#E5ECF6",
            "gridcolor": "white",
            "gridwidth": 2,
            "linecolor": "white",
            "showbackground": true,
            "ticks": "",
            "zerolinecolor": "white"
           }
          },
          "shapedefaults": {
           "line": {
            "color": "#2a3f5f"
           }
          },
          "ternary": {
           "aaxis": {
            "gridcolor": "white",
            "linecolor": "white",
            "ticks": ""
           },
           "baxis": {
            "gridcolor": "white",
            "linecolor": "white",
            "ticks": ""
           },
           "bgcolor": "#E5ECF6",
           "caxis": {
            "gridcolor": "white",
            "linecolor": "white",
            "ticks": ""
           }
          },
          "title": {
           "x": 0.05
          },
          "xaxis": {
           "automargin": true,
           "gridcolor": "white",
           "linecolor": "white",
           "ticks": "",
           "title": {
            "standoff": 15
           },
           "zerolinecolor": "white",
           "zerolinewidth": 2
          },
          "yaxis": {
           "automargin": true,
           "gridcolor": "white",
           "linecolor": "white",
           "ticks": "",
           "title": {
            "standoff": 15
           },
           "zerolinecolor": "white",
           "zerolinewidth": 2
          }
         }
        },
        "violinmode": "overlay",
        "xaxis": {
         "anchor": "y",
         "categoryarray": [
          6,
          8,
          10,
          12
         ],
         "categoryorder": "array",
         "domain": [
          0,
          1
         ],
         "title": {
          "text": "param_max_depth"
         }
        },
        "yaxis": {
         "anchor": "x",
         "domain": [
          0,
          1
         ],
         "title": {
          "text": "mean_test_score"
         }
        }
       }
      }
     },
     "metadata": {},
     "output_type": "display_data"
    }
   ],
   "source": [
    "num_cat_hip(cv_results, 'param_max_depth', 'mean_test_score')"
   ]
  },
  {
   "cell_type": "code",
   "execution_count": 23,
   "id": "778979f0",
   "metadata": {},
   "outputs": [
    {
     "name": "stdout",
     "output_type": "stream",
     "text": [
      "P-value (Kruskal-Wallis): < 0.001\n",
      "P-value (Pós-Teste de Dunn):\n",
      "          5       10       15       20\n",
      "5      1.00  < 0.001  < 0.001  < 0.001\n",
      "10  < 0.001     1.00     1.00  < 0.001\n",
      "15  < 0.001     1.00     1.00  < 0.001\n",
      "20  < 0.001  < 0.001  < 0.001     1.00\n"
     ]
    },
    {
     "data": {
      "text/plain": [
       "None"
      ]
     },
     "metadata": {},
     "output_type": "display_data"
    },
    {
     "data": {
      "application/vnd.plotly.v1+json": {
       "config": {
        "plotlyServerURL": "https://plot.ly"
       },
       "data": [
        {
         "alignmentgroup": "True",
         "box": {
          "visible": true
         },
         "hovertemplate": "param_min_samples_leaf=%{x}<br>mean_test_score=%{y}<extra></extra>",
         "legendgroup": "5",
         "marker": {
          "color": "#636efa"
         },
         "name": "5",
         "offsetgroup": "5",
         "orientation": "v",
         "points": "all",
         "scalegroup": "True",
         "showlegend": true,
         "type": "violin",
         "x": [
          5,
          5,
          5,
          5,
          5,
          5,
          5,
          5,
          5,
          5,
          5,
          5,
          5,
          5,
          5,
          5,
          5,
          5,
          5,
          5,
          5,
          5,
          5,
          5,
          5,
          5,
          5,
          5,
          5,
          5,
          5,
          5,
          5,
          5,
          5,
          5,
          5,
          5,
          5,
          5,
          5,
          5,
          5,
          5,
          5,
          5,
          5,
          5,
          5,
          5,
          5,
          5,
          5,
          5,
          5,
          5,
          5,
          5,
          5,
          5,
          5,
          5,
          5,
          5,
          5,
          5,
          5,
          5,
          5,
          5,
          5,
          5,
          5,
          5,
          5,
          5,
          5,
          5,
          5,
          5,
          5,
          5,
          5,
          5,
          5,
          5,
          5,
          5,
          5,
          5,
          5,
          5,
          5,
          5,
          5,
          5,
          5,
          5,
          5,
          5,
          5,
          5,
          5,
          5,
          5,
          5,
          5,
          5,
          5,
          5,
          5,
          5,
          5,
          5,
          5,
          5,
          5,
          5,
          5,
          5,
          5,
          5,
          5,
          5,
          5,
          5,
          5,
          5
         ],
         "x0": " ",
         "xaxis": "x",
         "y": [
          0.768701754385965,
          0.8136140350877193,
          0.768701754385965,
          0.8136140350877193,
          0.8056842105263158,
          0.8189122807017544,
          0.7552982456140352,
          0.7871228070175439,
          0.768701754385965,
          0.8136140350877193,
          0.768701754385965,
          0.8136140350877193,
          0.8056842105263158,
          0.8189122807017544,
          0.7552982456140352,
          0.7871228070175439,
          0.8032280701754386,
          0.8295438596491229,
          0.8032280701754386,
          0.8295438596491229,
          0.771438596491228,
          0.7843859649122807,
          0.7686315789473684,
          0.8322456140350877,
          0.8032280701754386,
          0.8295438596491229,
          0.8032280701754386,
          0.8295438596491229,
          0.771438596491228,
          0.7843859649122807,
          0.7686315789473684,
          0.8322456140350877,
          0.784561403508772,
          0.8058245614035087,
          0.784561403508772,
          0.8058245614035087,
          0.7447719298245614,
          0.8084210526315789,
          0.747298245614035,
          0.8269824561403508,
          0.784561403508772,
          0.8058245614035087,
          0.784561403508772,
          0.8058245614035087,
          0.7447719298245614,
          0.8084210526315789,
          0.747298245614035,
          0.8269824561403508,
          0.784561403508772,
          0.8084561403508772,
          0.784561403508772,
          0.8084561403508772,
          0.7447719298245614,
          0.8084210526315789,
          0.747298245614035,
          0.8269824561403508,
          0.784561403508772,
          0.8084561403508772,
          0.784561403508772,
          0.8084561403508772,
          0.7447719298245614,
          0.8084210526315789,
          0.747298245614035,
          0.8269824561403508,
          0.7871929824561403,
          0.8136140350877193,
          0.7871929824561403,
          0.8136140350877193,
          0.8217192982456141,
          0.8136491228070175,
          0.789578947368421,
          0.7818245614035088,
          0.7871929824561403,
          0.8136140350877193,
          0.7871929824561403,
          0.8136140350877193,
          0.8217192982456141,
          0.8136491228070175,
          0.789578947368421,
          0.7818245614035088,
          0.7710526315789474,
          0.8084912280701755,
          0.7710526315789474,
          0.8084912280701755,
          0.7657894736842106,
          0.8030526315789472,
          0.7472631578947369,
          0.8242456140350877,
          0.7710526315789474,
          0.8084912280701755,
          0.7710526315789474,
          0.8084912280701755,
          0.7657894736842106,
          0.8030526315789472,
          0.7472631578947369,
          0.8242456140350877,
          0.7766666666666667,
          0.8271578947368422,
          0.7766666666666667,
          0.8271578947368422,
          0.7578245614035086,
          0.8030526315789475,
          0.8137894736842105,
          0.8189473684210526,
          0.7766666666666667,
          0.8271578947368422,
          0.7766666666666667,
          0.8271578947368422,
          0.7578245614035086,
          0.8030526315789475,
          0.8137894736842105,
          0.8189473684210526,
          0.7633333333333333,
          0.8111228070175439,
          0.7633333333333333,
          0.8111228070175439,
          0.7631578947368419,
          0.8164210526315789,
          0.8137894736842105,
          0.8189473684210526,
          0.7633333333333333,
          0.8111228070175439,
          0.7633333333333333,
          0.8111228070175439,
          0.7631578947368419,
          0.8164210526315789,
          0.8137894736842105,
          0.8189473684210526
         ],
         "y0": " ",
         "yaxis": "y"
        },
        {
         "alignmentgroup": "True",
         "box": {
          "visible": true
         },
         "hovertemplate": "param_min_samples_leaf=%{x}<br>mean_test_score=%{y}<extra></extra>",
         "legendgroup": "10",
         "marker": {
          "color": "#EF553B"
         },
         "name": "10",
         "offsetgroup": "10",
         "orientation": "v",
         "points": "all",
         "scalegroup": "True",
         "showlegend": true,
         "type": "violin",
         "x": [
          10,
          10,
          10,
          10,
          10,
          10,
          10,
          10,
          10,
          10,
          10,
          10,
          10,
          10,
          10,
          10,
          10,
          10,
          10,
          10,
          10,
          10,
          10,
          10,
          10,
          10,
          10,
          10,
          10,
          10,
          10,
          10,
          10,
          10,
          10,
          10,
          10,
          10,
          10,
          10,
          10,
          10,
          10,
          10,
          10,
          10,
          10,
          10,
          10,
          10,
          10,
          10,
          10,
          10,
          10,
          10,
          10,
          10,
          10,
          10,
          10,
          10,
          10,
          10,
          10,
          10,
          10,
          10,
          10,
          10,
          10,
          10,
          10,
          10,
          10,
          10,
          10,
          10,
          10,
          10,
          10,
          10,
          10,
          10,
          10,
          10,
          10,
          10,
          10,
          10,
          10,
          10,
          10,
          10,
          10,
          10,
          10,
          10,
          10,
          10,
          10,
          10,
          10,
          10,
          10,
          10,
          10,
          10,
          10,
          10,
          10,
          10,
          10,
          10,
          10,
          10,
          10,
          10,
          10,
          10,
          10,
          10,
          10,
          10,
          10,
          10,
          10,
          10
         ],
         "x0": " ",
         "xaxis": "x",
         "y": [
          0.7552280701754385,
          0.7951578947368422,
          0.7552280701754385,
          0.7951578947368422,
          0.7552280701754385,
          0.7951578947368422,
          0.7552280701754385,
          0.7951578947368422,
          0.7552280701754385,
          0.7951578947368422,
          0.7552280701754385,
          0.7951578947368422,
          0.7552280701754385,
          0.7951578947368422,
          0.7552280701754385,
          0.7951578947368422,
          0.7365964912280701,
          0.8295438596491229,
          0.7365964912280701,
          0.8295438596491229,
          0.7365964912280701,
          0.8295438596491229,
          0.7365964912280701,
          0.8295438596491229,
          0.7365964912280701,
          0.8295438596491229,
          0.7365964912280701,
          0.8295438596491229,
          0.7365964912280701,
          0.8295438596491229,
          0.7365964912280701,
          0.8295438596491229,
          0.7365964912280701,
          0.8057192982456141,
          0.7365964912280701,
          0.8057192982456141,
          0.7365964912280701,
          0.8057192982456141,
          0.7365964912280701,
          0.8057192982456141,
          0.7365964912280701,
          0.8057192982456141,
          0.7365964912280701,
          0.8057192982456141,
          0.7365964912280701,
          0.8057192982456141,
          0.7365964912280701,
          0.8057192982456141,
          0.7365964912280701,
          0.8057192982456141,
          0.7365964912280701,
          0.8057192982456141,
          0.7365964912280701,
          0.8057192982456141,
          0.7365964912280701,
          0.8057192982456141,
          0.7365964912280701,
          0.8057192982456141,
          0.7365964912280701,
          0.8057192982456141,
          0.7365964912280701,
          0.8057192982456141,
          0.7365964912280701,
          0.8057192982456141,
          0.7391228070175438,
          0.782,
          0.7391228070175438,
          0.782,
          0.7391228070175438,
          0.782,
          0.7391228070175438,
          0.782,
          0.7391228070175438,
          0.782,
          0.7391228070175438,
          0.782,
          0.7391228070175438,
          0.782,
          0.7391228070175438,
          0.782,
          0.7470877192982457,
          0.8322105263157894,
          0.7470877192982457,
          0.8322105263157894,
          0.7470877192982457,
          0.8322105263157894,
          0.7470877192982457,
          0.8322105263157894,
          0.7470877192982457,
          0.8322105263157894,
          0.7470877192982457,
          0.8322105263157894,
          0.7470877192982457,
          0.8322105263157894,
          0.7470877192982457,
          0.8322105263157894,
          0.7684210526315789,
          0.8215789473684211,
          0.7684210526315789,
          0.8215789473684211,
          0.7684210526315789,
          0.8215789473684211,
          0.7684210526315789,
          0.8215789473684211,
          0.7684210526315789,
          0.8215789473684211,
          0.7684210526315789,
          0.8215789473684211,
          0.7684210526315789,
          0.8215789473684211,
          0.7684210526315789,
          0.8215789473684211,
          0.7684210526315789,
          0.8215789473684211,
          0.7684210526315789,
          0.8215789473684211,
          0.7684210526315789,
          0.8215789473684211,
          0.7684210526315789,
          0.8215789473684211,
          0.7684210526315789,
          0.8215789473684211,
          0.7684210526315789,
          0.8215789473684211,
          0.7684210526315789,
          0.8215789473684211,
          0.7684210526315789,
          0.8215789473684211
         ],
         "y0": " ",
         "yaxis": "y"
        },
        {
         "alignmentgroup": "True",
         "box": {
          "visible": true
         },
         "hovertemplate": "param_min_samples_leaf=%{x}<br>mean_test_score=%{y}<extra></extra>",
         "legendgroup": "15",
         "marker": {
          "color": "#00cc96"
         },
         "name": "15",
         "offsetgroup": "15",
         "orientation": "v",
         "points": "all",
         "scalegroup": "True",
         "showlegend": true,
         "type": "violin",
         "x": [
          15,
          15,
          15,
          15,
          15,
          15,
          15,
          15,
          15,
          15,
          15,
          15,
          15,
          15,
          15,
          15,
          15,
          15,
          15,
          15,
          15,
          15,
          15,
          15,
          15,
          15,
          15,
          15,
          15,
          15,
          15,
          15,
          15,
          15,
          15,
          15,
          15,
          15,
          15,
          15,
          15,
          15,
          15,
          15,
          15,
          15,
          15,
          15,
          15,
          15,
          15,
          15,
          15,
          15,
          15,
          15,
          15,
          15,
          15,
          15,
          15,
          15,
          15,
          15,
          15,
          15,
          15,
          15,
          15,
          15,
          15,
          15,
          15,
          15,
          15,
          15,
          15,
          15,
          15,
          15,
          15,
          15,
          15,
          15,
          15,
          15,
          15,
          15,
          15,
          15,
          15,
          15,
          15,
          15,
          15,
          15,
          15,
          15,
          15,
          15,
          15,
          15,
          15,
          15,
          15,
          15,
          15,
          15,
          15,
          15,
          15,
          15,
          15,
          15,
          15,
          15,
          15,
          15,
          15,
          15,
          15,
          15,
          15,
          15,
          15,
          15,
          15,
          15
         ],
         "x0": " ",
         "xaxis": "x",
         "y": [
          0.7525263157894736,
          0.8297192982456141,
          0.7525263157894736,
          0.8297192982456141,
          0.7525263157894736,
          0.8297192982456141,
          0.7525263157894736,
          0.8297192982456141,
          0.7525263157894736,
          0.8297192982456141,
          0.7525263157894736,
          0.8297192982456141,
          0.7525263157894736,
          0.8297192982456141,
          0.7525263157894736,
          0.8297192982456141,
          0.7631929824561403,
          0.8004561403508772,
          0.7631929824561403,
          0.8004561403508772,
          0.7631929824561403,
          0.8004561403508772,
          0.7631929824561403,
          0.8004561403508772,
          0.7631929824561403,
          0.8004561403508772,
          0.7631929824561403,
          0.8004561403508772,
          0.7631929824561403,
          0.8004561403508772,
          0.7631929824561403,
          0.8004561403508772,
          0.7631929824561403,
          0.7924561403508772,
          0.7631929824561403,
          0.7924561403508772,
          0.7631929824561403,
          0.7924561403508772,
          0.7631929824561403,
          0.7924561403508772,
          0.7631929824561403,
          0.7924561403508772,
          0.7631929824561403,
          0.7924561403508772,
          0.7631929824561403,
          0.7924561403508772,
          0.7631929824561403,
          0.7924561403508772,
          0.7631929824561403,
          0.7924561403508772,
          0.7631929824561403,
          0.7924561403508772,
          0.7631929824561403,
          0.7924561403508772,
          0.7631929824561403,
          0.7924561403508772,
          0.7631929824561403,
          0.7924561403508772,
          0.7631929824561403,
          0.7924561403508772,
          0.7631929824561403,
          0.7924561403508772,
          0.7631929824561403,
          0.7924561403508772,
          0.763157894736842,
          0.8060350877192983,
          0.763157894736842,
          0.8060350877192983,
          0.763157894736842,
          0.8060350877192983,
          0.763157894736842,
          0.8060350877192983,
          0.763157894736842,
          0.8060350877192983,
          0.763157894736842,
          0.8060350877192983,
          0.763157894736842,
          0.8060350877192983,
          0.763157894736842,
          0.8060350877192983,
          0.7501052631578948,
          0.7767719298245614,
          0.7501052631578948,
          0.7767719298245614,
          0.7501052631578948,
          0.7767719298245614,
          0.7501052631578948,
          0.7767719298245614,
          0.7501052631578948,
          0.7767719298245614,
          0.7501052631578948,
          0.7767719298245614,
          0.7501052631578948,
          0.7767719298245614,
          0.7501052631578948,
          0.7767719298245614,
          0.7501052631578948,
          0.7687719298245614,
          0.7501052631578948,
          0.7687719298245614,
          0.7501052631578948,
          0.7687719298245614,
          0.7501052631578948,
          0.7687719298245614,
          0.7501052631578948,
          0.7687719298245614,
          0.7501052631578948,
          0.7687719298245614,
          0.7501052631578948,
          0.7687719298245614,
          0.7501052631578948,
          0.7687719298245614,
          0.7501052631578948,
          0.7687719298245614,
          0.7501052631578948,
          0.7687719298245614,
          0.7501052631578948,
          0.7687719298245614,
          0.7501052631578948,
          0.7687719298245614,
          0.7501052631578948,
          0.7687719298245614,
          0.7501052631578948,
          0.7687719298245614,
          0.7501052631578948,
          0.7687719298245614,
          0.7501052631578948,
          0.7687719298245614
         ],
         "y0": " ",
         "yaxis": "y"
        },
        {
         "alignmentgroup": "True",
         "box": {
          "visible": true
         },
         "hovertemplate": "param_min_samples_leaf=%{x}<br>mean_test_score=%{y}<extra></extra>",
         "legendgroup": "20",
         "marker": {
          "color": "#ab63fa"
         },
         "name": "20",
         "offsetgroup": "20",
         "orientation": "v",
         "points": "all",
         "scalegroup": "True",
         "showlegend": true,
         "type": "violin",
         "x": [
          20,
          20,
          20,
          20,
          20,
          20,
          20,
          20,
          20,
          20,
          20,
          20,
          20,
          20,
          20,
          20,
          20,
          20,
          20,
          20,
          20,
          20,
          20,
          20,
          20,
          20,
          20,
          20,
          20,
          20,
          20,
          20,
          20,
          20,
          20,
          20,
          20,
          20,
          20,
          20,
          20,
          20,
          20,
          20,
          20,
          20,
          20,
          20,
          20,
          20,
          20,
          20,
          20,
          20,
          20,
          20,
          20,
          20,
          20,
          20,
          20,
          20,
          20,
          20,
          20,
          20,
          20,
          20,
          20,
          20,
          20,
          20,
          20,
          20,
          20,
          20,
          20,
          20,
          20,
          20,
          20,
          20,
          20,
          20,
          20,
          20,
          20,
          20,
          20,
          20,
          20,
          20,
          20,
          20,
          20,
          20,
          20,
          20,
          20,
          20,
          20,
          20,
          20,
          20,
          20,
          20,
          20,
          20,
          20,
          20,
          20,
          20,
          20,
          20,
          20,
          20,
          20,
          20,
          20,
          20,
          20,
          20,
          20,
          20,
          20,
          20,
          20,
          20
         ],
         "x0": " ",
         "xaxis": "x",
         "y": [
          0.7289122807017544,
          0.7603508771929823,
          0.7289122807017544,
          0.7603508771929823,
          0.7289122807017544,
          0.7603508771929823,
          0.7289122807017544,
          0.7603508771929823,
          0.7289122807017544,
          0.7603508771929823,
          0.7289122807017544,
          0.7603508771929823,
          0.7289122807017544,
          0.7603508771929823,
          0.7289122807017544,
          0.7603508771929823,
          0.7289122807017544,
          0.7469824561403509,
          0.7289122807017544,
          0.7469824561403509,
          0.7289122807017544,
          0.7469824561403509,
          0.7289122807017544,
          0.7469824561403509,
          0.7289122807017544,
          0.7469824561403509,
          0.7289122807017544,
          0.7469824561403509,
          0.7289122807017544,
          0.7469824561403509,
          0.7289122807017544,
          0.7469824561403509,
          0.7289122807017544,
          0.7469824561403509,
          0.7289122807017544,
          0.7469824561403509,
          0.7289122807017544,
          0.7469824561403509,
          0.7289122807017544,
          0.7469824561403509,
          0.7289122807017544,
          0.7469824561403509,
          0.7289122807017544,
          0.7469824561403509,
          0.7289122807017544,
          0.7469824561403509,
          0.7289122807017544,
          0.7469824561403509,
          0.7289122807017544,
          0.7469824561403509,
          0.7289122807017544,
          0.7469824561403509,
          0.7289122807017544,
          0.7469824561403509,
          0.7289122807017544,
          0.7469824561403509,
          0.7289122807017544,
          0.7469824561403509,
          0.7289122807017544,
          0.7469824561403509,
          0.7289122807017544,
          0.7469824561403509,
          0.7289122807017544,
          0.7469824561403509,
          0.7316140350877193,
          0.7208771929824562,
          0.7316140350877193,
          0.7208771929824562,
          0.7316140350877193,
          0.7208771929824562,
          0.7316140350877193,
          0.7208771929824562,
          0.7316140350877193,
          0.7208771929824562,
          0.7316140350877193,
          0.7208771929824562,
          0.7316140350877193,
          0.7208771929824562,
          0.7316140350877193,
          0.7208771929824562,
          0.7422456140350877,
          0.7368771929824561,
          0.7422456140350877,
          0.7368771929824561,
          0.7422456140350877,
          0.7368771929824561,
          0.7422456140350877,
          0.7368771929824561,
          0.7422456140350877,
          0.7368771929824561,
          0.7422456140350877,
          0.7368771929824561,
          0.7422456140350877,
          0.7368771929824561,
          0.7422456140350877,
          0.7368771929824561,
          0.7422456140350877,
          0.7368771929824561,
          0.7422456140350877,
          0.7368771929824561,
          0.7422456140350877,
          0.7368771929824561,
          0.7422456140350877,
          0.7368771929824561,
          0.7422456140350877,
          0.7368771929824561,
          0.7422456140350877,
          0.7368771929824561,
          0.7422456140350877,
          0.7368771929824561,
          0.7422456140350877,
          0.7368771929824561,
          0.7422456140350877,
          0.7368771929824561,
          0.7422456140350877,
          0.7368771929824561,
          0.7422456140350877,
          0.7368771929824561,
          0.7422456140350877,
          0.7368771929824561,
          0.7422456140350877,
          0.7368771929824561,
          0.7422456140350877,
          0.7368771929824561,
          0.7422456140350877,
          0.7368771929824561,
          0.7422456140350877,
          0.7368771929824561
         ],
         "y0": " ",
         "yaxis": "y"
        }
       ],
       "layout": {
        "legend": {
         "title": {
          "text": "param_min_samples_leaf"
         },
         "tracegroupgap": 0
        },
        "margin": {
         "t": 60
        },
        "template": {
         "data": {
          "bar": [
           {
            "error_x": {
             "color": "#2a3f5f"
            },
            "error_y": {
             "color": "#2a3f5f"
            },
            "marker": {
             "line": {
              "color": "#E5ECF6",
              "width": 0.5
             },
             "pattern": {
              "fillmode": "overlay",
              "size": 10,
              "solidity": 0.2
             }
            },
            "type": "bar"
           }
          ],
          "barpolar": [
           {
            "marker": {
             "line": {
              "color": "#E5ECF6",
              "width": 0.5
             },
             "pattern": {
              "fillmode": "overlay",
              "size": 10,
              "solidity": 0.2
             }
            },
            "type": "barpolar"
           }
          ],
          "carpet": [
           {
            "aaxis": {
             "endlinecolor": "#2a3f5f",
             "gridcolor": "white",
             "linecolor": "white",
             "minorgridcolor": "white",
             "startlinecolor": "#2a3f5f"
            },
            "baxis": {
             "endlinecolor": "#2a3f5f",
             "gridcolor": "white",
             "linecolor": "white",
             "minorgridcolor": "white",
             "startlinecolor": "#2a3f5f"
            },
            "type": "carpet"
           }
          ],
          "choropleth": [
           {
            "colorbar": {
             "outlinewidth": 0,
             "ticks": ""
            },
            "type": "choropleth"
           }
          ],
          "contour": [
           {
            "colorbar": {
             "outlinewidth": 0,
             "ticks": ""
            },
            "colorscale": [
             [
              0,
              "#0d0887"
             ],
             [
              0.1111111111111111,
              "#46039f"
             ],
             [
              0.2222222222222222,
              "#7201a8"
             ],
             [
              0.3333333333333333,
              "#9c179e"
             ],
             [
              0.4444444444444444,
              "#bd3786"
             ],
             [
              0.5555555555555556,
              "#d8576b"
             ],
             [
              0.6666666666666666,
              "#ed7953"
             ],
             [
              0.7777777777777778,
              "#fb9f3a"
             ],
             [
              0.8888888888888888,
              "#fdca26"
             ],
             [
              1,
              "#f0f921"
             ]
            ],
            "type": "contour"
           }
          ],
          "contourcarpet": [
           {
            "colorbar": {
             "outlinewidth": 0,
             "ticks": ""
            },
            "type": "contourcarpet"
           }
          ],
          "heatmap": [
           {
            "colorbar": {
             "outlinewidth": 0,
             "ticks": ""
            },
            "colorscale": [
             [
              0,
              "#0d0887"
             ],
             [
              0.1111111111111111,
              "#46039f"
             ],
             [
              0.2222222222222222,
              "#7201a8"
             ],
             [
              0.3333333333333333,
              "#9c179e"
             ],
             [
              0.4444444444444444,
              "#bd3786"
             ],
             [
              0.5555555555555556,
              "#d8576b"
             ],
             [
              0.6666666666666666,
              "#ed7953"
             ],
             [
              0.7777777777777778,
              "#fb9f3a"
             ],
             [
              0.8888888888888888,
              "#fdca26"
             ],
             [
              1,
              "#f0f921"
             ]
            ],
            "type": "heatmap"
           }
          ],
          "heatmapgl": [
           {
            "colorbar": {
             "outlinewidth": 0,
             "ticks": ""
            },
            "colorscale": [
             [
              0,
              "#0d0887"
             ],
             [
              0.1111111111111111,
              "#46039f"
             ],
             [
              0.2222222222222222,
              "#7201a8"
             ],
             [
              0.3333333333333333,
              "#9c179e"
             ],
             [
              0.4444444444444444,
              "#bd3786"
             ],
             [
              0.5555555555555556,
              "#d8576b"
             ],
             [
              0.6666666666666666,
              "#ed7953"
             ],
             [
              0.7777777777777778,
              "#fb9f3a"
             ],
             [
              0.8888888888888888,
              "#fdca26"
             ],
             [
              1,
              "#f0f921"
             ]
            ],
            "type": "heatmapgl"
           }
          ],
          "histogram": [
           {
            "marker": {
             "pattern": {
              "fillmode": "overlay",
              "size": 10,
              "solidity": 0.2
             }
            },
            "type": "histogram"
           }
          ],
          "histogram2d": [
           {
            "colorbar": {
             "outlinewidth": 0,
             "ticks": ""
            },
            "colorscale": [
             [
              0,
              "#0d0887"
             ],
             [
              0.1111111111111111,
              "#46039f"
             ],
             [
              0.2222222222222222,
              "#7201a8"
             ],
             [
              0.3333333333333333,
              "#9c179e"
             ],
             [
              0.4444444444444444,
              "#bd3786"
             ],
             [
              0.5555555555555556,
              "#d8576b"
             ],
             [
              0.6666666666666666,
              "#ed7953"
             ],
             [
              0.7777777777777778,
              "#fb9f3a"
             ],
             [
              0.8888888888888888,
              "#fdca26"
             ],
             [
              1,
              "#f0f921"
             ]
            ],
            "type": "histogram2d"
           }
          ],
          "histogram2dcontour": [
           {
            "colorbar": {
             "outlinewidth": 0,
             "ticks": ""
            },
            "colorscale": [
             [
              0,
              "#0d0887"
             ],
             [
              0.1111111111111111,
              "#46039f"
             ],
             [
              0.2222222222222222,
              "#7201a8"
             ],
             [
              0.3333333333333333,
              "#9c179e"
             ],
             [
              0.4444444444444444,
              "#bd3786"
             ],
             [
              0.5555555555555556,
              "#d8576b"
             ],
             [
              0.6666666666666666,
              "#ed7953"
             ],
             [
              0.7777777777777778,
              "#fb9f3a"
             ],
             [
              0.8888888888888888,
              "#fdca26"
             ],
             [
              1,
              "#f0f921"
             ]
            ],
            "type": "histogram2dcontour"
           }
          ],
          "mesh3d": [
           {
            "colorbar": {
             "outlinewidth": 0,
             "ticks": ""
            },
            "type": "mesh3d"
           }
          ],
          "parcoords": [
           {
            "line": {
             "colorbar": {
              "outlinewidth": 0,
              "ticks": ""
             }
            },
            "type": "parcoords"
           }
          ],
          "pie": [
           {
            "automargin": true,
            "type": "pie"
           }
          ],
          "scatter": [
           {
            "fillpattern": {
             "fillmode": "overlay",
             "size": 10,
             "solidity": 0.2
            },
            "type": "scatter"
           }
          ],
          "scatter3d": [
           {
            "line": {
             "colorbar": {
              "outlinewidth": 0,
              "ticks": ""
             }
            },
            "marker": {
             "colorbar": {
              "outlinewidth": 0,
              "ticks": ""
             }
            },
            "type": "scatter3d"
           }
          ],
          "scattercarpet": [
           {
            "marker": {
             "colorbar": {
              "outlinewidth": 0,
              "ticks": ""
             }
            },
            "type": "scattercarpet"
           }
          ],
          "scattergeo": [
           {
            "marker": {
             "colorbar": {
              "outlinewidth": 0,
              "ticks": ""
             }
            },
            "type": "scattergeo"
           }
          ],
          "scattergl": [
           {
            "marker": {
             "colorbar": {
              "outlinewidth": 0,
              "ticks": ""
             }
            },
            "type": "scattergl"
           }
          ],
          "scattermapbox": [
           {
            "marker": {
             "colorbar": {
              "outlinewidth": 0,
              "ticks": ""
             }
            },
            "type": "scattermapbox"
           }
          ],
          "scatterpolar": [
           {
            "marker": {
             "colorbar": {
              "outlinewidth": 0,
              "ticks": ""
             }
            },
            "type": "scatterpolar"
           }
          ],
          "scatterpolargl": [
           {
            "marker": {
             "colorbar": {
              "outlinewidth": 0,
              "ticks": ""
             }
            },
            "type": "scatterpolargl"
           }
          ],
          "scatterternary": [
           {
            "marker": {
             "colorbar": {
              "outlinewidth": 0,
              "ticks": ""
             }
            },
            "type": "scatterternary"
           }
          ],
          "surface": [
           {
            "colorbar": {
             "outlinewidth": 0,
             "ticks": ""
            },
            "colorscale": [
             [
              0,
              "#0d0887"
             ],
             [
              0.1111111111111111,
              "#46039f"
             ],
             [
              0.2222222222222222,
              "#7201a8"
             ],
             [
              0.3333333333333333,
              "#9c179e"
             ],
             [
              0.4444444444444444,
              "#bd3786"
             ],
             [
              0.5555555555555556,
              "#d8576b"
             ],
             [
              0.6666666666666666,
              "#ed7953"
             ],
             [
              0.7777777777777778,
              "#fb9f3a"
             ],
             [
              0.8888888888888888,
              "#fdca26"
             ],
             [
              1,
              "#f0f921"
             ]
            ],
            "type": "surface"
           }
          ],
          "table": [
           {
            "cells": {
             "fill": {
              "color": "#EBF0F8"
             },
             "line": {
              "color": "white"
             }
            },
            "header": {
             "fill": {
              "color": "#C8D4E3"
             },
             "line": {
              "color": "white"
             }
            },
            "type": "table"
           }
          ]
         },
         "layout": {
          "annotationdefaults": {
           "arrowcolor": "#2a3f5f",
           "arrowhead": 0,
           "arrowwidth": 1
          },
          "autotypenumbers": "strict",
          "coloraxis": {
           "colorbar": {
            "outlinewidth": 0,
            "ticks": ""
           }
          },
          "colorscale": {
           "diverging": [
            [
             0,
             "#8e0152"
            ],
            [
             0.1,
             "#c51b7d"
            ],
            [
             0.2,
             "#de77ae"
            ],
            [
             0.3,
             "#f1b6da"
            ],
            [
             0.4,
             "#fde0ef"
            ],
            [
             0.5,
             "#f7f7f7"
            ],
            [
             0.6,
             "#e6f5d0"
            ],
            [
             0.7,
             "#b8e186"
            ],
            [
             0.8,
             "#7fbc41"
            ],
            [
             0.9,
             "#4d9221"
            ],
            [
             1,
             "#276419"
            ]
           ],
           "sequential": [
            [
             0,
             "#0d0887"
            ],
            [
             0.1111111111111111,
             "#46039f"
            ],
            [
             0.2222222222222222,
             "#7201a8"
            ],
            [
             0.3333333333333333,
             "#9c179e"
            ],
            [
             0.4444444444444444,
             "#bd3786"
            ],
            [
             0.5555555555555556,
             "#d8576b"
            ],
            [
             0.6666666666666666,
             "#ed7953"
            ],
            [
             0.7777777777777778,
             "#fb9f3a"
            ],
            [
             0.8888888888888888,
             "#fdca26"
            ],
            [
             1,
             "#f0f921"
            ]
           ],
           "sequentialminus": [
            [
             0,
             "#0d0887"
            ],
            [
             0.1111111111111111,
             "#46039f"
            ],
            [
             0.2222222222222222,
             "#7201a8"
            ],
            [
             0.3333333333333333,
             "#9c179e"
            ],
            [
             0.4444444444444444,
             "#bd3786"
            ],
            [
             0.5555555555555556,
             "#d8576b"
            ],
            [
             0.6666666666666666,
             "#ed7953"
            ],
            [
             0.7777777777777778,
             "#fb9f3a"
            ],
            [
             0.8888888888888888,
             "#fdca26"
            ],
            [
             1,
             "#f0f921"
            ]
           ]
          },
          "colorway": [
           "#636efa",
           "#EF553B",
           "#00cc96",
           "#ab63fa",
           "#FFA15A",
           "#19d3f3",
           "#FF6692",
           "#B6E880",
           "#FF97FF",
           "#FECB52"
          ],
          "font": {
           "color": "#2a3f5f"
          },
          "geo": {
           "bgcolor": "white",
           "lakecolor": "white",
           "landcolor": "#E5ECF6",
           "showlakes": true,
           "showland": true,
           "subunitcolor": "white"
          },
          "hoverlabel": {
           "align": "left"
          },
          "hovermode": "closest",
          "mapbox": {
           "style": "light"
          },
          "paper_bgcolor": "white",
          "plot_bgcolor": "#E5ECF6",
          "polar": {
           "angularaxis": {
            "gridcolor": "white",
            "linecolor": "white",
            "ticks": ""
           },
           "bgcolor": "#E5ECF6",
           "radialaxis": {
            "gridcolor": "white",
            "linecolor": "white",
            "ticks": ""
           }
          },
          "scene": {
           "xaxis": {
            "backgroundcolor": "#E5ECF6",
            "gridcolor": "white",
            "gridwidth": 2,
            "linecolor": "white",
            "showbackground": true,
            "ticks": "",
            "zerolinecolor": "white"
           },
           "yaxis": {
            "backgroundcolor": "#E5ECF6",
            "gridcolor": "white",
            "gridwidth": 2,
            "linecolor": "white",
            "showbackground": true,
            "ticks": "",
            "zerolinecolor": "white"
           },
           "zaxis": {
            "backgroundcolor": "#E5ECF6",
            "gridcolor": "white",
            "gridwidth": 2,
            "linecolor": "white",
            "showbackground": true,
            "ticks": "",
            "zerolinecolor": "white"
           }
          },
          "shapedefaults": {
           "line": {
            "color": "#2a3f5f"
           }
          },
          "ternary": {
           "aaxis": {
            "gridcolor": "white",
            "linecolor": "white",
            "ticks": ""
           },
           "baxis": {
            "gridcolor": "white",
            "linecolor": "white",
            "ticks": ""
           },
           "bgcolor": "#E5ECF6",
           "caxis": {
            "gridcolor": "white",
            "linecolor": "white",
            "ticks": ""
           }
          },
          "title": {
           "x": 0.05
          },
          "xaxis": {
           "automargin": true,
           "gridcolor": "white",
           "linecolor": "white",
           "ticks": "",
           "title": {
            "standoff": 15
           },
           "zerolinecolor": "white",
           "zerolinewidth": 2
          },
          "yaxis": {
           "automargin": true,
           "gridcolor": "white",
           "linecolor": "white",
           "ticks": "",
           "title": {
            "standoff": 15
           },
           "zerolinecolor": "white",
           "zerolinewidth": 2
          }
         }
        },
        "violinmode": "overlay",
        "xaxis": {
         "anchor": "y",
         "categoryarray": [
          5,
          10,
          15,
          20
         ],
         "categoryorder": "array",
         "domain": [
          0,
          1
         ],
         "title": {
          "text": "param_min_samples_leaf"
         }
        },
        "yaxis": {
         "anchor": "x",
         "domain": [
          0,
          1
         ],
         "title": {
          "text": "mean_test_score"
         }
        }
       }
      }
     },
     "metadata": {},
     "output_type": "display_data"
    }
   ],
   "source": [
    "num_cat_hip(cv_results, 'param_min_samples_leaf', 'mean_test_score')"
   ]
  },
  {
   "cell_type": "markdown",
   "id": "be671b02",
   "metadata": {},
   "source": [
    "## Logistic Regression"
   ]
  },
  {
   "cell_type": "code",
   "execution_count": 24,
   "id": "6b510672",
   "metadata": {},
   "outputs": [
    {
     "data": {
      "text/html": [
       "<style>#sk-container-id-3 {color: black;background-color: white;}#sk-container-id-3 pre{padding: 0;}#sk-container-id-3 div.sk-toggleable {background-color: white;}#sk-container-id-3 label.sk-toggleable__label {cursor: pointer;display: block;width: 100%;margin-bottom: 0;padding: 0.3em;box-sizing: border-box;text-align: center;}#sk-container-id-3 label.sk-toggleable__label-arrow:before {content: \"▸\";float: left;margin-right: 0.25em;color: #696969;}#sk-container-id-3 label.sk-toggleable__label-arrow:hover:before {color: black;}#sk-container-id-3 div.sk-estimator:hover label.sk-toggleable__label-arrow:before {color: black;}#sk-container-id-3 div.sk-toggleable__content {max-height: 0;max-width: 0;overflow: hidden;text-align: left;background-color: #f0f8ff;}#sk-container-id-3 div.sk-toggleable__content pre {margin: 0.2em;color: black;border-radius: 0.25em;background-color: #f0f8ff;}#sk-container-id-3 input.sk-toggleable__control:checked~div.sk-toggleable__content {max-height: 200px;max-width: 100%;overflow: auto;}#sk-container-id-3 input.sk-toggleable__control:checked~label.sk-toggleable__label-arrow:before {content: \"▾\";}#sk-container-id-3 div.sk-estimator input.sk-toggleable__control:checked~label.sk-toggleable__label {background-color: #d4ebff;}#sk-container-id-3 div.sk-label input.sk-toggleable__control:checked~label.sk-toggleable__label {background-color: #d4ebff;}#sk-container-id-3 input.sk-hidden--visually {border: 0;clip: rect(1px 1px 1px 1px);clip: rect(1px, 1px, 1px, 1px);height: 1px;margin: -1px;overflow: hidden;padding: 0;position: absolute;width: 1px;}#sk-container-id-3 div.sk-estimator {font-family: monospace;background-color: #f0f8ff;border: 1px dotted black;border-radius: 0.25em;box-sizing: border-box;margin-bottom: 0.5em;}#sk-container-id-3 div.sk-estimator:hover {background-color: #d4ebff;}#sk-container-id-3 div.sk-parallel-item::after {content: \"\";width: 100%;border-bottom: 1px solid gray;flex-grow: 1;}#sk-container-id-3 div.sk-label:hover label.sk-toggleable__label {background-color: #d4ebff;}#sk-container-id-3 div.sk-serial::before {content: \"\";position: absolute;border-left: 1px solid gray;box-sizing: border-box;top: 0;bottom: 0;left: 50%;z-index: 0;}#sk-container-id-3 div.sk-serial {display: flex;flex-direction: column;align-items: center;background-color: white;padding-right: 0.2em;padding-left: 0.2em;position: relative;}#sk-container-id-3 div.sk-item {position: relative;z-index: 1;}#sk-container-id-3 div.sk-parallel {display: flex;align-items: stretch;justify-content: center;background-color: white;position: relative;}#sk-container-id-3 div.sk-item::before, #sk-container-id-3 div.sk-parallel-item::before {content: \"\";position: absolute;border-left: 1px solid gray;box-sizing: border-box;top: 0;bottom: 0;left: 50%;z-index: -1;}#sk-container-id-3 div.sk-parallel-item {display: flex;flex-direction: column;z-index: 1;position: relative;background-color: white;}#sk-container-id-3 div.sk-parallel-item:first-child::after {align-self: flex-end;width: 50%;}#sk-container-id-3 div.sk-parallel-item:last-child::after {align-self: flex-start;width: 50%;}#sk-container-id-3 div.sk-parallel-item:only-child::after {width: 0;}#sk-container-id-3 div.sk-dashed-wrapped {border: 1px dashed gray;margin: 0 0.4em 0.5em 0.4em;box-sizing: border-box;padding-bottom: 0.4em;background-color: white;}#sk-container-id-3 div.sk-label label {font-family: monospace;font-weight: bold;display: inline-block;line-height: 1.2em;}#sk-container-id-3 div.sk-label-container {text-align: center;}#sk-container-id-3 div.sk-container {/* jupyter's `normalize.less` sets `[hidden] { display: none; }` but bootstrap.min.css set `[hidden] { display: none !important; }` so we also need the `!important` here to be able to override the default hidden behavior on the sphinx rendered scikit-learn.org. See: https://github.com/scikit-learn/scikit-learn/issues/21755 */display: inline-block !important;position: relative;}#sk-container-id-3 div.sk-text-repr-fallback {display: none;}</style><div id=\"sk-container-id-3\" class=\"sk-top-container\"><div class=\"sk-text-repr-fallback\"><pre>GridSearchCV(cv=StratifiedKFold(n_splits=5, random_state=3141592, shuffle=True),\n",
       "             estimator=Pipeline(steps=[(&#x27;standardscaler&#x27;, StandardScaler()),\n",
       "                                       (&#x27;logisticregression&#x27;,\n",
       "                                        LogisticRegression())]),\n",
       "             n_jobs=-1,\n",
       "             param_grid=[{&#x27;logisticregression__C&#x27;: [0.001, 0.01, 0.1, 1, 10],\n",
       "                          &#x27;logisticregression__max_iter&#x27;: array([100, 150, 200, 250, 300]),\n",
       "                          &#x27;logisticregression__penalty&#x27;: [&#x27;l2&#x27;],\n",
       "                          &#x27;logisticregression__solver&#x27;: [&#x27;newton-cg&#x27;, &#x27;lbfgs&#x27;]},\n",
       "                         {&#x27;logisticregression__C&#x27;: [0.001, 0.01, 0.1, 1, 10],\n",
       "                          &#x27;logisticregression__max_iter&#x27;: array([100, 150, 200, 250, 300]),\n",
       "                          &#x27;logisticregression__penalty&#x27;: [&#x27;l1&#x27;, &#x27;l2&#x27;],\n",
       "                          &#x27;logisticregression__solver&#x27;: [&#x27;liblinear&#x27;]}],\n",
       "             scoring=&#x27;recall&#x27;)</pre><b>In a Jupyter environment, please rerun this cell to show the HTML representation or trust the notebook. <br />On GitHub, the HTML representation is unable to render, please try loading this page with nbviewer.org.</b></div><div class=\"sk-container\" hidden><div class=\"sk-item sk-dashed-wrapped\"><div class=\"sk-label-container\"><div class=\"sk-label sk-toggleable\"><input class=\"sk-toggleable__control sk-hidden--visually\" id=\"sk-estimator-id-7\" type=\"checkbox\" ><label for=\"sk-estimator-id-7\" class=\"sk-toggleable__label sk-toggleable__label-arrow\">GridSearchCV</label><div class=\"sk-toggleable__content\"><pre>GridSearchCV(cv=StratifiedKFold(n_splits=5, random_state=3141592, shuffle=True),\n",
       "             estimator=Pipeline(steps=[(&#x27;standardscaler&#x27;, StandardScaler()),\n",
       "                                       (&#x27;logisticregression&#x27;,\n",
       "                                        LogisticRegression())]),\n",
       "             n_jobs=-1,\n",
       "             param_grid=[{&#x27;logisticregression__C&#x27;: [0.001, 0.01, 0.1, 1, 10],\n",
       "                          &#x27;logisticregression__max_iter&#x27;: array([100, 150, 200, 250, 300]),\n",
       "                          &#x27;logisticregression__penalty&#x27;: [&#x27;l2&#x27;],\n",
       "                          &#x27;logisticregression__solver&#x27;: [&#x27;newton-cg&#x27;, &#x27;lbfgs&#x27;]},\n",
       "                         {&#x27;logisticregression__C&#x27;: [0.001, 0.01, 0.1, 1, 10],\n",
       "                          &#x27;logisticregression__max_iter&#x27;: array([100, 150, 200, 250, 300]),\n",
       "                          &#x27;logisticregression__penalty&#x27;: [&#x27;l1&#x27;, &#x27;l2&#x27;],\n",
       "                          &#x27;logisticregression__solver&#x27;: [&#x27;liblinear&#x27;]}],\n",
       "             scoring=&#x27;recall&#x27;)</pre></div></div></div><div class=\"sk-parallel\"><div class=\"sk-parallel-item\"><div class=\"sk-item\"><div class=\"sk-label-container\"><div class=\"sk-label sk-toggleable\"><input class=\"sk-toggleable__control sk-hidden--visually\" id=\"sk-estimator-id-8\" type=\"checkbox\" ><label for=\"sk-estimator-id-8\" class=\"sk-toggleable__label sk-toggleable__label-arrow\">estimator: Pipeline</label><div class=\"sk-toggleable__content\"><pre>Pipeline(steps=[(&#x27;standardscaler&#x27;, StandardScaler()),\n",
       "                (&#x27;logisticregression&#x27;, LogisticRegression())])</pre></div></div></div><div class=\"sk-serial\"><div class=\"sk-item\"><div class=\"sk-serial\"><div class=\"sk-item\"><div class=\"sk-estimator sk-toggleable\"><input class=\"sk-toggleable__control sk-hidden--visually\" id=\"sk-estimator-id-9\" type=\"checkbox\" ><label for=\"sk-estimator-id-9\" class=\"sk-toggleable__label sk-toggleable__label-arrow\">StandardScaler</label><div class=\"sk-toggleable__content\"><pre>StandardScaler()</pre></div></div></div><div class=\"sk-item\"><div class=\"sk-estimator sk-toggleable\"><input class=\"sk-toggleable__control sk-hidden--visually\" id=\"sk-estimator-id-10\" type=\"checkbox\" ><label for=\"sk-estimator-id-10\" class=\"sk-toggleable__label sk-toggleable__label-arrow\">LogisticRegression</label><div class=\"sk-toggleable__content\"><pre>LogisticRegression()</pre></div></div></div></div></div></div></div></div></div></div></div></div>"
      ],
      "text/plain": [
       "GridSearchCV(cv=StratifiedKFold(n_splits=5, random_state=3141592, shuffle=True),\n",
       "             estimator=Pipeline(steps=[('standardscaler', StandardScaler()),\n",
       "                                       ('logisticregression',\n",
       "                                        LogisticRegression())]),\n",
       "             n_jobs=-1,\n",
       "             param_grid=[{'logisticregression__C': [0.001, 0.01, 0.1, 1, 10],\n",
       "                          'logisticregression__max_iter': array([100, 150, 200, 250, 300]),\n",
       "                          'logisticregression__penalty': ['l2'],\n",
       "                          'logisticregression__solver': ['newton-cg', 'lbfgs']},\n",
       "                         {'logisticregression__C': [0.001, 0.01, 0.1, 1, 10],\n",
       "                          'logisticregression__max_iter': array([100, 150, 200, 250, 300]),\n",
       "                          'logisticregression__penalty': ['l1', 'l2'],\n",
       "                          'logisticregression__solver': ['liblinear']}],\n",
       "             scoring='recall')"
      ]
     },
     "execution_count": 24,
     "metadata": {},
     "output_type": "execute_result"
    }
   ],
   "source": [
    "max_iter = np.linspace(100, 300, 5, dtype=int)\n",
    "c = [0.001, 0.01, 0.1, 1, 10]\n",
    "\n",
    "param_grid_lr = [ # Há duas grades\n",
    "    {'logisticregression__solver' : ['newton-cg', 'lbfgs'],\n",
    "      'logisticregression__penalty' : ['l2'],\n",
    "      'logisticregression__max_iter' : max_iter,\n",
    "       'logisticregression__C' : c},\n",
    "    {'logisticregression__solver' : ['liblinear'],\n",
    "      'logisticregression__penalty' : ['l1', 'l2'],\n",
    "      'logisticregression__max_iter' : max_iter,\n",
    "      'logisticregression__C' : c},\n",
    "]\n",
    "\n",
    "from sklearn.model_selection import StratifiedKFold\n",
    "cv = StratifiedKFold(n_splits=5, \n",
    "                     shuffle=True, # embarelhamento dos dados\n",
    "                     random_state=RANDOM_STATE)\n",
    "\n",
    "grid_search = GridSearchCV(\n",
    "    estimator = make_pipeline(StandardScaler(), LogisticRegression()),\n",
    "    param_grid = param_grid_lr,\n",
    "    scoring = \"recall\",\n",
    "    n_jobs = -1,\n",
    "    cv = cv)\n",
    "\n",
    "grid_search.fit(x_treino, y_treino)"
   ]
  },
  {
   "cell_type": "code",
   "execution_count": 25,
   "id": "487bf251",
   "metadata": {},
   "outputs": [
    {
     "data": {
      "text/html": [
       "<div>\n",
       "<style scoped>\n",
       "    .dataframe tbody tr th:only-of-type {\n",
       "        vertical-align: middle;\n",
       "    }\n",
       "\n",
       "    .dataframe tbody tr th {\n",
       "        vertical-align: top;\n",
       "    }\n",
       "\n",
       "    .dataframe thead th {\n",
       "        text-align: right;\n",
       "    }\n",
       "</style>\n",
       "<table border=\"1\" class=\"dataframe\">\n",
       "  <thead>\n",
       "    <tr style=\"text-align: right;\">\n",
       "      <th></th>\n",
       "      <th>0</th>\n",
       "      <th>1</th>\n",
       "      <th>2</th>\n",
       "      <th>3</th>\n",
       "      <th>4</th>\n",
       "    </tr>\n",
       "  </thead>\n",
       "  <tbody>\n",
       "    <tr>\n",
       "      <th>mean_fit_time</th>\n",
       "      <td>0.035288</td>\n",
       "      <td>0.017746</td>\n",
       "      <td>0.018062</td>\n",
       "      <td>0.006217</td>\n",
       "      <td>0.006115</td>\n",
       "    </tr>\n",
       "    <tr>\n",
       "      <th>std_fit_time</th>\n",
       "      <td>0.010338</td>\n",
       "      <td>0.014867</td>\n",
       "      <td>0.020414</td>\n",
       "      <td>0.001122</td>\n",
       "      <td>0.001246</td>\n",
       "    </tr>\n",
       "    <tr>\n",
       "      <th>mean_score_time</th>\n",
       "      <td>0.003717</td>\n",
       "      <td>0.02296</td>\n",
       "      <td>0.009625</td>\n",
       "      <td>0.002608</td>\n",
       "      <td>0.003611</td>\n",
       "    </tr>\n",
       "    <tr>\n",
       "      <th>std_score_time</th>\n",
       "      <td>0.00198</td>\n",
       "      <td>0.026735</td>\n",
       "      <td>0.011843</td>\n",
       "      <td>0.000584</td>\n",
       "      <td>0.001994</td>\n",
       "    </tr>\n",
       "    <tr>\n",
       "      <th>param_logisticregression__C</th>\n",
       "      <td>0.001</td>\n",
       "      <td>0.001</td>\n",
       "      <td>0.001</td>\n",
       "      <td>0.001</td>\n",
       "      <td>0.001</td>\n",
       "    </tr>\n",
       "    <tr>\n",
       "      <th>param_logisticregression__max_iter</th>\n",
       "      <td>100</td>\n",
       "      <td>100</td>\n",
       "      <td>150</td>\n",
       "      <td>150</td>\n",
       "      <td>200</td>\n",
       "    </tr>\n",
       "    <tr>\n",
       "      <th>param_logisticregression__penalty</th>\n",
       "      <td>l2</td>\n",
       "      <td>l2</td>\n",
       "      <td>l2</td>\n",
       "      <td>l2</td>\n",
       "      <td>l2</td>\n",
       "    </tr>\n",
       "    <tr>\n",
       "      <th>param_logisticregression__solver</th>\n",
       "      <td>newton-cg</td>\n",
       "      <td>lbfgs</td>\n",
       "      <td>newton-cg</td>\n",
       "      <td>lbfgs</td>\n",
       "      <td>newton-cg</td>\n",
       "    </tr>\n",
       "    <tr>\n",
       "      <th>params</th>\n",
       "      <td>{'logisticregression__C': 0.001, 'logisticregr...</td>\n",
       "      <td>{'logisticregression__C': 0.001, 'logisticregr...</td>\n",
       "      <td>{'logisticregression__C': 0.001, 'logisticregr...</td>\n",
       "      <td>{'logisticregression__C': 0.001, 'logisticregr...</td>\n",
       "      <td>{'logisticregression__C': 0.001, 'logisticregr...</td>\n",
       "    </tr>\n",
       "    <tr>\n",
       "      <th>split0_test_score</th>\n",
       "      <td>0.921053</td>\n",
       "      <td>0.921053</td>\n",
       "      <td>0.921053</td>\n",
       "      <td>0.921053</td>\n",
       "      <td>0.921053</td>\n",
       "    </tr>\n",
       "    <tr>\n",
       "      <th>split1_test_score</th>\n",
       "      <td>0.946667</td>\n",
       "      <td>0.946667</td>\n",
       "      <td>0.946667</td>\n",
       "      <td>0.946667</td>\n",
       "      <td>0.946667</td>\n",
       "    </tr>\n",
       "    <tr>\n",
       "      <th>split2_test_score</th>\n",
       "      <td>0.96</td>\n",
       "      <td>0.96</td>\n",
       "      <td>0.96</td>\n",
       "      <td>0.96</td>\n",
       "      <td>0.96</td>\n",
       "    </tr>\n",
       "    <tr>\n",
       "      <th>split3_test_score</th>\n",
       "      <td>0.92</td>\n",
       "      <td>0.92</td>\n",
       "      <td>0.92</td>\n",
       "      <td>0.92</td>\n",
       "      <td>0.92</td>\n",
       "    </tr>\n",
       "    <tr>\n",
       "      <th>split4_test_score</th>\n",
       "      <td>0.906667</td>\n",
       "      <td>0.906667</td>\n",
       "      <td>0.906667</td>\n",
       "      <td>0.906667</td>\n",
       "      <td>0.906667</td>\n",
       "    </tr>\n",
       "    <tr>\n",
       "      <th>mean_test_score</th>\n",
       "      <td>0.930877</td>\n",
       "      <td>0.930877</td>\n",
       "      <td>0.930877</td>\n",
       "      <td>0.930877</td>\n",
       "      <td>0.930877</td>\n",
       "    </tr>\n",
       "    <tr>\n",
       "      <th>std_test_score</th>\n",
       "      <td>0.019486</td>\n",
       "      <td>0.019486</td>\n",
       "      <td>0.019486</td>\n",
       "      <td>0.019486</td>\n",
       "      <td>0.019486</td>\n",
       "    </tr>\n",
       "    <tr>\n",
       "      <th>rank_test_score</th>\n",
       "      <td>1</td>\n",
       "      <td>1</td>\n",
       "      <td>1</td>\n",
       "      <td>1</td>\n",
       "      <td>1</td>\n",
       "    </tr>\n",
       "  </tbody>\n",
       "</table>\n",
       "</div>"
      ],
      "text/plain": [
       "                                                                                    0  \\\n",
       "mean_fit_time                                                                0.035288   \n",
       "std_fit_time                                                                 0.010338   \n",
       "mean_score_time                                                              0.003717   \n",
       "std_score_time                                                                0.00198   \n",
       "param_logisticregression__C                                                     0.001   \n",
       "param_logisticregression__max_iter                                                100   \n",
       "param_logisticregression__penalty                                                  l2   \n",
       "param_logisticregression__solver                                            newton-cg   \n",
       "params                              {'logisticregression__C': 0.001, 'logisticregr...   \n",
       "split0_test_score                                                            0.921053   \n",
       "split1_test_score                                                            0.946667   \n",
       "split2_test_score                                                                0.96   \n",
       "split3_test_score                                                                0.92   \n",
       "split4_test_score                                                            0.906667   \n",
       "mean_test_score                                                              0.930877   \n",
       "std_test_score                                                               0.019486   \n",
       "rank_test_score                                                                     1   \n",
       "\n",
       "                                                                                    1  \\\n",
       "mean_fit_time                                                                0.017746   \n",
       "std_fit_time                                                                 0.014867   \n",
       "mean_score_time                                                               0.02296   \n",
       "std_score_time                                                               0.026735   \n",
       "param_logisticregression__C                                                     0.001   \n",
       "param_logisticregression__max_iter                                                100   \n",
       "param_logisticregression__penalty                                                  l2   \n",
       "param_logisticregression__solver                                                lbfgs   \n",
       "params                              {'logisticregression__C': 0.001, 'logisticregr...   \n",
       "split0_test_score                                                            0.921053   \n",
       "split1_test_score                                                            0.946667   \n",
       "split2_test_score                                                                0.96   \n",
       "split3_test_score                                                                0.92   \n",
       "split4_test_score                                                            0.906667   \n",
       "mean_test_score                                                              0.930877   \n",
       "std_test_score                                                               0.019486   \n",
       "rank_test_score                                                                     1   \n",
       "\n",
       "                                                                                    2  \\\n",
       "mean_fit_time                                                                0.018062   \n",
       "std_fit_time                                                                 0.020414   \n",
       "mean_score_time                                                              0.009625   \n",
       "std_score_time                                                               0.011843   \n",
       "param_logisticregression__C                                                     0.001   \n",
       "param_logisticregression__max_iter                                                150   \n",
       "param_logisticregression__penalty                                                  l2   \n",
       "param_logisticregression__solver                                            newton-cg   \n",
       "params                              {'logisticregression__C': 0.001, 'logisticregr...   \n",
       "split0_test_score                                                            0.921053   \n",
       "split1_test_score                                                            0.946667   \n",
       "split2_test_score                                                                0.96   \n",
       "split3_test_score                                                                0.92   \n",
       "split4_test_score                                                            0.906667   \n",
       "mean_test_score                                                              0.930877   \n",
       "std_test_score                                                               0.019486   \n",
       "rank_test_score                                                                     1   \n",
       "\n",
       "                                                                                    3  \\\n",
       "mean_fit_time                                                                0.006217   \n",
       "std_fit_time                                                                 0.001122   \n",
       "mean_score_time                                                              0.002608   \n",
       "std_score_time                                                               0.000584   \n",
       "param_logisticregression__C                                                     0.001   \n",
       "param_logisticregression__max_iter                                                150   \n",
       "param_logisticregression__penalty                                                  l2   \n",
       "param_logisticregression__solver                                                lbfgs   \n",
       "params                              {'logisticregression__C': 0.001, 'logisticregr...   \n",
       "split0_test_score                                                            0.921053   \n",
       "split1_test_score                                                            0.946667   \n",
       "split2_test_score                                                                0.96   \n",
       "split3_test_score                                                                0.92   \n",
       "split4_test_score                                                            0.906667   \n",
       "mean_test_score                                                              0.930877   \n",
       "std_test_score                                                               0.019486   \n",
       "rank_test_score                                                                     1   \n",
       "\n",
       "                                                                                    4  \n",
       "mean_fit_time                                                                0.006115  \n",
       "std_fit_time                                                                 0.001246  \n",
       "mean_score_time                                                              0.003611  \n",
       "std_score_time                                                               0.001994  \n",
       "param_logisticregression__C                                                     0.001  \n",
       "param_logisticregression__max_iter                                                200  \n",
       "param_logisticregression__penalty                                                  l2  \n",
       "param_logisticregression__solver                                            newton-cg  \n",
       "params                              {'logisticregression__C': 0.001, 'logisticregr...  \n",
       "split0_test_score                                                            0.921053  \n",
       "split1_test_score                                                            0.946667  \n",
       "split2_test_score                                                                0.96  \n",
       "split3_test_score                                                                0.92  \n",
       "split4_test_score                                                            0.906667  \n",
       "mean_test_score                                                              0.930877  \n",
       "std_test_score                                                               0.019486  \n",
       "rank_test_score                                                                     1  "
      ]
     },
     "metadata": {},
     "output_type": "display_data"
    },
    {
     "data": {
      "text/html": [
       "<div>\n",
       "<style scoped>\n",
       "    .dataframe tbody tr th:only-of-type {\n",
       "        vertical-align: middle;\n",
       "    }\n",
       "\n",
       "    .dataframe tbody tr th {\n",
       "        vertical-align: top;\n",
       "    }\n",
       "\n",
       "    .dataframe thead th {\n",
       "        text-align: right;\n",
       "    }\n",
       "</style>\n",
       "<table border=\"1\" class=\"dataframe\">\n",
       "  <thead>\n",
       "    <tr style=\"text-align: right;\">\n",
       "      <th></th>\n",
       "      <th>0</th>\n",
       "    </tr>\n",
       "  </thead>\n",
       "  <tbody>\n",
       "    <tr>\n",
       "      <th>mean_fit_time</th>\n",
       "      <td>0.035288</td>\n",
       "    </tr>\n",
       "    <tr>\n",
       "      <th>std_fit_time</th>\n",
       "      <td>0.010338</td>\n",
       "    </tr>\n",
       "    <tr>\n",
       "      <th>mean_score_time</th>\n",
       "      <td>0.003717</td>\n",
       "    </tr>\n",
       "    <tr>\n",
       "      <th>std_score_time</th>\n",
       "      <td>0.00198</td>\n",
       "    </tr>\n",
       "    <tr>\n",
       "      <th>param_logisticregression__C</th>\n",
       "      <td>0.001</td>\n",
       "    </tr>\n",
       "    <tr>\n",
       "      <th>param_logisticregression__max_iter</th>\n",
       "      <td>100</td>\n",
       "    </tr>\n",
       "    <tr>\n",
       "      <th>param_logisticregression__penalty</th>\n",
       "      <td>l2</td>\n",
       "    </tr>\n",
       "    <tr>\n",
       "      <th>param_logisticregression__solver</th>\n",
       "      <td>newton-cg</td>\n",
       "    </tr>\n",
       "    <tr>\n",
       "      <th>params</th>\n",
       "      <td>{'logisticregression__C': 0.001, 'logisticregr...</td>\n",
       "    </tr>\n",
       "    <tr>\n",
       "      <th>split0_test_score</th>\n",
       "      <td>0.921053</td>\n",
       "    </tr>\n",
       "    <tr>\n",
       "      <th>split1_test_score</th>\n",
       "      <td>0.946667</td>\n",
       "    </tr>\n",
       "    <tr>\n",
       "      <th>split2_test_score</th>\n",
       "      <td>0.96</td>\n",
       "    </tr>\n",
       "    <tr>\n",
       "      <th>split3_test_score</th>\n",
       "      <td>0.92</td>\n",
       "    </tr>\n",
       "    <tr>\n",
       "      <th>split4_test_score</th>\n",
       "      <td>0.906667</td>\n",
       "    </tr>\n",
       "    <tr>\n",
       "      <th>mean_test_score</th>\n",
       "      <td>0.930877</td>\n",
       "    </tr>\n",
       "    <tr>\n",
       "      <th>std_test_score</th>\n",
       "      <td>0.019486</td>\n",
       "    </tr>\n",
       "    <tr>\n",
       "      <th>rank_test_score</th>\n",
       "      <td>1</td>\n",
       "    </tr>\n",
       "  </tbody>\n",
       "</table>\n",
       "</div>"
      ],
      "text/plain": [
       "                                                                                    0\n",
       "mean_fit_time                                                                0.035288\n",
       "std_fit_time                                                                 0.010338\n",
       "mean_score_time                                                              0.003717\n",
       "std_score_time                                                                0.00198\n",
       "param_logisticregression__C                                                     0.001\n",
       "param_logisticregression__max_iter                                                100\n",
       "param_logisticregression__penalty                                                  l2\n",
       "param_logisticregression__solver                                            newton-cg\n",
       "params                              {'logisticregression__C': 0.001, 'logisticregr...\n",
       "split0_test_score                                                            0.921053\n",
       "split1_test_score                                                            0.946667\n",
       "split2_test_score                                                                0.96\n",
       "split3_test_score                                                                0.92\n",
       "split4_test_score                                                            0.906667\n",
       "mean_test_score                                                              0.930877\n",
       "std_test_score                                                               0.019486\n",
       "rank_test_score                                                                     1"
      ]
     },
     "metadata": {},
     "output_type": "display_data"
    }
   ],
   "source": [
    "cv_results = pd.DataFrame(grid_search.cv_results_)\n",
    "display(cv_results.head().T)\n",
    "###################################################\n",
    "# melhores hiper-parametros\n",
    "#display(grid_search.best_params_)\n",
    "\n",
    "#  melhor modelo\n",
    "display(cv_results.loc[[grid_search.best_index_]].T)"
   ]
  },
  {
   "cell_type": "code",
   "execution_count": 26,
   "id": "d4821a35",
   "metadata": {},
   "outputs": [
    {
     "name": "stdout",
     "output_type": "stream",
     "text": [
      "P-value (Kruskal-Wallis): 1.00\n"
     ]
    },
    {
     "data": {
      "application/vnd.plotly.v1+json": {
       "config": {
        "plotlyServerURL": "https://plot.ly"
       },
       "data": [
        {
         "alignmentgroup": "True",
         "box": {
          "visible": true
         },
         "hovertemplate": "param_logisticregression__max_iter=%{x}<br>mean_test_score=%{y}<extra></extra>",
         "legendgroup": "100",
         "marker": {
          "color": "#636efa"
         },
         "name": "100",
         "offsetgroup": "100",
         "orientation": "v",
         "points": "all",
         "scalegroup": "True",
         "showlegend": true,
         "type": "violin",
         "x": [
          100,
          100,
          100,
          100,
          100,
          100,
          100,
          100,
          100,
          100,
          100,
          100,
          100,
          100,
          100,
          100,
          100,
          100,
          100,
          100
         ],
         "x0": " ",
         "xaxis": "x",
         "y": [
          0.9308771929824561,
          0.9308771929824561,
          0.9282105263157895,
          0.9282105263157895,
          0.9255087719298245,
          0.9255087719298245,
          0.9201754385964913,
          0.9201754385964913,
          0.9228070175438597,
          0.9228070175438597,
          0,
          0.9282105263157895,
          0.8456491228070175,
          0.9282105263157895,
          0.9281754385964913,
          0.9255087719298245,
          0.9201754385964913,
          0.9201754385964913,
          0.9228070175438597,
          0.9228070175438597
         ],
         "y0": " ",
         "yaxis": "y"
        },
        {
         "alignmentgroup": "True",
         "box": {
          "visible": true
         },
         "hovertemplate": "param_logisticregression__max_iter=%{x}<br>mean_test_score=%{y}<extra></extra>",
         "legendgroup": "150",
         "marker": {
          "color": "#EF553B"
         },
         "name": "150",
         "offsetgroup": "150",
         "orientation": "v",
         "points": "all",
         "scalegroup": "True",
         "showlegend": true,
         "type": "violin",
         "x": [
          150,
          150,
          150,
          150,
          150,
          150,
          150,
          150,
          150,
          150,
          150,
          150,
          150,
          150,
          150,
          150,
          150,
          150,
          150,
          150
         ],
         "x0": " ",
         "xaxis": "x",
         "y": [
          0.9308771929824561,
          0.9308771929824561,
          0.9282105263157895,
          0.9282105263157895,
          0.9255087719298245,
          0.9255087719298245,
          0.9201754385964913,
          0.9201754385964913,
          0.9228070175438597,
          0.9228070175438597,
          0,
          0.9282105263157895,
          0.8456491228070175,
          0.9282105263157895,
          0.9281754385964913,
          0.9255087719298245,
          0.9201754385964913,
          0.9201754385964913,
          0.9228070175438597,
          0.9228070175438597
         ],
         "y0": " ",
         "yaxis": "y"
        },
        {
         "alignmentgroup": "True",
         "box": {
          "visible": true
         },
         "hovertemplate": "param_logisticregression__max_iter=%{x}<br>mean_test_score=%{y}<extra></extra>",
         "legendgroup": "200",
         "marker": {
          "color": "#00cc96"
         },
         "name": "200",
         "offsetgroup": "200",
         "orientation": "v",
         "points": "all",
         "scalegroup": "True",
         "showlegend": true,
         "type": "violin",
         "x": [
          200,
          200,
          200,
          200,
          200,
          200,
          200,
          200,
          200,
          200,
          200,
          200,
          200,
          200,
          200,
          200,
          200,
          200,
          200,
          200
         ],
         "x0": " ",
         "xaxis": "x",
         "y": [
          0.9308771929824561,
          0.9308771929824561,
          0.9282105263157895,
          0.9282105263157895,
          0.9255087719298245,
          0.9255087719298245,
          0.9201754385964913,
          0.9201754385964913,
          0.9228070175438597,
          0.9228070175438597,
          0,
          0.9282105263157895,
          0.8456491228070175,
          0.9282105263157895,
          0.9281754385964913,
          0.9255087719298245,
          0.9201754385964913,
          0.9201754385964913,
          0.9228070175438597,
          0.9228070175438597
         ],
         "y0": " ",
         "yaxis": "y"
        },
        {
         "alignmentgroup": "True",
         "box": {
          "visible": true
         },
         "hovertemplate": "param_logisticregression__max_iter=%{x}<br>mean_test_score=%{y}<extra></extra>",
         "legendgroup": "250",
         "marker": {
          "color": "#ab63fa"
         },
         "name": "250",
         "offsetgroup": "250",
         "orientation": "v",
         "points": "all",
         "scalegroup": "True",
         "showlegend": true,
         "type": "violin",
         "x": [
          250,
          250,
          250,
          250,
          250,
          250,
          250,
          250,
          250,
          250,
          250,
          250,
          250,
          250,
          250,
          250,
          250,
          250,
          250,
          250
         ],
         "x0": " ",
         "xaxis": "x",
         "y": [
          0.9308771929824561,
          0.9308771929824561,
          0.9282105263157895,
          0.9282105263157895,
          0.9255087719298245,
          0.9255087719298245,
          0.9201754385964913,
          0.9201754385964913,
          0.9228070175438597,
          0.9228070175438597,
          0,
          0.9282105263157895,
          0.8456491228070175,
          0.9282105263157895,
          0.9281754385964913,
          0.9255087719298245,
          0.9201754385964913,
          0.9201754385964913,
          0.9228070175438597,
          0.9228070175438597
         ],
         "y0": " ",
         "yaxis": "y"
        },
        {
         "alignmentgroup": "True",
         "box": {
          "visible": true
         },
         "hovertemplate": "param_logisticregression__max_iter=%{x}<br>mean_test_score=%{y}<extra></extra>",
         "legendgroup": "300",
         "marker": {
          "color": "#FFA15A"
         },
         "name": "300",
         "offsetgroup": "300",
         "orientation": "v",
         "points": "all",
         "scalegroup": "True",
         "showlegend": true,
         "type": "violin",
         "x": [
          300,
          300,
          300,
          300,
          300,
          300,
          300,
          300,
          300,
          300,
          300,
          300,
          300,
          300,
          300,
          300,
          300,
          300,
          300,
          300
         ],
         "x0": " ",
         "xaxis": "x",
         "y": [
          0.9308771929824561,
          0.9308771929824561,
          0.9282105263157895,
          0.9282105263157895,
          0.9255087719298245,
          0.9255087719298245,
          0.9201754385964913,
          0.9201754385964913,
          0.9228070175438597,
          0.9228070175438597,
          0,
          0.9282105263157895,
          0.8456491228070175,
          0.9282105263157895,
          0.9281754385964913,
          0.9255087719298245,
          0.9201754385964913,
          0.9201754385964913,
          0.9228070175438597,
          0.9228070175438597
         ],
         "y0": " ",
         "yaxis": "y"
        }
       ],
       "layout": {
        "legend": {
         "title": {
          "text": "param_logisticregression__max_iter"
         },
         "tracegroupgap": 0
        },
        "margin": {
         "t": 60
        },
        "template": {
         "data": {
          "bar": [
           {
            "error_x": {
             "color": "#2a3f5f"
            },
            "error_y": {
             "color": "#2a3f5f"
            },
            "marker": {
             "line": {
              "color": "#E5ECF6",
              "width": 0.5
             },
             "pattern": {
              "fillmode": "overlay",
              "size": 10,
              "solidity": 0.2
             }
            },
            "type": "bar"
           }
          ],
          "barpolar": [
           {
            "marker": {
             "line": {
              "color": "#E5ECF6",
              "width": 0.5
             },
             "pattern": {
              "fillmode": "overlay",
              "size": 10,
              "solidity": 0.2
             }
            },
            "type": "barpolar"
           }
          ],
          "carpet": [
           {
            "aaxis": {
             "endlinecolor": "#2a3f5f",
             "gridcolor": "white",
             "linecolor": "white",
             "minorgridcolor": "white",
             "startlinecolor": "#2a3f5f"
            },
            "baxis": {
             "endlinecolor": "#2a3f5f",
             "gridcolor": "white",
             "linecolor": "white",
             "minorgridcolor": "white",
             "startlinecolor": "#2a3f5f"
            },
            "type": "carpet"
           }
          ],
          "choropleth": [
           {
            "colorbar": {
             "outlinewidth": 0,
             "ticks": ""
            },
            "type": "choropleth"
           }
          ],
          "contour": [
           {
            "colorbar": {
             "outlinewidth": 0,
             "ticks": ""
            },
            "colorscale": [
             [
              0,
              "#0d0887"
             ],
             [
              0.1111111111111111,
              "#46039f"
             ],
             [
              0.2222222222222222,
              "#7201a8"
             ],
             [
              0.3333333333333333,
              "#9c179e"
             ],
             [
              0.4444444444444444,
              "#bd3786"
             ],
             [
              0.5555555555555556,
              "#d8576b"
             ],
             [
              0.6666666666666666,
              "#ed7953"
             ],
             [
              0.7777777777777778,
              "#fb9f3a"
             ],
             [
              0.8888888888888888,
              "#fdca26"
             ],
             [
              1,
              "#f0f921"
             ]
            ],
            "type": "contour"
           }
          ],
          "contourcarpet": [
           {
            "colorbar": {
             "outlinewidth": 0,
             "ticks": ""
            },
            "type": "contourcarpet"
           }
          ],
          "heatmap": [
           {
            "colorbar": {
             "outlinewidth": 0,
             "ticks": ""
            },
            "colorscale": [
             [
              0,
              "#0d0887"
             ],
             [
              0.1111111111111111,
              "#46039f"
             ],
             [
              0.2222222222222222,
              "#7201a8"
             ],
             [
              0.3333333333333333,
              "#9c179e"
             ],
             [
              0.4444444444444444,
              "#bd3786"
             ],
             [
              0.5555555555555556,
              "#d8576b"
             ],
             [
              0.6666666666666666,
              "#ed7953"
             ],
             [
              0.7777777777777778,
              "#fb9f3a"
             ],
             [
              0.8888888888888888,
              "#fdca26"
             ],
             [
              1,
              "#f0f921"
             ]
            ],
            "type": "heatmap"
           }
          ],
          "heatmapgl": [
           {
            "colorbar": {
             "outlinewidth": 0,
             "ticks": ""
            },
            "colorscale": [
             [
              0,
              "#0d0887"
             ],
             [
              0.1111111111111111,
              "#46039f"
             ],
             [
              0.2222222222222222,
              "#7201a8"
             ],
             [
              0.3333333333333333,
              "#9c179e"
             ],
             [
              0.4444444444444444,
              "#bd3786"
             ],
             [
              0.5555555555555556,
              "#d8576b"
             ],
             [
              0.6666666666666666,
              "#ed7953"
             ],
             [
              0.7777777777777778,
              "#fb9f3a"
             ],
             [
              0.8888888888888888,
              "#fdca26"
             ],
             [
              1,
              "#f0f921"
             ]
            ],
            "type": "heatmapgl"
           }
          ],
          "histogram": [
           {
            "marker": {
             "pattern": {
              "fillmode": "overlay",
              "size": 10,
              "solidity": 0.2
             }
            },
            "type": "histogram"
           }
          ],
          "histogram2d": [
           {
            "colorbar": {
             "outlinewidth": 0,
             "ticks": ""
            },
            "colorscale": [
             [
              0,
              "#0d0887"
             ],
             [
              0.1111111111111111,
              "#46039f"
             ],
             [
              0.2222222222222222,
              "#7201a8"
             ],
             [
              0.3333333333333333,
              "#9c179e"
             ],
             [
              0.4444444444444444,
              "#bd3786"
             ],
             [
              0.5555555555555556,
              "#d8576b"
             ],
             [
              0.6666666666666666,
              "#ed7953"
             ],
             [
              0.7777777777777778,
              "#fb9f3a"
             ],
             [
              0.8888888888888888,
              "#fdca26"
             ],
             [
              1,
              "#f0f921"
             ]
            ],
            "type": "histogram2d"
           }
          ],
          "histogram2dcontour": [
           {
            "colorbar": {
             "outlinewidth": 0,
             "ticks": ""
            },
            "colorscale": [
             [
              0,
              "#0d0887"
             ],
             [
              0.1111111111111111,
              "#46039f"
             ],
             [
              0.2222222222222222,
              "#7201a8"
             ],
             [
              0.3333333333333333,
              "#9c179e"
             ],
             [
              0.4444444444444444,
              "#bd3786"
             ],
             [
              0.5555555555555556,
              "#d8576b"
             ],
             [
              0.6666666666666666,
              "#ed7953"
             ],
             [
              0.7777777777777778,
              "#fb9f3a"
             ],
             [
              0.8888888888888888,
              "#fdca26"
             ],
             [
              1,
              "#f0f921"
             ]
            ],
            "type": "histogram2dcontour"
           }
          ],
          "mesh3d": [
           {
            "colorbar": {
             "outlinewidth": 0,
             "ticks": ""
            },
            "type": "mesh3d"
           }
          ],
          "parcoords": [
           {
            "line": {
             "colorbar": {
              "outlinewidth": 0,
              "ticks": ""
             }
            },
            "type": "parcoords"
           }
          ],
          "pie": [
           {
            "automargin": true,
            "type": "pie"
           }
          ],
          "scatter": [
           {
            "fillpattern": {
             "fillmode": "overlay",
             "size": 10,
             "solidity": 0.2
            },
            "type": "scatter"
           }
          ],
          "scatter3d": [
           {
            "line": {
             "colorbar": {
              "outlinewidth": 0,
              "ticks": ""
             }
            },
            "marker": {
             "colorbar": {
              "outlinewidth": 0,
              "ticks": ""
             }
            },
            "type": "scatter3d"
           }
          ],
          "scattercarpet": [
           {
            "marker": {
             "colorbar": {
              "outlinewidth": 0,
              "ticks": ""
             }
            },
            "type": "scattercarpet"
           }
          ],
          "scattergeo": [
           {
            "marker": {
             "colorbar": {
              "outlinewidth": 0,
              "ticks": ""
             }
            },
            "type": "scattergeo"
           }
          ],
          "scattergl": [
           {
            "marker": {
             "colorbar": {
              "outlinewidth": 0,
              "ticks": ""
             }
            },
            "type": "scattergl"
           }
          ],
          "scattermapbox": [
           {
            "marker": {
             "colorbar": {
              "outlinewidth": 0,
              "ticks": ""
             }
            },
            "type": "scattermapbox"
           }
          ],
          "scatterpolar": [
           {
            "marker": {
             "colorbar": {
              "outlinewidth": 0,
              "ticks": ""
             }
            },
            "type": "scatterpolar"
           }
          ],
          "scatterpolargl": [
           {
            "marker": {
             "colorbar": {
              "outlinewidth": 0,
              "ticks": ""
             }
            },
            "type": "scatterpolargl"
           }
          ],
          "scatterternary": [
           {
            "marker": {
             "colorbar": {
              "outlinewidth": 0,
              "ticks": ""
             }
            },
            "type": "scatterternary"
           }
          ],
          "surface": [
           {
            "colorbar": {
             "outlinewidth": 0,
             "ticks": ""
            },
            "colorscale": [
             [
              0,
              "#0d0887"
             ],
             [
              0.1111111111111111,
              "#46039f"
             ],
             [
              0.2222222222222222,
              "#7201a8"
             ],
             [
              0.3333333333333333,
              "#9c179e"
             ],
             [
              0.4444444444444444,
              "#bd3786"
             ],
             [
              0.5555555555555556,
              "#d8576b"
             ],
             [
              0.6666666666666666,
              "#ed7953"
             ],
             [
              0.7777777777777778,
              "#fb9f3a"
             ],
             [
              0.8888888888888888,
              "#fdca26"
             ],
             [
              1,
              "#f0f921"
             ]
            ],
            "type": "surface"
           }
          ],
          "table": [
           {
            "cells": {
             "fill": {
              "color": "#EBF0F8"
             },
             "line": {
              "color": "white"
             }
            },
            "header": {
             "fill": {
              "color": "#C8D4E3"
             },
             "line": {
              "color": "white"
             }
            },
            "type": "table"
           }
          ]
         },
         "layout": {
          "annotationdefaults": {
           "arrowcolor": "#2a3f5f",
           "arrowhead": 0,
           "arrowwidth": 1
          },
          "autotypenumbers": "strict",
          "coloraxis": {
           "colorbar": {
            "outlinewidth": 0,
            "ticks": ""
           }
          },
          "colorscale": {
           "diverging": [
            [
             0,
             "#8e0152"
            ],
            [
             0.1,
             "#c51b7d"
            ],
            [
             0.2,
             "#de77ae"
            ],
            [
             0.3,
             "#f1b6da"
            ],
            [
             0.4,
             "#fde0ef"
            ],
            [
             0.5,
             "#f7f7f7"
            ],
            [
             0.6,
             "#e6f5d0"
            ],
            [
             0.7,
             "#b8e186"
            ],
            [
             0.8,
             "#7fbc41"
            ],
            [
             0.9,
             "#4d9221"
            ],
            [
             1,
             "#276419"
            ]
           ],
           "sequential": [
            [
             0,
             "#0d0887"
            ],
            [
             0.1111111111111111,
             "#46039f"
            ],
            [
             0.2222222222222222,
             "#7201a8"
            ],
            [
             0.3333333333333333,
             "#9c179e"
            ],
            [
             0.4444444444444444,
             "#bd3786"
            ],
            [
             0.5555555555555556,
             "#d8576b"
            ],
            [
             0.6666666666666666,
             "#ed7953"
            ],
            [
             0.7777777777777778,
             "#fb9f3a"
            ],
            [
             0.8888888888888888,
             "#fdca26"
            ],
            [
             1,
             "#f0f921"
            ]
           ],
           "sequentialminus": [
            [
             0,
             "#0d0887"
            ],
            [
             0.1111111111111111,
             "#46039f"
            ],
            [
             0.2222222222222222,
             "#7201a8"
            ],
            [
             0.3333333333333333,
             "#9c179e"
            ],
            [
             0.4444444444444444,
             "#bd3786"
            ],
            [
             0.5555555555555556,
             "#d8576b"
            ],
            [
             0.6666666666666666,
             "#ed7953"
            ],
            [
             0.7777777777777778,
             "#fb9f3a"
            ],
            [
             0.8888888888888888,
             "#fdca26"
            ],
            [
             1,
             "#f0f921"
            ]
           ]
          },
          "colorway": [
           "#636efa",
           "#EF553B",
           "#00cc96",
           "#ab63fa",
           "#FFA15A",
           "#19d3f3",
           "#FF6692",
           "#B6E880",
           "#FF97FF",
           "#FECB52"
          ],
          "font": {
           "color": "#2a3f5f"
          },
          "geo": {
           "bgcolor": "white",
           "lakecolor": "white",
           "landcolor": "#E5ECF6",
           "showlakes": true,
           "showland": true,
           "subunitcolor": "white"
          },
          "hoverlabel": {
           "align": "left"
          },
          "hovermode": "closest",
          "mapbox": {
           "style": "light"
          },
          "paper_bgcolor": "white",
          "plot_bgcolor": "#E5ECF6",
          "polar": {
           "angularaxis": {
            "gridcolor": "white",
            "linecolor": "white",
            "ticks": ""
           },
           "bgcolor": "#E5ECF6",
           "radialaxis": {
            "gridcolor": "white",
            "linecolor": "white",
            "ticks": ""
           }
          },
          "scene": {
           "xaxis": {
            "backgroundcolor": "#E5ECF6",
            "gridcolor": "white",
            "gridwidth": 2,
            "linecolor": "white",
            "showbackground": true,
            "ticks": "",
            "zerolinecolor": "white"
           },
           "yaxis": {
            "backgroundcolor": "#E5ECF6",
            "gridcolor": "white",
            "gridwidth": 2,
            "linecolor": "white",
            "showbackground": true,
            "ticks": "",
            "zerolinecolor": "white"
           },
           "zaxis": {
            "backgroundcolor": "#E5ECF6",
            "gridcolor": "white",
            "gridwidth": 2,
            "linecolor": "white",
            "showbackground": true,
            "ticks": "",
            "zerolinecolor": "white"
           }
          },
          "shapedefaults": {
           "line": {
            "color": "#2a3f5f"
           }
          },
          "ternary": {
           "aaxis": {
            "gridcolor": "white",
            "linecolor": "white",
            "ticks": ""
           },
           "baxis": {
            "gridcolor": "white",
            "linecolor": "white",
            "ticks": ""
           },
           "bgcolor": "#E5ECF6",
           "caxis": {
            "gridcolor": "white",
            "linecolor": "white",
            "ticks": ""
           }
          },
          "title": {
           "x": 0.05
          },
          "xaxis": {
           "automargin": true,
           "gridcolor": "white",
           "linecolor": "white",
           "ticks": "",
           "title": {
            "standoff": 15
           },
           "zerolinecolor": "white",
           "zerolinewidth": 2
          },
          "yaxis": {
           "automargin": true,
           "gridcolor": "white",
           "linecolor": "white",
           "ticks": "",
           "title": {
            "standoff": 15
           },
           "zerolinecolor": "white",
           "zerolinewidth": 2
          }
         }
        },
        "violinmode": "overlay",
        "xaxis": {
         "anchor": "y",
         "categoryarray": [
          100,
          150,
          200,
          250,
          300
         ],
         "categoryorder": "array",
         "domain": [
          0,
          1
         ],
         "title": {
          "text": "param_logisticregression__max_iter"
         }
        },
        "yaxis": {
         "anchor": "x",
         "domain": [
          0,
          1
         ],
         "title": {
          "text": "mean_test_score"
         }
        }
       }
      }
     },
     "metadata": {},
     "output_type": "display_data"
    }
   ],
   "source": [
    "num_cat_hip(cv_results, 'param_logisticregression__max_iter', 'mean_test_score')"
   ]
  },
  {
   "cell_type": "markdown",
   "id": "d71fff26",
   "metadata": {},
   "source": [
    "# Nested Cross Validation - Validação Cruzada Aninhada\n",
    "\n",
    "A validação cruzada aninhada é uma extensão da validação cruzada tradicional que ajuda a obter uma estimativa mais realista e menos otimista do erro de generalização de um modelo. Esta técnica é particularmente útil quando o objetivo é selecionar tanto o modelo quanto os hiperparâmetros de forma mais precisa.\n",
    "\n",
    "Isso porque ela permite que cada combinação de hiperparâmetros seja avaliada de forma mais imparcial, usando uma parte do conjunto de dados que não foi \"vista\" pelos hiperparâmetros durante sua seleção.\n",
    "\n",
    "- **Estimativa Imparcial do Desempenho:** Ao separar a seleção de hiperparâmetros do teste final, a validação cruzada aninhada fornece uma estimativa mais imparcial e geralmente mais conservadora do desempenho do modelo.\n",
    "- **Validade Estatística:** Ajustar os hiperparâmetros de forma independente para cada fold externo ajuda a evitar o viés e o sobreajuste, aumentando a validade estatística dos resultados.\n",
    "\n",
    "## Validação Cruzada Aninhada vs. Não Aninhada\n",
    "\n",
    "### Validação Cruzada Não Aninhada\n",
    "\n",
    "Na validação cruzada não aninhada (ou padrão), dividimos o conjunto de dados em \\( k \\) folds e realizamos \\( k \\) iterações de treinamento e teste. Em cada iteração, um fold diferente é usado como teste, e os restantes são usados para treinamento. Este método é eficaz para avaliar o desempenho do modelo, mas tem algumas limitações:\n",
    "- **Otimismo no Desempenho:** Como o mesmo conjunto de dados é usado para selecionar os hiperparâmetros e avaliar o modelo, pode haver um viés otimista no desempenho estimado.\n",
    "- **Dependência de Hiperparâmetros:** A escolha dos hiperparâmetros pode influenciar significativamente a estimativa de desempenho, resultando em uma possível sobreajuste à configuração particular do conjunto de dados de teste.\n",
    "\n",
    "### Validação Cruzada Aninhada\n",
    "\n",
    "A validação cruzada aninhada resolve essas questões utilizando dois níveis de validação cruzada:\n",
    "- **Validação Cruzada Externa:** Divide o conjunto de dados em \\( k \\) folds externos. Cada fold externo serve uma vez como conjunto de teste, enquanto os folds restantes são usados para a validação cruzada interna.\n",
    "- **Validação Cruzada Interna:** Dentro de cada fold externo, realiza-se uma segunda validação cruzada para selecionar os hiperparâmetros. Isso significa que os hiperparâmetros são ajustados independentemente para cada fold externo."
   ]
  },
  {
   "cell_type": "markdown",
   "id": "e2b5cc45",
   "metadata": {},
   "source": [
    "## Decision Tree Classifier"
   ]
  },
  {
   "cell_type": "code",
   "execution_count": 27,
   "id": "637d6607",
   "metadata": {},
   "outputs": [],
   "source": [
    "# Validação internar\n",
    "inner_cv = StratifiedKFold(shuffle=True, random_state=RANDOM_STATE)\n",
    "\n",
    "# Validação externar\n",
    "outer_cv = StratifiedKFold(n_splits=3, shuffle=True, random_state=RANDOM_STATE)"
   ]
  },
  {
   "cell_type": "code",
   "execution_count": 28,
   "id": "624d656a",
   "metadata": {},
   "outputs": [
    {
     "name": "stdout",
     "output_type": "stream",
     "text": [
      "resultado de cada iteração do cv externo: [0.86507937 0.8        0.8       ]\n",
      "média: 0.8216931216931217\n"
     ]
    },
    {
     "data": {
      "text/html": [
       "<style>#sk-container-id-4 {color: black;background-color: white;}#sk-container-id-4 pre{padding: 0;}#sk-container-id-4 div.sk-toggleable {background-color: white;}#sk-container-id-4 label.sk-toggleable__label {cursor: pointer;display: block;width: 100%;margin-bottom: 0;padding: 0.3em;box-sizing: border-box;text-align: center;}#sk-container-id-4 label.sk-toggleable__label-arrow:before {content: \"▸\";float: left;margin-right: 0.25em;color: #696969;}#sk-container-id-4 label.sk-toggleable__label-arrow:hover:before {color: black;}#sk-container-id-4 div.sk-estimator:hover label.sk-toggleable__label-arrow:before {color: black;}#sk-container-id-4 div.sk-toggleable__content {max-height: 0;max-width: 0;overflow: hidden;text-align: left;background-color: #f0f8ff;}#sk-container-id-4 div.sk-toggleable__content pre {margin: 0.2em;color: black;border-radius: 0.25em;background-color: #f0f8ff;}#sk-container-id-4 input.sk-toggleable__control:checked~div.sk-toggleable__content {max-height: 200px;max-width: 100%;overflow: auto;}#sk-container-id-4 input.sk-toggleable__control:checked~label.sk-toggleable__label-arrow:before {content: \"▾\";}#sk-container-id-4 div.sk-estimator input.sk-toggleable__control:checked~label.sk-toggleable__label {background-color: #d4ebff;}#sk-container-id-4 div.sk-label input.sk-toggleable__control:checked~label.sk-toggleable__label {background-color: #d4ebff;}#sk-container-id-4 input.sk-hidden--visually {border: 0;clip: rect(1px 1px 1px 1px);clip: rect(1px, 1px, 1px, 1px);height: 1px;margin: -1px;overflow: hidden;padding: 0;position: absolute;width: 1px;}#sk-container-id-4 div.sk-estimator {font-family: monospace;background-color: #f0f8ff;border: 1px dotted black;border-radius: 0.25em;box-sizing: border-box;margin-bottom: 0.5em;}#sk-container-id-4 div.sk-estimator:hover {background-color: #d4ebff;}#sk-container-id-4 div.sk-parallel-item::after {content: \"\";width: 100%;border-bottom: 1px solid gray;flex-grow: 1;}#sk-container-id-4 div.sk-label:hover label.sk-toggleable__label {background-color: #d4ebff;}#sk-container-id-4 div.sk-serial::before {content: \"\";position: absolute;border-left: 1px solid gray;box-sizing: border-box;top: 0;bottom: 0;left: 50%;z-index: 0;}#sk-container-id-4 div.sk-serial {display: flex;flex-direction: column;align-items: center;background-color: white;padding-right: 0.2em;padding-left: 0.2em;position: relative;}#sk-container-id-4 div.sk-item {position: relative;z-index: 1;}#sk-container-id-4 div.sk-parallel {display: flex;align-items: stretch;justify-content: center;background-color: white;position: relative;}#sk-container-id-4 div.sk-item::before, #sk-container-id-4 div.sk-parallel-item::before {content: \"\";position: absolute;border-left: 1px solid gray;box-sizing: border-box;top: 0;bottom: 0;left: 50%;z-index: -1;}#sk-container-id-4 div.sk-parallel-item {display: flex;flex-direction: column;z-index: 1;position: relative;background-color: white;}#sk-container-id-4 div.sk-parallel-item:first-child::after {align-self: flex-end;width: 50%;}#sk-container-id-4 div.sk-parallel-item:last-child::after {align-self: flex-start;width: 50%;}#sk-container-id-4 div.sk-parallel-item:only-child::after {width: 0;}#sk-container-id-4 div.sk-dashed-wrapped {border: 1px dashed gray;margin: 0 0.4em 0.5em 0.4em;box-sizing: border-box;padding-bottom: 0.4em;background-color: white;}#sk-container-id-4 div.sk-label label {font-family: monospace;font-weight: bold;display: inline-block;line-height: 1.2em;}#sk-container-id-4 div.sk-label-container {text-align: center;}#sk-container-id-4 div.sk-container {/* jupyter's `normalize.less` sets `[hidden] { display: none; }` but bootstrap.min.css set `[hidden] { display: none !important; }` so we also need the `!important` here to be able to override the default hidden behavior on the sphinx rendered scikit-learn.org. See: https://github.com/scikit-learn/scikit-learn/issues/21755 */display: inline-block !important;position: relative;}#sk-container-id-4 div.sk-text-repr-fallback {display: none;}</style><div id=\"sk-container-id-4\" class=\"sk-top-container\"><div class=\"sk-text-repr-fallback\"><pre>GridSearchCV(cv=StratifiedKFold(n_splits=5, random_state=3141592, shuffle=True),\n",
       "             estimator=DecisionTreeClassifier(random_state=3141592), n_jobs=-1,\n",
       "             param_grid={&#x27;criterion&#x27;: [&#x27;gini&#x27;, &#x27;entropy&#x27;],\n",
       "                         &#x27;max_depth&#x27;: array([ 6,  8, 10, 12]),\n",
       "                         &#x27;max_features&#x27;: [&#x27;sqrt&#x27;, &#x27;log2&#x27;],\n",
       "                         &#x27;min_samples_leaf&#x27;: array([ 5, 10, 15, 20]),\n",
       "                         &#x27;min_samples_split&#x27;: array([ 5, 10, 15, 20]),\n",
       "                         &#x27;splitter&#x27;: [&#x27;best&#x27;, &#x27;random&#x27;]},\n",
       "             scoring=&#x27;recall&#x27;)</pre><b>In a Jupyter environment, please rerun this cell to show the HTML representation or trust the notebook. <br />On GitHub, the HTML representation is unable to render, please try loading this page with nbviewer.org.</b></div><div class=\"sk-container\" hidden><div class=\"sk-item sk-dashed-wrapped\"><div class=\"sk-label-container\"><div class=\"sk-label sk-toggleable\"><input class=\"sk-toggleable__control sk-hidden--visually\" id=\"sk-estimator-id-11\" type=\"checkbox\" ><label for=\"sk-estimator-id-11\" class=\"sk-toggleable__label sk-toggleable__label-arrow\">GridSearchCV</label><div class=\"sk-toggleable__content\"><pre>GridSearchCV(cv=StratifiedKFold(n_splits=5, random_state=3141592, shuffle=True),\n",
       "             estimator=DecisionTreeClassifier(random_state=3141592), n_jobs=-1,\n",
       "             param_grid={&#x27;criterion&#x27;: [&#x27;gini&#x27;, &#x27;entropy&#x27;],\n",
       "                         &#x27;max_depth&#x27;: array([ 6,  8, 10, 12]),\n",
       "                         &#x27;max_features&#x27;: [&#x27;sqrt&#x27;, &#x27;log2&#x27;],\n",
       "                         &#x27;min_samples_leaf&#x27;: array([ 5, 10, 15, 20]),\n",
       "                         &#x27;min_samples_split&#x27;: array([ 5, 10, 15, 20]),\n",
       "                         &#x27;splitter&#x27;: [&#x27;best&#x27;, &#x27;random&#x27;]},\n",
       "             scoring=&#x27;recall&#x27;)</pre></div></div></div><div class=\"sk-parallel\"><div class=\"sk-parallel-item\"><div class=\"sk-item\"><div class=\"sk-label-container\"><div class=\"sk-label sk-toggleable\"><input class=\"sk-toggleable__control sk-hidden--visually\" id=\"sk-estimator-id-12\" type=\"checkbox\" ><label for=\"sk-estimator-id-12\" class=\"sk-toggleable__label sk-toggleable__label-arrow\">estimator: DecisionTreeClassifier</label><div class=\"sk-toggleable__content\"><pre>DecisionTreeClassifier(random_state=3141592)</pre></div></div></div><div class=\"sk-serial\"><div class=\"sk-item\"><div class=\"sk-estimator sk-toggleable\"><input class=\"sk-toggleable__control sk-hidden--visually\" id=\"sk-estimator-id-13\" type=\"checkbox\" ><label for=\"sk-estimator-id-13\" class=\"sk-toggleable__label sk-toggleable__label-arrow\">DecisionTreeClassifier</label><div class=\"sk-toggleable__content\"><pre>DecisionTreeClassifier(random_state=3141592)</pre></div></div></div></div></div></div></div></div></div></div>"
      ],
      "text/plain": [
       "GridSearchCV(cv=StratifiedKFold(n_splits=5, random_state=3141592, shuffle=True),\n",
       "             estimator=DecisionTreeClassifier(random_state=3141592), n_jobs=-1,\n",
       "             param_grid={'criterion': ['gini', 'entropy'],\n",
       "                         'max_depth': array([ 6,  8, 10, 12]),\n",
       "                         'max_features': ['sqrt', 'log2'],\n",
       "                         'min_samples_leaf': array([ 5, 10, 15, 20]),\n",
       "                         'min_samples_split': array([ 5, 10, 15, 20]),\n",
       "                         'splitter': ['best', 'random']},\n",
       "             scoring='recall')"
      ]
     },
     "execution_count": 28,
     "metadata": {},
     "output_type": "execute_result"
    }
   ],
   "source": [
    "from sklearn.model_selection import cross_val_score\n",
    "\n",
    "grid_search = GridSearchCV(estimator = DecisionTreeClassifier(random_state=RANDOM_STATE),\n",
    "    param_grid = param_grid_dt,\n",
    "    scoring = \"recall\",\n",
    "    n_jobs = -1,\n",
    "    cv = inner_cv\n",
    "    )\n",
    "\n",
    "# Validação cruzada externa\n",
    "dt_nested_scores = cross_val_score(grid_search, x_treino, y_treino, cv=outer_cv)\n",
    "\n",
    "print(f'resultado de cada iteração do cv externo: {dt_nested_scores}')\n",
    "print(f'média: {dt_nested_scores.mean()}')\n",
    "\n",
    "grid_search.fit(x_treino, y_treino)"
   ]
  },
  {
   "cell_type": "code",
   "execution_count": 29,
   "id": "057eb87b",
   "metadata": {},
   "outputs": [
    {
     "data": {
      "text/html": [
       "<div>\n",
       "<style scoped>\n",
       "    .dataframe tbody tr th:only-of-type {\n",
       "        vertical-align: middle;\n",
       "    }\n",
       "\n",
       "    .dataframe tbody tr th {\n",
       "        vertical-align: top;\n",
       "    }\n",
       "\n",
       "    .dataframe thead th {\n",
       "        text-align: right;\n",
       "    }\n",
       "</style>\n",
       "<table border=\"1\" class=\"dataframe\">\n",
       "  <thead>\n",
       "    <tr style=\"text-align: right;\">\n",
       "      <th></th>\n",
       "      <th>0</th>\n",
       "      <th>1</th>\n",
       "      <th>2</th>\n",
       "      <th>3</th>\n",
       "      <th>4</th>\n",
       "    </tr>\n",
       "  </thead>\n",
       "  <tbody>\n",
       "    <tr>\n",
       "      <th>mean_fit_time</th>\n",
       "      <td>0.002202</td>\n",
       "      <td>0.001154</td>\n",
       "      <td>0.002467</td>\n",
       "      <td>0.001044</td>\n",
       "      <td>0.001999</td>\n",
       "    </tr>\n",
       "    <tr>\n",
       "      <th>std_fit_time</th>\n",
       "      <td>0.00051</td>\n",
       "      <td>0.000282</td>\n",
       "      <td>0.000452</td>\n",
       "      <td>0.000915</td>\n",
       "      <td>0.000001</td>\n",
       "    </tr>\n",
       "    <tr>\n",
       "      <th>mean_score_time</th>\n",
       "      <td>0.002001</td>\n",
       "      <td>0.001686</td>\n",
       "      <td>0.001669</td>\n",
       "      <td>0.003443</td>\n",
       "      <td>0.0014</td>\n",
       "    </tr>\n",
       "    <tr>\n",
       "      <th>std_score_time</th>\n",
       "      <td>0.000632</td>\n",
       "      <td>0.000548</td>\n",
       "      <td>0.000422</td>\n",
       "      <td>0.001931</td>\n",
       "      <td>0.000489</td>\n",
       "    </tr>\n",
       "    <tr>\n",
       "      <th>param_criterion</th>\n",
       "      <td>gini</td>\n",
       "      <td>gini</td>\n",
       "      <td>gini</td>\n",
       "      <td>gini</td>\n",
       "      <td>gini</td>\n",
       "    </tr>\n",
       "    <tr>\n",
       "      <th>param_max_depth</th>\n",
       "      <td>6</td>\n",
       "      <td>6</td>\n",
       "      <td>6</td>\n",
       "      <td>6</td>\n",
       "      <td>6</td>\n",
       "    </tr>\n",
       "    <tr>\n",
       "      <th>param_max_features</th>\n",
       "      <td>sqrt</td>\n",
       "      <td>sqrt</td>\n",
       "      <td>sqrt</td>\n",
       "      <td>sqrt</td>\n",
       "      <td>sqrt</td>\n",
       "    </tr>\n",
       "    <tr>\n",
       "      <th>param_min_samples_leaf</th>\n",
       "      <td>5</td>\n",
       "      <td>5</td>\n",
       "      <td>5</td>\n",
       "      <td>5</td>\n",
       "      <td>5</td>\n",
       "    </tr>\n",
       "    <tr>\n",
       "      <th>param_min_samples_split</th>\n",
       "      <td>5</td>\n",
       "      <td>5</td>\n",
       "      <td>10</td>\n",
       "      <td>10</td>\n",
       "      <td>15</td>\n",
       "    </tr>\n",
       "    <tr>\n",
       "      <th>param_splitter</th>\n",
       "      <td>best</td>\n",
       "      <td>random</td>\n",
       "      <td>best</td>\n",
       "      <td>random</td>\n",
       "      <td>best</td>\n",
       "    </tr>\n",
       "    <tr>\n",
       "      <th>params</th>\n",
       "      <td>{'criterion': 'gini', 'max_depth': 6, 'max_fea...</td>\n",
       "      <td>{'criterion': 'gini', 'max_depth': 6, 'max_fea...</td>\n",
       "      <td>{'criterion': 'gini', 'max_depth': 6, 'max_fea...</td>\n",
       "      <td>{'criterion': 'gini', 'max_depth': 6, 'max_fea...</td>\n",
       "      <td>{'criterion': 'gini', 'max_depth': 6, 'max_fea...</td>\n",
       "    </tr>\n",
       "    <tr>\n",
       "      <th>split0_test_score</th>\n",
       "      <td>0.736842</td>\n",
       "      <td>0.894737</td>\n",
       "      <td>0.736842</td>\n",
       "      <td>0.894737</td>\n",
       "      <td>0.868421</td>\n",
       "    </tr>\n",
       "    <tr>\n",
       "      <th>split1_test_score</th>\n",
       "      <td>0.773333</td>\n",
       "      <td>0.8</td>\n",
       "      <td>0.773333</td>\n",
       "      <td>0.8</td>\n",
       "      <td>0.84</td>\n",
       "    </tr>\n",
       "    <tr>\n",
       "      <th>split2_test_score</th>\n",
       "      <td>0.84</td>\n",
       "      <td>0.826667</td>\n",
       "      <td>0.84</td>\n",
       "      <td>0.826667</td>\n",
       "      <td>0.746667</td>\n",
       "    </tr>\n",
       "    <tr>\n",
       "      <th>split3_test_score</th>\n",
       "      <td>0.693333</td>\n",
       "      <td>0.853333</td>\n",
       "      <td>0.693333</td>\n",
       "      <td>0.853333</td>\n",
       "      <td>0.733333</td>\n",
       "    </tr>\n",
       "    <tr>\n",
       "      <th>split4_test_score</th>\n",
       "      <td>0.8</td>\n",
       "      <td>0.693333</td>\n",
       "      <td>0.8</td>\n",
       "      <td>0.693333</td>\n",
       "      <td>0.84</td>\n",
       "    </tr>\n",
       "    <tr>\n",
       "      <th>mean_test_score</th>\n",
       "      <td>0.768702</td>\n",
       "      <td>0.813614</td>\n",
       "      <td>0.768702</td>\n",
       "      <td>0.813614</td>\n",
       "      <td>0.805684</td>\n",
       "    </tr>\n",
       "    <tr>\n",
       "      <th>std_test_score</th>\n",
       "      <td>0.050557</td>\n",
       "      <td>0.067796</td>\n",
       "      <td>0.050557</td>\n",
       "      <td>0.067796</td>\n",
       "      <td>0.054788</td>\n",
       "    </tr>\n",
       "    <tr>\n",
       "      <th>rank_test_score</th>\n",
       "      <td>229</td>\n",
       "      <td>73</td>\n",
       "      <td>229</td>\n",
       "      <td>73</td>\n",
       "      <td>125</td>\n",
       "    </tr>\n",
       "  </tbody>\n",
       "</table>\n",
       "</div>"
      ],
      "text/plain": [
       "                                                                         0  \\\n",
       "mean_fit_time                                                     0.002202   \n",
       "std_fit_time                                                       0.00051   \n",
       "mean_score_time                                                   0.002001   \n",
       "std_score_time                                                    0.000632   \n",
       "param_criterion                                                       gini   \n",
       "param_max_depth                                                          6   \n",
       "param_max_features                                                    sqrt   \n",
       "param_min_samples_leaf                                                   5   \n",
       "param_min_samples_split                                                  5   \n",
       "param_splitter                                                        best   \n",
       "params                   {'criterion': 'gini', 'max_depth': 6, 'max_fea...   \n",
       "split0_test_score                                                 0.736842   \n",
       "split1_test_score                                                 0.773333   \n",
       "split2_test_score                                                     0.84   \n",
       "split3_test_score                                                 0.693333   \n",
       "split4_test_score                                                      0.8   \n",
       "mean_test_score                                                   0.768702   \n",
       "std_test_score                                                    0.050557   \n",
       "rank_test_score                                                        229   \n",
       "\n",
       "                                                                         1  \\\n",
       "mean_fit_time                                                     0.001154   \n",
       "std_fit_time                                                      0.000282   \n",
       "mean_score_time                                                   0.001686   \n",
       "std_score_time                                                    0.000548   \n",
       "param_criterion                                                       gini   \n",
       "param_max_depth                                                          6   \n",
       "param_max_features                                                    sqrt   \n",
       "param_min_samples_leaf                                                   5   \n",
       "param_min_samples_split                                                  5   \n",
       "param_splitter                                                      random   \n",
       "params                   {'criterion': 'gini', 'max_depth': 6, 'max_fea...   \n",
       "split0_test_score                                                 0.894737   \n",
       "split1_test_score                                                      0.8   \n",
       "split2_test_score                                                 0.826667   \n",
       "split3_test_score                                                 0.853333   \n",
       "split4_test_score                                                 0.693333   \n",
       "mean_test_score                                                   0.813614   \n",
       "std_test_score                                                    0.067796   \n",
       "rank_test_score                                                         73   \n",
       "\n",
       "                                                                         2  \\\n",
       "mean_fit_time                                                     0.002467   \n",
       "std_fit_time                                                      0.000452   \n",
       "mean_score_time                                                   0.001669   \n",
       "std_score_time                                                    0.000422   \n",
       "param_criterion                                                       gini   \n",
       "param_max_depth                                                          6   \n",
       "param_max_features                                                    sqrt   \n",
       "param_min_samples_leaf                                                   5   \n",
       "param_min_samples_split                                                 10   \n",
       "param_splitter                                                        best   \n",
       "params                   {'criterion': 'gini', 'max_depth': 6, 'max_fea...   \n",
       "split0_test_score                                                 0.736842   \n",
       "split1_test_score                                                 0.773333   \n",
       "split2_test_score                                                     0.84   \n",
       "split3_test_score                                                 0.693333   \n",
       "split4_test_score                                                      0.8   \n",
       "mean_test_score                                                   0.768702   \n",
       "std_test_score                                                    0.050557   \n",
       "rank_test_score                                                        229   \n",
       "\n",
       "                                                                         3  \\\n",
       "mean_fit_time                                                     0.001044   \n",
       "std_fit_time                                                      0.000915   \n",
       "mean_score_time                                                   0.003443   \n",
       "std_score_time                                                    0.001931   \n",
       "param_criterion                                                       gini   \n",
       "param_max_depth                                                          6   \n",
       "param_max_features                                                    sqrt   \n",
       "param_min_samples_leaf                                                   5   \n",
       "param_min_samples_split                                                 10   \n",
       "param_splitter                                                      random   \n",
       "params                   {'criterion': 'gini', 'max_depth': 6, 'max_fea...   \n",
       "split0_test_score                                                 0.894737   \n",
       "split1_test_score                                                      0.8   \n",
       "split2_test_score                                                 0.826667   \n",
       "split3_test_score                                                 0.853333   \n",
       "split4_test_score                                                 0.693333   \n",
       "mean_test_score                                                   0.813614   \n",
       "std_test_score                                                    0.067796   \n",
       "rank_test_score                                                         73   \n",
       "\n",
       "                                                                         4  \n",
       "mean_fit_time                                                     0.001999  \n",
       "std_fit_time                                                      0.000001  \n",
       "mean_score_time                                                     0.0014  \n",
       "std_score_time                                                    0.000489  \n",
       "param_criterion                                                       gini  \n",
       "param_max_depth                                                          6  \n",
       "param_max_features                                                    sqrt  \n",
       "param_min_samples_leaf                                                   5  \n",
       "param_min_samples_split                                                 15  \n",
       "param_splitter                                                        best  \n",
       "params                   {'criterion': 'gini', 'max_depth': 6, 'max_fea...  \n",
       "split0_test_score                                                 0.868421  \n",
       "split1_test_score                                                     0.84  \n",
       "split2_test_score                                                 0.746667  \n",
       "split3_test_score                                                 0.733333  \n",
       "split4_test_score                                                     0.84  \n",
       "mean_test_score                                                   0.805684  \n",
       "std_test_score                                                    0.054788  \n",
       "rank_test_score                                                        125  "
      ]
     },
     "metadata": {},
     "output_type": "display_data"
    },
    {
     "data": {
      "text/html": [
       "<div>\n",
       "<style scoped>\n",
       "    .dataframe tbody tr th:only-of-type {\n",
       "        vertical-align: middle;\n",
       "    }\n",
       "\n",
       "    .dataframe tbody tr th {\n",
       "        vertical-align: top;\n",
       "    }\n",
       "\n",
       "    .dataframe thead th {\n",
       "        text-align: right;\n",
       "    }\n",
       "</style>\n",
       "<table border=\"1\" class=\"dataframe\">\n",
       "  <thead>\n",
       "    <tr style=\"text-align: right;\">\n",
       "      <th></th>\n",
       "      <th>71</th>\n",
       "    </tr>\n",
       "  </thead>\n",
       "  <tbody>\n",
       "    <tr>\n",
       "      <th>mean_fit_time</th>\n",
       "      <td>0.00312</td>\n",
       "    </tr>\n",
       "    <tr>\n",
       "      <th>std_fit_time</th>\n",
       "      <td>0.006241</td>\n",
       "    </tr>\n",
       "    <tr>\n",
       "      <th>mean_score_time</th>\n",
       "      <td>0.0</td>\n",
       "    </tr>\n",
       "    <tr>\n",
       "      <th>std_score_time</th>\n",
       "      <td>0.0</td>\n",
       "    </tr>\n",
       "    <tr>\n",
       "      <th>param_criterion</th>\n",
       "      <td>gini</td>\n",
       "    </tr>\n",
       "    <tr>\n",
       "      <th>param_max_depth</th>\n",
       "      <td>8</td>\n",
       "    </tr>\n",
       "    <tr>\n",
       "      <th>param_max_features</th>\n",
       "      <td>sqrt</td>\n",
       "    </tr>\n",
       "    <tr>\n",
       "      <th>param_min_samples_leaf</th>\n",
       "      <td>5</td>\n",
       "    </tr>\n",
       "    <tr>\n",
       "      <th>param_min_samples_split</th>\n",
       "      <td>20</td>\n",
       "    </tr>\n",
       "    <tr>\n",
       "      <th>param_splitter</th>\n",
       "      <td>random</td>\n",
       "    </tr>\n",
       "    <tr>\n",
       "      <th>params</th>\n",
       "      <td>{'criterion': 'gini', 'max_depth': 8, 'max_fea...</td>\n",
       "    </tr>\n",
       "    <tr>\n",
       "      <th>split0_test_score</th>\n",
       "      <td>0.907895</td>\n",
       "    </tr>\n",
       "    <tr>\n",
       "      <th>split1_test_score</th>\n",
       "      <td>0.84</td>\n",
       "    </tr>\n",
       "    <tr>\n",
       "      <th>split2_test_score</th>\n",
       "      <td>0.866667</td>\n",
       "    </tr>\n",
       "    <tr>\n",
       "      <th>split3_test_score</th>\n",
       "      <td>0.813333</td>\n",
       "    </tr>\n",
       "    <tr>\n",
       "      <th>split4_test_score</th>\n",
       "      <td>0.733333</td>\n",
       "    </tr>\n",
       "    <tr>\n",
       "      <th>mean_test_score</th>\n",
       "      <td>0.832246</td>\n",
       "    </tr>\n",
       "    <tr>\n",
       "      <th>std_test_score</th>\n",
       "      <td>0.058496</td>\n",
       "    </tr>\n",
       "    <tr>\n",
       "      <th>rank_test_score</th>\n",
       "      <td>1</td>\n",
       "    </tr>\n",
       "  </tbody>\n",
       "</table>\n",
       "</div>"
      ],
      "text/plain": [
       "                                                                        71\n",
       "mean_fit_time                                                      0.00312\n",
       "std_fit_time                                                      0.006241\n",
       "mean_score_time                                                        0.0\n",
       "std_score_time                                                         0.0\n",
       "param_criterion                                                       gini\n",
       "param_max_depth                                                          8\n",
       "param_max_features                                                    sqrt\n",
       "param_min_samples_leaf                                                   5\n",
       "param_min_samples_split                                                 20\n",
       "param_splitter                                                      random\n",
       "params                   {'criterion': 'gini', 'max_depth': 8, 'max_fea...\n",
       "split0_test_score                                                 0.907895\n",
       "split1_test_score                                                     0.84\n",
       "split2_test_score                                                 0.866667\n",
       "split3_test_score                                                 0.813333\n",
       "split4_test_score                                                 0.733333\n",
       "mean_test_score                                                   0.832246\n",
       "std_test_score                                                    0.058496\n",
       "rank_test_score                                                          1"
      ]
     },
     "metadata": {},
     "output_type": "display_data"
    }
   ],
   "source": [
    "cv_results = pd.DataFrame(grid_search.cv_results_)\n",
    "display(cv_results.head().T)\n",
    "###################################################\n",
    "# melhores hiper-parametros\n",
    "#display(grid_search.best_params_)\n",
    "\n",
    "#  melhor modelo\n",
    "display(cv_results.loc[[grid_search.best_index_]].T)"
   ]
  },
  {
   "cell_type": "markdown",
   "id": "df3a7336",
   "metadata": {},
   "source": [
    "# Randomized Search CV (Busca Aleatória) - Otimização de Hiperparâmetros\n",
    "\n",
    "Randomized Search CV, ou Busca Aleatória, é uma técnica eficaz para otimização de hiperparâmetros em modelos de aprendizado de máquina. Diferente do Grid Search, que testa todas as combinações possíveis de hiperparâmetros, o Randomized Search CV seleciona aleatoriamente um subconjunto dessas combinações, reduzindo o tempo de computação necessário para encontrar uma configuração satisfatória.\n",
    "\n",
    "### Funcionamento\n",
    "\n",
    "1. **Definição do Espaço de Hiperparâmetros:**\n",
    "   - Um espaço de hiperparâmetros é definido da mesma forma que no Grid Search, mas ao invés de testar todas as combinações possíveis, o Randomized Search CV permite especificar um número fixo de combinações para testar.\n",
    "\n",
    "2. **Seleção Aleatória:**\n",
    "   - Combinando um algoritmo de seleção aleatória com uma distribuição de probabilidade definida sobre o espaço de hiperparâmetros, essa técnica seleciona aleatoriamente diferentes combinações para avaliação.\n",
    "\n",
    "3. **Avaliação de Desempenho:**\n",
    "   - Cada conjunto de hiperparâmetros selecionado é usado para treinar um modelo, e o desempenho é avaliado, geralmente através de validação cruzada. O processo é repetido para o número especificado de iterações.\n",
    "\n",
    "4. **Escolha do Melhor Modelo:**\n",
    "   - Após todas as iterações, o conjunto de hiperparâmetros que resultou no melhor desempenho é escolhido como o ideal.\n",
    "\n",
    "### Vantagens\n",
    "\n",
    "- **Eficiência:** Menor custo computacional em comparação ao Grid Search, especialmente útil quando o espaço de hiperparâmetros é grande.\n",
    "- **Exploração mais Ampla:** Possibilidade de descobrir combinações de hiperparâmetros inovadoras que poderiam ser negligenciadas em uma busca exaustiva.\n",
    "\n",
    "### Considerações\n",
    "\n",
    "- **Aleatoriedade:** A natureza aleatória da busca significa que não há garantia de encontrar o ótimo global, e os resultados podem variar a cada execução.\n",
    "- **Número de Iterações:** O número de iterações deve ser escolhido cuidadosamente para equilibrar entre a cobertura do espaço de hiperparâmetros e a viabilidade computacional.\n",
    "\n",
    "### Aplicações Típicas\n",
    "\n",
    "Randomized Search CV é ideal para cenários onde a rapidez é essencial e o espaço de hiperparâmetros é tão grande que uma busca exaustiva seria impraticável. É frequentemente usado em estágios iniciais de desenvolvimento de modelo para explorar rapidamente as possibilidades antes de realizar uma otimização mais detalhada.\n",
    "\n",
    "Este método é uma ferramenta valiosa para cientistas de dados e engenheiros de machine learning que buscam otimizar modelos de forma eficiente e inovadora.\n"
   ]
  },
  {
   "cell_type": "markdown",
   "id": "a9ea31b8",
   "metadata": {},
   "source": [
    "## Decision Tree"
   ]
  },
  {
   "cell_type": "code",
   "execution_count": 30,
   "id": "41e5d69f",
   "metadata": {},
   "outputs": [
    {
     "name": "stdout",
     "output_type": "stream",
     "text": [
      "resultado de cada iteração do cv externo: [0.80952381 0.792      0.8       ]\n",
      "média: 0.8005079365079366\n"
     ]
    },
    {
     "data": {
      "text/html": [
       "<style>#sk-container-id-5 {color: black;background-color: white;}#sk-container-id-5 pre{padding: 0;}#sk-container-id-5 div.sk-toggleable {background-color: white;}#sk-container-id-5 label.sk-toggleable__label {cursor: pointer;display: block;width: 100%;margin-bottom: 0;padding: 0.3em;box-sizing: border-box;text-align: center;}#sk-container-id-5 label.sk-toggleable__label-arrow:before {content: \"▸\";float: left;margin-right: 0.25em;color: #696969;}#sk-container-id-5 label.sk-toggleable__label-arrow:hover:before {color: black;}#sk-container-id-5 div.sk-estimator:hover label.sk-toggleable__label-arrow:before {color: black;}#sk-container-id-5 div.sk-toggleable__content {max-height: 0;max-width: 0;overflow: hidden;text-align: left;background-color: #f0f8ff;}#sk-container-id-5 div.sk-toggleable__content pre {margin: 0.2em;color: black;border-radius: 0.25em;background-color: #f0f8ff;}#sk-container-id-5 input.sk-toggleable__control:checked~div.sk-toggleable__content {max-height: 200px;max-width: 100%;overflow: auto;}#sk-container-id-5 input.sk-toggleable__control:checked~label.sk-toggleable__label-arrow:before {content: \"▾\";}#sk-container-id-5 div.sk-estimator input.sk-toggleable__control:checked~label.sk-toggleable__label {background-color: #d4ebff;}#sk-container-id-5 div.sk-label input.sk-toggleable__control:checked~label.sk-toggleable__label {background-color: #d4ebff;}#sk-container-id-5 input.sk-hidden--visually {border: 0;clip: rect(1px 1px 1px 1px);clip: rect(1px, 1px, 1px, 1px);height: 1px;margin: -1px;overflow: hidden;padding: 0;position: absolute;width: 1px;}#sk-container-id-5 div.sk-estimator {font-family: monospace;background-color: #f0f8ff;border: 1px dotted black;border-radius: 0.25em;box-sizing: border-box;margin-bottom: 0.5em;}#sk-container-id-5 div.sk-estimator:hover {background-color: #d4ebff;}#sk-container-id-5 div.sk-parallel-item::after {content: \"\";width: 100%;border-bottom: 1px solid gray;flex-grow: 1;}#sk-container-id-5 div.sk-label:hover label.sk-toggleable__label {background-color: #d4ebff;}#sk-container-id-5 div.sk-serial::before {content: \"\";position: absolute;border-left: 1px solid gray;box-sizing: border-box;top: 0;bottom: 0;left: 50%;z-index: 0;}#sk-container-id-5 div.sk-serial {display: flex;flex-direction: column;align-items: center;background-color: white;padding-right: 0.2em;padding-left: 0.2em;position: relative;}#sk-container-id-5 div.sk-item {position: relative;z-index: 1;}#sk-container-id-5 div.sk-parallel {display: flex;align-items: stretch;justify-content: center;background-color: white;position: relative;}#sk-container-id-5 div.sk-item::before, #sk-container-id-5 div.sk-parallel-item::before {content: \"\";position: absolute;border-left: 1px solid gray;box-sizing: border-box;top: 0;bottom: 0;left: 50%;z-index: -1;}#sk-container-id-5 div.sk-parallel-item {display: flex;flex-direction: column;z-index: 1;position: relative;background-color: white;}#sk-container-id-5 div.sk-parallel-item:first-child::after {align-self: flex-end;width: 50%;}#sk-container-id-5 div.sk-parallel-item:last-child::after {align-self: flex-start;width: 50%;}#sk-container-id-5 div.sk-parallel-item:only-child::after {width: 0;}#sk-container-id-5 div.sk-dashed-wrapped {border: 1px dashed gray;margin: 0 0.4em 0.5em 0.4em;box-sizing: border-box;padding-bottom: 0.4em;background-color: white;}#sk-container-id-5 div.sk-label label {font-family: monospace;font-weight: bold;display: inline-block;line-height: 1.2em;}#sk-container-id-5 div.sk-label-container {text-align: center;}#sk-container-id-5 div.sk-container {/* jupyter's `normalize.less` sets `[hidden] { display: none; }` but bootstrap.min.css set `[hidden] { display: none !important; }` so we also need the `!important` here to be able to override the default hidden behavior on the sphinx rendered scikit-learn.org. See: https://github.com/scikit-learn/scikit-learn/issues/21755 */display: inline-block !important;position: relative;}#sk-container-id-5 div.sk-text-repr-fallback {display: none;}</style><div id=\"sk-container-id-5\" class=\"sk-top-container\"><div class=\"sk-text-repr-fallback\"><pre>RandomizedSearchCV(cv=StratifiedKFold(n_splits=5, random_state=3141592, shuffle=True),\n",
       "                   estimator=DecisionTreeClassifier(random_state=3141592),\n",
       "                   n_iter=100, n_jobs=-1,\n",
       "                   param_distributions={&#x27;criterion&#x27;: [&#x27;gini&#x27;, &#x27;entropy&#x27;],\n",
       "                                        &#x27;max_depth&#x27;: array([ 6,  8, 10, 12]),\n",
       "                                        &#x27;max_features&#x27;: [&#x27;sqrt&#x27;, &#x27;log2&#x27;],\n",
       "                                        &#x27;min_samples_leaf&#x27;: array([ 5, 10, 15, 20]),\n",
       "                                        &#x27;min_samples_split&#x27;: array([ 5, 10, 15, 20]),\n",
       "                                        &#x27;splitter&#x27;: [&#x27;best&#x27;, &#x27;random&#x27;]},\n",
       "                   random_state=3141592, scoring=&#x27;recall&#x27;)</pre><b>In a Jupyter environment, please rerun this cell to show the HTML representation or trust the notebook. <br />On GitHub, the HTML representation is unable to render, please try loading this page with nbviewer.org.</b></div><div class=\"sk-container\" hidden><div class=\"sk-item sk-dashed-wrapped\"><div class=\"sk-label-container\"><div class=\"sk-label sk-toggleable\"><input class=\"sk-toggleable__control sk-hidden--visually\" id=\"sk-estimator-id-14\" type=\"checkbox\" ><label for=\"sk-estimator-id-14\" class=\"sk-toggleable__label sk-toggleable__label-arrow\">RandomizedSearchCV</label><div class=\"sk-toggleable__content\"><pre>RandomizedSearchCV(cv=StratifiedKFold(n_splits=5, random_state=3141592, shuffle=True),\n",
       "                   estimator=DecisionTreeClassifier(random_state=3141592),\n",
       "                   n_iter=100, n_jobs=-1,\n",
       "                   param_distributions={&#x27;criterion&#x27;: [&#x27;gini&#x27;, &#x27;entropy&#x27;],\n",
       "                                        &#x27;max_depth&#x27;: array([ 6,  8, 10, 12]),\n",
       "                                        &#x27;max_features&#x27;: [&#x27;sqrt&#x27;, &#x27;log2&#x27;],\n",
       "                                        &#x27;min_samples_leaf&#x27;: array([ 5, 10, 15, 20]),\n",
       "                                        &#x27;min_samples_split&#x27;: array([ 5, 10, 15, 20]),\n",
       "                                        &#x27;splitter&#x27;: [&#x27;best&#x27;, &#x27;random&#x27;]},\n",
       "                   random_state=3141592, scoring=&#x27;recall&#x27;)</pre></div></div></div><div class=\"sk-parallel\"><div class=\"sk-parallel-item\"><div class=\"sk-item\"><div class=\"sk-label-container\"><div class=\"sk-label sk-toggleable\"><input class=\"sk-toggleable__control sk-hidden--visually\" id=\"sk-estimator-id-15\" type=\"checkbox\" ><label for=\"sk-estimator-id-15\" class=\"sk-toggleable__label sk-toggleable__label-arrow\">estimator: DecisionTreeClassifier</label><div class=\"sk-toggleable__content\"><pre>DecisionTreeClassifier(random_state=3141592)</pre></div></div></div><div class=\"sk-serial\"><div class=\"sk-item\"><div class=\"sk-estimator sk-toggleable\"><input class=\"sk-toggleable__control sk-hidden--visually\" id=\"sk-estimator-id-16\" type=\"checkbox\" ><label for=\"sk-estimator-id-16\" class=\"sk-toggleable__label sk-toggleable__label-arrow\">DecisionTreeClassifier</label><div class=\"sk-toggleable__content\"><pre>DecisionTreeClassifier(random_state=3141592)</pre></div></div></div></div></div></div></div></div></div></div>"
      ],
      "text/plain": [
       "RandomizedSearchCV(cv=StratifiedKFold(n_splits=5, random_state=3141592, shuffle=True),\n",
       "                   estimator=DecisionTreeClassifier(random_state=3141592),\n",
       "                   n_iter=100, n_jobs=-1,\n",
       "                   param_distributions={'criterion': ['gini', 'entropy'],\n",
       "                                        'max_depth': array([ 6,  8, 10, 12]),\n",
       "                                        'max_features': ['sqrt', 'log2'],\n",
       "                                        'min_samples_leaf': array([ 5, 10, 15, 20]),\n",
       "                                        'min_samples_split': array([ 5, 10, 15, 20]),\n",
       "                                        'splitter': ['best', 'random']},\n",
       "                   random_state=3141592, scoring='recall')"
      ]
     },
     "execution_count": 30,
     "metadata": {},
     "output_type": "execute_result"
    }
   ],
   "source": [
    "from sklearn.model_selection import RandomizedSearchCV\n",
    "\n",
    "grid_search = RandomizedSearchCV(\n",
    "    estimator= DecisionTreeClassifier(random_state=RANDOM_STATE), #modelo\n",
    "    param_distributions=param_grid_dt, #grade de parametros\n",
    "    n_iter=100, #número de vezes que vamos buscar aleatoriamente dentro da grade de hiperparâmetros essas combinações para avaliar o modelo\n",
    "    scoring='recall',\n",
    "    n_jobs=-1,\n",
    "    cv=inner_cv,\n",
    "    random_state=RANDOM_STATE)\n",
    "\n",
    "# Validação cruzada externa\n",
    "rs_dt_nested_score = cross_val_score(grid_search, x_treino, y_treino, cv=outer_cv)\n",
    "\n",
    "print(f'resultado de cada iteração do cv externo: {rs_dt_nested_score}')\n",
    "print(f'média: {rs_dt_nested_score.mean()}')\n",
    "\n",
    "grid_search.fit(x_treino, y_treino)"
   ]
  },
  {
   "cell_type": "code",
   "execution_count": 31,
   "id": "dde29d15",
   "metadata": {},
   "outputs": [
    {
     "data": {
      "text/html": [
       "<div>\n",
       "<style scoped>\n",
       "    .dataframe tbody tr th:only-of-type {\n",
       "        vertical-align: middle;\n",
       "    }\n",
       "\n",
       "    .dataframe tbody tr th {\n",
       "        vertical-align: top;\n",
       "    }\n",
       "\n",
       "    .dataframe thead th {\n",
       "        text-align: right;\n",
       "    }\n",
       "</style>\n",
       "<table border=\"1\" class=\"dataframe\">\n",
       "  <thead>\n",
       "    <tr style=\"text-align: right;\">\n",
       "      <th></th>\n",
       "      <th>0</th>\n",
       "      <th>1</th>\n",
       "      <th>2</th>\n",
       "      <th>3</th>\n",
       "      <th>4</th>\n",
       "    </tr>\n",
       "  </thead>\n",
       "  <tbody>\n",
       "    <tr>\n",
       "      <th>mean_fit_time</th>\n",
       "      <td>0.00108</td>\n",
       "      <td>0.001233</td>\n",
       "      <td>0.001311</td>\n",
       "      <td>0.001843</td>\n",
       "      <td>0.001208</td>\n",
       "    </tr>\n",
       "    <tr>\n",
       "      <th>std_fit_time</th>\n",
       "      <td>0.000157</td>\n",
       "      <td>0.000388</td>\n",
       "      <td>0.002622</td>\n",
       "      <td>0.003685</td>\n",
       "      <td>0.00195</td>\n",
       "    </tr>\n",
       "    <tr>\n",
       "      <th>mean_score_time</th>\n",
       "      <td>0.001606</td>\n",
       "      <td>0.001033</td>\n",
       "      <td>0.002622</td>\n",
       "      <td>0.00305</td>\n",
       "      <td>0.002647</td>\n",
       "    </tr>\n",
       "    <tr>\n",
       "      <th>std_score_time</th>\n",
       "      <td>0.000485</td>\n",
       "      <td>0.000686</td>\n",
       "      <td>0.003212</td>\n",
       "      <td>0.003596</td>\n",
       "      <td>0.002264</td>\n",
       "    </tr>\n",
       "    <tr>\n",
       "      <th>param_splitter</th>\n",
       "      <td>random</td>\n",
       "      <td>random</td>\n",
       "      <td>best</td>\n",
       "      <td>random</td>\n",
       "      <td>random</td>\n",
       "    </tr>\n",
       "    <tr>\n",
       "      <th>param_min_samples_split</th>\n",
       "      <td>15</td>\n",
       "      <td>20</td>\n",
       "      <td>15</td>\n",
       "      <td>15</td>\n",
       "      <td>5</td>\n",
       "    </tr>\n",
       "    <tr>\n",
       "      <th>param_min_samples_leaf</th>\n",
       "      <td>5</td>\n",
       "      <td>15</td>\n",
       "      <td>20</td>\n",
       "      <td>10</td>\n",
       "      <td>15</td>\n",
       "    </tr>\n",
       "    <tr>\n",
       "      <th>param_max_features</th>\n",
       "      <td>sqrt</td>\n",
       "      <td>sqrt</td>\n",
       "      <td>sqrt</td>\n",
       "      <td>log2</td>\n",
       "      <td>sqrt</td>\n",
       "    </tr>\n",
       "    <tr>\n",
       "      <th>param_max_depth</th>\n",
       "      <td>6</td>\n",
       "      <td>6</td>\n",
       "      <td>8</td>\n",
       "      <td>8</td>\n",
       "      <td>6</td>\n",
       "    </tr>\n",
       "    <tr>\n",
       "      <th>param_criterion</th>\n",
       "      <td>gini</td>\n",
       "      <td>entropy</td>\n",
       "      <td>entropy</td>\n",
       "      <td>entropy</td>\n",
       "      <td>gini</td>\n",
       "    </tr>\n",
       "    <tr>\n",
       "      <th>params</th>\n",
       "      <td>{'splitter': 'random', 'min_samples_split': 15...</td>\n",
       "      <td>{'splitter': 'random', 'min_samples_split': 20...</td>\n",
       "      <td>{'splitter': 'best', 'min_samples_split': 15, ...</td>\n",
       "      <td>{'splitter': 'random', 'min_samples_split': 15...</td>\n",
       "      <td>{'splitter': 'random', 'min_samples_split': 5,...</td>\n",
       "    </tr>\n",
       "    <tr>\n",
       "      <th>split0_test_score</th>\n",
       "      <td>0.907895</td>\n",
       "      <td>0.736842</td>\n",
       "      <td>0.657895</td>\n",
       "      <td>0.921053</td>\n",
       "      <td>0.855263</td>\n",
       "    </tr>\n",
       "    <tr>\n",
       "      <th>split1_test_score</th>\n",
       "      <td>0.826667</td>\n",
       "      <td>0.88</td>\n",
       "      <td>0.786667</td>\n",
       "      <td>0.786667</td>\n",
       "      <td>0.88</td>\n",
       "    </tr>\n",
       "    <tr>\n",
       "      <th>split2_test_score</th>\n",
       "      <td>0.84</td>\n",
       "      <td>0.84</td>\n",
       "      <td>0.866667</td>\n",
       "      <td>0.853333</td>\n",
       "      <td>0.84</td>\n",
       "    </tr>\n",
       "    <tr>\n",
       "      <th>split3_test_score</th>\n",
       "      <td>0.746667</td>\n",
       "      <td>0.8</td>\n",
       "      <td>0.613333</td>\n",
       "      <td>0.826667</td>\n",
       "      <td>0.8</td>\n",
       "    </tr>\n",
       "    <tr>\n",
       "      <th>split4_test_score</th>\n",
       "      <td>0.773333</td>\n",
       "      <td>0.773333</td>\n",
       "      <td>0.786667</td>\n",
       "      <td>0.773333</td>\n",
       "      <td>0.773333</td>\n",
       "    </tr>\n",
       "    <tr>\n",
       "      <th>mean_test_score</th>\n",
       "      <td>0.818912</td>\n",
       "      <td>0.806035</td>\n",
       "      <td>0.742246</td>\n",
       "      <td>0.832211</td>\n",
       "      <td>0.829719</td>\n",
       "    </tr>\n",
       "    <tr>\n",
       "      <th>std_test_score</th>\n",
       "      <td>0.056071</td>\n",
       "      <td>0.050036</td>\n",
       "      <td>0.092909</td>\n",
       "      <td>0.052746</td>\n",
       "      <td>0.038338</td>\n",
       "    </tr>\n",
       "    <tr>\n",
       "      <th>rank_test_score</th>\n",
       "      <td>15</td>\n",
       "      <td>24</td>\n",
       "      <td>66</td>\n",
       "      <td>1</td>\n",
       "      <td>4</td>\n",
       "    </tr>\n",
       "  </tbody>\n",
       "</table>\n",
       "</div>"
      ],
      "text/plain": [
       "                                                                         0  \\\n",
       "mean_fit_time                                                      0.00108   \n",
       "std_fit_time                                                      0.000157   \n",
       "mean_score_time                                                   0.001606   \n",
       "std_score_time                                                    0.000485   \n",
       "param_splitter                                                      random   \n",
       "param_min_samples_split                                                 15   \n",
       "param_min_samples_leaf                                                   5   \n",
       "param_max_features                                                    sqrt   \n",
       "param_max_depth                                                          6   \n",
       "param_criterion                                                       gini   \n",
       "params                   {'splitter': 'random', 'min_samples_split': 15...   \n",
       "split0_test_score                                                 0.907895   \n",
       "split1_test_score                                                 0.826667   \n",
       "split2_test_score                                                     0.84   \n",
       "split3_test_score                                                 0.746667   \n",
       "split4_test_score                                                 0.773333   \n",
       "mean_test_score                                                   0.818912   \n",
       "std_test_score                                                    0.056071   \n",
       "rank_test_score                                                         15   \n",
       "\n",
       "                                                                         1  \\\n",
       "mean_fit_time                                                     0.001233   \n",
       "std_fit_time                                                      0.000388   \n",
       "mean_score_time                                                   0.001033   \n",
       "std_score_time                                                    0.000686   \n",
       "param_splitter                                                      random   \n",
       "param_min_samples_split                                                 20   \n",
       "param_min_samples_leaf                                                  15   \n",
       "param_max_features                                                    sqrt   \n",
       "param_max_depth                                                          6   \n",
       "param_criterion                                                    entropy   \n",
       "params                   {'splitter': 'random', 'min_samples_split': 20...   \n",
       "split0_test_score                                                 0.736842   \n",
       "split1_test_score                                                     0.88   \n",
       "split2_test_score                                                     0.84   \n",
       "split3_test_score                                                      0.8   \n",
       "split4_test_score                                                 0.773333   \n",
       "mean_test_score                                                   0.806035   \n",
       "std_test_score                                                    0.050036   \n",
       "rank_test_score                                                         24   \n",
       "\n",
       "                                                                         2  \\\n",
       "mean_fit_time                                                     0.001311   \n",
       "std_fit_time                                                      0.002622   \n",
       "mean_score_time                                                   0.002622   \n",
       "std_score_time                                                    0.003212   \n",
       "param_splitter                                                        best   \n",
       "param_min_samples_split                                                 15   \n",
       "param_min_samples_leaf                                                  20   \n",
       "param_max_features                                                    sqrt   \n",
       "param_max_depth                                                          8   \n",
       "param_criterion                                                    entropy   \n",
       "params                   {'splitter': 'best', 'min_samples_split': 15, ...   \n",
       "split0_test_score                                                 0.657895   \n",
       "split1_test_score                                                 0.786667   \n",
       "split2_test_score                                                 0.866667   \n",
       "split3_test_score                                                 0.613333   \n",
       "split4_test_score                                                 0.786667   \n",
       "mean_test_score                                                   0.742246   \n",
       "std_test_score                                                    0.092909   \n",
       "rank_test_score                                                         66   \n",
       "\n",
       "                                                                         3  \\\n",
       "mean_fit_time                                                     0.001843   \n",
       "std_fit_time                                                      0.003685   \n",
       "mean_score_time                                                    0.00305   \n",
       "std_score_time                                                    0.003596   \n",
       "param_splitter                                                      random   \n",
       "param_min_samples_split                                                 15   \n",
       "param_min_samples_leaf                                                  10   \n",
       "param_max_features                                                    log2   \n",
       "param_max_depth                                                          8   \n",
       "param_criterion                                                    entropy   \n",
       "params                   {'splitter': 'random', 'min_samples_split': 15...   \n",
       "split0_test_score                                                 0.921053   \n",
       "split1_test_score                                                 0.786667   \n",
       "split2_test_score                                                 0.853333   \n",
       "split3_test_score                                                 0.826667   \n",
       "split4_test_score                                                 0.773333   \n",
       "mean_test_score                                                   0.832211   \n",
       "std_test_score                                                    0.052746   \n",
       "rank_test_score                                                          1   \n",
       "\n",
       "                                                                         4  \n",
       "mean_fit_time                                                     0.001208  \n",
       "std_fit_time                                                       0.00195  \n",
       "mean_score_time                                                   0.002647  \n",
       "std_score_time                                                    0.002264  \n",
       "param_splitter                                                      random  \n",
       "param_min_samples_split                                                  5  \n",
       "param_min_samples_leaf                                                  15  \n",
       "param_max_features                                                    sqrt  \n",
       "param_max_depth                                                          6  \n",
       "param_criterion                                                       gini  \n",
       "params                   {'splitter': 'random', 'min_samples_split': 5,...  \n",
       "split0_test_score                                                 0.855263  \n",
       "split1_test_score                                                     0.88  \n",
       "split2_test_score                                                     0.84  \n",
       "split3_test_score                                                      0.8  \n",
       "split4_test_score                                                 0.773333  \n",
       "mean_test_score                                                   0.829719  \n",
       "std_test_score                                                    0.038338  \n",
       "rank_test_score                                                          4  "
      ]
     },
     "metadata": {},
     "output_type": "display_data"
    },
    {
     "data": {
      "text/html": [
       "<div>\n",
       "<style scoped>\n",
       "    .dataframe tbody tr th:only-of-type {\n",
       "        vertical-align: middle;\n",
       "    }\n",
       "\n",
       "    .dataframe tbody tr th {\n",
       "        vertical-align: top;\n",
       "    }\n",
       "\n",
       "    .dataframe thead th {\n",
       "        text-align: right;\n",
       "    }\n",
       "</style>\n",
       "<table border=\"1\" class=\"dataframe\">\n",
       "  <thead>\n",
       "    <tr style=\"text-align: right;\">\n",
       "      <th></th>\n",
       "      <th>3</th>\n",
       "    </tr>\n",
       "  </thead>\n",
       "  <tbody>\n",
       "    <tr>\n",
       "      <th>mean_fit_time</th>\n",
       "      <td>0.001843</td>\n",
       "    </tr>\n",
       "    <tr>\n",
       "      <th>std_fit_time</th>\n",
       "      <td>0.003685</td>\n",
       "    </tr>\n",
       "    <tr>\n",
       "      <th>mean_score_time</th>\n",
       "      <td>0.00305</td>\n",
       "    </tr>\n",
       "    <tr>\n",
       "      <th>std_score_time</th>\n",
       "      <td>0.003596</td>\n",
       "    </tr>\n",
       "    <tr>\n",
       "      <th>param_splitter</th>\n",
       "      <td>random</td>\n",
       "    </tr>\n",
       "    <tr>\n",
       "      <th>param_min_samples_split</th>\n",
       "      <td>15</td>\n",
       "    </tr>\n",
       "    <tr>\n",
       "      <th>param_min_samples_leaf</th>\n",
       "      <td>10</td>\n",
       "    </tr>\n",
       "    <tr>\n",
       "      <th>param_max_features</th>\n",
       "      <td>log2</td>\n",
       "    </tr>\n",
       "    <tr>\n",
       "      <th>param_max_depth</th>\n",
       "      <td>8</td>\n",
       "    </tr>\n",
       "    <tr>\n",
       "      <th>param_criterion</th>\n",
       "      <td>entropy</td>\n",
       "    </tr>\n",
       "    <tr>\n",
       "      <th>params</th>\n",
       "      <td>{'splitter': 'random', 'min_samples_split': 15...</td>\n",
       "    </tr>\n",
       "    <tr>\n",
       "      <th>split0_test_score</th>\n",
       "      <td>0.921053</td>\n",
       "    </tr>\n",
       "    <tr>\n",
       "      <th>split1_test_score</th>\n",
       "      <td>0.786667</td>\n",
       "    </tr>\n",
       "    <tr>\n",
       "      <th>split2_test_score</th>\n",
       "      <td>0.853333</td>\n",
       "    </tr>\n",
       "    <tr>\n",
       "      <th>split3_test_score</th>\n",
       "      <td>0.826667</td>\n",
       "    </tr>\n",
       "    <tr>\n",
       "      <th>split4_test_score</th>\n",
       "      <td>0.773333</td>\n",
       "    </tr>\n",
       "    <tr>\n",
       "      <th>mean_test_score</th>\n",
       "      <td>0.832211</td>\n",
       "    </tr>\n",
       "    <tr>\n",
       "      <th>std_test_score</th>\n",
       "      <td>0.052746</td>\n",
       "    </tr>\n",
       "    <tr>\n",
       "      <th>rank_test_score</th>\n",
       "      <td>1</td>\n",
       "    </tr>\n",
       "  </tbody>\n",
       "</table>\n",
       "</div>"
      ],
      "text/plain": [
       "                                                                         3\n",
       "mean_fit_time                                                     0.001843\n",
       "std_fit_time                                                      0.003685\n",
       "mean_score_time                                                    0.00305\n",
       "std_score_time                                                    0.003596\n",
       "param_splitter                                                      random\n",
       "param_min_samples_split                                                 15\n",
       "param_min_samples_leaf                                                  10\n",
       "param_max_features                                                    log2\n",
       "param_max_depth                                                          8\n",
       "param_criterion                                                    entropy\n",
       "params                   {'splitter': 'random', 'min_samples_split': 15...\n",
       "split0_test_score                                                 0.921053\n",
       "split1_test_score                                                 0.786667\n",
       "split2_test_score                                                 0.853333\n",
       "split3_test_score                                                 0.826667\n",
       "split4_test_score                                                 0.773333\n",
       "mean_test_score                                                   0.832211\n",
       "std_test_score                                                    0.052746\n",
       "rank_test_score                                                          1"
      ]
     },
     "metadata": {},
     "output_type": "display_data"
    }
   ],
   "source": [
    "cv_results = pd.DataFrame(grid_search.cv_results_)\n",
    "display(cv_results.head().T)\n",
    "###################################################\n",
    "# melhores hiper-parametros\n",
    "#display(grid_search.best_params_)\n",
    "\n",
    "#  melhor modelo\n",
    "display(cv_results.loc[[grid_search.best_index_]].T)"
   ]
  },
  {
   "cell_type": "markdown",
   "id": "76d84282",
   "metadata": {},
   "source": [
    "## Regressão logistica"
   ]
  },
  {
   "cell_type": "code",
   "execution_count": 32,
   "id": "e8bd4a49",
   "metadata": {},
   "outputs": [
    {
     "name": "stdout",
     "output_type": "stream",
     "text": [
      "resultado de cada iteração do cv externo: [0.93650794 0.968      0.904     ]\n",
      "média: 0.9361693121693122\n"
     ]
    },
    {
     "data": {
      "text/html": [
       "<style>#sk-container-id-6 {color: black;background-color: white;}#sk-container-id-6 pre{padding: 0;}#sk-container-id-6 div.sk-toggleable {background-color: white;}#sk-container-id-6 label.sk-toggleable__label {cursor: pointer;display: block;width: 100%;margin-bottom: 0;padding: 0.3em;box-sizing: border-box;text-align: center;}#sk-container-id-6 label.sk-toggleable__label-arrow:before {content: \"▸\";float: left;margin-right: 0.25em;color: #696969;}#sk-container-id-6 label.sk-toggleable__label-arrow:hover:before {color: black;}#sk-container-id-6 div.sk-estimator:hover label.sk-toggleable__label-arrow:before {color: black;}#sk-container-id-6 div.sk-toggleable__content {max-height: 0;max-width: 0;overflow: hidden;text-align: left;background-color: #f0f8ff;}#sk-container-id-6 div.sk-toggleable__content pre {margin: 0.2em;color: black;border-radius: 0.25em;background-color: #f0f8ff;}#sk-container-id-6 input.sk-toggleable__control:checked~div.sk-toggleable__content {max-height: 200px;max-width: 100%;overflow: auto;}#sk-container-id-6 input.sk-toggleable__control:checked~label.sk-toggleable__label-arrow:before {content: \"▾\";}#sk-container-id-6 div.sk-estimator input.sk-toggleable__control:checked~label.sk-toggleable__label {background-color: #d4ebff;}#sk-container-id-6 div.sk-label input.sk-toggleable__control:checked~label.sk-toggleable__label {background-color: #d4ebff;}#sk-container-id-6 input.sk-hidden--visually {border: 0;clip: rect(1px 1px 1px 1px);clip: rect(1px, 1px, 1px, 1px);height: 1px;margin: -1px;overflow: hidden;padding: 0;position: absolute;width: 1px;}#sk-container-id-6 div.sk-estimator {font-family: monospace;background-color: #f0f8ff;border: 1px dotted black;border-radius: 0.25em;box-sizing: border-box;margin-bottom: 0.5em;}#sk-container-id-6 div.sk-estimator:hover {background-color: #d4ebff;}#sk-container-id-6 div.sk-parallel-item::after {content: \"\";width: 100%;border-bottom: 1px solid gray;flex-grow: 1;}#sk-container-id-6 div.sk-label:hover label.sk-toggleable__label {background-color: #d4ebff;}#sk-container-id-6 div.sk-serial::before {content: \"\";position: absolute;border-left: 1px solid gray;box-sizing: border-box;top: 0;bottom: 0;left: 50%;z-index: 0;}#sk-container-id-6 div.sk-serial {display: flex;flex-direction: column;align-items: center;background-color: white;padding-right: 0.2em;padding-left: 0.2em;position: relative;}#sk-container-id-6 div.sk-item {position: relative;z-index: 1;}#sk-container-id-6 div.sk-parallel {display: flex;align-items: stretch;justify-content: center;background-color: white;position: relative;}#sk-container-id-6 div.sk-item::before, #sk-container-id-6 div.sk-parallel-item::before {content: \"\";position: absolute;border-left: 1px solid gray;box-sizing: border-box;top: 0;bottom: 0;left: 50%;z-index: -1;}#sk-container-id-6 div.sk-parallel-item {display: flex;flex-direction: column;z-index: 1;position: relative;background-color: white;}#sk-container-id-6 div.sk-parallel-item:first-child::after {align-self: flex-end;width: 50%;}#sk-container-id-6 div.sk-parallel-item:last-child::after {align-self: flex-start;width: 50%;}#sk-container-id-6 div.sk-parallel-item:only-child::after {width: 0;}#sk-container-id-6 div.sk-dashed-wrapped {border: 1px dashed gray;margin: 0 0.4em 0.5em 0.4em;box-sizing: border-box;padding-bottom: 0.4em;background-color: white;}#sk-container-id-6 div.sk-label label {font-family: monospace;font-weight: bold;display: inline-block;line-height: 1.2em;}#sk-container-id-6 div.sk-label-container {text-align: center;}#sk-container-id-6 div.sk-container {/* jupyter's `normalize.less` sets `[hidden] { display: none; }` but bootstrap.min.css set `[hidden] { display: none !important; }` so we also need the `!important` here to be able to override the default hidden behavior on the sphinx rendered scikit-learn.org. See: https://github.com/scikit-learn/scikit-learn/issues/21755 */display: inline-block !important;position: relative;}#sk-container-id-6 div.sk-text-repr-fallback {display: none;}</style><div id=\"sk-container-id-6\" class=\"sk-top-container\"><div class=\"sk-text-repr-fallback\"><pre>RandomizedSearchCV(cv=StratifiedKFold(n_splits=5, random_state=3141592, shuffle=True),\n",
       "                   estimator=Pipeline(steps=[(&#x27;standardscaler&#x27;,\n",
       "                                              StandardScaler()),\n",
       "                                             (&#x27;logisticregression&#x27;,\n",
       "                                              LogisticRegression())]),\n",
       "                   n_iter=50, n_jobs=-1,\n",
       "                   param_distributions=[{&#x27;logisticregression__C&#x27;: [0.001, 0.01,\n",
       "                                                                   0.1, 1, 10],\n",
       "                                         &#x27;logisticregression__max_iter&#x27;: array([100, 150, 200, 250, 300]),\n",
       "                                         &#x27;logisticregression__penalty&#x27;: [&#x27;l2&#x27;],\n",
       "                                         &#x27;logisticregression__solver&#x27;: [&#x27;newton-cg&#x27;,\n",
       "                                                                        &#x27;lbfgs&#x27;]},\n",
       "                                        {&#x27;logisticregression__C&#x27;: [0.001, 0.01,\n",
       "                                                                   0.1, 1, 10],\n",
       "                                         &#x27;logisticregression__max_iter&#x27;: array([100, 150, 200, 250, 300]),\n",
       "                                         &#x27;logisticregression__penalty&#x27;: [&#x27;l1&#x27;,\n",
       "                                                                         &#x27;l2&#x27;],\n",
       "                                         &#x27;logisticregression__solver&#x27;: [&#x27;liblinear&#x27;]}],\n",
       "                   random_state=3141592, scoring=&#x27;recall&#x27;)</pre><b>In a Jupyter environment, please rerun this cell to show the HTML representation or trust the notebook. <br />On GitHub, the HTML representation is unable to render, please try loading this page with nbviewer.org.</b></div><div class=\"sk-container\" hidden><div class=\"sk-item sk-dashed-wrapped\"><div class=\"sk-label-container\"><div class=\"sk-label sk-toggleable\"><input class=\"sk-toggleable__control sk-hidden--visually\" id=\"sk-estimator-id-17\" type=\"checkbox\" ><label for=\"sk-estimator-id-17\" class=\"sk-toggleable__label sk-toggleable__label-arrow\">RandomizedSearchCV</label><div class=\"sk-toggleable__content\"><pre>RandomizedSearchCV(cv=StratifiedKFold(n_splits=5, random_state=3141592, shuffle=True),\n",
       "                   estimator=Pipeline(steps=[(&#x27;standardscaler&#x27;,\n",
       "                                              StandardScaler()),\n",
       "                                             (&#x27;logisticregression&#x27;,\n",
       "                                              LogisticRegression())]),\n",
       "                   n_iter=50, n_jobs=-1,\n",
       "                   param_distributions=[{&#x27;logisticregression__C&#x27;: [0.001, 0.01,\n",
       "                                                                   0.1, 1, 10],\n",
       "                                         &#x27;logisticregression__max_iter&#x27;: array([100, 150, 200, 250, 300]),\n",
       "                                         &#x27;logisticregression__penalty&#x27;: [&#x27;l2&#x27;],\n",
       "                                         &#x27;logisticregression__solver&#x27;: [&#x27;newton-cg&#x27;,\n",
       "                                                                        &#x27;lbfgs&#x27;]},\n",
       "                                        {&#x27;logisticregression__C&#x27;: [0.001, 0.01,\n",
       "                                                                   0.1, 1, 10],\n",
       "                                         &#x27;logisticregression__max_iter&#x27;: array([100, 150, 200, 250, 300]),\n",
       "                                         &#x27;logisticregression__penalty&#x27;: [&#x27;l1&#x27;,\n",
       "                                                                         &#x27;l2&#x27;],\n",
       "                                         &#x27;logisticregression__solver&#x27;: [&#x27;liblinear&#x27;]}],\n",
       "                   random_state=3141592, scoring=&#x27;recall&#x27;)</pre></div></div></div><div class=\"sk-parallel\"><div class=\"sk-parallel-item\"><div class=\"sk-item\"><div class=\"sk-label-container\"><div class=\"sk-label sk-toggleable\"><input class=\"sk-toggleable__control sk-hidden--visually\" id=\"sk-estimator-id-18\" type=\"checkbox\" ><label for=\"sk-estimator-id-18\" class=\"sk-toggleable__label sk-toggleable__label-arrow\">estimator: Pipeline</label><div class=\"sk-toggleable__content\"><pre>Pipeline(steps=[(&#x27;standardscaler&#x27;, StandardScaler()),\n",
       "                (&#x27;logisticregression&#x27;, LogisticRegression())])</pre></div></div></div><div class=\"sk-serial\"><div class=\"sk-item\"><div class=\"sk-serial\"><div class=\"sk-item\"><div class=\"sk-estimator sk-toggleable\"><input class=\"sk-toggleable__control sk-hidden--visually\" id=\"sk-estimator-id-19\" type=\"checkbox\" ><label for=\"sk-estimator-id-19\" class=\"sk-toggleable__label sk-toggleable__label-arrow\">StandardScaler</label><div class=\"sk-toggleable__content\"><pre>StandardScaler()</pre></div></div></div><div class=\"sk-item\"><div class=\"sk-estimator sk-toggleable\"><input class=\"sk-toggleable__control sk-hidden--visually\" id=\"sk-estimator-id-20\" type=\"checkbox\" ><label for=\"sk-estimator-id-20\" class=\"sk-toggleable__label sk-toggleable__label-arrow\">LogisticRegression</label><div class=\"sk-toggleable__content\"><pre>LogisticRegression()</pre></div></div></div></div></div></div></div></div></div></div></div></div>"
      ],
      "text/plain": [
       "RandomizedSearchCV(cv=StratifiedKFold(n_splits=5, random_state=3141592, shuffle=True),\n",
       "                   estimator=Pipeline(steps=[('standardscaler',\n",
       "                                              StandardScaler()),\n",
       "                                             ('logisticregression',\n",
       "                                              LogisticRegression())]),\n",
       "                   n_iter=50, n_jobs=-1,\n",
       "                   param_distributions=[{'logisticregression__C': [0.001, 0.01,\n",
       "                                                                   0.1, 1, 10],\n",
       "                                         'logisticregression__max_iter': array([100, 150, 200, 250, 300]),\n",
       "                                         'logisticregression__penalty': ['l2'],\n",
       "                                         'logisticregression__solver': ['newton-cg',\n",
       "                                                                        'lbfgs']},\n",
       "                                        {'logisticregression__C': [0.001, 0.01,\n",
       "                                                                   0.1, 1, 10],\n",
       "                                         'logisticregression__max_iter': array([100, 150, 200, 250, 300]),\n",
       "                                         'logisticregression__penalty': ['l1',\n",
       "                                                                         'l2'],\n",
       "                                         'logisticregression__solver': ['liblinear']}],\n",
       "                   random_state=3141592, scoring='recall')"
      ]
     },
     "execution_count": 32,
     "metadata": {},
     "output_type": "execute_result"
    }
   ],
   "source": [
    "grid_search = RandomizedSearchCV(estimator=make_pipeline(StandardScaler(), LogisticRegression()),\n",
    "        param_distributions=param_grid_lr,\n",
    "        n_iter=50,\n",
    "        scoring='recall',\n",
    "        n_jobs=-1,\n",
    "        cv=inner_cv,\n",
    "        random_state=RANDOM_STATE)\n",
    "        \n",
    "# Validação cruzada externa\n",
    "rs_lr_nested_scores = cross_val_score(grid_search, x_treino, y_treino, cv=outer_cv)\n",
    "\n",
    "print(f'resultado de cada iteração do cv externo: {rs_lr_nested_scores}')\n",
    "print(f'média: {rs_lr_nested_scores.mean()}')\n",
    "\n",
    "# Treinando modelo\n",
    "grid_search.fit(x_treino, y_treino)"
   ]
  },
  {
   "cell_type": "code",
   "execution_count": 33,
   "id": "576114bd",
   "metadata": {},
   "outputs": [
    {
     "data": {
      "text/html": [
       "<div>\n",
       "<style scoped>\n",
       "    .dataframe tbody tr th:only-of-type {\n",
       "        vertical-align: middle;\n",
       "    }\n",
       "\n",
       "    .dataframe tbody tr th {\n",
       "        vertical-align: top;\n",
       "    }\n",
       "\n",
       "    .dataframe thead th {\n",
       "        text-align: right;\n",
       "    }\n",
       "</style>\n",
       "<table border=\"1\" class=\"dataframe\">\n",
       "  <thead>\n",
       "    <tr style=\"text-align: right;\">\n",
       "      <th></th>\n",
       "      <th>0</th>\n",
       "      <th>1</th>\n",
       "      <th>2</th>\n",
       "      <th>3</th>\n",
       "      <th>4</th>\n",
       "    </tr>\n",
       "  </thead>\n",
       "  <tbody>\n",
       "    <tr>\n",
       "      <th>mean_fit_time</th>\n",
       "      <td>0.008423</td>\n",
       "      <td>0.003107</td>\n",
       "      <td>0.007002</td>\n",
       "      <td>0.002202</td>\n",
       "      <td>0.003809</td>\n",
       "    </tr>\n",
       "    <tr>\n",
       "      <th>std_fit_time</th>\n",
       "      <td>0.001015</td>\n",
       "      <td>0.000812</td>\n",
       "      <td>0.000965</td>\n",
       "      <td>0.000399</td>\n",
       "      <td>0.000927</td>\n",
       "    </tr>\n",
       "    <tr>\n",
       "      <th>mean_score_time</th>\n",
       "      <td>0.001701</td>\n",
       "      <td>0.001806</td>\n",
       "      <td>0.001605</td>\n",
       "      <td>0.001606</td>\n",
       "      <td>0.001903</td>\n",
       "    </tr>\n",
       "    <tr>\n",
       "      <th>std_score_time</th>\n",
       "      <td>0.000396</td>\n",
       "      <td>0.000404</td>\n",
       "      <td>0.000373</td>\n",
       "      <td>0.000375</td>\n",
       "      <td>0.000494</td>\n",
       "    </tr>\n",
       "    <tr>\n",
       "      <th>param_logisticregression__solver</th>\n",
       "      <td>newton-cg</td>\n",
       "      <td>liblinear</td>\n",
       "      <td>newton-cg</td>\n",
       "      <td>liblinear</td>\n",
       "      <td>lbfgs</td>\n",
       "    </tr>\n",
       "    <tr>\n",
       "      <th>param_logisticregression__penalty</th>\n",
       "      <td>l2</td>\n",
       "      <td>l1</td>\n",
       "      <td>l2</td>\n",
       "      <td>l1</td>\n",
       "      <td>l2</td>\n",
       "    </tr>\n",
       "    <tr>\n",
       "      <th>param_logisticregression__max_iter</th>\n",
       "      <td>300</td>\n",
       "      <td>100</td>\n",
       "      <td>200</td>\n",
       "      <td>200</td>\n",
       "      <td>250</td>\n",
       "    </tr>\n",
       "    <tr>\n",
       "      <th>param_logisticregression__C</th>\n",
       "      <td>10</td>\n",
       "      <td>0.1</td>\n",
       "      <td>0.1</td>\n",
       "      <td>0.001</td>\n",
       "      <td>0.1</td>\n",
       "    </tr>\n",
       "    <tr>\n",
       "      <th>params</th>\n",
       "      <td>{'logisticregression__solver': 'newton-cg', 'l...</td>\n",
       "      <td>{'logisticregression__solver': 'liblinear', 'l...</td>\n",
       "      <td>{'logisticregression__solver': 'newton-cg', 'l...</td>\n",
       "      <td>{'logisticregression__solver': 'liblinear', 'l...</td>\n",
       "      <td>{'logisticregression__solver': 'lbfgs', 'logis...</td>\n",
       "    </tr>\n",
       "    <tr>\n",
       "      <th>split0_test_score</th>\n",
       "      <td>0.947368</td>\n",
       "      <td>0.934211</td>\n",
       "      <td>0.934211</td>\n",
       "      <td>0.0</td>\n",
       "      <td>0.934211</td>\n",
       "    </tr>\n",
       "    <tr>\n",
       "      <th>split1_test_score</th>\n",
       "      <td>0.933333</td>\n",
       "      <td>0.92</td>\n",
       "      <td>0.946667</td>\n",
       "      <td>0.0</td>\n",
       "      <td>0.946667</td>\n",
       "    </tr>\n",
       "    <tr>\n",
       "      <th>split2_test_score</th>\n",
       "      <td>0.946667</td>\n",
       "      <td>0.973333</td>\n",
       "      <td>0.946667</td>\n",
       "      <td>0.0</td>\n",
       "      <td>0.946667</td>\n",
       "    </tr>\n",
       "    <tr>\n",
       "      <th>split3_test_score</th>\n",
       "      <td>0.906667</td>\n",
       "      <td>0.92</td>\n",
       "      <td>0.92</td>\n",
       "      <td>0.0</td>\n",
       "      <td>0.92</td>\n",
       "    </tr>\n",
       "    <tr>\n",
       "      <th>split4_test_score</th>\n",
       "      <td>0.88</td>\n",
       "      <td>0.893333</td>\n",
       "      <td>0.88</td>\n",
       "      <td>0.0</td>\n",
       "      <td>0.88</td>\n",
       "    </tr>\n",
       "    <tr>\n",
       "      <th>mean_test_score</th>\n",
       "      <td>0.922807</td>\n",
       "      <td>0.928175</td>\n",
       "      <td>0.925509</td>\n",
       "      <td>0.0</td>\n",
       "      <td>0.925509</td>\n",
       "    </tr>\n",
       "    <tr>\n",
       "      <th>std_test_score</th>\n",
       "      <td>0.025986</td>\n",
       "      <td>0.026166</td>\n",
       "      <td>0.024789</td>\n",
       "      <td>0.0</td>\n",
       "      <td>0.024789</td>\n",
       "    </tr>\n",
       "    <tr>\n",
       "      <th>rank_test_score</th>\n",
       "      <td>24</td>\n",
       "      <td>15</td>\n",
       "      <td>17</td>\n",
       "      <td>49</td>\n",
       "      <td>17</td>\n",
       "    </tr>\n",
       "  </tbody>\n",
       "</table>\n",
       "</div>"
      ],
      "text/plain": [
       "                                                                                    0  \\\n",
       "mean_fit_time                                                                0.008423   \n",
       "std_fit_time                                                                 0.001015   \n",
       "mean_score_time                                                              0.001701   \n",
       "std_score_time                                                               0.000396   \n",
       "param_logisticregression__solver                                            newton-cg   \n",
       "param_logisticregression__penalty                                                  l2   \n",
       "param_logisticregression__max_iter                                                300   \n",
       "param_logisticregression__C                                                        10   \n",
       "params                              {'logisticregression__solver': 'newton-cg', 'l...   \n",
       "split0_test_score                                                            0.947368   \n",
       "split1_test_score                                                            0.933333   \n",
       "split2_test_score                                                            0.946667   \n",
       "split3_test_score                                                            0.906667   \n",
       "split4_test_score                                                                0.88   \n",
       "mean_test_score                                                              0.922807   \n",
       "std_test_score                                                               0.025986   \n",
       "rank_test_score                                                                    24   \n",
       "\n",
       "                                                                                    1  \\\n",
       "mean_fit_time                                                                0.003107   \n",
       "std_fit_time                                                                 0.000812   \n",
       "mean_score_time                                                              0.001806   \n",
       "std_score_time                                                               0.000404   \n",
       "param_logisticregression__solver                                            liblinear   \n",
       "param_logisticregression__penalty                                                  l1   \n",
       "param_logisticregression__max_iter                                                100   \n",
       "param_logisticregression__C                                                       0.1   \n",
       "params                              {'logisticregression__solver': 'liblinear', 'l...   \n",
       "split0_test_score                                                            0.934211   \n",
       "split1_test_score                                                                0.92   \n",
       "split2_test_score                                                            0.973333   \n",
       "split3_test_score                                                                0.92   \n",
       "split4_test_score                                                            0.893333   \n",
       "mean_test_score                                                              0.928175   \n",
       "std_test_score                                                               0.026166   \n",
       "rank_test_score                                                                    15   \n",
       "\n",
       "                                                                                    2  \\\n",
       "mean_fit_time                                                                0.007002   \n",
       "std_fit_time                                                                 0.000965   \n",
       "mean_score_time                                                              0.001605   \n",
       "std_score_time                                                               0.000373   \n",
       "param_logisticregression__solver                                            newton-cg   \n",
       "param_logisticregression__penalty                                                  l2   \n",
       "param_logisticregression__max_iter                                                200   \n",
       "param_logisticregression__C                                                       0.1   \n",
       "params                              {'logisticregression__solver': 'newton-cg', 'l...   \n",
       "split0_test_score                                                            0.934211   \n",
       "split1_test_score                                                            0.946667   \n",
       "split2_test_score                                                            0.946667   \n",
       "split3_test_score                                                                0.92   \n",
       "split4_test_score                                                                0.88   \n",
       "mean_test_score                                                              0.925509   \n",
       "std_test_score                                                               0.024789   \n",
       "rank_test_score                                                                    17   \n",
       "\n",
       "                                                                                    3  \\\n",
       "mean_fit_time                                                                0.002202   \n",
       "std_fit_time                                                                 0.000399   \n",
       "mean_score_time                                                              0.001606   \n",
       "std_score_time                                                               0.000375   \n",
       "param_logisticregression__solver                                            liblinear   \n",
       "param_logisticregression__penalty                                                  l1   \n",
       "param_logisticregression__max_iter                                                200   \n",
       "param_logisticregression__C                                                     0.001   \n",
       "params                              {'logisticregression__solver': 'liblinear', 'l...   \n",
       "split0_test_score                                                                 0.0   \n",
       "split1_test_score                                                                 0.0   \n",
       "split2_test_score                                                                 0.0   \n",
       "split3_test_score                                                                 0.0   \n",
       "split4_test_score                                                                 0.0   \n",
       "mean_test_score                                                                   0.0   \n",
       "std_test_score                                                                    0.0   \n",
       "rank_test_score                                                                    49   \n",
       "\n",
       "                                                                                    4  \n",
       "mean_fit_time                                                                0.003809  \n",
       "std_fit_time                                                                 0.000927  \n",
       "mean_score_time                                                              0.001903  \n",
       "std_score_time                                                               0.000494  \n",
       "param_logisticregression__solver                                                lbfgs  \n",
       "param_logisticregression__penalty                                                  l2  \n",
       "param_logisticregression__max_iter                                                250  \n",
       "param_logisticregression__C                                                       0.1  \n",
       "params                              {'logisticregression__solver': 'lbfgs', 'logis...  \n",
       "split0_test_score                                                            0.934211  \n",
       "split1_test_score                                                            0.946667  \n",
       "split2_test_score                                                            0.946667  \n",
       "split3_test_score                                                                0.92  \n",
       "split4_test_score                                                                0.88  \n",
       "mean_test_score                                                              0.925509  \n",
       "std_test_score                                                               0.024789  \n",
       "rank_test_score                                                                    17  "
      ]
     },
     "metadata": {},
     "output_type": "display_data"
    },
    {
     "data": {
      "text/plain": [
       "{'logisticregression__solver': 'lbfgs',\n",
       " 'logisticregression__penalty': 'l2',\n",
       " 'logisticregression__max_iter': 250,\n",
       " 'logisticregression__C': 0.001}"
      ]
     },
     "metadata": {},
     "output_type": "display_data"
    },
    {
     "data": {
      "text/html": [
       "<div>\n",
       "<style scoped>\n",
       "    .dataframe tbody tr th:only-of-type {\n",
       "        vertical-align: middle;\n",
       "    }\n",
       "\n",
       "    .dataframe tbody tr th {\n",
       "        vertical-align: top;\n",
       "    }\n",
       "\n",
       "    .dataframe thead th {\n",
       "        text-align: right;\n",
       "    }\n",
       "</style>\n",
       "<table border=\"1\" class=\"dataframe\">\n",
       "  <thead>\n",
       "    <tr style=\"text-align: right;\">\n",
       "      <th></th>\n",
       "      <th>14</th>\n",
       "    </tr>\n",
       "  </thead>\n",
       "  <tbody>\n",
       "    <tr>\n",
       "      <th>mean_fit_time</th>\n",
       "      <td>0.004209</td>\n",
       "    </tr>\n",
       "    <tr>\n",
       "      <th>std_fit_time</th>\n",
       "      <td>0.00025</td>\n",
       "    </tr>\n",
       "    <tr>\n",
       "      <th>mean_score_time</th>\n",
       "      <td>0.002305</td>\n",
       "    </tr>\n",
       "    <tr>\n",
       "      <th>std_score_time</th>\n",
       "      <td>0.000605</td>\n",
       "    </tr>\n",
       "    <tr>\n",
       "      <th>param_logisticregression__solver</th>\n",
       "      <td>lbfgs</td>\n",
       "    </tr>\n",
       "    <tr>\n",
       "      <th>param_logisticregression__penalty</th>\n",
       "      <td>l2</td>\n",
       "    </tr>\n",
       "    <tr>\n",
       "      <th>param_logisticregression__max_iter</th>\n",
       "      <td>250</td>\n",
       "    </tr>\n",
       "    <tr>\n",
       "      <th>param_logisticregression__C</th>\n",
       "      <td>0.001</td>\n",
       "    </tr>\n",
       "    <tr>\n",
       "      <th>params</th>\n",
       "      <td>{'logisticregression__solver': 'lbfgs', 'logis...</td>\n",
       "    </tr>\n",
       "    <tr>\n",
       "      <th>split0_test_score</th>\n",
       "      <td>0.921053</td>\n",
       "    </tr>\n",
       "    <tr>\n",
       "      <th>split1_test_score</th>\n",
       "      <td>0.946667</td>\n",
       "    </tr>\n",
       "    <tr>\n",
       "      <th>split2_test_score</th>\n",
       "      <td>0.96</td>\n",
       "    </tr>\n",
       "    <tr>\n",
       "      <th>split3_test_score</th>\n",
       "      <td>0.92</td>\n",
       "    </tr>\n",
       "    <tr>\n",
       "      <th>split4_test_score</th>\n",
       "      <td>0.906667</td>\n",
       "    </tr>\n",
       "    <tr>\n",
       "      <th>mean_test_score</th>\n",
       "      <td>0.930877</td>\n",
       "    </tr>\n",
       "    <tr>\n",
       "      <th>std_test_score</th>\n",
       "      <td>0.019486</td>\n",
       "    </tr>\n",
       "    <tr>\n",
       "      <th>rank_test_score</th>\n",
       "      <td>1</td>\n",
       "    </tr>\n",
       "  </tbody>\n",
       "</table>\n",
       "</div>"
      ],
      "text/plain": [
       "                                                                                   14\n",
       "mean_fit_time                                                                0.004209\n",
       "std_fit_time                                                                  0.00025\n",
       "mean_score_time                                                              0.002305\n",
       "std_score_time                                                               0.000605\n",
       "param_logisticregression__solver                                                lbfgs\n",
       "param_logisticregression__penalty                                                  l2\n",
       "param_logisticregression__max_iter                                                250\n",
       "param_logisticregression__C                                                     0.001\n",
       "params                              {'logisticregression__solver': 'lbfgs', 'logis...\n",
       "split0_test_score                                                            0.921053\n",
       "split1_test_score                                                            0.946667\n",
       "split2_test_score                                                                0.96\n",
       "split3_test_score                                                                0.92\n",
       "split4_test_score                                                            0.906667\n",
       "mean_test_score                                                              0.930877\n",
       "std_test_score                                                               0.019486\n",
       "rank_test_score                                                                     1"
      ]
     },
     "metadata": {},
     "output_type": "display_data"
    }
   ],
   "source": [
    "cv_results = pd.DataFrame(grid_search.cv_results_)\n",
    "display(cv_results.head().T)\n",
    "###################################################\n",
    "# melhores hiper-parametros\n",
    "display(grid_search.best_params_)\n",
    "\n",
    "#  melhor modelo\n",
    "display(cv_results.loc[[grid_search.best_index_]].T)"
   ]
  },
  {
   "cell_type": "markdown",
   "id": "33f5c2b6",
   "metadata": {},
   "source": [
    "# Otimização Bayesiana - Otimização de Hiperparâmetros\n",
    "\n",
    "Diferente dos outros métodos exaustivos, a Otimização Bayesiana utiliza um modelo probabilístico para guiar a busca dos melhores hiperparâmetros, visando maximizar a eficiência ao focar nas áreas mais promissoras do espaço de hiperparâmetros.\n",
    "\n",
    "- **Eficiência na Busca:** Pode encontrar melhores hiperparâmetros em menos iterações do que métodos exaustivos ou aleatórios.\n",
    "- **Adaptabilidade:** Ajusta dinamicamente a estratégia de busca com base no que foi aprendido sobre o espaço de hiperparâmetros. Porém...\n",
    "- **Dependência do Modelo de Prior:** A performance da otimização bayesiana pode depender fortemente da escolha do modelo de prior, que precisa ser bem adequado ao problema.\n",
    "\n",
    "### Funcionamento\n",
    "\n",
    "1. **Modelo Probabilístico:**\n",
    "   - A técnica começa com a construção de um modelo probabilístico do espaço de hiperparâmetros. Este modelo, frequentemente um Processo Gaussiano, estima a função de desempenho do modelo de aprendizado de máquina como uma distribuição de probabilidade sobre o espaço de hiperparâmetros.\n",
    "\n",
    "2. **Atualizações Sequenciais:**\n",
    "   - Com cada nova avaliação de hiperparâmetros, o modelo probabilístico é atualizado. A técnica utiliza o conceito de \"aquisição\" para decidir quais hiperparâmetros devem ser avaliados a seguir, baseando-se na probabilidade de melhoria.\n",
    "\n",
    "3. **Função de Aquisição:**\n",
    "   - A função de aquisição, como Expected Improvement (EI), Upper Confidence Bound (UCB), ou Probability of Improvement (PI), ajuda a determinar o próximo conjunto de hiperparâmetros a ser testado. Essa função equilibra entre explorar novas áreas do espaço e explorar em torno de hiperparâmetros que já mostraram bons resultados.\n",
    "\n",
    "4. **Seleção do Melhor Modelo:**\n",
    "   - O processo continua até que um critério de parada específico seja alcançado, seja ele um número fixo de iterações, um tempo limite, ou uma convergência no desempenho do modelo."
   ]
  },
  {
   "cell_type": "code",
   "execution_count": 34,
   "id": "f5c26659",
   "metadata": {},
   "outputs": [],
   "source": [
    "#pip install scikit-optimize"
   ]
  },
  {
   "cell_type": "markdown",
   "id": "e96458a8",
   "metadata": {},
   "source": [
    "## Decision Tree"
   ]
  },
  {
   "cell_type": "code",
   "execution_count": 35,
   "id": "23c911e5",
   "metadata": {},
   "outputs": [],
   "source": [
    "# Grade de hiperparametro \n",
    "# é definido uma forma diferente....\n",
    "from skopt.space import Real, Integer, Categorical\n",
    "space_dt = {\n",
    "    'criterion': Categorical(['gini', 'entropy']),\n",
    "    'max_depth': Integer(6, 12),\n",
    "    'min_samples_split': Integer(5, 20),\n",
    "    'min_samples_leaf': Integer(5, 20),\n",
    "    'max_features': Categorical(['sqrt', 'log2']),\n",
    "    'splitter': Categorical(['best', 'random'])\n",
    "}"
   ]
  },
  {
   "cell_type": "code",
   "execution_count": 36,
   "id": "af878c34",
   "metadata": {},
   "outputs": [
    {
     "name": "stdout",
     "output_type": "stream",
     "text": [
      "resultado de cada iteração do cv externo: [0.84126984 0.856      0.792     ]\n",
      "média: 0.8297566137566138\n"
     ]
    },
    {
     "data": {
      "text/html": [
       "<style>#sk-container-id-7 {color: black;background-color: white;}#sk-container-id-7 pre{padding: 0;}#sk-container-id-7 div.sk-toggleable {background-color: white;}#sk-container-id-7 label.sk-toggleable__label {cursor: pointer;display: block;width: 100%;margin-bottom: 0;padding: 0.3em;box-sizing: border-box;text-align: center;}#sk-container-id-7 label.sk-toggleable__label-arrow:before {content: \"▸\";float: left;margin-right: 0.25em;color: #696969;}#sk-container-id-7 label.sk-toggleable__label-arrow:hover:before {color: black;}#sk-container-id-7 div.sk-estimator:hover label.sk-toggleable__label-arrow:before {color: black;}#sk-container-id-7 div.sk-toggleable__content {max-height: 0;max-width: 0;overflow: hidden;text-align: left;background-color: #f0f8ff;}#sk-container-id-7 div.sk-toggleable__content pre {margin: 0.2em;color: black;border-radius: 0.25em;background-color: #f0f8ff;}#sk-container-id-7 input.sk-toggleable__control:checked~div.sk-toggleable__content {max-height: 200px;max-width: 100%;overflow: auto;}#sk-container-id-7 input.sk-toggleable__control:checked~label.sk-toggleable__label-arrow:before {content: \"▾\";}#sk-container-id-7 div.sk-estimator input.sk-toggleable__control:checked~label.sk-toggleable__label {background-color: #d4ebff;}#sk-container-id-7 div.sk-label input.sk-toggleable__control:checked~label.sk-toggleable__label {background-color: #d4ebff;}#sk-container-id-7 input.sk-hidden--visually {border: 0;clip: rect(1px 1px 1px 1px);clip: rect(1px, 1px, 1px, 1px);height: 1px;margin: -1px;overflow: hidden;padding: 0;position: absolute;width: 1px;}#sk-container-id-7 div.sk-estimator {font-family: monospace;background-color: #f0f8ff;border: 1px dotted black;border-radius: 0.25em;box-sizing: border-box;margin-bottom: 0.5em;}#sk-container-id-7 div.sk-estimator:hover {background-color: #d4ebff;}#sk-container-id-7 div.sk-parallel-item::after {content: \"\";width: 100%;border-bottom: 1px solid gray;flex-grow: 1;}#sk-container-id-7 div.sk-label:hover label.sk-toggleable__label {background-color: #d4ebff;}#sk-container-id-7 div.sk-serial::before {content: \"\";position: absolute;border-left: 1px solid gray;box-sizing: border-box;top: 0;bottom: 0;left: 50%;z-index: 0;}#sk-container-id-7 div.sk-serial {display: flex;flex-direction: column;align-items: center;background-color: white;padding-right: 0.2em;padding-left: 0.2em;position: relative;}#sk-container-id-7 div.sk-item {position: relative;z-index: 1;}#sk-container-id-7 div.sk-parallel {display: flex;align-items: stretch;justify-content: center;background-color: white;position: relative;}#sk-container-id-7 div.sk-item::before, #sk-container-id-7 div.sk-parallel-item::before {content: \"\";position: absolute;border-left: 1px solid gray;box-sizing: border-box;top: 0;bottom: 0;left: 50%;z-index: -1;}#sk-container-id-7 div.sk-parallel-item {display: flex;flex-direction: column;z-index: 1;position: relative;background-color: white;}#sk-container-id-7 div.sk-parallel-item:first-child::after {align-self: flex-end;width: 50%;}#sk-container-id-7 div.sk-parallel-item:last-child::after {align-self: flex-start;width: 50%;}#sk-container-id-7 div.sk-parallel-item:only-child::after {width: 0;}#sk-container-id-7 div.sk-dashed-wrapped {border: 1px dashed gray;margin: 0 0.4em 0.5em 0.4em;box-sizing: border-box;padding-bottom: 0.4em;background-color: white;}#sk-container-id-7 div.sk-label label {font-family: monospace;font-weight: bold;display: inline-block;line-height: 1.2em;}#sk-container-id-7 div.sk-label-container {text-align: center;}#sk-container-id-7 div.sk-container {/* jupyter's `normalize.less` sets `[hidden] { display: none; }` but bootstrap.min.css set `[hidden] { display: none !important; }` so we also need the `!important` here to be able to override the default hidden behavior on the sphinx rendered scikit-learn.org. See: https://github.com/scikit-learn/scikit-learn/issues/21755 */display: inline-block !important;position: relative;}#sk-container-id-7 div.sk-text-repr-fallback {display: none;}</style><div id=\"sk-container-id-7\" class=\"sk-top-container\"><div class=\"sk-text-repr-fallback\"><pre>BayesSearchCV(cv=StratifiedKFold(n_splits=5, random_state=3141592, shuffle=True),\n",
       "              estimator=DecisionTreeClassifier(random_state=3141592), n_jobs=-1,\n",
       "              random_state=3141592, scoring=&#x27;recall&#x27;,\n",
       "              search_spaces={&#x27;criterion&#x27;: Categorical(categories=(&#x27;gini&#x27;, &#x27;entropy&#x27;), prior=None),\n",
       "                             &#x27;max_depth&#x27;: Integer(low=6, high=12, prior=&#x27;uniform&#x27;, transform=&#x27;normalize&#x27;),\n",
       "                             &#x27;max_features&#x27;: Categorical(categories=(&#x27;sqrt&#x27;, &#x27;log2&#x27;), prior=None),\n",
       "                             &#x27;min_samples_leaf&#x27;: Integer(low=5, high=20, prior=&#x27;uniform&#x27;, transform=&#x27;normalize&#x27;),\n",
       "                             &#x27;min_samples_split&#x27;: Integer(low=5, high=20, prior=&#x27;uniform&#x27;, transform=&#x27;normalize&#x27;),\n",
       "                             &#x27;splitter&#x27;: Categorical(categories=(&#x27;best&#x27;, &#x27;random&#x27;), prior=None)})</pre><b>In a Jupyter environment, please rerun this cell to show the HTML representation or trust the notebook. <br />On GitHub, the HTML representation is unable to render, please try loading this page with nbviewer.org.</b></div><div class=\"sk-container\" hidden><div class=\"sk-item sk-dashed-wrapped\"><div class=\"sk-label-container\"><div class=\"sk-label sk-toggleable\"><input class=\"sk-toggleable__control sk-hidden--visually\" id=\"sk-estimator-id-21\" type=\"checkbox\" ><label for=\"sk-estimator-id-21\" class=\"sk-toggleable__label sk-toggleable__label-arrow\">BayesSearchCV</label><div class=\"sk-toggleable__content\"><pre>BayesSearchCV(cv=StratifiedKFold(n_splits=5, random_state=3141592, shuffle=True),\n",
       "              estimator=DecisionTreeClassifier(random_state=3141592), n_jobs=-1,\n",
       "              random_state=3141592, scoring=&#x27;recall&#x27;,\n",
       "              search_spaces={&#x27;criterion&#x27;: Categorical(categories=(&#x27;gini&#x27;, &#x27;entropy&#x27;), prior=None),\n",
       "                             &#x27;max_depth&#x27;: Integer(low=6, high=12, prior=&#x27;uniform&#x27;, transform=&#x27;normalize&#x27;),\n",
       "                             &#x27;max_features&#x27;: Categorical(categories=(&#x27;sqrt&#x27;, &#x27;log2&#x27;), prior=None),\n",
       "                             &#x27;min_samples_leaf&#x27;: Integer(low=5, high=20, prior=&#x27;uniform&#x27;, transform=&#x27;normalize&#x27;),\n",
       "                             &#x27;min_samples_split&#x27;: Integer(low=5, high=20, prior=&#x27;uniform&#x27;, transform=&#x27;normalize&#x27;),\n",
       "                             &#x27;splitter&#x27;: Categorical(categories=(&#x27;best&#x27;, &#x27;random&#x27;), prior=None)})</pre></div></div></div><div class=\"sk-parallel\"><div class=\"sk-parallel-item\"><div class=\"sk-item\"><div class=\"sk-label-container\"><div class=\"sk-label sk-toggleable\"><input class=\"sk-toggleable__control sk-hidden--visually\" id=\"sk-estimator-id-22\" type=\"checkbox\" ><label for=\"sk-estimator-id-22\" class=\"sk-toggleable__label sk-toggleable__label-arrow\">estimator: DecisionTreeClassifier</label><div class=\"sk-toggleable__content\"><pre>DecisionTreeClassifier(random_state=3141592)</pre></div></div></div><div class=\"sk-serial\"><div class=\"sk-item\"><div class=\"sk-estimator sk-toggleable\"><input class=\"sk-toggleable__control sk-hidden--visually\" id=\"sk-estimator-id-23\" type=\"checkbox\" ><label for=\"sk-estimator-id-23\" class=\"sk-toggleable__label sk-toggleable__label-arrow\">DecisionTreeClassifier</label><div class=\"sk-toggleable__content\"><pre>DecisionTreeClassifier(random_state=3141592)</pre></div></div></div></div></div></div></div></div></div></div>"
      ],
      "text/plain": [
       "BayesSearchCV(cv=StratifiedKFold(n_splits=5, random_state=3141592, shuffle=True),\n",
       "              estimator=DecisionTreeClassifier(random_state=3141592), n_jobs=-1,\n",
       "              random_state=3141592, scoring='recall',\n",
       "              search_spaces={'criterion': Categorical(categories=('gini', 'entropy'), prior=None),\n",
       "                             'max_depth': Integer(low=6, high=12, prior='uniform', transform='normalize'),\n",
       "                             'max_features': Categorical(categories=('sqrt', 'log2'), prior=None),\n",
       "                             'min_samples_leaf': Integer(low=5, high=20, prior='uniform', transform='normalize'),\n",
       "                             'min_samples_split': Integer(low=5, high=20, prior='uniform', transform='normalize'),\n",
       "                             'splitter': Categorical(categories=('best', 'random'), prior=None)})"
      ]
     },
     "execution_count": 36,
     "metadata": {},
     "output_type": "execute_result"
    }
   ],
   "source": [
    "from skopt import BayesSearchCV\n",
    "\n",
    "opt_dt = BayesSearchCV(\n",
    "    estimator=DecisionTreeClassifier(random_state=RANDOM_STATE),\n",
    "    search_spaces = space_dt, \n",
    "    n_iter=50, # numero de interações\n",
    "    scoring='recall', \n",
    "    n_jobs=-1, \n",
    "    cv=inner_cv, \n",
    "    random_state=RANDOM_STATE\n",
    "    )\n",
    "\n",
    "# Validação cruzada aninhada\n",
    "bs_dt_nested_scores = cross_val_score(opt_dt, x_treino, y_treino, cv=outer_cv)\n",
    "\n",
    "print(f'resultado de cada iteração do cv externo: {bs_dt_nested_scores}')\n",
    "print(f'média: {bs_dt_nested_scores.mean()}')\n",
    "\n",
    "opt_dt.fit(x_treino, y_treino)"
   ]
  },
  {
   "cell_type": "code",
   "execution_count": 37,
   "id": "3cca4ca9",
   "metadata": {},
   "outputs": [
    {
     "name": "stdout",
     "output_type": "stream",
     "text": [
      "resultado de cada iteração do cv externo: [0.84126984 0.856      0.792     ]\n",
      "média: 0.8297566137566138\n"
     ]
    }
   ],
   "source": [
    "print(f'resultado de cada iteração do cv externo: {bs_dt_nested_scores}')\n",
    "print(f'média: {bs_dt_nested_scores.mean()}')"
   ]
  },
  {
   "cell_type": "code",
   "execution_count": 38,
   "id": "94ad4891",
   "metadata": {},
   "outputs": [
    {
     "data": {
      "text/html": [
       "<div>\n",
       "<style scoped>\n",
       "    .dataframe tbody tr th:only-of-type {\n",
       "        vertical-align: middle;\n",
       "    }\n",
       "\n",
       "    .dataframe tbody tr th {\n",
       "        vertical-align: top;\n",
       "    }\n",
       "\n",
       "    .dataframe thead th {\n",
       "        text-align: right;\n",
       "    }\n",
       "</style>\n",
       "<table border=\"1\" class=\"dataframe\">\n",
       "  <thead>\n",
       "    <tr style=\"text-align: right;\">\n",
       "      <th></th>\n",
       "      <th>0</th>\n",
       "      <th>1</th>\n",
       "      <th>2</th>\n",
       "      <th>3</th>\n",
       "      <th>4</th>\n",
       "    </tr>\n",
       "  </thead>\n",
       "  <tbody>\n",
       "    <tr>\n",
       "      <th>mean_fit_time</th>\n",
       "      <td>0.002898</td>\n",
       "      <td>0.001401</td>\n",
       "      <td>0.001799</td>\n",
       "      <td>0.002202</td>\n",
       "      <td>0.001711</td>\n",
       "    </tr>\n",
       "    <tr>\n",
       "      <th>std_fit_time</th>\n",
       "      <td>0.000575</td>\n",
       "      <td>0.000489</td>\n",
       "      <td>0.0004</td>\n",
       "      <td>0.000402</td>\n",
       "      <td>0.000396</td>\n",
       "    </tr>\n",
       "    <tr>\n",
       "      <th>mean_score_time</th>\n",
       "      <td>0.002196</td>\n",
       "      <td>0.001901</td>\n",
       "      <td>0.0016</td>\n",
       "      <td>0.0016</td>\n",
       "      <td>0.001024</td>\n",
       "    </tr>\n",
       "    <tr>\n",
       "      <th>std_score_time</th>\n",
       "      <td>0.000658</td>\n",
       "      <td>0.000663</td>\n",
       "      <td>0.00049</td>\n",
       "      <td>0.00049</td>\n",
       "      <td>0.000045</td>\n",
       "    </tr>\n",
       "    <tr>\n",
       "      <th>param_criterion</th>\n",
       "      <td>entropy</td>\n",
       "      <td>entropy</td>\n",
       "      <td>gini</td>\n",
       "      <td>entropy</td>\n",
       "      <td>gini</td>\n",
       "    </tr>\n",
       "    <tr>\n",
       "      <th>param_max_depth</th>\n",
       "      <td>7</td>\n",
       "      <td>10</td>\n",
       "      <td>6</td>\n",
       "      <td>9</td>\n",
       "      <td>6</td>\n",
       "    </tr>\n",
       "    <tr>\n",
       "      <th>param_max_features</th>\n",
       "      <td>log2</td>\n",
       "      <td>log2</td>\n",
       "      <td>log2</td>\n",
       "      <td>sqrt</td>\n",
       "      <td>log2</td>\n",
       "    </tr>\n",
       "    <tr>\n",
       "      <th>param_min_samples_leaf</th>\n",
       "      <td>13</td>\n",
       "      <td>6</td>\n",
       "      <td>12</td>\n",
       "      <td>9</td>\n",
       "      <td>18</td>\n",
       "    </tr>\n",
       "    <tr>\n",
       "      <th>param_min_samples_split</th>\n",
       "      <td>13</td>\n",
       "      <td>8</td>\n",
       "      <td>14</td>\n",
       "      <td>18</td>\n",
       "      <td>14</td>\n",
       "    </tr>\n",
       "    <tr>\n",
       "      <th>param_splitter</th>\n",
       "      <td>best</td>\n",
       "      <td>random</td>\n",
       "      <td>best</td>\n",
       "      <td>best</td>\n",
       "      <td>best</td>\n",
       "    </tr>\n",
       "    <tr>\n",
       "      <th>params</th>\n",
       "      <td>{'criterion': 'entropy', 'max_depth': 7, 'max_...</td>\n",
       "      <td>{'criterion': 'entropy', 'max_depth': 10, 'max...</td>\n",
       "      <td>{'criterion': 'gini', 'max_depth': 6, 'max_fea...</td>\n",
       "      <td>{'criterion': 'entropy', 'max_depth': 9, 'max_...</td>\n",
       "      <td>{'criterion': 'gini', 'max_depth': 6, 'max_fea...</td>\n",
       "    </tr>\n",
       "    <tr>\n",
       "      <th>split0_test_score</th>\n",
       "      <td>0.855263</td>\n",
       "      <td>0.828947</td>\n",
       "      <td>0.763158</td>\n",
       "      <td>0.868421</td>\n",
       "      <td>0.710526</td>\n",
       "    </tr>\n",
       "    <tr>\n",
       "      <th>split1_test_score</th>\n",
       "      <td>0.746667</td>\n",
       "      <td>0.773333</td>\n",
       "      <td>0.733333</td>\n",
       "      <td>0.786667</td>\n",
       "      <td>0.773333</td>\n",
       "    </tr>\n",
       "    <tr>\n",
       "      <th>split2_test_score</th>\n",
       "      <td>0.826667</td>\n",
       "      <td>0.853333</td>\n",
       "      <td>0.84</td>\n",
       "      <td>0.8</td>\n",
       "      <td>0.8</td>\n",
       "    </tr>\n",
       "    <tr>\n",
       "      <th>split3_test_score</th>\n",
       "      <td>0.746667</td>\n",
       "      <td>0.786667</td>\n",
       "      <td>0.72</td>\n",
       "      <td>0.706667</td>\n",
       "      <td>0.6</td>\n",
       "    </tr>\n",
       "    <tr>\n",
       "      <th>split4_test_score</th>\n",
       "      <td>0.773333</td>\n",
       "      <td>0.693333</td>\n",
       "      <td>0.786667</td>\n",
       "      <td>0.733333</td>\n",
       "      <td>0.786667</td>\n",
       "    </tr>\n",
       "    <tr>\n",
       "      <th>mean_test_score</th>\n",
       "      <td>0.789719</td>\n",
       "      <td>0.787123</td>\n",
       "      <td>0.768632</td>\n",
       "      <td>0.779018</td>\n",
       "      <td>0.734105</td>\n",
       "    </tr>\n",
       "    <tr>\n",
       "      <th>std_test_score</th>\n",
       "      <td>0.043901</td>\n",
       "      <td>0.054991</td>\n",
       "      <td>0.042567</td>\n",
       "      <td>0.056238</td>\n",
       "      <td>0.073734</td>\n",
       "    </tr>\n",
       "    <tr>\n",
       "      <th>rank_test_score</th>\n",
       "      <td>26</td>\n",
       "      <td>28</td>\n",
       "      <td>39</td>\n",
       "      <td>33</td>\n",
       "      <td>49</td>\n",
       "    </tr>\n",
       "  </tbody>\n",
       "</table>\n",
       "</div>"
      ],
      "text/plain": [
       "                                                                         0  \\\n",
       "mean_fit_time                                                     0.002898   \n",
       "std_fit_time                                                      0.000575   \n",
       "mean_score_time                                                   0.002196   \n",
       "std_score_time                                                    0.000658   \n",
       "param_criterion                                                    entropy   \n",
       "param_max_depth                                                          7   \n",
       "param_max_features                                                    log2   \n",
       "param_min_samples_leaf                                                  13   \n",
       "param_min_samples_split                                                 13   \n",
       "param_splitter                                                        best   \n",
       "params                   {'criterion': 'entropy', 'max_depth': 7, 'max_...   \n",
       "split0_test_score                                                 0.855263   \n",
       "split1_test_score                                                 0.746667   \n",
       "split2_test_score                                                 0.826667   \n",
       "split3_test_score                                                 0.746667   \n",
       "split4_test_score                                                 0.773333   \n",
       "mean_test_score                                                   0.789719   \n",
       "std_test_score                                                    0.043901   \n",
       "rank_test_score                                                         26   \n",
       "\n",
       "                                                                         1  \\\n",
       "mean_fit_time                                                     0.001401   \n",
       "std_fit_time                                                      0.000489   \n",
       "mean_score_time                                                   0.001901   \n",
       "std_score_time                                                    0.000663   \n",
       "param_criterion                                                    entropy   \n",
       "param_max_depth                                                         10   \n",
       "param_max_features                                                    log2   \n",
       "param_min_samples_leaf                                                   6   \n",
       "param_min_samples_split                                                  8   \n",
       "param_splitter                                                      random   \n",
       "params                   {'criterion': 'entropy', 'max_depth': 10, 'max...   \n",
       "split0_test_score                                                 0.828947   \n",
       "split1_test_score                                                 0.773333   \n",
       "split2_test_score                                                 0.853333   \n",
       "split3_test_score                                                 0.786667   \n",
       "split4_test_score                                                 0.693333   \n",
       "mean_test_score                                                   0.787123   \n",
       "std_test_score                                                    0.054991   \n",
       "rank_test_score                                                         28   \n",
       "\n",
       "                                                                         2  \\\n",
       "mean_fit_time                                                     0.001799   \n",
       "std_fit_time                                                        0.0004   \n",
       "mean_score_time                                                     0.0016   \n",
       "std_score_time                                                     0.00049   \n",
       "param_criterion                                                       gini   \n",
       "param_max_depth                                                          6   \n",
       "param_max_features                                                    log2   \n",
       "param_min_samples_leaf                                                  12   \n",
       "param_min_samples_split                                                 14   \n",
       "param_splitter                                                        best   \n",
       "params                   {'criterion': 'gini', 'max_depth': 6, 'max_fea...   \n",
       "split0_test_score                                                 0.763158   \n",
       "split1_test_score                                                 0.733333   \n",
       "split2_test_score                                                     0.84   \n",
       "split3_test_score                                                     0.72   \n",
       "split4_test_score                                                 0.786667   \n",
       "mean_test_score                                                   0.768632   \n",
       "std_test_score                                                    0.042567   \n",
       "rank_test_score                                                         39   \n",
       "\n",
       "                                                                         3  \\\n",
       "mean_fit_time                                                     0.002202   \n",
       "std_fit_time                                                      0.000402   \n",
       "mean_score_time                                                     0.0016   \n",
       "std_score_time                                                     0.00049   \n",
       "param_criterion                                                    entropy   \n",
       "param_max_depth                                                          9   \n",
       "param_max_features                                                    sqrt   \n",
       "param_min_samples_leaf                                                   9   \n",
       "param_min_samples_split                                                 18   \n",
       "param_splitter                                                        best   \n",
       "params                   {'criterion': 'entropy', 'max_depth': 9, 'max_...   \n",
       "split0_test_score                                                 0.868421   \n",
       "split1_test_score                                                 0.786667   \n",
       "split2_test_score                                                      0.8   \n",
       "split3_test_score                                                 0.706667   \n",
       "split4_test_score                                                 0.733333   \n",
       "mean_test_score                                                   0.779018   \n",
       "std_test_score                                                    0.056238   \n",
       "rank_test_score                                                         33   \n",
       "\n",
       "                                                                         4  \n",
       "mean_fit_time                                                     0.001711  \n",
       "std_fit_time                                                      0.000396  \n",
       "mean_score_time                                                   0.001024  \n",
       "std_score_time                                                    0.000045  \n",
       "param_criterion                                                       gini  \n",
       "param_max_depth                                                          6  \n",
       "param_max_features                                                    log2  \n",
       "param_min_samples_leaf                                                  18  \n",
       "param_min_samples_split                                                 14  \n",
       "param_splitter                                                        best  \n",
       "params                   {'criterion': 'gini', 'max_depth': 6, 'max_fea...  \n",
       "split0_test_score                                                 0.710526  \n",
       "split1_test_score                                                 0.773333  \n",
       "split2_test_score                                                      0.8  \n",
       "split3_test_score                                                      0.6  \n",
       "split4_test_score                                                 0.786667  \n",
       "mean_test_score                                                   0.734105  \n",
       "std_test_score                                                    0.073734  \n",
       "rank_test_score                                                         49  "
      ]
     },
     "metadata": {},
     "output_type": "display_data"
    },
    {
     "data": {
      "text/html": [
       "<div>\n",
       "<style scoped>\n",
       "    .dataframe tbody tr th:only-of-type {\n",
       "        vertical-align: middle;\n",
       "    }\n",
       "\n",
       "    .dataframe tbody tr th {\n",
       "        vertical-align: top;\n",
       "    }\n",
       "\n",
       "    .dataframe thead th {\n",
       "        text-align: right;\n",
       "    }\n",
       "</style>\n",
       "<table border=\"1\" class=\"dataframe\">\n",
       "  <thead>\n",
       "    <tr style=\"text-align: right;\">\n",
       "      <th></th>\n",
       "      <th>17</th>\n",
       "    </tr>\n",
       "  </thead>\n",
       "  <tbody>\n",
       "    <tr>\n",
       "      <th>mean_fit_time</th>\n",
       "      <td>0.002159</td>\n",
       "    </tr>\n",
       "    <tr>\n",
       "      <th>std_fit_time</th>\n",
       "      <td>0.000184</td>\n",
       "    </tr>\n",
       "    <tr>\n",
       "      <th>mean_score_time</th>\n",
       "      <td>0.001832</td>\n",
       "    </tr>\n",
       "    <tr>\n",
       "      <th>std_score_time</th>\n",
       "      <td>0.000417</td>\n",
       "    </tr>\n",
       "    <tr>\n",
       "      <th>param_criterion</th>\n",
       "      <td>gini</td>\n",
       "    </tr>\n",
       "    <tr>\n",
       "      <th>param_max_depth</th>\n",
       "      <td>12</td>\n",
       "    </tr>\n",
       "    <tr>\n",
       "      <th>param_max_features</th>\n",
       "      <td>sqrt</td>\n",
       "    </tr>\n",
       "    <tr>\n",
       "      <th>param_min_samples_leaf</th>\n",
       "      <td>5</td>\n",
       "    </tr>\n",
       "    <tr>\n",
       "      <th>param_min_samples_split</th>\n",
       "      <td>13</td>\n",
       "    </tr>\n",
       "    <tr>\n",
       "      <th>param_splitter</th>\n",
       "      <td>random</td>\n",
       "    </tr>\n",
       "    <tr>\n",
       "      <th>params</th>\n",
       "      <td>{'criterion': 'gini', 'max_depth': 12, 'max_fe...</td>\n",
       "    </tr>\n",
       "    <tr>\n",
       "      <th>split0_test_score</th>\n",
       "      <td>0.881579</td>\n",
       "    </tr>\n",
       "    <tr>\n",
       "      <th>split1_test_score</th>\n",
       "      <td>0.88</td>\n",
       "    </tr>\n",
       "    <tr>\n",
       "      <th>split2_test_score</th>\n",
       "      <td>0.866667</td>\n",
       "    </tr>\n",
       "    <tr>\n",
       "      <th>split3_test_score</th>\n",
       "      <td>0.746667</td>\n",
       "    </tr>\n",
       "    <tr>\n",
       "      <th>split4_test_score</th>\n",
       "      <td>0.773333</td>\n",
       "    </tr>\n",
       "    <tr>\n",
       "      <th>mean_test_score</th>\n",
       "      <td>0.829649</td>\n",
       "    </tr>\n",
       "    <tr>\n",
       "      <th>std_test_score</th>\n",
       "      <td>0.057723</td>\n",
       "    </tr>\n",
       "    <tr>\n",
       "      <th>rank_test_score</th>\n",
       "      <td>1</td>\n",
       "    </tr>\n",
       "  </tbody>\n",
       "</table>\n",
       "</div>"
      ],
      "text/plain": [
       "                                                                        17\n",
       "mean_fit_time                                                     0.002159\n",
       "std_fit_time                                                      0.000184\n",
       "mean_score_time                                                   0.001832\n",
       "std_score_time                                                    0.000417\n",
       "param_criterion                                                       gini\n",
       "param_max_depth                                                         12\n",
       "param_max_features                                                    sqrt\n",
       "param_min_samples_leaf                                                   5\n",
       "param_min_samples_split                                                 13\n",
       "param_splitter                                                      random\n",
       "params                   {'criterion': 'gini', 'max_depth': 12, 'max_fe...\n",
       "split0_test_score                                                 0.881579\n",
       "split1_test_score                                                     0.88\n",
       "split2_test_score                                                 0.866667\n",
       "split3_test_score                                                 0.746667\n",
       "split4_test_score                                                 0.773333\n",
       "mean_test_score                                                   0.829649\n",
       "std_test_score                                                    0.057723\n",
       "rank_test_score                                                          1"
      ]
     },
     "metadata": {},
     "output_type": "display_data"
    }
   ],
   "source": [
    "cv_results = pd.DataFrame(opt_dt.cv_results_)\n",
    "display(cv_results.head().T)\n",
    "###################################################\n",
    "# melhores hiper-parametros\n",
    "#display(opt_dt.best_params_)\n",
    "\n",
    "#  melhor modelo\n",
    "display(cv_results.loc[[opt_dt.best_index_]].T)"
   ]
  },
  {
   "cell_type": "markdown",
   "id": "5c82439d",
   "metadata": {},
   "source": [
    "## Regression Logistic"
   ]
  },
  {
   "cell_type": "code",
   "execution_count": 39,
   "id": "fb9f5280",
   "metadata": {},
   "outputs": [],
   "source": [
    "# Definindo Grade\n",
    "max_iter = Integer(100, 300)\n",
    "c = Categorical([0.001, 0.01, 0.1, 1, 10])\n",
    "\n",
    "space_lr = [\n",
    "    {\n",
    "        'logisticregression__solver': Categorical(['newton-cg', 'lbfgs']),\n",
    "        'logisticregression__penalty': Categorical(['l2']),\n",
    "        'logisticregression__max_iter': max_iter,\n",
    "        'logisticregression__C': c\n",
    "    },\n",
    "    {\n",
    "        'logisticregression__solver': Categorical(['liblinear']),\n",
    "        'logisticregression__penalty': Categorical(['l1', 'l2']),\n",
    "        'logisticregression__max_iter': max_iter,\n",
    "        'logisticregression__C': c\n",
    "    },\n",
    "]"
   ]
  },
  {
   "cell_type": "code",
   "execution_count": 40,
   "id": "f9cd7b07",
   "metadata": {},
   "outputs": [
    {
     "name": "stdout",
     "output_type": "stream",
     "text": [
      "resultado de cada iteração do cv externo: [0.93650794 0.968      0.904     ]\n",
      "média: 0.9361693121693122\n"
     ]
    },
    {
     "data": {
      "text/html": [
       "<style>#sk-container-id-8 {color: black;background-color: white;}#sk-container-id-8 pre{padding: 0;}#sk-container-id-8 div.sk-toggleable {background-color: white;}#sk-container-id-8 label.sk-toggleable__label {cursor: pointer;display: block;width: 100%;margin-bottom: 0;padding: 0.3em;box-sizing: border-box;text-align: center;}#sk-container-id-8 label.sk-toggleable__label-arrow:before {content: \"▸\";float: left;margin-right: 0.25em;color: #696969;}#sk-container-id-8 label.sk-toggleable__label-arrow:hover:before {color: black;}#sk-container-id-8 div.sk-estimator:hover label.sk-toggleable__label-arrow:before {color: black;}#sk-container-id-8 div.sk-toggleable__content {max-height: 0;max-width: 0;overflow: hidden;text-align: left;background-color: #f0f8ff;}#sk-container-id-8 div.sk-toggleable__content pre {margin: 0.2em;color: black;border-radius: 0.25em;background-color: #f0f8ff;}#sk-container-id-8 input.sk-toggleable__control:checked~div.sk-toggleable__content {max-height: 200px;max-width: 100%;overflow: auto;}#sk-container-id-8 input.sk-toggleable__control:checked~label.sk-toggleable__label-arrow:before {content: \"▾\";}#sk-container-id-8 div.sk-estimator input.sk-toggleable__control:checked~label.sk-toggleable__label {background-color: #d4ebff;}#sk-container-id-8 div.sk-label input.sk-toggleable__control:checked~label.sk-toggleable__label {background-color: #d4ebff;}#sk-container-id-8 input.sk-hidden--visually {border: 0;clip: rect(1px 1px 1px 1px);clip: rect(1px, 1px, 1px, 1px);height: 1px;margin: -1px;overflow: hidden;padding: 0;position: absolute;width: 1px;}#sk-container-id-8 div.sk-estimator {font-family: monospace;background-color: #f0f8ff;border: 1px dotted black;border-radius: 0.25em;box-sizing: border-box;margin-bottom: 0.5em;}#sk-container-id-8 div.sk-estimator:hover {background-color: #d4ebff;}#sk-container-id-8 div.sk-parallel-item::after {content: \"\";width: 100%;border-bottom: 1px solid gray;flex-grow: 1;}#sk-container-id-8 div.sk-label:hover label.sk-toggleable__label {background-color: #d4ebff;}#sk-container-id-8 div.sk-serial::before {content: \"\";position: absolute;border-left: 1px solid gray;box-sizing: border-box;top: 0;bottom: 0;left: 50%;z-index: 0;}#sk-container-id-8 div.sk-serial {display: flex;flex-direction: column;align-items: center;background-color: white;padding-right: 0.2em;padding-left: 0.2em;position: relative;}#sk-container-id-8 div.sk-item {position: relative;z-index: 1;}#sk-container-id-8 div.sk-parallel {display: flex;align-items: stretch;justify-content: center;background-color: white;position: relative;}#sk-container-id-8 div.sk-item::before, #sk-container-id-8 div.sk-parallel-item::before {content: \"\";position: absolute;border-left: 1px solid gray;box-sizing: border-box;top: 0;bottom: 0;left: 50%;z-index: -1;}#sk-container-id-8 div.sk-parallel-item {display: flex;flex-direction: column;z-index: 1;position: relative;background-color: white;}#sk-container-id-8 div.sk-parallel-item:first-child::after {align-self: flex-end;width: 50%;}#sk-container-id-8 div.sk-parallel-item:last-child::after {align-self: flex-start;width: 50%;}#sk-container-id-8 div.sk-parallel-item:only-child::after {width: 0;}#sk-container-id-8 div.sk-dashed-wrapped {border: 1px dashed gray;margin: 0 0.4em 0.5em 0.4em;box-sizing: border-box;padding-bottom: 0.4em;background-color: white;}#sk-container-id-8 div.sk-label label {font-family: monospace;font-weight: bold;display: inline-block;line-height: 1.2em;}#sk-container-id-8 div.sk-label-container {text-align: center;}#sk-container-id-8 div.sk-container {/* jupyter's `normalize.less` sets `[hidden] { display: none; }` but bootstrap.min.css set `[hidden] { display: none !important; }` so we also need the `!important` here to be able to override the default hidden behavior on the sphinx rendered scikit-learn.org. See: https://github.com/scikit-learn/scikit-learn/issues/21755 */display: inline-block !important;position: relative;}#sk-container-id-8 div.sk-text-repr-fallback {display: none;}</style><div id=\"sk-container-id-8\" class=\"sk-top-container\"><div class=\"sk-text-repr-fallback\"><pre>BayesSearchCV(cv=StratifiedKFold(n_splits=5, random_state=3141592, shuffle=True),\n",
       "              estimator=DecisionTreeClassifier(random_state=3141592), n_jobs=-1,\n",
       "              random_state=3141592, scoring=&#x27;recall&#x27;,\n",
       "              search_spaces={&#x27;criterion&#x27;: Categorical(categories=(&#x27;gini&#x27;, &#x27;entropy&#x27;), prior=None),\n",
       "                             &#x27;max_depth&#x27;: Integer(low=6, high=12, prior=&#x27;uniform&#x27;, transform=&#x27;normalize&#x27;),\n",
       "                             &#x27;max_features&#x27;: Categorical(categories=(&#x27;sqrt&#x27;, &#x27;log2&#x27;), prior=None),\n",
       "                             &#x27;min_samples_leaf&#x27;: Integer(low=5, high=20, prior=&#x27;uniform&#x27;, transform=&#x27;normalize&#x27;),\n",
       "                             &#x27;min_samples_split&#x27;: Integer(low=5, high=20, prior=&#x27;uniform&#x27;, transform=&#x27;normalize&#x27;),\n",
       "                             &#x27;splitter&#x27;: Categorical(categories=(&#x27;best&#x27;, &#x27;random&#x27;), prior=None)})</pre><b>In a Jupyter environment, please rerun this cell to show the HTML representation or trust the notebook. <br />On GitHub, the HTML representation is unable to render, please try loading this page with nbviewer.org.</b></div><div class=\"sk-container\" hidden><div class=\"sk-item sk-dashed-wrapped\"><div class=\"sk-label-container\"><div class=\"sk-label sk-toggleable\"><input class=\"sk-toggleable__control sk-hidden--visually\" id=\"sk-estimator-id-24\" type=\"checkbox\" ><label for=\"sk-estimator-id-24\" class=\"sk-toggleable__label sk-toggleable__label-arrow\">BayesSearchCV</label><div class=\"sk-toggleable__content\"><pre>BayesSearchCV(cv=StratifiedKFold(n_splits=5, random_state=3141592, shuffle=True),\n",
       "              estimator=DecisionTreeClassifier(random_state=3141592), n_jobs=-1,\n",
       "              random_state=3141592, scoring=&#x27;recall&#x27;,\n",
       "              search_spaces={&#x27;criterion&#x27;: Categorical(categories=(&#x27;gini&#x27;, &#x27;entropy&#x27;), prior=None),\n",
       "                             &#x27;max_depth&#x27;: Integer(low=6, high=12, prior=&#x27;uniform&#x27;, transform=&#x27;normalize&#x27;),\n",
       "                             &#x27;max_features&#x27;: Categorical(categories=(&#x27;sqrt&#x27;, &#x27;log2&#x27;), prior=None),\n",
       "                             &#x27;min_samples_leaf&#x27;: Integer(low=5, high=20, prior=&#x27;uniform&#x27;, transform=&#x27;normalize&#x27;),\n",
       "                             &#x27;min_samples_split&#x27;: Integer(low=5, high=20, prior=&#x27;uniform&#x27;, transform=&#x27;normalize&#x27;),\n",
       "                             &#x27;splitter&#x27;: Categorical(categories=(&#x27;best&#x27;, &#x27;random&#x27;), prior=None)})</pre></div></div></div><div class=\"sk-parallel\"><div class=\"sk-parallel-item\"><div class=\"sk-item\"><div class=\"sk-label-container\"><div class=\"sk-label sk-toggleable\"><input class=\"sk-toggleable__control sk-hidden--visually\" id=\"sk-estimator-id-25\" type=\"checkbox\" ><label for=\"sk-estimator-id-25\" class=\"sk-toggleable__label sk-toggleable__label-arrow\">estimator: DecisionTreeClassifier</label><div class=\"sk-toggleable__content\"><pre>DecisionTreeClassifier(random_state=3141592)</pre></div></div></div><div class=\"sk-serial\"><div class=\"sk-item\"><div class=\"sk-estimator sk-toggleable\"><input class=\"sk-toggleable__control sk-hidden--visually\" id=\"sk-estimator-id-26\" type=\"checkbox\" ><label for=\"sk-estimator-id-26\" class=\"sk-toggleable__label sk-toggleable__label-arrow\">DecisionTreeClassifier</label><div class=\"sk-toggleable__content\"><pre>DecisionTreeClassifier(random_state=3141592)</pre></div></div></div></div></div></div></div></div></div></div>"
      ],
      "text/plain": [
       "BayesSearchCV(cv=StratifiedKFold(n_splits=5, random_state=3141592, shuffle=True),\n",
       "              estimator=DecisionTreeClassifier(random_state=3141592), n_jobs=-1,\n",
       "              random_state=3141592, scoring='recall',\n",
       "              search_spaces={'criterion': Categorical(categories=('gini', 'entropy'), prior=None),\n",
       "                             'max_depth': Integer(low=6, high=12, prior='uniform', transform='normalize'),\n",
       "                             'max_features': Categorical(categories=('sqrt', 'log2'), prior=None),\n",
       "                             'min_samples_leaf': Integer(low=5, high=20, prior='uniform', transform='normalize'),\n",
       "                             'min_samples_split': Integer(low=5, high=20, prior='uniform', transform='normalize'),\n",
       "                             'splitter': Categorical(categories=('best', 'random'), prior=None)})"
      ]
     },
     "execution_count": 40,
     "metadata": {},
     "output_type": "execute_result"
    }
   ],
   "source": [
    "opt_lr = BayesSearchCV(\n",
    "    estimator=make_pipeline(StandardScaler(), LogisticRegression()),\n",
    "    search_spaces = space_lr,\n",
    "    n_iter=50,\n",
    "    scoring='recall',\n",
    "    n_jobs=-1,\n",
    "    cv=inner_cv,\n",
    "    random_state=RANDOM_STATE)\n",
    "            \n",
    "# Validação cruzada aninhada\n",
    "bs_lr_nested_scores = cross_val_score(opt_lr, x_treino, y_treino, cv=outer_cv)\n",
    "\n",
    "print(f'resultado de cada iteração do cv externo: {bs_lr_nested_scores}')\n",
    "print(f'média: {bs_lr_nested_scores.mean()}')\n",
    "\n",
    "opt_dt.fit(x_treino, y_treino)"
   ]
  },
  {
   "cell_type": "code",
   "execution_count": 41,
   "id": "a71f121c",
   "metadata": {},
   "outputs": [
    {
     "data": {
      "text/html": [
       "<div>\n",
       "<style scoped>\n",
       "    .dataframe tbody tr th:only-of-type {\n",
       "        vertical-align: middle;\n",
       "    }\n",
       "\n",
       "    .dataframe tbody tr th {\n",
       "        vertical-align: top;\n",
       "    }\n",
       "\n",
       "    .dataframe thead th {\n",
       "        text-align: right;\n",
       "    }\n",
       "</style>\n",
       "<table border=\"1\" class=\"dataframe\">\n",
       "  <thead>\n",
       "    <tr style=\"text-align: right;\">\n",
       "      <th></th>\n",
       "      <th>0</th>\n",
       "      <th>1</th>\n",
       "      <th>2</th>\n",
       "      <th>3</th>\n",
       "      <th>4</th>\n",
       "    </tr>\n",
       "  </thead>\n",
       "  <tbody>\n",
       "    <tr>\n",
       "      <th>mean_fit_time</th>\n",
       "      <td>0.00364</td>\n",
       "      <td>0.002432</td>\n",
       "      <td>0.001903</td>\n",
       "      <td>0.003334</td>\n",
       "      <td>0.00176</td>\n",
       "    </tr>\n",
       "    <tr>\n",
       "      <th>std_fit_time</th>\n",
       "      <td>0.000612</td>\n",
       "      <td>0.000589</td>\n",
       "      <td>0.000494</td>\n",
       "      <td>0.000896</td>\n",
       "      <td>0.00029</td>\n",
       "    </tr>\n",
       "    <tr>\n",
       "      <th>mean_score_time</th>\n",
       "      <td>0.001903</td>\n",
       "      <td>0.001331</td>\n",
       "      <td>0.001502</td>\n",
       "      <td>0.002353</td>\n",
       "      <td>0.001764</td>\n",
       "    </tr>\n",
       "    <tr>\n",
       "      <th>std_score_time</th>\n",
       "      <td>0.000664</td>\n",
       "      <td>0.000381</td>\n",
       "      <td>0.000447</td>\n",
       "      <td>0.000622</td>\n",
       "      <td>0.000462</td>\n",
       "    </tr>\n",
       "    <tr>\n",
       "      <th>param_criterion</th>\n",
       "      <td>entropy</td>\n",
       "      <td>entropy</td>\n",
       "      <td>gini</td>\n",
       "      <td>entropy</td>\n",
       "      <td>gini</td>\n",
       "    </tr>\n",
       "    <tr>\n",
       "      <th>param_max_depth</th>\n",
       "      <td>7</td>\n",
       "      <td>10</td>\n",
       "      <td>6</td>\n",
       "      <td>9</td>\n",
       "      <td>6</td>\n",
       "    </tr>\n",
       "    <tr>\n",
       "      <th>param_max_features</th>\n",
       "      <td>log2</td>\n",
       "      <td>log2</td>\n",
       "      <td>log2</td>\n",
       "      <td>sqrt</td>\n",
       "      <td>log2</td>\n",
       "    </tr>\n",
       "    <tr>\n",
       "      <th>param_min_samples_leaf</th>\n",
       "      <td>13</td>\n",
       "      <td>6</td>\n",
       "      <td>12</td>\n",
       "      <td>9</td>\n",
       "      <td>18</td>\n",
       "    </tr>\n",
       "    <tr>\n",
       "      <th>param_min_samples_split</th>\n",
       "      <td>13</td>\n",
       "      <td>8</td>\n",
       "      <td>14</td>\n",
       "      <td>18</td>\n",
       "      <td>14</td>\n",
       "    </tr>\n",
       "    <tr>\n",
       "      <th>param_splitter</th>\n",
       "      <td>best</td>\n",
       "      <td>random</td>\n",
       "      <td>best</td>\n",
       "      <td>best</td>\n",
       "      <td>best</td>\n",
       "    </tr>\n",
       "    <tr>\n",
       "      <th>params</th>\n",
       "      <td>{'criterion': 'entropy', 'max_depth': 7, 'max_...</td>\n",
       "      <td>{'criterion': 'entropy', 'max_depth': 10, 'max...</td>\n",
       "      <td>{'criterion': 'gini', 'max_depth': 6, 'max_fea...</td>\n",
       "      <td>{'criterion': 'entropy', 'max_depth': 9, 'max_...</td>\n",
       "      <td>{'criterion': 'gini', 'max_depth': 6, 'max_fea...</td>\n",
       "    </tr>\n",
       "    <tr>\n",
       "      <th>split0_test_score</th>\n",
       "      <td>0.855263</td>\n",
       "      <td>0.828947</td>\n",
       "      <td>0.763158</td>\n",
       "      <td>0.868421</td>\n",
       "      <td>0.710526</td>\n",
       "    </tr>\n",
       "    <tr>\n",
       "      <th>split1_test_score</th>\n",
       "      <td>0.746667</td>\n",
       "      <td>0.773333</td>\n",
       "      <td>0.733333</td>\n",
       "      <td>0.786667</td>\n",
       "      <td>0.773333</td>\n",
       "    </tr>\n",
       "    <tr>\n",
       "      <th>split2_test_score</th>\n",
       "      <td>0.826667</td>\n",
       "      <td>0.853333</td>\n",
       "      <td>0.84</td>\n",
       "      <td>0.8</td>\n",
       "      <td>0.8</td>\n",
       "    </tr>\n",
       "    <tr>\n",
       "      <th>split3_test_score</th>\n",
       "      <td>0.746667</td>\n",
       "      <td>0.786667</td>\n",
       "      <td>0.72</td>\n",
       "      <td>0.706667</td>\n",
       "      <td>0.6</td>\n",
       "    </tr>\n",
       "    <tr>\n",
       "      <th>split4_test_score</th>\n",
       "      <td>0.773333</td>\n",
       "      <td>0.693333</td>\n",
       "      <td>0.786667</td>\n",
       "      <td>0.733333</td>\n",
       "      <td>0.786667</td>\n",
       "    </tr>\n",
       "    <tr>\n",
       "      <th>mean_test_score</th>\n",
       "      <td>0.789719</td>\n",
       "      <td>0.787123</td>\n",
       "      <td>0.768632</td>\n",
       "      <td>0.779018</td>\n",
       "      <td>0.734105</td>\n",
       "    </tr>\n",
       "    <tr>\n",
       "      <th>std_test_score</th>\n",
       "      <td>0.043901</td>\n",
       "      <td>0.054991</td>\n",
       "      <td>0.042567</td>\n",
       "      <td>0.056238</td>\n",
       "      <td>0.073734</td>\n",
       "    </tr>\n",
       "    <tr>\n",
       "      <th>rank_test_score</th>\n",
       "      <td>26</td>\n",
       "      <td>28</td>\n",
       "      <td>39</td>\n",
       "      <td>33</td>\n",
       "      <td>49</td>\n",
       "    </tr>\n",
       "  </tbody>\n",
       "</table>\n",
       "</div>"
      ],
      "text/plain": [
       "                                                                         0  \\\n",
       "mean_fit_time                                                      0.00364   \n",
       "std_fit_time                                                      0.000612   \n",
       "mean_score_time                                                   0.001903   \n",
       "std_score_time                                                    0.000664   \n",
       "param_criterion                                                    entropy   \n",
       "param_max_depth                                                          7   \n",
       "param_max_features                                                    log2   \n",
       "param_min_samples_leaf                                                  13   \n",
       "param_min_samples_split                                                 13   \n",
       "param_splitter                                                        best   \n",
       "params                   {'criterion': 'entropy', 'max_depth': 7, 'max_...   \n",
       "split0_test_score                                                 0.855263   \n",
       "split1_test_score                                                 0.746667   \n",
       "split2_test_score                                                 0.826667   \n",
       "split3_test_score                                                 0.746667   \n",
       "split4_test_score                                                 0.773333   \n",
       "mean_test_score                                                   0.789719   \n",
       "std_test_score                                                    0.043901   \n",
       "rank_test_score                                                         26   \n",
       "\n",
       "                                                                         1  \\\n",
       "mean_fit_time                                                     0.002432   \n",
       "std_fit_time                                                      0.000589   \n",
       "mean_score_time                                                   0.001331   \n",
       "std_score_time                                                    0.000381   \n",
       "param_criterion                                                    entropy   \n",
       "param_max_depth                                                         10   \n",
       "param_max_features                                                    log2   \n",
       "param_min_samples_leaf                                                   6   \n",
       "param_min_samples_split                                                  8   \n",
       "param_splitter                                                      random   \n",
       "params                   {'criterion': 'entropy', 'max_depth': 10, 'max...   \n",
       "split0_test_score                                                 0.828947   \n",
       "split1_test_score                                                 0.773333   \n",
       "split2_test_score                                                 0.853333   \n",
       "split3_test_score                                                 0.786667   \n",
       "split4_test_score                                                 0.693333   \n",
       "mean_test_score                                                   0.787123   \n",
       "std_test_score                                                    0.054991   \n",
       "rank_test_score                                                         28   \n",
       "\n",
       "                                                                         2  \\\n",
       "mean_fit_time                                                     0.001903   \n",
       "std_fit_time                                                      0.000494   \n",
       "mean_score_time                                                   0.001502   \n",
       "std_score_time                                                    0.000447   \n",
       "param_criterion                                                       gini   \n",
       "param_max_depth                                                          6   \n",
       "param_max_features                                                    log2   \n",
       "param_min_samples_leaf                                                  12   \n",
       "param_min_samples_split                                                 14   \n",
       "param_splitter                                                        best   \n",
       "params                   {'criterion': 'gini', 'max_depth': 6, 'max_fea...   \n",
       "split0_test_score                                                 0.763158   \n",
       "split1_test_score                                                 0.733333   \n",
       "split2_test_score                                                     0.84   \n",
       "split3_test_score                                                     0.72   \n",
       "split4_test_score                                                 0.786667   \n",
       "mean_test_score                                                   0.768632   \n",
       "std_test_score                                                    0.042567   \n",
       "rank_test_score                                                         39   \n",
       "\n",
       "                                                                         3  \\\n",
       "mean_fit_time                                                     0.003334   \n",
       "std_fit_time                                                      0.000896   \n",
       "mean_score_time                                                   0.002353   \n",
       "std_score_time                                                    0.000622   \n",
       "param_criterion                                                    entropy   \n",
       "param_max_depth                                                          9   \n",
       "param_max_features                                                    sqrt   \n",
       "param_min_samples_leaf                                                   9   \n",
       "param_min_samples_split                                                 18   \n",
       "param_splitter                                                        best   \n",
       "params                   {'criterion': 'entropy', 'max_depth': 9, 'max_...   \n",
       "split0_test_score                                                 0.868421   \n",
       "split1_test_score                                                 0.786667   \n",
       "split2_test_score                                                      0.8   \n",
       "split3_test_score                                                 0.706667   \n",
       "split4_test_score                                                 0.733333   \n",
       "mean_test_score                                                   0.779018   \n",
       "std_test_score                                                    0.056238   \n",
       "rank_test_score                                                         33   \n",
       "\n",
       "                                                                         4  \n",
       "mean_fit_time                                                      0.00176  \n",
       "std_fit_time                                                       0.00029  \n",
       "mean_score_time                                                   0.001764  \n",
       "std_score_time                                                    0.000462  \n",
       "param_criterion                                                       gini  \n",
       "param_max_depth                                                          6  \n",
       "param_max_features                                                    log2  \n",
       "param_min_samples_leaf                                                  18  \n",
       "param_min_samples_split                                                 14  \n",
       "param_splitter                                                        best  \n",
       "params                   {'criterion': 'gini', 'max_depth': 6, 'max_fea...  \n",
       "split0_test_score                                                 0.710526  \n",
       "split1_test_score                                                 0.773333  \n",
       "split2_test_score                                                      0.8  \n",
       "split3_test_score                                                      0.6  \n",
       "split4_test_score                                                 0.786667  \n",
       "mean_test_score                                                   0.734105  \n",
       "std_test_score                                                    0.073734  \n",
       "rank_test_score                                                         49  "
      ]
     },
     "metadata": {},
     "output_type": "display_data"
    },
    {
     "data": {
      "text/html": [
       "<div>\n",
       "<style scoped>\n",
       "    .dataframe tbody tr th:only-of-type {\n",
       "        vertical-align: middle;\n",
       "    }\n",
       "\n",
       "    .dataframe tbody tr th {\n",
       "        vertical-align: top;\n",
       "    }\n",
       "\n",
       "    .dataframe thead th {\n",
       "        text-align: right;\n",
       "    }\n",
       "</style>\n",
       "<table border=\"1\" class=\"dataframe\">\n",
       "  <thead>\n",
       "    <tr style=\"text-align: right;\">\n",
       "      <th></th>\n",
       "      <th>17</th>\n",
       "    </tr>\n",
       "  </thead>\n",
       "  <tbody>\n",
       "    <tr>\n",
       "      <th>mean_fit_time</th>\n",
       "      <td>0.0014</td>\n",
       "    </tr>\n",
       "    <tr>\n",
       "      <th>std_fit_time</th>\n",
       "      <td>0.000489</td>\n",
       "    </tr>\n",
       "    <tr>\n",
       "      <th>mean_score_time</th>\n",
       "      <td>0.001605</td>\n",
       "    </tr>\n",
       "    <tr>\n",
       "      <th>std_score_time</th>\n",
       "      <td>0.000483</td>\n",
       "    </tr>\n",
       "    <tr>\n",
       "      <th>param_criterion</th>\n",
       "      <td>gini</td>\n",
       "    </tr>\n",
       "    <tr>\n",
       "      <th>param_max_depth</th>\n",
       "      <td>12</td>\n",
       "    </tr>\n",
       "    <tr>\n",
       "      <th>param_max_features</th>\n",
       "      <td>sqrt</td>\n",
       "    </tr>\n",
       "    <tr>\n",
       "      <th>param_min_samples_leaf</th>\n",
       "      <td>5</td>\n",
       "    </tr>\n",
       "    <tr>\n",
       "      <th>param_min_samples_split</th>\n",
       "      <td>13</td>\n",
       "    </tr>\n",
       "    <tr>\n",
       "      <th>param_splitter</th>\n",
       "      <td>random</td>\n",
       "    </tr>\n",
       "    <tr>\n",
       "      <th>params</th>\n",
       "      <td>{'criterion': 'gini', 'max_depth': 12, 'max_fe...</td>\n",
       "    </tr>\n",
       "    <tr>\n",
       "      <th>split0_test_score</th>\n",
       "      <td>0.881579</td>\n",
       "    </tr>\n",
       "    <tr>\n",
       "      <th>split1_test_score</th>\n",
       "      <td>0.88</td>\n",
       "    </tr>\n",
       "    <tr>\n",
       "      <th>split2_test_score</th>\n",
       "      <td>0.866667</td>\n",
       "    </tr>\n",
       "    <tr>\n",
       "      <th>split3_test_score</th>\n",
       "      <td>0.746667</td>\n",
       "    </tr>\n",
       "    <tr>\n",
       "      <th>split4_test_score</th>\n",
       "      <td>0.773333</td>\n",
       "    </tr>\n",
       "    <tr>\n",
       "      <th>mean_test_score</th>\n",
       "      <td>0.829649</td>\n",
       "    </tr>\n",
       "    <tr>\n",
       "      <th>std_test_score</th>\n",
       "      <td>0.057723</td>\n",
       "    </tr>\n",
       "    <tr>\n",
       "      <th>rank_test_score</th>\n",
       "      <td>1</td>\n",
       "    </tr>\n",
       "  </tbody>\n",
       "</table>\n",
       "</div>"
      ],
      "text/plain": [
       "                                                                        17\n",
       "mean_fit_time                                                       0.0014\n",
       "std_fit_time                                                      0.000489\n",
       "mean_score_time                                                   0.001605\n",
       "std_score_time                                                    0.000483\n",
       "param_criterion                                                       gini\n",
       "param_max_depth                                                         12\n",
       "param_max_features                                                    sqrt\n",
       "param_min_samples_leaf                                                   5\n",
       "param_min_samples_split                                                 13\n",
       "param_splitter                                                      random\n",
       "params                   {'criterion': 'gini', 'max_depth': 12, 'max_fe...\n",
       "split0_test_score                                                 0.881579\n",
       "split1_test_score                                                     0.88\n",
       "split2_test_score                                                 0.866667\n",
       "split3_test_score                                                 0.746667\n",
       "split4_test_score                                                 0.773333\n",
       "mean_test_score                                                   0.829649\n",
       "std_test_score                                                    0.057723\n",
       "rank_test_score                                                          1"
      ]
     },
     "metadata": {},
     "output_type": "display_data"
    }
   ],
   "source": [
    "cv_results = pd.DataFrame(opt_dt.cv_results_)\n",
    "display(cv_results.head().T)\n",
    "###################################################\n",
    "# melhores hiper-parametros\n",
    "#display(opt_dt.best_params_)\n",
    "\n",
    "#  melhor modelo\n",
    "display(cv_results.loc[[opt_dt.best_index_]].T)"
   ]
  },
  {
   "cell_type": "code",
   "execution_count": null,
   "id": "6fcc5369",
   "metadata": {},
   "outputs": [],
   "source": []
  },
  {
   "cell_type": "markdown",
   "id": "4cdda80b",
   "metadata": {},
   "source": [
    "Entendendo qual técnica usar\n",
    "Após apresentar essas técnicas de otimização bayesiana, surge a pergunta: qual delas escolher? A resposta é: depende. A escolha depende do seu propósito e da sua situação.\n",
    "\n",
    "Se você possui um `conjunto de dados não tão grande ou um espaço de busca limitado, o Grid Search pode ser uma opção.`\n",
    "Para conjuntos de dados extensos, a busca aleatória pode ser uma alternativa.\n",
    "\n",
    "No entanto, se o espaço de busca é vasto, como de 100 a 300, e utilizar o Randomized Search ou o Grid Search implicaria em uma variação grande, por exemplo, de 10 em 10, pode ser mais eficaz considerar a otimização bayesiana.\n",
    "\n",
    "Assim, teria mais ou menos uns 200 opções só para o max_depth. Utilizando a otimização bayesiana, ele vai escolher valores entre 100 e 300, por exemplo. Portanto, se tiver espaços de busca muito elevados, com muitos valores, talvez a otimização bayesiana seja uma melhor opção, já que ela também aprende com os resultados anteriores."
   ]
  },
  {
   "cell_type": "code",
   "execution_count": null,
   "id": "201df598",
   "metadata": {},
   "outputs": [],
   "source": []
  },
  {
   "cell_type": "markdown",
   "id": "f96e92af-57c6-4997-a8b0-bb5f0cbed77c",
   "metadata": {},
   "source": [
    "## LazyClassifier\n",
    "\n",
    "LazyPedict é uma biblioteca que ajuda a semi-automatizar os modelos de Machine Learning.\n",
    "\n",
    "Essa biblioteca constrói muitos modelos básicos sem muito código e ajuda a entender quais modelos funcionam melhor sem qualquer ajuste de parâmetro.\n",
    "\n",
    "Após a obtenção dos resultados de acurácia e avaliação das métricas podemos escolher os melhores modelos e aplicar o ajuste de hiperparâmetros a eles.\n",
    "\n",
    "Então, no caso dos dados deste projeto vou usar o LazyClassifier para tentar resolver o problema de classificação:"
   ]
  },
  {
   "cell_type": "code",
   "execution_count": 42,
   "id": "a866c8d3-aef4-4407-90c1-df3564f3f533",
   "metadata": {},
   "outputs": [
    {
     "ename": "ModuleNotFoundError",
     "evalue": "No module named 'lazypredict'",
     "output_type": "error",
     "traceback": [
      "\u001b[1;31m---------------------------------------------------------------------------\u001b[0m",
      "\u001b[1;31mModuleNotFoundError\u001b[0m                       Traceback (most recent call last)",
      "Cell \u001b[1;32mIn[42], line 1\u001b[0m\n\u001b[1;32m----> 1\u001b[0m \u001b[38;5;28;01mfrom\u001b[39;00m \u001b[38;5;21;01mlazypredict\u001b[39;00m\u001b[38;5;21;01m.\u001b[39;00m\u001b[38;5;21;01mSupervised\u001b[39;00m \u001b[38;5;28;01mimport\u001b[39;00m LazyClassifier, LazyRegressor\n\u001b[0;32m      3\u001b[0m np\u001b[38;5;241m.\u001b[39mrandom\u001b[38;5;241m.\u001b[39mseed(\u001b[38;5;241m73246\u001b[39m) \u001b[38;5;66;03m#para garantir a reprodutibilidade\u001b[39;00m\n\u001b[0;32m      5\u001b[0m \u001b[38;5;66;03m#x_train, x_test, y_train, y_test = train_test_split(x, y, stratify=y, test_size=0.2, random_state=0)\u001b[39;00m\n\u001b[0;32m      6\u001b[0m \n\u001b[0;32m      7\u001b[0m \u001b[38;5;66;03m# fit all models\u001b[39;00m\n",
      "\u001b[1;31mModuleNotFoundError\u001b[0m: No module named 'lazypredict'"
     ]
    }
   ],
   "source": [
    "from lazypredict.Supervised import LazyClassifier, LazyRegressor\n",
    "\n",
    "np.random.seed(73246) #para garantir a reprodutibilidade\n",
    "\n",
    "#x_train, x_test, y_train, y_test = train_test_split(x, y, stratify=y, test_size=0.2, random_state=0)\n",
    "\n",
    "# fit all models\n",
    "clf = LazyClassifier(predictions=True)\n",
    "models, predictions = clf.fit(x, x_teste, y, y_teste) \n",
    "'''\"clf\" está retornando dois valores, Modelo e Previsão, enquanto modelo significa \n",
    "todos os modelos e com algumas métricas e previsão significa todo o valor previsto que é ŷ'''\n",
    "models"
   ]
  },
  {
   "cell_type": "code",
   "execution_count": null,
   "id": "3dfc891a-5f3e-4a70-9cd9-1e9780d68cad",
   "metadata": {},
   "outputs": [],
   "source": []
  },
  {
   "cell_type": "code",
   "execution_count": null,
   "id": "f033c824-4d36-4f26-bfaf-73f9d797544c",
   "metadata": {},
   "outputs": [],
   "source": []
  },
  {
   "cell_type": "code",
   "execution_count": null,
   "id": "abd7aa0d-8add-47c0-98a7-5fd2c15b2585",
   "metadata": {},
   "outputs": [],
   "source": []
  },
  {
   "cell_type": "code",
   "execution_count": null,
   "id": "14f13c8e-8951-490f-9ed4-f687af2b359b",
   "metadata": {},
   "outputs": [],
   "source": []
  },
  {
   "cell_type": "code",
   "execution_count": null,
   "id": "387eb77f-6054-4667-866a-fe2080bfb2cd",
   "metadata": {},
   "outputs": [],
   "source": []
  }
 ],
 "metadata": {
  "kernelspec": {
   "display_name": "Python 3 (ipykernel)",
   "language": "python",
   "name": "python3"
  },
  "language_info": {
   "codemirror_mode": {
    "name": "ipython",
    "version": 3
   },
   "file_extension": ".py",
   "mimetype": "text/x-python",
   "name": "python",
   "nbconvert_exporter": "python",
   "pygments_lexer": "ipython3",
   "version": "3.11.7"
  }
 },
 "nbformat": 4,
 "nbformat_minor": 5
}
