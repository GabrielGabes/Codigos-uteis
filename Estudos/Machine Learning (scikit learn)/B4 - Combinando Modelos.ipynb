{
 "cells": [
  {
   "cell_type": "markdown",
   "id": "d547db62",
   "metadata": {},
   "source": [
    "# Book 4 - Combinando Modelos de Machine Learning\n",
    "\n",
    "Este notebook serviu como registro prático e teórico no meu aprendizado de ML no curso **`Classificação: Combinando Classificadores para a melhoria de performance`** - sexto curso da formação.\n",
    "\n",
    "No notebook presente tem todos os topicos dos notebook anteriores, porém sendo acrescentado e aprofundado com anotações dos seguintes tópicos:\n",
    "\n",
    "- **Votação**\n",
    "- **Bagging**\n",
    "- **Boosting**\n",
    "- **Stacking**\n",
    "\n",
    "\n",
    "Compartilhar conhecimento é uma alegria—viva ao aprendizado contínuo, boa pratica e bons estudo a quem estiver lendo, abraços!"
   ]
  },
  {
   "cell_type": "markdown",
   "id": "cc78b85a",
   "metadata": {},
   "source": [
    "# Funções, bibliotecas e Dataframe ficticios"
   ]
  },
  {
   "cell_type": "code",
   "execution_count": 2,
   "id": "4886051c",
   "metadata": {},
   "outputs": [],
   "source": [
    "RANDOM_STATE = 3141592"
   ]
  },
  {
   "cell_type": "code",
   "execution_count": 3,
   "id": "7c824580",
   "metadata": {},
   "outputs": [],
   "source": [
    "import matplotlib.pyplot as plt\n",
    "plt.style.use('dark_background')\n",
    "%matplotlib inline\n",
    "\n",
    "# Manipulação e Tratamento de dados\n",
    "import openpyxl\n",
    "import pandas as pd\n",
    "import numpy as np\n",
    "from numpy import NaN\n",
    "\n",
    "#ignorando Warning inuteis\n",
    "import warnings \n",
    "from pandas.errors import SettingWithCopyWarning\n",
    "warnings.simplefilter(action=\"ignore\", category=SettingWithCopyWarning)\n",
    "warnings.filterwarnings(action='ignore', category=FutureWarning)\n",
    "warnings.simplefilter(action='ignore', category=UserWarning)"
   ]
  },
  {
   "cell_type": "code",
   "execution_count": 4,
   "id": "7b6233a7",
   "metadata": {},
   "outputs": [
    {
     "data": {
      "text/html": [
       "<div>\n",
       "<style scoped>\n",
       "    .dataframe tbody tr th:only-of-type {\n",
       "        vertical-align: middle;\n",
       "    }\n",
       "\n",
       "    .dataframe tbody tr th {\n",
       "        vertical-align: top;\n",
       "    }\n",
       "\n",
       "    .dataframe thead th {\n",
       "        text-align: right;\n",
       "    }\n",
       "</style>\n",
       "<table border=\"1\" class=\"dataframe\">\n",
       "  <thead>\n",
       "    <tr style=\"text-align: right;\">\n",
       "      <th></th>\n",
       "      <th>x_num0</th>\n",
       "      <th>x_num1</th>\n",
       "      <th>x_num2</th>\n",
       "      <th>x_num3</th>\n",
       "      <th>x_num4</th>\n",
       "      <th>x_num5</th>\n",
       "      <th>x_num6</th>\n",
       "      <th>x_num7</th>\n",
       "      <th>x_num8</th>\n",
       "      <th>x_num9</th>\n",
       "      <th>...</th>\n",
       "      <th>x_bin0</th>\n",
       "      <th>x_bin1</th>\n",
       "      <th>x_bin2</th>\n",
       "      <th>x_bin3</th>\n",
       "      <th>x_bin4</th>\n",
       "      <th>x_cat0</th>\n",
       "      <th>x_cat1</th>\n",
       "      <th>x_cat2</th>\n",
       "      <th>x_cat_0</th>\n",
       "      <th>x_cat_1</th>\n",
       "    </tr>\n",
       "  </thead>\n",
       "  <tbody>\n",
       "    <tr>\n",
       "      <th>0</th>\n",
       "      <td>4.875997</td>\n",
       "      <td>-1.491729</td>\n",
       "      <td>2.491069</td>\n",
       "      <td>1.874948</td>\n",
       "      <td>-0.000381</td>\n",
       "      <td>1.478758</td>\n",
       "      <td>3.972563</td>\n",
       "      <td>0.230329</td>\n",
       "      <td>5.149503</td>\n",
       "      <td>0.595726</td>\n",
       "      <td>...</td>\n",
       "      <td>sim</td>\n",
       "      <td>não</td>\n",
       "      <td>sim</td>\n",
       "      <td>não</td>\n",
       "      <td>sim</td>\n",
       "      <td>A</td>\n",
       "      <td>B</td>\n",
       "      <td>A</td>\n",
       "      <td>C</td>\n",
       "      <td>D</td>\n",
       "    </tr>\n",
       "    <tr>\n",
       "      <th>1</th>\n",
       "      <td>3.750108</td>\n",
       "      <td>-0.510656</td>\n",
       "      <td>-0.462908</td>\n",
       "      <td>0.928715</td>\n",
       "      <td>0.496968</td>\n",
       "      <td>-0.995687</td>\n",
       "      <td>2.219878</td>\n",
       "      <td>-1.951839</td>\n",
       "      <td>0.335021</td>\n",
       "      <td>-0.071709</td>\n",
       "      <td>...</td>\n",
       "      <td>não</td>\n",
       "      <td>não</td>\n",
       "      <td>não</td>\n",
       "      <td>sim</td>\n",
       "      <td>não</td>\n",
       "      <td>B</td>\n",
       "      <td>B</td>\n",
       "      <td>C</td>\n",
       "      <td>C</td>\n",
       "      <td>B</td>\n",
       "    </tr>\n",
       "    <tr>\n",
       "      <th>2</th>\n",
       "      <td>1.915908</td>\n",
       "      <td>2.793605</td>\n",
       "      <td>2.989653</td>\n",
       "      <td>1.743696</td>\n",
       "      <td>-0.213394</td>\n",
       "      <td>-0.274895</td>\n",
       "      <td>0.106642</td>\n",
       "      <td>1.605156</td>\n",
       "      <td>2.169961</td>\n",
       "      <td>-1.126328</td>\n",
       "      <td>...</td>\n",
       "      <td>sim</td>\n",
       "      <td>sim</td>\n",
       "      <td>sim</td>\n",
       "      <td>não</td>\n",
       "      <td>sim</td>\n",
       "      <td>C</td>\n",
       "      <td>A</td>\n",
       "      <td>C</td>\n",
       "      <td>B</td>\n",
       "      <td>C</td>\n",
       "    </tr>\n",
       "    <tr>\n",
       "      <th>3</th>\n",
       "      <td>3.575351</td>\n",
       "      <td>2.779022</td>\n",
       "      <td>4.928382</td>\n",
       "      <td>3.046386</td>\n",
       "      <td>-1.832086</td>\n",
       "      <td>-2.961492</td>\n",
       "      <td>1.171947</td>\n",
       "      <td>1.044997</td>\n",
       "      <td>3.281876</td>\n",
       "      <td>-1.733729</td>\n",
       "      <td>...</td>\n",
       "      <td>não</td>\n",
       "      <td>não</td>\n",
       "      <td>não</td>\n",
       "      <td>sim</td>\n",
       "      <td>não</td>\n",
       "      <td>B</td>\n",
       "      <td>A</td>\n",
       "      <td>A</td>\n",
       "      <td>D</td>\n",
       "      <td>D</td>\n",
       "    </tr>\n",
       "    <tr>\n",
       "      <th>4</th>\n",
       "      <td>4.812294</td>\n",
       "      <td>0.316227</td>\n",
       "      <td>0.704474</td>\n",
       "      <td>0.908321</td>\n",
       "      <td>0.050424</td>\n",
       "      <td>-2.080064</td>\n",
       "      <td>2.597434</td>\n",
       "      <td>-1.643092</td>\n",
       "      <td>-0.138313</td>\n",
       "      <td>-1.498914</td>\n",
       "      <td>...</td>\n",
       "      <td>sim</td>\n",
       "      <td>não</td>\n",
       "      <td>não</td>\n",
       "      <td>não</td>\n",
       "      <td>não</td>\n",
       "      <td>A</td>\n",
       "      <td>B</td>\n",
       "      <td>A</td>\n",
       "      <td>D</td>\n",
       "      <td>B</td>\n",
       "    </tr>\n",
       "  </tbody>\n",
       "</table>\n",
       "<p>5 rows × 21 columns</p>\n",
       "</div>"
      ],
      "text/plain": [
       "     x_num0    x_num1    x_num2    x_num3    x_num4    x_num5    x_num6  \\\n",
       "0  4.875997 -1.491729  2.491069  1.874948 -0.000381  1.478758  3.972563   \n",
       "1  3.750108 -0.510656 -0.462908  0.928715  0.496968 -0.995687  2.219878   \n",
       "2  1.915908  2.793605  2.989653  1.743696 -0.213394 -0.274895  0.106642   \n",
       "3  3.575351  2.779022  4.928382  3.046386 -1.832086 -2.961492  1.171947   \n",
       "4  4.812294  0.316227  0.704474  0.908321  0.050424 -2.080064  2.597434   \n",
       "\n",
       "     x_num7    x_num8    x_num9  ... x_bin0 x_bin1 x_bin2 x_bin3 x_bin4  \\\n",
       "0  0.230329  5.149503  0.595726  ...    sim    não    sim    não    sim   \n",
       "1 -1.951839  0.335021 -0.071709  ...    não    não    não    sim    não   \n",
       "2  1.605156  2.169961 -1.126328  ...    sim    sim    sim    não    sim   \n",
       "3  1.044997  3.281876 -1.733729  ...    não    não    não    sim    não   \n",
       "4 -1.643092 -0.138313 -1.498914  ...    sim    não    não    não    não   \n",
       "\n",
       "  x_cat0 x_cat1 x_cat2 x_cat_0 x_cat_1  \n",
       "0      A      B      A       C       D  \n",
       "1      B      B      C       C       B  \n",
       "2      C      A      C       B       C  \n",
       "3      B      A      A       D       D  \n",
       "4      A      B      A       D       B  \n",
       "\n",
       "[5 rows x 21 columns]"
      ]
     },
     "metadata": {},
     "output_type": "display_data"
    },
    {
     "name": "stdout",
     "output_type": "stream",
     "text": [
      "TUDO OK\n"
     ]
    }
   ],
   "source": [
    "import requests\n",
    "\n",
    "# CARREGANDO BASE\n",
    "arquivo = 'fake_database'\n",
    "url = \"https://raw.githubusercontent.com/GabrielGabes/functions_gsa/main/\" + arquivo + \".py\"\n",
    "response = requests.get(url)\n",
    "code = response.text\n",
    "exec(code)\n",
    "df = fake_database2()\n",
    "display(df.head())\n",
    "\n",
    "arquivo = 'funcoes_estatisticas'\n",
    "url = \"https://raw.githubusercontent.com/GabrielGabes/functions_gsa/main/\" + arquivo + \".py\"\n",
    "response = requests.get(url)\n",
    "code = response.text\n",
    "exec(code)\n",
    "print('TUDO OK')"
   ]
  },
  {
   "cell_type": "code",
   "execution_count": 5,
   "id": "e2a3fd3a",
   "metadata": {},
   "outputs": [
    {
     "data": {
      "text/plain": [
       "0    0\n",
       "1    1\n",
       "2    0\n",
       "3    1\n",
       "4    1\n",
       "Name: y, dtype: object"
      ]
     },
     "metadata": {},
     "output_type": "display_data"
    },
    {
     "data": {
      "text/html": [
       "<div>\n",
       "<style scoped>\n",
       "    .dataframe tbody tr th:only-of-type {\n",
       "        vertical-align: middle;\n",
       "    }\n",
       "\n",
       "    .dataframe tbody tr th {\n",
       "        vertical-align: top;\n",
       "    }\n",
       "\n",
       "    .dataframe thead th {\n",
       "        text-align: right;\n",
       "    }\n",
       "</style>\n",
       "<table border=\"1\" class=\"dataframe\">\n",
       "  <thead>\n",
       "    <tr style=\"text-align: right;\">\n",
       "      <th></th>\n",
       "      <th>x_num0</th>\n",
       "      <th>x_num1</th>\n",
       "      <th>x_num2</th>\n",
       "      <th>x_num3</th>\n",
       "      <th>x_num4</th>\n",
       "      <th>x_num5</th>\n",
       "      <th>x_num6</th>\n",
       "      <th>x_num7</th>\n",
       "      <th>x_num8</th>\n",
       "      <th>x_num9</th>\n",
       "      <th>x_bin0</th>\n",
       "      <th>x_bin1</th>\n",
       "      <th>x_bin2</th>\n",
       "      <th>x_bin3</th>\n",
       "      <th>x_bin4</th>\n",
       "      <th>x_cat0</th>\n",
       "      <th>x_cat1</th>\n",
       "      <th>x_cat2</th>\n",
       "      <th>x_cat_0</th>\n",
       "      <th>x_cat_1</th>\n",
       "    </tr>\n",
       "  </thead>\n",
       "  <tbody>\n",
       "    <tr>\n",
       "      <th>0</th>\n",
       "      <td>4.875997</td>\n",
       "      <td>-1.491729</td>\n",
       "      <td>2.491069</td>\n",
       "      <td>1.874948</td>\n",
       "      <td>-0.000381</td>\n",
       "      <td>1.478758</td>\n",
       "      <td>3.972563</td>\n",
       "      <td>0.230329</td>\n",
       "      <td>5.149503</td>\n",
       "      <td>0.595726</td>\n",
       "      <td>sim</td>\n",
       "      <td>não</td>\n",
       "      <td>sim</td>\n",
       "      <td>não</td>\n",
       "      <td>sim</td>\n",
       "      <td>A</td>\n",
       "      <td>B</td>\n",
       "      <td>A</td>\n",
       "      <td>C</td>\n",
       "      <td>D</td>\n",
       "    </tr>\n",
       "    <tr>\n",
       "      <th>1</th>\n",
       "      <td>3.750108</td>\n",
       "      <td>-0.510656</td>\n",
       "      <td>-0.462908</td>\n",
       "      <td>0.928715</td>\n",
       "      <td>0.496968</td>\n",
       "      <td>-0.995687</td>\n",
       "      <td>2.219878</td>\n",
       "      <td>-1.951839</td>\n",
       "      <td>0.335021</td>\n",
       "      <td>-0.071709</td>\n",
       "      <td>não</td>\n",
       "      <td>não</td>\n",
       "      <td>não</td>\n",
       "      <td>sim</td>\n",
       "      <td>não</td>\n",
       "      <td>B</td>\n",
       "      <td>B</td>\n",
       "      <td>C</td>\n",
       "      <td>C</td>\n",
       "      <td>B</td>\n",
       "    </tr>\n",
       "    <tr>\n",
       "      <th>2</th>\n",
       "      <td>1.915908</td>\n",
       "      <td>2.793605</td>\n",
       "      <td>2.989653</td>\n",
       "      <td>1.743696</td>\n",
       "      <td>-0.213394</td>\n",
       "      <td>-0.274895</td>\n",
       "      <td>0.106642</td>\n",
       "      <td>1.605156</td>\n",
       "      <td>2.169961</td>\n",
       "      <td>-1.126328</td>\n",
       "      <td>sim</td>\n",
       "      <td>sim</td>\n",
       "      <td>sim</td>\n",
       "      <td>não</td>\n",
       "      <td>sim</td>\n",
       "      <td>C</td>\n",
       "      <td>A</td>\n",
       "      <td>C</td>\n",
       "      <td>B</td>\n",
       "      <td>C</td>\n",
       "    </tr>\n",
       "    <tr>\n",
       "      <th>3</th>\n",
       "      <td>3.575351</td>\n",
       "      <td>2.779022</td>\n",
       "      <td>4.928382</td>\n",
       "      <td>3.046386</td>\n",
       "      <td>-1.832086</td>\n",
       "      <td>-2.961492</td>\n",
       "      <td>1.171947</td>\n",
       "      <td>1.044997</td>\n",
       "      <td>3.281876</td>\n",
       "      <td>-1.733729</td>\n",
       "      <td>não</td>\n",
       "      <td>não</td>\n",
       "      <td>não</td>\n",
       "      <td>sim</td>\n",
       "      <td>não</td>\n",
       "      <td>B</td>\n",
       "      <td>A</td>\n",
       "      <td>A</td>\n",
       "      <td>D</td>\n",
       "      <td>D</td>\n",
       "    </tr>\n",
       "    <tr>\n",
       "      <th>4</th>\n",
       "      <td>4.812294</td>\n",
       "      <td>0.316227</td>\n",
       "      <td>0.704474</td>\n",
       "      <td>0.908321</td>\n",
       "      <td>0.050424</td>\n",
       "      <td>-2.080064</td>\n",
       "      <td>2.597434</td>\n",
       "      <td>-1.643092</td>\n",
       "      <td>-0.138313</td>\n",
       "      <td>-1.498914</td>\n",
       "      <td>sim</td>\n",
       "      <td>não</td>\n",
       "      <td>não</td>\n",
       "      <td>não</td>\n",
       "      <td>não</td>\n",
       "      <td>A</td>\n",
       "      <td>B</td>\n",
       "      <td>A</td>\n",
       "      <td>D</td>\n",
       "      <td>B</td>\n",
       "    </tr>\n",
       "  </tbody>\n",
       "</table>\n",
       "</div>"
      ],
      "text/plain": [
       "     x_num0    x_num1    x_num2    x_num3    x_num4    x_num5    x_num6  \\\n",
       "0  4.875997 -1.491729  2.491069  1.874948 -0.000381  1.478758  3.972563   \n",
       "1  3.750108 -0.510656 -0.462908  0.928715  0.496968 -0.995687  2.219878   \n",
       "2  1.915908  2.793605  2.989653  1.743696 -0.213394 -0.274895  0.106642   \n",
       "3  3.575351  2.779022  4.928382  3.046386 -1.832086 -2.961492  1.171947   \n",
       "4  4.812294  0.316227  0.704474  0.908321  0.050424 -2.080064  2.597434   \n",
       "\n",
       "     x_num7    x_num8    x_num9 x_bin0 x_bin1 x_bin2 x_bin3 x_bin4 x_cat0  \\\n",
       "0  0.230329  5.149503  0.595726    sim    não    sim    não    sim      A   \n",
       "1 -1.951839  0.335021 -0.071709    não    não    não    sim    não      B   \n",
       "2  1.605156  2.169961 -1.126328    sim    sim    sim    não    sim      C   \n",
       "3  1.044997  3.281876 -1.733729    não    não    não    sim    não      B   \n",
       "4 -1.643092 -0.138313 -1.498914    sim    não    não    não    não      A   \n",
       "\n",
       "  x_cat1 x_cat2 x_cat_0 x_cat_1  \n",
       "0      B      A       C       D  \n",
       "1      B      C       C       B  \n",
       "2      A      C       B       C  \n",
       "3      A      A       D       D  \n",
       "4      B      A       D       B  "
      ]
     },
     "metadata": {},
     "output_type": "display_data"
    }
   ],
   "source": [
    "# Variavel Dependente\n",
    "var_dep = 'y'\n",
    "y = df[var_dep]\n",
    "display(y.head())\n",
    "\n",
    "x = df.drop('y', axis=1)\n",
    "display(x.head())"
   ]
  },
  {
   "cell_type": "code",
   "execution_count": 6,
   "id": "81de8992",
   "metadata": {},
   "outputs": [
    {
     "name": "stdout",
     "output_type": "stream",
     "text": [
      "2 niveis: x_bin0 => ['sim' 'não']\n",
      "2 niveis: x_bin1 => ['não' 'sim']\n",
      "2 niveis: x_bin2 => ['sim' 'não']\n",
      "2 niveis: x_bin3 => ['não' 'sim']\n",
      "2 niveis: x_bin4 => ['sim' 'não']\n",
      "3 niveis: x_cat0 => ['A' 'B' 'C']\n",
      "3 niveis: x_cat1 => ['B' 'A' 'C']\n",
      "3 niveis: x_cat2 => ['A' 'C' 'B']\n",
      "3 niveis: x_cat_0 => ['C' 'B' 'D' 'A']\n",
      "3 niveis: x_cat_1 => ['D' 'B' 'C' 'A']\n",
      "(750, 32) (250, 32)\n",
      "(750,) (250,)\n"
     ]
    }
   ],
   "source": [
    "# DUMMYRIZAÇÃO\n",
    "colunas_categoricas = []\n",
    "colunas_binarias = []\n",
    "colunas_mais3_categorias = []\n",
    "\n",
    "for coluna in x.columns:\n",
    "    if df[coluna].dtype == 'O':\n",
    "        categorias = x[coluna].unique()\n",
    "        if len(categorias) == 2:\n",
    "            print('2 niveis:', coluna, '=>', categorias)\n",
    "            colunas_categoricas.append(coluna)\n",
    "            colunas_binarias.append(coluna)\n",
    "        else:\n",
    "            print('3 niveis:', coluna, '=>', categorias)\n",
    "            colunas_categoricas.append(coluna)\n",
    "            colunas_mais3_categorias.append(coluna)\n",
    "\n",
    "############################################################################################\n",
    "from sklearn.compose import make_column_transformer\n",
    "from sklearn.preprocessing import OneHotEncoder #transformando colunas com 2 categorias em 0 e 1\n",
    "\n",
    "coluna = x.columns\n",
    "one_hot = make_column_transformer((\n",
    "    OneHotEncoder(drop='if_binary'), #caso a coluna tenha apenas 2 categorias \n",
    "    colunas_categoricas), #passando quais são essas colunas\n",
    "    remainder = 'passthrough', sparse_threshold=0) #oque deve ser feito com as outras\n",
    "\n",
    "#Aplicando transformação\n",
    "x = one_hot.fit_transform(x)\n",
    "\n",
    "#Os novos nomes das colunas #'onehotencoder=transformadas; 'remainder'=não transformadas\n",
    "novos_nomes_colunas = one_hot.get_feature_names_out(coluna)\n",
    "\n",
    "x = pd.DataFrame(x, columns = novos_nomes_colunas) #alterando de volta\n",
    "x_columns = x.columns.tolist() \n",
    "\n",
    "############################################################################################\n",
    "# NORMALIZAÇÃO\n",
    "from sklearn.preprocessing import MinMaxScaler\n",
    "normalizacao = MinMaxScaler()\n",
    "x = normalizacao.fit_transform(x)\n",
    "\n",
    "#df['Close_padronizada'] = (df[coluna] - df[coluna].mean()) / df[coluna].std()\n",
    "#df['Close_normalizada'] = (df[coluna] - df[coluna].min()) / (df[coluna].max() - df[coluna].min())\n",
    "\n",
    "############################################################################################\n",
    "# DEFININDO A VARIAVEL DEPENDENTE\n",
    "from sklearn.preprocessing import LabelEncoder\n",
    "y = LabelEncoder().fit_transform(y)\n",
    "\n",
    "############################################################################################\n",
    "x_inteiro = x\n",
    "y_inteiro = y\n",
    "\n",
    "# DIVIDINDO BASE EM TREINO E TESTE\n",
    "from sklearn.model_selection import train_test_split\n",
    "x_treino, x_teste, y_treino, y_teste = train_test_split(x, y, \n",
    "                                                    stratify = y, #para manter a proporção da Var Dep nos splits\n",
    "                                                    random_state = 5) #raiz da aleatoridade\n",
    "# test_size = 0.25 #porcentagem que ira ser separado para testes\n",
    "\n",
    "print(x_treino.shape, x_teste.shape)\n",
    "print(y_treino.shape, y_teste.shape)"
   ]
  },
  {
   "cell_type": "code",
   "execution_count": 7,
   "id": "ecea5c25",
   "metadata": {},
   "outputs": [],
   "source": [
    "# Função para avaliação de modelos exibindo metricas de avaliação\n",
    "import requests\n",
    "arquivo = 'ML_supervised_learning'\n",
    "url = \"https://raw.githubusercontent.com/GabrielGabes/functions_gsa/main/\" + arquivo + \".py\"\n",
    "response = requests.get(url)\n",
    "code = response.text\n",
    "exec(code)"
   ]
  },
  {
   "cell_type": "markdown",
   "id": "898bdd51",
   "metadata": {},
   "source": [
    "# ======================================="
   ]
  },
  {
   "cell_type": "markdown",
   "id": "b540c7c5",
   "metadata": {},
   "source": [
    "# VotingClassifier - Votação\n",
    "\n",
    "`Combinar tres modelos para tomada de uma decisão.`\n",
    "\n",
    "VotingClassifier é uma técnica de aprendizado de máquina que combina diferentes modelos de classificação para produzir uma previsão mais precisa e robusta. Imagine que você tem vários modelos de classificação, cada um com suas próprias forças e fraquezas. Em vez de escolher apenas um modelo, o VotingClassifier permite que você tire o melhor de todos eles.\n",
    "\n",
    "A ideia por trás do VotingClassifier é simples: cada modelo de classificação faz sua previsão e, em seguida, o VotingClassifier conta os votos de cada modelo. A classe que receber a maioria dos votos é a previsão final. Isso é conhecido como “votação majoritária” ou “votação rígida”.\n",
    "\n",
    "O VotingClassifier é uma técnica poderosa porque permite combinar modelos que são bons em capturar diferentes tipos de padrões nos dados. Por exemplo, um modelo pode ser bom em capturar tendências lineares, enquanto outro pode ser bom em capturar interações não lineares. Ao combiná-los com o VotingClassifier, você pode capturar ambos os tipos de padrões."
   ]
  },
  {
   "cell_type": "markdown",
   "id": "32033b35",
   "metadata": {},
   "source": [
    "Abaixo estamos criando alguns modelos, avaliando antes de seguirmos para combina-los com voting"
   ]
  },
  {
   "cell_type": "code",
   "execution_count": 8,
   "id": "0cee176a",
   "metadata": {},
   "outputs": [],
   "source": [
    "import plotly.express as px"
   ]
  },
  {
   "cell_type": "code",
   "execution_count": 9,
   "id": "2f91d06f",
   "metadata": {},
   "outputs": [
    {
     "name": "stdout",
     "output_type": "stream",
     "text": [
      "0.808\n",
      "0.9226666666666666\n",
      "0.9\n",
      "P-value (Anova): < 0.001\n"
     ]
    },
    {
     "data": {
      "application/vnd.plotly.v1+json": {
       "config": {
        "plotlyServerURL": "https://plot.ly"
       },
       "data": [
        {
         "alignmentgroup": "True",
         "box": {
          "visible": true
         },
         "hovertemplate": "Modelo=%{x}<br>test_score=%{y}<extra></extra>",
         "legendgroup": "Decision Tree",
         "marker": {
          "color": "#636efa"
         },
         "name": "Decision Tree",
         "offsetgroup": "Decision Tree",
         "orientation": "v",
         "points": "all",
         "scalegroup": "True",
         "showlegend": true,
         "type": "violin",
         "x": [
          "Decision Tree",
          "Decision Tree",
          "Decision Tree",
          "Decision Tree",
          "Decision Tree",
          "Decision Tree",
          "Decision Tree",
          "Decision Tree",
          "Decision Tree",
          "Decision Tree"
         ],
         "x0": " ",
         "xaxis": "x",
         "y": [
          0.7866666666666666,
          0.7866666666666666,
          0.8133333333333334,
          0.84,
          0.88,
          0.8266666666666667,
          0.84,
          0.7733333333333333,
          0.7333333333333333,
          0.8
         ],
         "y0": " ",
         "yaxis": "y"
        },
        {
         "alignmentgroup": "True",
         "box": {
          "visible": true
         },
         "hovertemplate": "Modelo=%{x}<br>test_score=%{y}<extra></extra>",
         "legendgroup": "Logistic Regression",
         "marker": {
          "color": "#EF553B"
         },
         "name": "Logistic Regression",
         "offsetgroup": "Logistic Regression",
         "orientation": "v",
         "points": "all",
         "scalegroup": "True",
         "showlegend": true,
         "type": "violin",
         "x": [
          "Logistic Regression",
          "Logistic Regression",
          "Logistic Regression",
          "Logistic Regression",
          "Logistic Regression",
          "Logistic Regression",
          "Logistic Regression",
          "Logistic Regression",
          "Logistic Regression",
          "Logistic Regression"
         ],
         "x0": " ",
         "xaxis": "x",
         "y": [
          0.96,
          0.9333333333333333,
          0.92,
          0.9466666666666667,
          0.9066666666666666,
          0.9333333333333333,
          0.9466666666666667,
          0.84,
          0.8933333333333333,
          0.9466666666666667
         ],
         "y0": " ",
         "yaxis": "y"
        },
        {
         "alignmentgroup": "True",
         "box": {
          "visible": true
         },
         "hovertemplate": "Modelo=%{x}<br>test_score=%{y}<extra></extra>",
         "legendgroup": "Naive Bayes",
         "marker": {
          "color": "#00cc96"
         },
         "name": "Naive Bayes",
         "offsetgroup": "Naive Bayes",
         "orientation": "v",
         "points": "all",
         "scalegroup": "True",
         "showlegend": true,
         "type": "violin",
         "x": [
          "Naive Bayes",
          "Naive Bayes",
          "Naive Bayes",
          "Naive Bayes",
          "Naive Bayes",
          "Naive Bayes",
          "Naive Bayes",
          "Naive Bayes",
          "Naive Bayes",
          "Naive Bayes"
         ],
         "x0": " ",
         "xaxis": "x",
         "y": [
          0.88,
          0.9066666666666666,
          0.8933333333333333,
          0.96,
          0.9066666666666666,
          0.9333333333333333,
          0.8666666666666667,
          0.8533333333333334,
          0.8533333333333334,
          0.9466666666666667
         ],
         "y0": " ",
         "yaxis": "y"
        }
       ],
       "layout": {
        "legend": {
         "title": {
          "text": "Modelo"
         },
         "tracegroupgap": 0
        },
        "margin": {
         "t": 60
        },
        "template": {
         "data": {
          "bar": [
           {
            "error_x": {
             "color": "#2a3f5f"
            },
            "error_y": {
             "color": "#2a3f5f"
            },
            "marker": {
             "line": {
              "color": "#E5ECF6",
              "width": 0.5
             },
             "pattern": {
              "fillmode": "overlay",
              "size": 10,
              "solidity": 0.2
             }
            },
            "type": "bar"
           }
          ],
          "barpolar": [
           {
            "marker": {
             "line": {
              "color": "#E5ECF6",
              "width": 0.5
             },
             "pattern": {
              "fillmode": "overlay",
              "size": 10,
              "solidity": 0.2
             }
            },
            "type": "barpolar"
           }
          ],
          "carpet": [
           {
            "aaxis": {
             "endlinecolor": "#2a3f5f",
             "gridcolor": "white",
             "linecolor": "white",
             "minorgridcolor": "white",
             "startlinecolor": "#2a3f5f"
            },
            "baxis": {
             "endlinecolor": "#2a3f5f",
             "gridcolor": "white",
             "linecolor": "white",
             "minorgridcolor": "white",
             "startlinecolor": "#2a3f5f"
            },
            "type": "carpet"
           }
          ],
          "choropleth": [
           {
            "colorbar": {
             "outlinewidth": 0,
             "ticks": ""
            },
            "type": "choropleth"
           }
          ],
          "contour": [
           {
            "colorbar": {
             "outlinewidth": 0,
             "ticks": ""
            },
            "colorscale": [
             [
              0,
              "#0d0887"
             ],
             [
              0.1111111111111111,
              "#46039f"
             ],
             [
              0.2222222222222222,
              "#7201a8"
             ],
             [
              0.3333333333333333,
              "#9c179e"
             ],
             [
              0.4444444444444444,
              "#bd3786"
             ],
             [
              0.5555555555555556,
              "#d8576b"
             ],
             [
              0.6666666666666666,
              "#ed7953"
             ],
             [
              0.7777777777777778,
              "#fb9f3a"
             ],
             [
              0.8888888888888888,
              "#fdca26"
             ],
             [
              1,
              "#f0f921"
             ]
            ],
            "type": "contour"
           }
          ],
          "contourcarpet": [
           {
            "colorbar": {
             "outlinewidth": 0,
             "ticks": ""
            },
            "type": "contourcarpet"
           }
          ],
          "heatmap": [
           {
            "colorbar": {
             "outlinewidth": 0,
             "ticks": ""
            },
            "colorscale": [
             [
              0,
              "#0d0887"
             ],
             [
              0.1111111111111111,
              "#46039f"
             ],
             [
              0.2222222222222222,
              "#7201a8"
             ],
             [
              0.3333333333333333,
              "#9c179e"
             ],
             [
              0.4444444444444444,
              "#bd3786"
             ],
             [
              0.5555555555555556,
              "#d8576b"
             ],
             [
              0.6666666666666666,
              "#ed7953"
             ],
             [
              0.7777777777777778,
              "#fb9f3a"
             ],
             [
              0.8888888888888888,
              "#fdca26"
             ],
             [
              1,
              "#f0f921"
             ]
            ],
            "type": "heatmap"
           }
          ],
          "heatmapgl": [
           {
            "colorbar": {
             "outlinewidth": 0,
             "ticks": ""
            },
            "colorscale": [
             [
              0,
              "#0d0887"
             ],
             [
              0.1111111111111111,
              "#46039f"
             ],
             [
              0.2222222222222222,
              "#7201a8"
             ],
             [
              0.3333333333333333,
              "#9c179e"
             ],
             [
              0.4444444444444444,
              "#bd3786"
             ],
             [
              0.5555555555555556,
              "#d8576b"
             ],
             [
              0.6666666666666666,
              "#ed7953"
             ],
             [
              0.7777777777777778,
              "#fb9f3a"
             ],
             [
              0.8888888888888888,
              "#fdca26"
             ],
             [
              1,
              "#f0f921"
             ]
            ],
            "type": "heatmapgl"
           }
          ],
          "histogram": [
           {
            "marker": {
             "pattern": {
              "fillmode": "overlay",
              "size": 10,
              "solidity": 0.2
             }
            },
            "type": "histogram"
           }
          ],
          "histogram2d": [
           {
            "colorbar": {
             "outlinewidth": 0,
             "ticks": ""
            },
            "colorscale": [
             [
              0,
              "#0d0887"
             ],
             [
              0.1111111111111111,
              "#46039f"
             ],
             [
              0.2222222222222222,
              "#7201a8"
             ],
             [
              0.3333333333333333,
              "#9c179e"
             ],
             [
              0.4444444444444444,
              "#bd3786"
             ],
             [
              0.5555555555555556,
              "#d8576b"
             ],
             [
              0.6666666666666666,
              "#ed7953"
             ],
             [
              0.7777777777777778,
              "#fb9f3a"
             ],
             [
              0.8888888888888888,
              "#fdca26"
             ],
             [
              1,
              "#f0f921"
             ]
            ],
            "type": "histogram2d"
           }
          ],
          "histogram2dcontour": [
           {
            "colorbar": {
             "outlinewidth": 0,
             "ticks": ""
            },
            "colorscale": [
             [
              0,
              "#0d0887"
             ],
             [
              0.1111111111111111,
              "#46039f"
             ],
             [
              0.2222222222222222,
              "#7201a8"
             ],
             [
              0.3333333333333333,
              "#9c179e"
             ],
             [
              0.4444444444444444,
              "#bd3786"
             ],
             [
              0.5555555555555556,
              "#d8576b"
             ],
             [
              0.6666666666666666,
              "#ed7953"
             ],
             [
              0.7777777777777778,
              "#fb9f3a"
             ],
             [
              0.8888888888888888,
              "#fdca26"
             ],
             [
              1,
              "#f0f921"
             ]
            ],
            "type": "histogram2dcontour"
           }
          ],
          "mesh3d": [
           {
            "colorbar": {
             "outlinewidth": 0,
             "ticks": ""
            },
            "type": "mesh3d"
           }
          ],
          "parcoords": [
           {
            "line": {
             "colorbar": {
              "outlinewidth": 0,
              "ticks": ""
             }
            },
            "type": "parcoords"
           }
          ],
          "pie": [
           {
            "automargin": true,
            "type": "pie"
           }
          ],
          "scatter": [
           {
            "fillpattern": {
             "fillmode": "overlay",
             "size": 10,
             "solidity": 0.2
            },
            "type": "scatter"
           }
          ],
          "scatter3d": [
           {
            "line": {
             "colorbar": {
              "outlinewidth": 0,
              "ticks": ""
             }
            },
            "marker": {
             "colorbar": {
              "outlinewidth": 0,
              "ticks": ""
             }
            },
            "type": "scatter3d"
           }
          ],
          "scattercarpet": [
           {
            "marker": {
             "colorbar": {
              "outlinewidth": 0,
              "ticks": ""
             }
            },
            "type": "scattercarpet"
           }
          ],
          "scattergeo": [
           {
            "marker": {
             "colorbar": {
              "outlinewidth": 0,
              "ticks": ""
             }
            },
            "type": "scattergeo"
           }
          ],
          "scattergl": [
           {
            "marker": {
             "colorbar": {
              "outlinewidth": 0,
              "ticks": ""
             }
            },
            "type": "scattergl"
           }
          ],
          "scattermapbox": [
           {
            "marker": {
             "colorbar": {
              "outlinewidth": 0,
              "ticks": ""
             }
            },
            "type": "scattermapbox"
           }
          ],
          "scatterpolar": [
           {
            "marker": {
             "colorbar": {
              "outlinewidth": 0,
              "ticks": ""
             }
            },
            "type": "scatterpolar"
           }
          ],
          "scatterpolargl": [
           {
            "marker": {
             "colorbar": {
              "outlinewidth": 0,
              "ticks": ""
             }
            },
            "type": "scatterpolargl"
           }
          ],
          "scatterternary": [
           {
            "marker": {
             "colorbar": {
              "outlinewidth": 0,
              "ticks": ""
             }
            },
            "type": "scatterternary"
           }
          ],
          "surface": [
           {
            "colorbar": {
             "outlinewidth": 0,
             "ticks": ""
            },
            "colorscale": [
             [
              0,
              "#0d0887"
             ],
             [
              0.1111111111111111,
              "#46039f"
             ],
             [
              0.2222222222222222,
              "#7201a8"
             ],
             [
              0.3333333333333333,
              "#9c179e"
             ],
             [
              0.4444444444444444,
              "#bd3786"
             ],
             [
              0.5555555555555556,
              "#d8576b"
             ],
             [
              0.6666666666666666,
              "#ed7953"
             ],
             [
              0.7777777777777778,
              "#fb9f3a"
             ],
             [
              0.8888888888888888,
              "#fdca26"
             ],
             [
              1,
              "#f0f921"
             ]
            ],
            "type": "surface"
           }
          ],
          "table": [
           {
            "cells": {
             "fill": {
              "color": "#EBF0F8"
             },
             "line": {
              "color": "white"
             }
            },
            "header": {
             "fill": {
              "color": "#C8D4E3"
             },
             "line": {
              "color": "white"
             }
            },
            "type": "table"
           }
          ]
         },
         "layout": {
          "annotationdefaults": {
           "arrowcolor": "#2a3f5f",
           "arrowhead": 0,
           "arrowwidth": 1
          },
          "autotypenumbers": "strict",
          "coloraxis": {
           "colorbar": {
            "outlinewidth": 0,
            "ticks": ""
           }
          },
          "colorscale": {
           "diverging": [
            [
             0,
             "#8e0152"
            ],
            [
             0.1,
             "#c51b7d"
            ],
            [
             0.2,
             "#de77ae"
            ],
            [
             0.3,
             "#f1b6da"
            ],
            [
             0.4,
             "#fde0ef"
            ],
            [
             0.5,
             "#f7f7f7"
            ],
            [
             0.6,
             "#e6f5d0"
            ],
            [
             0.7,
             "#b8e186"
            ],
            [
             0.8,
             "#7fbc41"
            ],
            [
             0.9,
             "#4d9221"
            ],
            [
             1,
             "#276419"
            ]
           ],
           "sequential": [
            [
             0,
             "#0d0887"
            ],
            [
             0.1111111111111111,
             "#46039f"
            ],
            [
             0.2222222222222222,
             "#7201a8"
            ],
            [
             0.3333333333333333,
             "#9c179e"
            ],
            [
             0.4444444444444444,
             "#bd3786"
            ],
            [
             0.5555555555555556,
             "#d8576b"
            ],
            [
             0.6666666666666666,
             "#ed7953"
            ],
            [
             0.7777777777777778,
             "#fb9f3a"
            ],
            [
             0.8888888888888888,
             "#fdca26"
            ],
            [
             1,
             "#f0f921"
            ]
           ],
           "sequentialminus": [
            [
             0,
             "#0d0887"
            ],
            [
             0.1111111111111111,
             "#46039f"
            ],
            [
             0.2222222222222222,
             "#7201a8"
            ],
            [
             0.3333333333333333,
             "#9c179e"
            ],
            [
             0.4444444444444444,
             "#bd3786"
            ],
            [
             0.5555555555555556,
             "#d8576b"
            ],
            [
             0.6666666666666666,
             "#ed7953"
            ],
            [
             0.7777777777777778,
             "#fb9f3a"
            ],
            [
             0.8888888888888888,
             "#fdca26"
            ],
            [
             1,
             "#f0f921"
            ]
           ]
          },
          "colorway": [
           "#636efa",
           "#EF553B",
           "#00cc96",
           "#ab63fa",
           "#FFA15A",
           "#19d3f3",
           "#FF6692",
           "#B6E880",
           "#FF97FF",
           "#FECB52"
          ],
          "font": {
           "color": "#2a3f5f"
          },
          "geo": {
           "bgcolor": "white",
           "lakecolor": "white",
           "landcolor": "#E5ECF6",
           "showlakes": true,
           "showland": true,
           "subunitcolor": "white"
          },
          "hoverlabel": {
           "align": "left"
          },
          "hovermode": "closest",
          "mapbox": {
           "style": "light"
          },
          "paper_bgcolor": "white",
          "plot_bgcolor": "#E5ECF6",
          "polar": {
           "angularaxis": {
            "gridcolor": "white",
            "linecolor": "white",
            "ticks": ""
           },
           "bgcolor": "#E5ECF6",
           "radialaxis": {
            "gridcolor": "white",
            "linecolor": "white",
            "ticks": ""
           }
          },
          "scene": {
           "xaxis": {
            "backgroundcolor": "#E5ECF6",
            "gridcolor": "white",
            "gridwidth": 2,
            "linecolor": "white",
            "showbackground": true,
            "ticks": "",
            "zerolinecolor": "white"
           },
           "yaxis": {
            "backgroundcolor": "#E5ECF6",
            "gridcolor": "white",
            "gridwidth": 2,
            "linecolor": "white",
            "showbackground": true,
            "ticks": "",
            "zerolinecolor": "white"
           },
           "zaxis": {
            "backgroundcolor": "#E5ECF6",
            "gridcolor": "white",
            "gridwidth": 2,
            "linecolor": "white",
            "showbackground": true,
            "ticks": "",
            "zerolinecolor": "white"
           }
          },
          "shapedefaults": {
           "line": {
            "color": "#2a3f5f"
           }
          },
          "ternary": {
           "aaxis": {
            "gridcolor": "white",
            "linecolor": "white",
            "ticks": ""
           },
           "baxis": {
            "gridcolor": "white",
            "linecolor": "white",
            "ticks": ""
           },
           "bgcolor": "#E5ECF6",
           "caxis": {
            "gridcolor": "white",
            "linecolor": "white",
            "ticks": ""
           }
          },
          "title": {
           "x": 0.05
          },
          "xaxis": {
           "automargin": true,
           "gridcolor": "white",
           "linecolor": "white",
           "ticks": "",
           "title": {
            "standoff": 15
           },
           "zerolinecolor": "white",
           "zerolinewidth": 2
          },
          "yaxis": {
           "automargin": true,
           "gridcolor": "white",
           "linecolor": "white",
           "ticks": "",
           "title": {
            "standoff": 15
           },
           "zerolinecolor": "white",
           "zerolinewidth": 2
          }
         }
        },
        "violinmode": "overlay",
        "xaxis": {
         "anchor": "y",
         "categoryarray": [
          "Decision Tree",
          "Logistic Regression",
          "Naive Bayes"
         ],
         "categoryorder": "array",
         "domain": [
          0,
          1
         ],
         "title": {
          "text": "Modelo"
         }
        },
        "yaxis": {
         "anchor": "x",
         "domain": [
          0,
          1
         ],
         "title": {
          "text": "test_score"
         }
        }
       }
      }
     },
     "metadata": {},
     "output_type": "display_data"
    }
   ],
   "source": [
    "# VALIDAÇÃO CRUZADA ESTRATIFICADA\n",
    "from sklearn.model_selection import cross_validate, StratifiedKFold\n",
    "skf = StratifiedKFold(n_splits = 10, \n",
    "                      shuffle = True, # embaralhamento dos dados\n",
    "                      random_state = 5)\n",
    "\n",
    "# INSTANCIANDO E VALIDANDO 3 MODELOS ISOLADAMENTE\n",
    "#####################################################################\n",
    "# MODELO 1 ##########################################################\n",
    "from sklearn.tree import DecisionTreeClassifier\n",
    "modelo1 = DecisionTreeClassifier(random_state=5, max_depth = 3)\n",
    "cv_resultados1 = cross_validate(modelo1, x_treino, y_treino, cv = skf)\n",
    "print(cv_resultados1['test_score'].mean())\n",
    "\n",
    "# MODELO 2 ##########################################################\n",
    "from sklearn.linear_model import LogisticRegression\n",
    "from sklearn.pipeline import make_pipeline\n",
    "from sklearn.pipeline import Pipeline\n",
    "from sklearn.preprocessing import StandardScaler\n",
    "#modelo2 = LogisticRegression(random_state=1)\n",
    "modelo2 = make_pipeline(StandardScaler(), LogisticRegression(random_state=1))\n",
    "cv_resultados2 = cross_validate(modelo2, x_treino, y_treino, cv = skf)\n",
    "print(cv_resultados2['test_score'].mean())\n",
    "\n",
    "# MODELO 3 ##########################################################\n",
    "from sklearn.naive_bayes import GaussianNB\n",
    "modelo3 = GaussianNB()\n",
    "cv_resultados3 = cross_validate(modelo3, x_treino, y_treino, cv = skf)\n",
    "print(cv_resultados3['test_score'].mean())\n",
    "\n",
    "#####################################################################\n",
    "df1 = pd.DataFrame(cv_resultados1)\n",
    "df1['Modelo'] = 'Decision Tree'\n",
    "df2 = pd.DataFrame(cv_resultados2)\n",
    "df2['Modelo'] = 'Logistic Regression'\n",
    "df3 = pd.DataFrame(cv_resultados3)\n",
    "df3['Modelo'] = 'Naive Bayes'\n",
    "dados_combinados = pd.concat([df1, df2, df3])\n",
    "num_cat_hip(dados_combinados, 'Modelo', 'test_score')"
   ]
  },
  {
   "cell_type": "markdown",
   "id": "0f8989e0",
   "metadata": {},
   "source": [
    "Avaliar se o modelo é bom, se vale a pena prosseguir com ele"
   ]
  },
  {
   "cell_type": "code",
   "execution_count": 10,
   "id": "aefec7b1",
   "metadata": {},
   "outputs": [
    {
     "name": "stdout",
     "output_type": "stream",
     "text": [
      "**********************************************************************\n",
      "Relatório de Classificação para o Conjunto de Decision Tree :\n",
      "\n",
      "              precision    recall  f1-score   support\n",
      "\n",
      "           0       0.72      0.84      0.77       124\n",
      "           1       0.81      0.67      0.74       126\n",
      "\n",
      "    accuracy                           0.76       250\n",
      "   macro avg       0.76      0.76      0.75       250\n",
      "weighted avg       0.76      0.76      0.75       250\n",
      "\n",
      "**************************************************\n",
      "Matriz de Confusão para o Conjunto de Decision Tree :\n",
      "\n",
      "[[104  20]\n",
      " [ 41  85]]\n",
      "**********************************************************************\n",
      "**********************************************************************\n",
      "Relatório de Classificação para o Conjunto de Logistic Regression :\n",
      "\n",
      "              precision    recall  f1-score   support\n",
      "\n",
      "           0       0.88      0.92      0.90       124\n",
      "           1       0.92      0.88      0.90       126\n",
      "\n",
      "    accuracy                           0.90       250\n",
      "   macro avg       0.90      0.90      0.90       250\n",
      "weighted avg       0.90      0.90      0.90       250\n",
      "\n",
      "**************************************************\n",
      "Matriz de Confusão para o Conjunto de Logistic Regression :\n",
      "\n",
      "[[114  10]\n",
      " [ 15 111]]\n",
      "**********************************************************************\n",
      "**********************************************************************\n",
      "Relatório de Classificação para o Conjunto de Naive Bayes :\n",
      "\n",
      "              precision    recall  f1-score   support\n",
      "\n",
      "           0       0.87      0.94      0.90       124\n",
      "           1       0.94      0.86      0.90       126\n",
      "\n",
      "    accuracy                           0.90       250\n",
      "   macro avg       0.90      0.90      0.90       250\n",
      "weighted avg       0.90      0.90      0.90       250\n",
      "\n",
      "**************************************************\n",
      "Matriz de Confusão para o Conjunto de Naive Bayes :\n",
      "\n",
      "[[117   7]\n",
      " [ 18 108]]\n",
      "**********************************************************************\n"
     ]
    }
   ],
   "source": [
    "# avaliando modelo isoladamente\n",
    "modelo1.fit(x_treino, y_treino)\n",
    "previsoes =  modelo1.predict(x_teste)\n",
    "avaliar_modelo(y_teste, previsoes, 'Decision Tree')\n",
    "\n",
    "modelo2.fit(x_treino, y_treino)\n",
    "previsoes =  modelo2.predict(x_teste)\n",
    "avaliar_modelo(y_teste, previsoes, 'Logistic Regression')\n",
    "\n",
    "modelo3.fit(x_treino, y_treino)\n",
    "previsoes =  modelo3.predict(x_teste)\n",
    "avaliar_modelo(y_teste, previsoes, 'Naive Bayes')"
   ]
  },
  {
   "cell_type": "code",
   "execution_count": 11,
   "id": "2fff8148",
   "metadata": {},
   "outputs": [
    {
     "name": "stdout",
     "output_type": "stream",
     "text": [
      "P-value (Anova): < 0.001\n"
     ]
    },
    {
     "data": {
      "application/vnd.plotly.v1+json": {
       "config": {
        "plotlyServerURL": "https://plot.ly"
       },
       "data": [
        {
         "alignmentgroup": "True",
         "box": {
          "visible": true
         },
         "hovertemplate": "Modelo=%{x}<br>test_score=%{y}<extra></extra>",
         "legendgroup": "Árvores",
         "marker": {
          "color": "#636efa"
         },
         "name": "Árvores",
         "offsetgroup": "Árvores",
         "orientation": "v",
         "points": "all",
         "scalegroup": "True",
         "showlegend": true,
         "type": "violin",
         "x": [
          "Árvores",
          "Árvores",
          "Árvores",
          "Árvores",
          "Árvores",
          "Árvores",
          "Árvores",
          "Árvores",
          "Árvores",
          "Árvores"
         ],
         "x0": " ",
         "xaxis": "x",
         "y": [
          0.7866666666666666,
          0.7866666666666666,
          0.8133333333333334,
          0.84,
          0.88,
          0.8266666666666667,
          0.84,
          0.7733333333333333,
          0.7333333333333333,
          0.8
         ],
         "y0": " ",
         "yaxis": "y"
        },
        {
         "alignmentgroup": "True",
         "box": {
          "visible": true
         },
         "hovertemplate": "Modelo=%{x}<br>test_score=%{y}<extra></extra>",
         "legendgroup": "Logística",
         "marker": {
          "color": "#EF553B"
         },
         "name": "Logística",
         "offsetgroup": "Logística",
         "orientation": "v",
         "points": "all",
         "scalegroup": "True",
         "showlegend": true,
         "type": "violin",
         "x": [
          "Logística",
          "Logística",
          "Logística",
          "Logística",
          "Logística",
          "Logística",
          "Logística",
          "Logística",
          "Logística",
          "Logística"
         ],
         "x0": " ",
         "xaxis": "x",
         "y": [
          0.96,
          0.9333333333333333,
          0.92,
          0.9466666666666667,
          0.9066666666666666,
          0.9333333333333333,
          0.9466666666666667,
          0.84,
          0.8933333333333333,
          0.9466666666666667
         ],
         "y0": " ",
         "yaxis": "y"
        },
        {
         "alignmentgroup": "True",
         "box": {
          "visible": true
         },
         "hovertemplate": "Modelo=%{x}<br>test_score=%{y}<extra></extra>",
         "legendgroup": "Naive Bayes",
         "marker": {
          "color": "#00cc96"
         },
         "name": "Naive Bayes",
         "offsetgroup": "Naive Bayes",
         "orientation": "v",
         "points": "all",
         "scalegroup": "True",
         "showlegend": true,
         "type": "violin",
         "x": [
          "Naive Bayes",
          "Naive Bayes",
          "Naive Bayes",
          "Naive Bayes",
          "Naive Bayes",
          "Naive Bayes",
          "Naive Bayes",
          "Naive Bayes",
          "Naive Bayes",
          "Naive Bayes"
         ],
         "x0": " ",
         "xaxis": "x",
         "y": [
          0.88,
          0.9066666666666666,
          0.8933333333333333,
          0.96,
          0.9066666666666666,
          0.9333333333333333,
          0.8666666666666667,
          0.8533333333333334,
          0.8533333333333334,
          0.9466666666666667
         ],
         "y0": " ",
         "yaxis": "y"
        }
       ],
       "layout": {
        "legend": {
         "title": {
          "text": "Modelo"
         },
         "tracegroupgap": 0
        },
        "margin": {
         "t": 60
        },
        "template": {
         "data": {
          "bar": [
           {
            "error_x": {
             "color": "#2a3f5f"
            },
            "error_y": {
             "color": "#2a3f5f"
            },
            "marker": {
             "line": {
              "color": "#E5ECF6",
              "width": 0.5
             },
             "pattern": {
              "fillmode": "overlay",
              "size": 10,
              "solidity": 0.2
             }
            },
            "type": "bar"
           }
          ],
          "barpolar": [
           {
            "marker": {
             "line": {
              "color": "#E5ECF6",
              "width": 0.5
             },
             "pattern": {
              "fillmode": "overlay",
              "size": 10,
              "solidity": 0.2
             }
            },
            "type": "barpolar"
           }
          ],
          "carpet": [
           {
            "aaxis": {
             "endlinecolor": "#2a3f5f",
             "gridcolor": "white",
             "linecolor": "white",
             "minorgridcolor": "white",
             "startlinecolor": "#2a3f5f"
            },
            "baxis": {
             "endlinecolor": "#2a3f5f",
             "gridcolor": "white",
             "linecolor": "white",
             "minorgridcolor": "white",
             "startlinecolor": "#2a3f5f"
            },
            "type": "carpet"
           }
          ],
          "choropleth": [
           {
            "colorbar": {
             "outlinewidth": 0,
             "ticks": ""
            },
            "type": "choropleth"
           }
          ],
          "contour": [
           {
            "colorbar": {
             "outlinewidth": 0,
             "ticks": ""
            },
            "colorscale": [
             [
              0,
              "#0d0887"
             ],
             [
              0.1111111111111111,
              "#46039f"
             ],
             [
              0.2222222222222222,
              "#7201a8"
             ],
             [
              0.3333333333333333,
              "#9c179e"
             ],
             [
              0.4444444444444444,
              "#bd3786"
             ],
             [
              0.5555555555555556,
              "#d8576b"
             ],
             [
              0.6666666666666666,
              "#ed7953"
             ],
             [
              0.7777777777777778,
              "#fb9f3a"
             ],
             [
              0.8888888888888888,
              "#fdca26"
             ],
             [
              1,
              "#f0f921"
             ]
            ],
            "type": "contour"
           }
          ],
          "contourcarpet": [
           {
            "colorbar": {
             "outlinewidth": 0,
             "ticks": ""
            },
            "type": "contourcarpet"
           }
          ],
          "heatmap": [
           {
            "colorbar": {
             "outlinewidth": 0,
             "ticks": ""
            },
            "colorscale": [
             [
              0,
              "#0d0887"
             ],
             [
              0.1111111111111111,
              "#46039f"
             ],
             [
              0.2222222222222222,
              "#7201a8"
             ],
             [
              0.3333333333333333,
              "#9c179e"
             ],
             [
              0.4444444444444444,
              "#bd3786"
             ],
             [
              0.5555555555555556,
              "#d8576b"
             ],
             [
              0.6666666666666666,
              "#ed7953"
             ],
             [
              0.7777777777777778,
              "#fb9f3a"
             ],
             [
              0.8888888888888888,
              "#fdca26"
             ],
             [
              1,
              "#f0f921"
             ]
            ],
            "type": "heatmap"
           }
          ],
          "heatmapgl": [
           {
            "colorbar": {
             "outlinewidth": 0,
             "ticks": ""
            },
            "colorscale": [
             [
              0,
              "#0d0887"
             ],
             [
              0.1111111111111111,
              "#46039f"
             ],
             [
              0.2222222222222222,
              "#7201a8"
             ],
             [
              0.3333333333333333,
              "#9c179e"
             ],
             [
              0.4444444444444444,
              "#bd3786"
             ],
             [
              0.5555555555555556,
              "#d8576b"
             ],
             [
              0.6666666666666666,
              "#ed7953"
             ],
             [
              0.7777777777777778,
              "#fb9f3a"
             ],
             [
              0.8888888888888888,
              "#fdca26"
             ],
             [
              1,
              "#f0f921"
             ]
            ],
            "type": "heatmapgl"
           }
          ],
          "histogram": [
           {
            "marker": {
             "pattern": {
              "fillmode": "overlay",
              "size": 10,
              "solidity": 0.2
             }
            },
            "type": "histogram"
           }
          ],
          "histogram2d": [
           {
            "colorbar": {
             "outlinewidth": 0,
             "ticks": ""
            },
            "colorscale": [
             [
              0,
              "#0d0887"
             ],
             [
              0.1111111111111111,
              "#46039f"
             ],
             [
              0.2222222222222222,
              "#7201a8"
             ],
             [
              0.3333333333333333,
              "#9c179e"
             ],
             [
              0.4444444444444444,
              "#bd3786"
             ],
             [
              0.5555555555555556,
              "#d8576b"
             ],
             [
              0.6666666666666666,
              "#ed7953"
             ],
             [
              0.7777777777777778,
              "#fb9f3a"
             ],
             [
              0.8888888888888888,
              "#fdca26"
             ],
             [
              1,
              "#f0f921"
             ]
            ],
            "type": "histogram2d"
           }
          ],
          "histogram2dcontour": [
           {
            "colorbar": {
             "outlinewidth": 0,
             "ticks": ""
            },
            "colorscale": [
             [
              0,
              "#0d0887"
             ],
             [
              0.1111111111111111,
              "#46039f"
             ],
             [
              0.2222222222222222,
              "#7201a8"
             ],
             [
              0.3333333333333333,
              "#9c179e"
             ],
             [
              0.4444444444444444,
              "#bd3786"
             ],
             [
              0.5555555555555556,
              "#d8576b"
             ],
             [
              0.6666666666666666,
              "#ed7953"
             ],
             [
              0.7777777777777778,
              "#fb9f3a"
             ],
             [
              0.8888888888888888,
              "#fdca26"
             ],
             [
              1,
              "#f0f921"
             ]
            ],
            "type": "histogram2dcontour"
           }
          ],
          "mesh3d": [
           {
            "colorbar": {
             "outlinewidth": 0,
             "ticks": ""
            },
            "type": "mesh3d"
           }
          ],
          "parcoords": [
           {
            "line": {
             "colorbar": {
              "outlinewidth": 0,
              "ticks": ""
             }
            },
            "type": "parcoords"
           }
          ],
          "pie": [
           {
            "automargin": true,
            "type": "pie"
           }
          ],
          "scatter": [
           {
            "fillpattern": {
             "fillmode": "overlay",
             "size": 10,
             "solidity": 0.2
            },
            "type": "scatter"
           }
          ],
          "scatter3d": [
           {
            "line": {
             "colorbar": {
              "outlinewidth": 0,
              "ticks": ""
             }
            },
            "marker": {
             "colorbar": {
              "outlinewidth": 0,
              "ticks": ""
             }
            },
            "type": "scatter3d"
           }
          ],
          "scattercarpet": [
           {
            "marker": {
             "colorbar": {
              "outlinewidth": 0,
              "ticks": ""
             }
            },
            "type": "scattercarpet"
           }
          ],
          "scattergeo": [
           {
            "marker": {
             "colorbar": {
              "outlinewidth": 0,
              "ticks": ""
             }
            },
            "type": "scattergeo"
           }
          ],
          "scattergl": [
           {
            "marker": {
             "colorbar": {
              "outlinewidth": 0,
              "ticks": ""
             }
            },
            "type": "scattergl"
           }
          ],
          "scattermapbox": [
           {
            "marker": {
             "colorbar": {
              "outlinewidth": 0,
              "ticks": ""
             }
            },
            "type": "scattermapbox"
           }
          ],
          "scatterpolar": [
           {
            "marker": {
             "colorbar": {
              "outlinewidth": 0,
              "ticks": ""
             }
            },
            "type": "scatterpolar"
           }
          ],
          "scatterpolargl": [
           {
            "marker": {
             "colorbar": {
              "outlinewidth": 0,
              "ticks": ""
             }
            },
            "type": "scatterpolargl"
           }
          ],
          "scatterternary": [
           {
            "marker": {
             "colorbar": {
              "outlinewidth": 0,
              "ticks": ""
             }
            },
            "type": "scatterternary"
           }
          ],
          "surface": [
           {
            "colorbar": {
             "outlinewidth": 0,
             "ticks": ""
            },
            "colorscale": [
             [
              0,
              "#0d0887"
             ],
             [
              0.1111111111111111,
              "#46039f"
             ],
             [
              0.2222222222222222,
              "#7201a8"
             ],
             [
              0.3333333333333333,
              "#9c179e"
             ],
             [
              0.4444444444444444,
              "#bd3786"
             ],
             [
              0.5555555555555556,
              "#d8576b"
             ],
             [
              0.6666666666666666,
              "#ed7953"
             ],
             [
              0.7777777777777778,
              "#fb9f3a"
             ],
             [
              0.8888888888888888,
              "#fdca26"
             ],
             [
              1,
              "#f0f921"
             ]
            ],
            "type": "surface"
           }
          ],
          "table": [
           {
            "cells": {
             "fill": {
              "color": "#EBF0F8"
             },
             "line": {
              "color": "white"
             }
            },
            "header": {
             "fill": {
              "color": "#C8D4E3"
             },
             "line": {
              "color": "white"
             }
            },
            "type": "table"
           }
          ]
         },
         "layout": {
          "annotationdefaults": {
           "arrowcolor": "#2a3f5f",
           "arrowhead": 0,
           "arrowwidth": 1
          },
          "autotypenumbers": "strict",
          "coloraxis": {
           "colorbar": {
            "outlinewidth": 0,
            "ticks": ""
           }
          },
          "colorscale": {
           "diverging": [
            [
             0,
             "#8e0152"
            ],
            [
             0.1,
             "#c51b7d"
            ],
            [
             0.2,
             "#de77ae"
            ],
            [
             0.3,
             "#f1b6da"
            ],
            [
             0.4,
             "#fde0ef"
            ],
            [
             0.5,
             "#f7f7f7"
            ],
            [
             0.6,
             "#e6f5d0"
            ],
            [
             0.7,
             "#b8e186"
            ],
            [
             0.8,
             "#7fbc41"
            ],
            [
             0.9,
             "#4d9221"
            ],
            [
             1,
             "#276419"
            ]
           ],
           "sequential": [
            [
             0,
             "#0d0887"
            ],
            [
             0.1111111111111111,
             "#46039f"
            ],
            [
             0.2222222222222222,
             "#7201a8"
            ],
            [
             0.3333333333333333,
             "#9c179e"
            ],
            [
             0.4444444444444444,
             "#bd3786"
            ],
            [
             0.5555555555555556,
             "#d8576b"
            ],
            [
             0.6666666666666666,
             "#ed7953"
            ],
            [
             0.7777777777777778,
             "#fb9f3a"
            ],
            [
             0.8888888888888888,
             "#fdca26"
            ],
            [
             1,
             "#f0f921"
            ]
           ],
           "sequentialminus": [
            [
             0,
             "#0d0887"
            ],
            [
             0.1111111111111111,
             "#46039f"
            ],
            [
             0.2222222222222222,
             "#7201a8"
            ],
            [
             0.3333333333333333,
             "#9c179e"
            ],
            [
             0.4444444444444444,
             "#bd3786"
            ],
            [
             0.5555555555555556,
             "#d8576b"
            ],
            [
             0.6666666666666666,
             "#ed7953"
            ],
            [
             0.7777777777777778,
             "#fb9f3a"
            ],
            [
             0.8888888888888888,
             "#fdca26"
            ],
            [
             1,
             "#f0f921"
            ]
           ]
          },
          "colorway": [
           "#636efa",
           "#EF553B",
           "#00cc96",
           "#ab63fa",
           "#FFA15A",
           "#19d3f3",
           "#FF6692",
           "#B6E880",
           "#FF97FF",
           "#FECB52"
          ],
          "font": {
           "color": "#2a3f5f"
          },
          "geo": {
           "bgcolor": "white",
           "lakecolor": "white",
           "landcolor": "#E5ECF6",
           "showlakes": true,
           "showland": true,
           "subunitcolor": "white"
          },
          "hoverlabel": {
           "align": "left"
          },
          "hovermode": "closest",
          "mapbox": {
           "style": "light"
          },
          "paper_bgcolor": "white",
          "plot_bgcolor": "#E5ECF6",
          "polar": {
           "angularaxis": {
            "gridcolor": "white",
            "linecolor": "white",
            "ticks": ""
           },
           "bgcolor": "#E5ECF6",
           "radialaxis": {
            "gridcolor": "white",
            "linecolor": "white",
            "ticks": ""
           }
          },
          "scene": {
           "xaxis": {
            "backgroundcolor": "#E5ECF6",
            "gridcolor": "white",
            "gridwidth": 2,
            "linecolor": "white",
            "showbackground": true,
            "ticks": "",
            "zerolinecolor": "white"
           },
           "yaxis": {
            "backgroundcolor": "#E5ECF6",
            "gridcolor": "white",
            "gridwidth": 2,
            "linecolor": "white",
            "showbackground": true,
            "ticks": "",
            "zerolinecolor": "white"
           },
           "zaxis": {
            "backgroundcolor": "#E5ECF6",
            "gridcolor": "white",
            "gridwidth": 2,
            "linecolor": "white",
            "showbackground": true,
            "ticks": "",
            "zerolinecolor": "white"
           }
          },
          "shapedefaults": {
           "line": {
            "color": "#2a3f5f"
           }
          },
          "ternary": {
           "aaxis": {
            "gridcolor": "white",
            "linecolor": "white",
            "ticks": ""
           },
           "baxis": {
            "gridcolor": "white",
            "linecolor": "white",
            "ticks": ""
           },
           "bgcolor": "#E5ECF6",
           "caxis": {
            "gridcolor": "white",
            "linecolor": "white",
            "ticks": ""
           }
          },
          "title": {
           "x": 0.05
          },
          "xaxis": {
           "automargin": true,
           "gridcolor": "white",
           "linecolor": "white",
           "ticks": "",
           "title": {
            "standoff": 15
           },
           "zerolinecolor": "white",
           "zerolinewidth": 2
          },
          "yaxis": {
           "automargin": true,
           "gridcolor": "white",
           "linecolor": "white",
           "ticks": "",
           "title": {
            "standoff": 15
           },
           "zerolinecolor": "white",
           "zerolinewidth": 2
          }
         }
        },
        "violinmode": "overlay",
        "xaxis": {
         "anchor": "y",
         "categoryarray": [
          "Árvores",
          "Logística",
          "Naive Bayes"
         ],
         "categoryorder": "array",
         "domain": [
          0,
          1
         ],
         "title": {
          "text": "Modelo"
         }
        },
        "yaxis": {
         "anchor": "x",
         "domain": [
          0,
          1
         ],
         "title": {
          "text": "test_score"
         }
        }
       }
      }
     },
     "metadata": {},
     "output_type": "display_data"
    }
   ],
   "source": [
    "modelo1 = DecisionTreeClassifier(random_state=5, max_depth = 3)\n",
    "modelo2 = LogisticRegression(random_state=1)\n",
    "modelo3 = GaussianNB()\n",
    "\n",
    "nome_modelos = ['Árvores','Logística','Naive Bayes']\n",
    "pipelines = []\n",
    "dados_combinados = pd.DataFrame()\n",
    "\n",
    "for modelo, nome in zip([modelo1,modelo2,modelo3],nome_modelos):\n",
    "\n",
    "  pipeline = Pipeline([\n",
    "    ('scaler', StandardScaler()),  # Normalização dos dados\n",
    "    ('model', modelo)\n",
    "  ])\n",
    "  pipelines.append(pipeline)\n",
    "\n",
    "  validacao = cross_validate(pipeline, x_treino, y_treino, cv = skf)\n",
    "  #print(validacao['test_score'].mean())\n",
    "  df = pd.DataFrame(validacao)\n",
    "  df['Modelo'] = nome\n",
    "  dados_combinados = pd.concat([dados_combinados, df])\n",
    "\n",
    "num_cat_hip(dados_combinados, 'Modelo', 'test_score')"
   ]
  },
  {
   "cell_type": "code",
   "execution_count": 12,
   "id": "ecacfc5a",
   "metadata": {},
   "outputs": [],
   "source": [
    "dados_combinados = pd.DataFrame()"
   ]
  },
  {
   "cell_type": "markdown",
   "id": "7ff50ee2",
   "metadata": {},
   "source": [
    "## Hard\n",
    "\n",
    "No voting \"hard\", a predição final é determinada pela maioria dos votos das predições de classe de cada classificador individual. Cada classificador tem igual peso no voto final, e ele simplesmente escolhe a classe que recebeu o maior número de votos dos classificadores individuais como a predição do ensemble.\n",
    "\n",
    "**Quando Usar:** O voting hard é útil quando você deseja uma decisão final simples e direta baseada na classe mais frequentemente predita pelos modelos. É eficaz quando os modelos são aproximadamente igualmente bons e há uma clara maioria na escolha de classe em muitos casos."
   ]
  },
  {
   "cell_type": "code",
   "execution_count": 13,
   "id": "1b3c11b3",
   "metadata": {},
   "outputs": [
    {
     "data": {
      "text/html": [
       "<style>#sk-container-id-1 {color: black;background-color: white;}#sk-container-id-1 pre{padding: 0;}#sk-container-id-1 div.sk-toggleable {background-color: white;}#sk-container-id-1 label.sk-toggleable__label {cursor: pointer;display: block;width: 100%;margin-bottom: 0;padding: 0.3em;box-sizing: border-box;text-align: center;}#sk-container-id-1 label.sk-toggleable__label-arrow:before {content: \"▸\";float: left;margin-right: 0.25em;color: #696969;}#sk-container-id-1 label.sk-toggleable__label-arrow:hover:before {color: black;}#sk-container-id-1 div.sk-estimator:hover label.sk-toggleable__label-arrow:before {color: black;}#sk-container-id-1 div.sk-toggleable__content {max-height: 0;max-width: 0;overflow: hidden;text-align: left;background-color: #f0f8ff;}#sk-container-id-1 div.sk-toggleable__content pre {margin: 0.2em;color: black;border-radius: 0.25em;background-color: #f0f8ff;}#sk-container-id-1 input.sk-toggleable__control:checked~div.sk-toggleable__content {max-height: 200px;max-width: 100%;overflow: auto;}#sk-container-id-1 input.sk-toggleable__control:checked~label.sk-toggleable__label-arrow:before {content: \"▾\";}#sk-container-id-1 div.sk-estimator input.sk-toggleable__control:checked~label.sk-toggleable__label {background-color: #d4ebff;}#sk-container-id-1 div.sk-label input.sk-toggleable__control:checked~label.sk-toggleable__label {background-color: #d4ebff;}#sk-container-id-1 input.sk-hidden--visually {border: 0;clip: rect(1px 1px 1px 1px);clip: rect(1px, 1px, 1px, 1px);height: 1px;margin: -1px;overflow: hidden;padding: 0;position: absolute;width: 1px;}#sk-container-id-1 div.sk-estimator {font-family: monospace;background-color: #f0f8ff;border: 1px dotted black;border-radius: 0.25em;box-sizing: border-box;margin-bottom: 0.5em;}#sk-container-id-1 div.sk-estimator:hover {background-color: #d4ebff;}#sk-container-id-1 div.sk-parallel-item::after {content: \"\";width: 100%;border-bottom: 1px solid gray;flex-grow: 1;}#sk-container-id-1 div.sk-label:hover label.sk-toggleable__label {background-color: #d4ebff;}#sk-container-id-1 div.sk-serial::before {content: \"\";position: absolute;border-left: 1px solid gray;box-sizing: border-box;top: 0;bottom: 0;left: 50%;z-index: 0;}#sk-container-id-1 div.sk-serial {display: flex;flex-direction: column;align-items: center;background-color: white;padding-right: 0.2em;padding-left: 0.2em;position: relative;}#sk-container-id-1 div.sk-item {position: relative;z-index: 1;}#sk-container-id-1 div.sk-parallel {display: flex;align-items: stretch;justify-content: center;background-color: white;position: relative;}#sk-container-id-1 div.sk-item::before, #sk-container-id-1 div.sk-parallel-item::before {content: \"\";position: absolute;border-left: 1px solid gray;box-sizing: border-box;top: 0;bottom: 0;left: 50%;z-index: -1;}#sk-container-id-1 div.sk-parallel-item {display: flex;flex-direction: column;z-index: 1;position: relative;background-color: white;}#sk-container-id-1 div.sk-parallel-item:first-child::after {align-self: flex-end;width: 50%;}#sk-container-id-1 div.sk-parallel-item:last-child::after {align-self: flex-start;width: 50%;}#sk-container-id-1 div.sk-parallel-item:only-child::after {width: 0;}#sk-container-id-1 div.sk-dashed-wrapped {border: 1px dashed gray;margin: 0 0.4em 0.5em 0.4em;box-sizing: border-box;padding-bottom: 0.4em;background-color: white;}#sk-container-id-1 div.sk-label label {font-family: monospace;font-weight: bold;display: inline-block;line-height: 1.2em;}#sk-container-id-1 div.sk-label-container {text-align: center;}#sk-container-id-1 div.sk-container {/* jupyter's `normalize.less` sets `[hidden] { display: none; }` but bootstrap.min.css set `[hidden] { display: none !important; }` so we also need the `!important` here to be able to override the default hidden behavior on the sphinx rendered scikit-learn.org. See: https://github.com/scikit-learn/scikit-learn/issues/21755 */display: inline-block !important;position: relative;}#sk-container-id-1 div.sk-text-repr-fallback {display: none;}</style><div id=\"sk-container-id-1\" class=\"sk-top-container\"><div class=\"sk-text-repr-fallback\"><pre>VotingClassifier(estimators=[(&#x27;Árvores&#x27;,\n",
       "                              Pipeline(steps=[(&#x27;scaler&#x27;, StandardScaler()),\n",
       "                                              (&#x27;model&#x27;,\n",
       "                                               DecisionTreeClassifier(max_depth=3,\n",
       "                                                                      random_state=5))])),\n",
       "                             (&#x27;Logística&#x27;,\n",
       "                              Pipeline(steps=[(&#x27;scaler&#x27;, StandardScaler()),\n",
       "                                              (&#x27;model&#x27;,\n",
       "                                               LogisticRegression(random_state=1))])),\n",
       "                             (&#x27;Naive Bayes&#x27;,\n",
       "                              Pipeline(steps=[(&#x27;scaler&#x27;, StandardScaler()),\n",
       "                                              (&#x27;model&#x27;, GaussianNB())]))])</pre><b>In a Jupyter environment, please rerun this cell to show the HTML representation or trust the notebook. <br />On GitHub, the HTML representation is unable to render, please try loading this page with nbviewer.org.</b></div><div class=\"sk-container\" hidden><div class=\"sk-item sk-dashed-wrapped\"><div class=\"sk-label-container\"><div class=\"sk-label sk-toggleable\"><input class=\"sk-toggleable__control sk-hidden--visually\" id=\"sk-estimator-id-1\" type=\"checkbox\" ><label for=\"sk-estimator-id-1\" class=\"sk-toggleable__label sk-toggleable__label-arrow\">VotingClassifier</label><div class=\"sk-toggleable__content\"><pre>VotingClassifier(estimators=[(&#x27;Árvores&#x27;,\n",
       "                              Pipeline(steps=[(&#x27;scaler&#x27;, StandardScaler()),\n",
       "                                              (&#x27;model&#x27;,\n",
       "                                               DecisionTreeClassifier(max_depth=3,\n",
       "                                                                      random_state=5))])),\n",
       "                             (&#x27;Logística&#x27;,\n",
       "                              Pipeline(steps=[(&#x27;scaler&#x27;, StandardScaler()),\n",
       "                                              (&#x27;model&#x27;,\n",
       "                                               LogisticRegression(random_state=1))])),\n",
       "                             (&#x27;Naive Bayes&#x27;,\n",
       "                              Pipeline(steps=[(&#x27;scaler&#x27;, StandardScaler()),\n",
       "                                              (&#x27;model&#x27;, GaussianNB())]))])</pre></div></div></div><div class=\"sk-parallel\"><div class=\"sk-parallel-item\"><div class=\"sk-item\"><div class=\"sk-label-container\"><div class=\"sk-label sk-toggleable\"><label>Árvores</label></div></div><div class=\"sk-serial\"><div class=\"sk-item\"><div class=\"sk-serial\"><div class=\"sk-item\"><div class=\"sk-estimator sk-toggleable\"><input class=\"sk-toggleable__control sk-hidden--visually\" id=\"sk-estimator-id-2\" type=\"checkbox\" ><label for=\"sk-estimator-id-2\" class=\"sk-toggleable__label sk-toggleable__label-arrow\">StandardScaler</label><div class=\"sk-toggleable__content\"><pre>StandardScaler()</pre></div></div></div><div class=\"sk-item\"><div class=\"sk-estimator sk-toggleable\"><input class=\"sk-toggleable__control sk-hidden--visually\" id=\"sk-estimator-id-3\" type=\"checkbox\" ><label for=\"sk-estimator-id-3\" class=\"sk-toggleable__label sk-toggleable__label-arrow\">DecisionTreeClassifier</label><div class=\"sk-toggleable__content\"><pre>DecisionTreeClassifier(max_depth=3, random_state=5)</pre></div></div></div></div></div></div></div></div><div class=\"sk-parallel-item\"><div class=\"sk-item\"><div class=\"sk-label-container\"><div class=\"sk-label sk-toggleable\"><label>Logística</label></div></div><div class=\"sk-serial\"><div class=\"sk-item\"><div class=\"sk-serial\"><div class=\"sk-item\"><div class=\"sk-estimator sk-toggleable\"><input class=\"sk-toggleable__control sk-hidden--visually\" id=\"sk-estimator-id-4\" type=\"checkbox\" ><label for=\"sk-estimator-id-4\" class=\"sk-toggleable__label sk-toggleable__label-arrow\">StandardScaler</label><div class=\"sk-toggleable__content\"><pre>StandardScaler()</pre></div></div></div><div class=\"sk-item\"><div class=\"sk-estimator sk-toggleable\"><input class=\"sk-toggleable__control sk-hidden--visually\" id=\"sk-estimator-id-5\" type=\"checkbox\" ><label for=\"sk-estimator-id-5\" class=\"sk-toggleable__label sk-toggleable__label-arrow\">LogisticRegression</label><div class=\"sk-toggleable__content\"><pre>LogisticRegression(random_state=1)</pre></div></div></div></div></div></div></div></div><div class=\"sk-parallel-item\"><div class=\"sk-item\"><div class=\"sk-label-container\"><div class=\"sk-label sk-toggleable\"><label>Naive Bayes</label></div></div><div class=\"sk-serial\"><div class=\"sk-item\"><div class=\"sk-serial\"><div class=\"sk-item\"><div class=\"sk-estimator sk-toggleable\"><input class=\"sk-toggleable__control sk-hidden--visually\" id=\"sk-estimator-id-6\" type=\"checkbox\" ><label for=\"sk-estimator-id-6\" class=\"sk-toggleable__label sk-toggleable__label-arrow\">StandardScaler</label><div class=\"sk-toggleable__content\"><pre>StandardScaler()</pre></div></div></div><div class=\"sk-item\"><div class=\"sk-estimator sk-toggleable\"><input class=\"sk-toggleable__control sk-hidden--visually\" id=\"sk-estimator-id-7\" type=\"checkbox\" ><label for=\"sk-estimator-id-7\" class=\"sk-toggleable__label sk-toggleable__label-arrow\">GaussianNB</label><div class=\"sk-toggleable__content\"><pre>GaussianNB()</pre></div></div></div></div></div></div></div></div></div></div></div></div>"
      ],
      "text/plain": [
       "VotingClassifier(estimators=[('Árvores',\n",
       "                              Pipeline(steps=[('scaler', StandardScaler()),\n",
       "                                              ('model',\n",
       "                                               DecisionTreeClassifier(max_depth=3,\n",
       "                                                                      random_state=5))])),\n",
       "                             ('Logística',\n",
       "                              Pipeline(steps=[('scaler', StandardScaler()),\n",
       "                                              ('model',\n",
       "                                               LogisticRegression(random_state=1))])),\n",
       "                             ('Naive Bayes',\n",
       "                              Pipeline(steps=[('scaler', StandardScaler()),\n",
       "                                              ('model', GaussianNB())]))])"
      ]
     },
     "execution_count": 13,
     "metadata": {},
     "output_type": "execute_result"
    }
   ],
   "source": [
    "from sklearn.ensemble import VotingClassifier\n",
    "votacao = VotingClassifier(estimators=[(nome_modelos[0], pipelines[0]),\n",
    "                                       (nome_modelos[1], pipelines[1]),\n",
    "                                       (nome_modelos[2], pipelines[2])],\n",
    "                           voting='hard') # Votação pela maioria\n",
    "votacao"
   ]
  },
  {
   "cell_type": "code",
   "execution_count": 14,
   "id": "ce6d6b46",
   "metadata": {},
   "outputs": [],
   "source": [
    "# aplicando o votting classifier\n",
    "validacao = cross_validate(votacao, x_treino, y_treino, cv = skf)\n",
    "cv_resultados = pd.DataFrame(validacao)\n",
    "#cv_resultados.sample(5)\n",
    "\n",
    "cv_resultados['voting'] = 'Hard'\n",
    "dados_combinados = pd.concat([dados_combinados, cv_resultados])"
   ]
  },
  {
   "cell_type": "markdown",
   "id": "b7b0fb57",
   "metadata": {},
   "source": [
    "## Soft\n",
    "\n",
    "Em algumas situações, você pode querer dar mais peso a um modelo do que a outro. Por exemplo, se um modelo é conhecido por ser mais preciso, você pode querer que o voto desse modelo tenha mais peso na decisão final. Isso é conhecido como `votação ponderada` ou “votação suave”."
   ]
  },
  {
   "cell_type": "code",
   "execution_count": 15,
   "id": "6e5cd213",
   "metadata": {},
   "outputs": [
    {
     "data": {
      "text/html": [
       "<style>#sk-container-id-2 {color: black;background-color: white;}#sk-container-id-2 pre{padding: 0;}#sk-container-id-2 div.sk-toggleable {background-color: white;}#sk-container-id-2 label.sk-toggleable__label {cursor: pointer;display: block;width: 100%;margin-bottom: 0;padding: 0.3em;box-sizing: border-box;text-align: center;}#sk-container-id-2 label.sk-toggleable__label-arrow:before {content: \"▸\";float: left;margin-right: 0.25em;color: #696969;}#sk-container-id-2 label.sk-toggleable__label-arrow:hover:before {color: black;}#sk-container-id-2 div.sk-estimator:hover label.sk-toggleable__label-arrow:before {color: black;}#sk-container-id-2 div.sk-toggleable__content {max-height: 0;max-width: 0;overflow: hidden;text-align: left;background-color: #f0f8ff;}#sk-container-id-2 div.sk-toggleable__content pre {margin: 0.2em;color: black;border-radius: 0.25em;background-color: #f0f8ff;}#sk-container-id-2 input.sk-toggleable__control:checked~div.sk-toggleable__content {max-height: 200px;max-width: 100%;overflow: auto;}#sk-container-id-2 input.sk-toggleable__control:checked~label.sk-toggleable__label-arrow:before {content: \"▾\";}#sk-container-id-2 div.sk-estimator input.sk-toggleable__control:checked~label.sk-toggleable__label {background-color: #d4ebff;}#sk-container-id-2 div.sk-label input.sk-toggleable__control:checked~label.sk-toggleable__label {background-color: #d4ebff;}#sk-container-id-2 input.sk-hidden--visually {border: 0;clip: rect(1px 1px 1px 1px);clip: rect(1px, 1px, 1px, 1px);height: 1px;margin: -1px;overflow: hidden;padding: 0;position: absolute;width: 1px;}#sk-container-id-2 div.sk-estimator {font-family: monospace;background-color: #f0f8ff;border: 1px dotted black;border-radius: 0.25em;box-sizing: border-box;margin-bottom: 0.5em;}#sk-container-id-2 div.sk-estimator:hover {background-color: #d4ebff;}#sk-container-id-2 div.sk-parallel-item::after {content: \"\";width: 100%;border-bottom: 1px solid gray;flex-grow: 1;}#sk-container-id-2 div.sk-label:hover label.sk-toggleable__label {background-color: #d4ebff;}#sk-container-id-2 div.sk-serial::before {content: \"\";position: absolute;border-left: 1px solid gray;box-sizing: border-box;top: 0;bottom: 0;left: 50%;z-index: 0;}#sk-container-id-2 div.sk-serial {display: flex;flex-direction: column;align-items: center;background-color: white;padding-right: 0.2em;padding-left: 0.2em;position: relative;}#sk-container-id-2 div.sk-item {position: relative;z-index: 1;}#sk-container-id-2 div.sk-parallel {display: flex;align-items: stretch;justify-content: center;background-color: white;position: relative;}#sk-container-id-2 div.sk-item::before, #sk-container-id-2 div.sk-parallel-item::before {content: \"\";position: absolute;border-left: 1px solid gray;box-sizing: border-box;top: 0;bottom: 0;left: 50%;z-index: -1;}#sk-container-id-2 div.sk-parallel-item {display: flex;flex-direction: column;z-index: 1;position: relative;background-color: white;}#sk-container-id-2 div.sk-parallel-item:first-child::after {align-self: flex-end;width: 50%;}#sk-container-id-2 div.sk-parallel-item:last-child::after {align-self: flex-start;width: 50%;}#sk-container-id-2 div.sk-parallel-item:only-child::after {width: 0;}#sk-container-id-2 div.sk-dashed-wrapped {border: 1px dashed gray;margin: 0 0.4em 0.5em 0.4em;box-sizing: border-box;padding-bottom: 0.4em;background-color: white;}#sk-container-id-2 div.sk-label label {font-family: monospace;font-weight: bold;display: inline-block;line-height: 1.2em;}#sk-container-id-2 div.sk-label-container {text-align: center;}#sk-container-id-2 div.sk-container {/* jupyter's `normalize.less` sets `[hidden] { display: none; }` but bootstrap.min.css set `[hidden] { display: none !important; }` so we also need the `!important` here to be able to override the default hidden behavior on the sphinx rendered scikit-learn.org. See: https://github.com/scikit-learn/scikit-learn/issues/21755 */display: inline-block !important;position: relative;}#sk-container-id-2 div.sk-text-repr-fallback {display: none;}</style><div id=\"sk-container-id-2\" class=\"sk-top-container\"><div class=\"sk-text-repr-fallback\"><pre>VotingClassifier(estimators=[(&#x27;Árvores&#x27;,\n",
       "                              Pipeline(steps=[(&#x27;scaler&#x27;, StandardScaler()),\n",
       "                                              (&#x27;model&#x27;,\n",
       "                                               DecisionTreeClassifier(max_depth=3,\n",
       "                                                                      random_state=5))])),\n",
       "                             (&#x27;Logística&#x27;,\n",
       "                              Pipeline(steps=[(&#x27;scaler&#x27;, StandardScaler()),\n",
       "                                              (&#x27;model&#x27;,\n",
       "                                               LogisticRegression(random_state=1))])),\n",
       "                             (&#x27;Naive Bayes&#x27;,\n",
       "                              Pipeline(steps=[(&#x27;scaler&#x27;, StandardScaler()),\n",
       "                                              (&#x27;model&#x27;, GaussianNB())]))],\n",
       "                 voting=&#x27;soft&#x27;)</pre><b>In a Jupyter environment, please rerun this cell to show the HTML representation or trust the notebook. <br />On GitHub, the HTML representation is unable to render, please try loading this page with nbviewer.org.</b></div><div class=\"sk-container\" hidden><div class=\"sk-item sk-dashed-wrapped\"><div class=\"sk-label-container\"><div class=\"sk-label sk-toggleable\"><input class=\"sk-toggleable__control sk-hidden--visually\" id=\"sk-estimator-id-8\" type=\"checkbox\" ><label for=\"sk-estimator-id-8\" class=\"sk-toggleable__label sk-toggleable__label-arrow\">VotingClassifier</label><div class=\"sk-toggleable__content\"><pre>VotingClassifier(estimators=[(&#x27;Árvores&#x27;,\n",
       "                              Pipeline(steps=[(&#x27;scaler&#x27;, StandardScaler()),\n",
       "                                              (&#x27;model&#x27;,\n",
       "                                               DecisionTreeClassifier(max_depth=3,\n",
       "                                                                      random_state=5))])),\n",
       "                             (&#x27;Logística&#x27;,\n",
       "                              Pipeline(steps=[(&#x27;scaler&#x27;, StandardScaler()),\n",
       "                                              (&#x27;model&#x27;,\n",
       "                                               LogisticRegression(random_state=1))])),\n",
       "                             (&#x27;Naive Bayes&#x27;,\n",
       "                              Pipeline(steps=[(&#x27;scaler&#x27;, StandardScaler()),\n",
       "                                              (&#x27;model&#x27;, GaussianNB())]))],\n",
       "                 voting=&#x27;soft&#x27;)</pre></div></div></div><div class=\"sk-parallel\"><div class=\"sk-parallel-item\"><div class=\"sk-item\"><div class=\"sk-label-container\"><div class=\"sk-label sk-toggleable\"><label>Árvores</label></div></div><div class=\"sk-serial\"><div class=\"sk-item\"><div class=\"sk-serial\"><div class=\"sk-item\"><div class=\"sk-estimator sk-toggleable\"><input class=\"sk-toggleable__control sk-hidden--visually\" id=\"sk-estimator-id-9\" type=\"checkbox\" ><label for=\"sk-estimator-id-9\" class=\"sk-toggleable__label sk-toggleable__label-arrow\">StandardScaler</label><div class=\"sk-toggleable__content\"><pre>StandardScaler()</pre></div></div></div><div class=\"sk-item\"><div class=\"sk-estimator sk-toggleable\"><input class=\"sk-toggleable__control sk-hidden--visually\" id=\"sk-estimator-id-10\" type=\"checkbox\" ><label for=\"sk-estimator-id-10\" class=\"sk-toggleable__label sk-toggleable__label-arrow\">DecisionTreeClassifier</label><div class=\"sk-toggleable__content\"><pre>DecisionTreeClassifier(max_depth=3, random_state=5)</pre></div></div></div></div></div></div></div></div><div class=\"sk-parallel-item\"><div class=\"sk-item\"><div class=\"sk-label-container\"><div class=\"sk-label sk-toggleable\"><label>Logística</label></div></div><div class=\"sk-serial\"><div class=\"sk-item\"><div class=\"sk-serial\"><div class=\"sk-item\"><div class=\"sk-estimator sk-toggleable\"><input class=\"sk-toggleable__control sk-hidden--visually\" id=\"sk-estimator-id-11\" type=\"checkbox\" ><label for=\"sk-estimator-id-11\" class=\"sk-toggleable__label sk-toggleable__label-arrow\">StandardScaler</label><div class=\"sk-toggleable__content\"><pre>StandardScaler()</pre></div></div></div><div class=\"sk-item\"><div class=\"sk-estimator sk-toggleable\"><input class=\"sk-toggleable__control sk-hidden--visually\" id=\"sk-estimator-id-12\" type=\"checkbox\" ><label for=\"sk-estimator-id-12\" class=\"sk-toggleable__label sk-toggleable__label-arrow\">LogisticRegression</label><div class=\"sk-toggleable__content\"><pre>LogisticRegression(random_state=1)</pre></div></div></div></div></div></div></div></div><div class=\"sk-parallel-item\"><div class=\"sk-item\"><div class=\"sk-label-container\"><div class=\"sk-label sk-toggleable\"><label>Naive Bayes</label></div></div><div class=\"sk-serial\"><div class=\"sk-item\"><div class=\"sk-serial\"><div class=\"sk-item\"><div class=\"sk-estimator sk-toggleable\"><input class=\"sk-toggleable__control sk-hidden--visually\" id=\"sk-estimator-id-13\" type=\"checkbox\" ><label for=\"sk-estimator-id-13\" class=\"sk-toggleable__label sk-toggleable__label-arrow\">StandardScaler</label><div class=\"sk-toggleable__content\"><pre>StandardScaler()</pre></div></div></div><div class=\"sk-item\"><div class=\"sk-estimator sk-toggleable\"><input class=\"sk-toggleable__control sk-hidden--visually\" id=\"sk-estimator-id-14\" type=\"checkbox\" ><label for=\"sk-estimator-id-14\" class=\"sk-toggleable__label sk-toggleable__label-arrow\">GaussianNB</label><div class=\"sk-toggleable__content\"><pre>GaussianNB()</pre></div></div></div></div></div></div></div></div></div></div></div></div>"
      ],
      "text/plain": [
       "VotingClassifier(estimators=[('Árvores',\n",
       "                              Pipeline(steps=[('scaler', StandardScaler()),\n",
       "                                              ('model',\n",
       "                                               DecisionTreeClassifier(max_depth=3,\n",
       "                                                                      random_state=5))])),\n",
       "                             ('Logística',\n",
       "                              Pipeline(steps=[('scaler', StandardScaler()),\n",
       "                                              ('model',\n",
       "                                               LogisticRegression(random_state=1))])),\n",
       "                             ('Naive Bayes',\n",
       "                              Pipeline(steps=[('scaler', StandardScaler()),\n",
       "                                              ('model', GaussianNB())]))],\n",
       "                 voting='soft')"
      ]
     },
     "execution_count": 15,
     "metadata": {},
     "output_type": "execute_result"
    }
   ],
   "source": [
    "from sklearn.ensemble import VotingClassifier\n",
    "votacao = VotingClassifier(\n",
    "    estimators=[(nome_modelos[0], pipelines[0]),\n",
    "                (nome_modelos[1], pipelines[1]),\n",
    "                (nome_modelos[2], pipelines[2])],\n",
    "                voting='soft')\n",
    "votacao"
   ]
  },
  {
   "cell_type": "code",
   "execution_count": 16,
   "id": "13ec7227",
   "metadata": {},
   "outputs": [],
   "source": [
    "# aplicando o votting classifier\n",
    "validacao = cross_validate(votacao, x_treino, y_treino, cv = skf)\n",
    "cv_resultados = pd.DataFrame(validacao)\n",
    "#cv_resultados.sample(5)\n",
    "\n",
    "cv_resultados['voting'] = 'Soft'\n",
    "dados_combinados = pd.concat([dados_combinados, cv_resultados])"
   ]
  },
  {
   "cell_type": "code",
   "execution_count": 17,
   "id": "5cd9742a",
   "metadata": {},
   "outputs": [
    {
     "name": "stdout",
     "output_type": "stream",
     "text": [
      "P-value (Teste T): 0.79\n"
     ]
    },
    {
     "data": {
      "application/vnd.plotly.v1+json": {
       "config": {
        "plotlyServerURL": "https://plot.ly"
       },
       "data": [
        {
         "alignmentgroup": "True",
         "box": {
          "visible": true
         },
         "hovertemplate": "voting=%{x}<br>test_score=%{y}<extra></extra>",
         "legendgroup": "Hard",
         "marker": {
          "color": "#636efa"
         },
         "name": "Hard",
         "offsetgroup": "Hard",
         "orientation": "v",
         "points": "all",
         "scalegroup": "True",
         "showlegend": true,
         "type": "violin",
         "x": [
          "Hard",
          "Hard",
          "Hard",
          "Hard",
          "Hard",
          "Hard",
          "Hard",
          "Hard",
          "Hard",
          "Hard"
         ],
         "x0": " ",
         "xaxis": "x",
         "y": [
          0.9466666666666667,
          0.9333333333333333,
          0.92,
          0.96,
          0.9066666666666666,
          0.9333333333333333,
          0.92,
          0.8666666666666667,
          0.8533333333333334,
          0.9466666666666667
         ],
         "y0": " ",
         "yaxis": "y"
        },
        {
         "alignmentgroup": "True",
         "box": {
          "visible": true
         },
         "hovertemplate": "voting=%{x}<br>test_score=%{y}<extra></extra>",
         "legendgroup": "Soft",
         "marker": {
          "color": "#EF553B"
         },
         "name": "Soft",
         "offsetgroup": "Soft",
         "orientation": "v",
         "points": "all",
         "scalegroup": "True",
         "showlegend": true,
         "type": "violin",
         "x": [
          "Soft",
          "Soft",
          "Soft",
          "Soft",
          "Soft",
          "Soft",
          "Soft",
          "Soft",
          "Soft",
          "Soft"
         ],
         "x0": " ",
         "xaxis": "x",
         "y": [
          0.8933333333333333,
          0.92,
          0.9333333333333333,
          0.96,
          0.8933333333333333,
          0.9466666666666667,
          0.92,
          0.88,
          0.8533333333333334,
          0.9466666666666667
         ],
         "y0": " ",
         "yaxis": "y"
        }
       ],
       "layout": {
        "legend": {
         "title": {
          "text": "voting"
         },
         "tracegroupgap": 0
        },
        "margin": {
         "t": 60
        },
        "template": {
         "data": {
          "bar": [
           {
            "error_x": {
             "color": "#2a3f5f"
            },
            "error_y": {
             "color": "#2a3f5f"
            },
            "marker": {
             "line": {
              "color": "#E5ECF6",
              "width": 0.5
             },
             "pattern": {
              "fillmode": "overlay",
              "size": 10,
              "solidity": 0.2
             }
            },
            "type": "bar"
           }
          ],
          "barpolar": [
           {
            "marker": {
             "line": {
              "color": "#E5ECF6",
              "width": 0.5
             },
             "pattern": {
              "fillmode": "overlay",
              "size": 10,
              "solidity": 0.2
             }
            },
            "type": "barpolar"
           }
          ],
          "carpet": [
           {
            "aaxis": {
             "endlinecolor": "#2a3f5f",
             "gridcolor": "white",
             "linecolor": "white",
             "minorgridcolor": "white",
             "startlinecolor": "#2a3f5f"
            },
            "baxis": {
             "endlinecolor": "#2a3f5f",
             "gridcolor": "white",
             "linecolor": "white",
             "minorgridcolor": "white",
             "startlinecolor": "#2a3f5f"
            },
            "type": "carpet"
           }
          ],
          "choropleth": [
           {
            "colorbar": {
             "outlinewidth": 0,
             "ticks": ""
            },
            "type": "choropleth"
           }
          ],
          "contour": [
           {
            "colorbar": {
             "outlinewidth": 0,
             "ticks": ""
            },
            "colorscale": [
             [
              0,
              "#0d0887"
             ],
             [
              0.1111111111111111,
              "#46039f"
             ],
             [
              0.2222222222222222,
              "#7201a8"
             ],
             [
              0.3333333333333333,
              "#9c179e"
             ],
             [
              0.4444444444444444,
              "#bd3786"
             ],
             [
              0.5555555555555556,
              "#d8576b"
             ],
             [
              0.6666666666666666,
              "#ed7953"
             ],
             [
              0.7777777777777778,
              "#fb9f3a"
             ],
             [
              0.8888888888888888,
              "#fdca26"
             ],
             [
              1,
              "#f0f921"
             ]
            ],
            "type": "contour"
           }
          ],
          "contourcarpet": [
           {
            "colorbar": {
             "outlinewidth": 0,
             "ticks": ""
            },
            "type": "contourcarpet"
           }
          ],
          "heatmap": [
           {
            "colorbar": {
             "outlinewidth": 0,
             "ticks": ""
            },
            "colorscale": [
             [
              0,
              "#0d0887"
             ],
             [
              0.1111111111111111,
              "#46039f"
             ],
             [
              0.2222222222222222,
              "#7201a8"
             ],
             [
              0.3333333333333333,
              "#9c179e"
             ],
             [
              0.4444444444444444,
              "#bd3786"
             ],
             [
              0.5555555555555556,
              "#d8576b"
             ],
             [
              0.6666666666666666,
              "#ed7953"
             ],
             [
              0.7777777777777778,
              "#fb9f3a"
             ],
             [
              0.8888888888888888,
              "#fdca26"
             ],
             [
              1,
              "#f0f921"
             ]
            ],
            "type": "heatmap"
           }
          ],
          "heatmapgl": [
           {
            "colorbar": {
             "outlinewidth": 0,
             "ticks": ""
            },
            "colorscale": [
             [
              0,
              "#0d0887"
             ],
             [
              0.1111111111111111,
              "#46039f"
             ],
             [
              0.2222222222222222,
              "#7201a8"
             ],
             [
              0.3333333333333333,
              "#9c179e"
             ],
             [
              0.4444444444444444,
              "#bd3786"
             ],
             [
              0.5555555555555556,
              "#d8576b"
             ],
             [
              0.6666666666666666,
              "#ed7953"
             ],
             [
              0.7777777777777778,
              "#fb9f3a"
             ],
             [
              0.8888888888888888,
              "#fdca26"
             ],
             [
              1,
              "#f0f921"
             ]
            ],
            "type": "heatmapgl"
           }
          ],
          "histogram": [
           {
            "marker": {
             "pattern": {
              "fillmode": "overlay",
              "size": 10,
              "solidity": 0.2
             }
            },
            "type": "histogram"
           }
          ],
          "histogram2d": [
           {
            "colorbar": {
             "outlinewidth": 0,
             "ticks": ""
            },
            "colorscale": [
             [
              0,
              "#0d0887"
             ],
             [
              0.1111111111111111,
              "#46039f"
             ],
             [
              0.2222222222222222,
              "#7201a8"
             ],
             [
              0.3333333333333333,
              "#9c179e"
             ],
             [
              0.4444444444444444,
              "#bd3786"
             ],
             [
              0.5555555555555556,
              "#d8576b"
             ],
             [
              0.6666666666666666,
              "#ed7953"
             ],
             [
              0.7777777777777778,
              "#fb9f3a"
             ],
             [
              0.8888888888888888,
              "#fdca26"
             ],
             [
              1,
              "#f0f921"
             ]
            ],
            "type": "histogram2d"
           }
          ],
          "histogram2dcontour": [
           {
            "colorbar": {
             "outlinewidth": 0,
             "ticks": ""
            },
            "colorscale": [
             [
              0,
              "#0d0887"
             ],
             [
              0.1111111111111111,
              "#46039f"
             ],
             [
              0.2222222222222222,
              "#7201a8"
             ],
             [
              0.3333333333333333,
              "#9c179e"
             ],
             [
              0.4444444444444444,
              "#bd3786"
             ],
             [
              0.5555555555555556,
              "#d8576b"
             ],
             [
              0.6666666666666666,
              "#ed7953"
             ],
             [
              0.7777777777777778,
              "#fb9f3a"
             ],
             [
              0.8888888888888888,
              "#fdca26"
             ],
             [
              1,
              "#f0f921"
             ]
            ],
            "type": "histogram2dcontour"
           }
          ],
          "mesh3d": [
           {
            "colorbar": {
             "outlinewidth": 0,
             "ticks": ""
            },
            "type": "mesh3d"
           }
          ],
          "parcoords": [
           {
            "line": {
             "colorbar": {
              "outlinewidth": 0,
              "ticks": ""
             }
            },
            "type": "parcoords"
           }
          ],
          "pie": [
           {
            "automargin": true,
            "type": "pie"
           }
          ],
          "scatter": [
           {
            "fillpattern": {
             "fillmode": "overlay",
             "size": 10,
             "solidity": 0.2
            },
            "type": "scatter"
           }
          ],
          "scatter3d": [
           {
            "line": {
             "colorbar": {
              "outlinewidth": 0,
              "ticks": ""
             }
            },
            "marker": {
             "colorbar": {
              "outlinewidth": 0,
              "ticks": ""
             }
            },
            "type": "scatter3d"
           }
          ],
          "scattercarpet": [
           {
            "marker": {
             "colorbar": {
              "outlinewidth": 0,
              "ticks": ""
             }
            },
            "type": "scattercarpet"
           }
          ],
          "scattergeo": [
           {
            "marker": {
             "colorbar": {
              "outlinewidth": 0,
              "ticks": ""
             }
            },
            "type": "scattergeo"
           }
          ],
          "scattergl": [
           {
            "marker": {
             "colorbar": {
              "outlinewidth": 0,
              "ticks": ""
             }
            },
            "type": "scattergl"
           }
          ],
          "scattermapbox": [
           {
            "marker": {
             "colorbar": {
              "outlinewidth": 0,
              "ticks": ""
             }
            },
            "type": "scattermapbox"
           }
          ],
          "scatterpolar": [
           {
            "marker": {
             "colorbar": {
              "outlinewidth": 0,
              "ticks": ""
             }
            },
            "type": "scatterpolar"
           }
          ],
          "scatterpolargl": [
           {
            "marker": {
             "colorbar": {
              "outlinewidth": 0,
              "ticks": ""
             }
            },
            "type": "scatterpolargl"
           }
          ],
          "scatterternary": [
           {
            "marker": {
             "colorbar": {
              "outlinewidth": 0,
              "ticks": ""
             }
            },
            "type": "scatterternary"
           }
          ],
          "surface": [
           {
            "colorbar": {
             "outlinewidth": 0,
             "ticks": ""
            },
            "colorscale": [
             [
              0,
              "#0d0887"
             ],
             [
              0.1111111111111111,
              "#46039f"
             ],
             [
              0.2222222222222222,
              "#7201a8"
             ],
             [
              0.3333333333333333,
              "#9c179e"
             ],
             [
              0.4444444444444444,
              "#bd3786"
             ],
             [
              0.5555555555555556,
              "#d8576b"
             ],
             [
              0.6666666666666666,
              "#ed7953"
             ],
             [
              0.7777777777777778,
              "#fb9f3a"
             ],
             [
              0.8888888888888888,
              "#fdca26"
             ],
             [
              1,
              "#f0f921"
             ]
            ],
            "type": "surface"
           }
          ],
          "table": [
           {
            "cells": {
             "fill": {
              "color": "#EBF0F8"
             },
             "line": {
              "color": "white"
             }
            },
            "header": {
             "fill": {
              "color": "#C8D4E3"
             },
             "line": {
              "color": "white"
             }
            },
            "type": "table"
           }
          ]
         },
         "layout": {
          "annotationdefaults": {
           "arrowcolor": "#2a3f5f",
           "arrowhead": 0,
           "arrowwidth": 1
          },
          "autotypenumbers": "strict",
          "coloraxis": {
           "colorbar": {
            "outlinewidth": 0,
            "ticks": ""
           }
          },
          "colorscale": {
           "diverging": [
            [
             0,
             "#8e0152"
            ],
            [
             0.1,
             "#c51b7d"
            ],
            [
             0.2,
             "#de77ae"
            ],
            [
             0.3,
             "#f1b6da"
            ],
            [
             0.4,
             "#fde0ef"
            ],
            [
             0.5,
             "#f7f7f7"
            ],
            [
             0.6,
             "#e6f5d0"
            ],
            [
             0.7,
             "#b8e186"
            ],
            [
             0.8,
             "#7fbc41"
            ],
            [
             0.9,
             "#4d9221"
            ],
            [
             1,
             "#276419"
            ]
           ],
           "sequential": [
            [
             0,
             "#0d0887"
            ],
            [
             0.1111111111111111,
             "#46039f"
            ],
            [
             0.2222222222222222,
             "#7201a8"
            ],
            [
             0.3333333333333333,
             "#9c179e"
            ],
            [
             0.4444444444444444,
             "#bd3786"
            ],
            [
             0.5555555555555556,
             "#d8576b"
            ],
            [
             0.6666666666666666,
             "#ed7953"
            ],
            [
             0.7777777777777778,
             "#fb9f3a"
            ],
            [
             0.8888888888888888,
             "#fdca26"
            ],
            [
             1,
             "#f0f921"
            ]
           ],
           "sequentialminus": [
            [
             0,
             "#0d0887"
            ],
            [
             0.1111111111111111,
             "#46039f"
            ],
            [
             0.2222222222222222,
             "#7201a8"
            ],
            [
             0.3333333333333333,
             "#9c179e"
            ],
            [
             0.4444444444444444,
             "#bd3786"
            ],
            [
             0.5555555555555556,
             "#d8576b"
            ],
            [
             0.6666666666666666,
             "#ed7953"
            ],
            [
             0.7777777777777778,
             "#fb9f3a"
            ],
            [
             0.8888888888888888,
             "#fdca26"
            ],
            [
             1,
             "#f0f921"
            ]
           ]
          },
          "colorway": [
           "#636efa",
           "#EF553B",
           "#00cc96",
           "#ab63fa",
           "#FFA15A",
           "#19d3f3",
           "#FF6692",
           "#B6E880",
           "#FF97FF",
           "#FECB52"
          ],
          "font": {
           "color": "#2a3f5f"
          },
          "geo": {
           "bgcolor": "white",
           "lakecolor": "white",
           "landcolor": "#E5ECF6",
           "showlakes": true,
           "showland": true,
           "subunitcolor": "white"
          },
          "hoverlabel": {
           "align": "left"
          },
          "hovermode": "closest",
          "mapbox": {
           "style": "light"
          },
          "paper_bgcolor": "white",
          "plot_bgcolor": "#E5ECF6",
          "polar": {
           "angularaxis": {
            "gridcolor": "white",
            "linecolor": "white",
            "ticks": ""
           },
           "bgcolor": "#E5ECF6",
           "radialaxis": {
            "gridcolor": "white",
            "linecolor": "white",
            "ticks": ""
           }
          },
          "scene": {
           "xaxis": {
            "backgroundcolor": "#E5ECF6",
            "gridcolor": "white",
            "gridwidth": 2,
            "linecolor": "white",
            "showbackground": true,
            "ticks": "",
            "zerolinecolor": "white"
           },
           "yaxis": {
            "backgroundcolor": "#E5ECF6",
            "gridcolor": "white",
            "gridwidth": 2,
            "linecolor": "white",
            "showbackground": true,
            "ticks": "",
            "zerolinecolor": "white"
           },
           "zaxis": {
            "backgroundcolor": "#E5ECF6",
            "gridcolor": "white",
            "gridwidth": 2,
            "linecolor": "white",
            "showbackground": true,
            "ticks": "",
            "zerolinecolor": "white"
           }
          },
          "shapedefaults": {
           "line": {
            "color": "#2a3f5f"
           }
          },
          "ternary": {
           "aaxis": {
            "gridcolor": "white",
            "linecolor": "white",
            "ticks": ""
           },
           "baxis": {
            "gridcolor": "white",
            "linecolor": "white",
            "ticks": ""
           },
           "bgcolor": "#E5ECF6",
           "caxis": {
            "gridcolor": "white",
            "linecolor": "white",
            "ticks": ""
           }
          },
          "title": {
           "x": 0.05
          },
          "xaxis": {
           "automargin": true,
           "gridcolor": "white",
           "linecolor": "white",
           "ticks": "",
           "title": {
            "standoff": 15
           },
           "zerolinecolor": "white",
           "zerolinewidth": 2
          },
          "yaxis": {
           "automargin": true,
           "gridcolor": "white",
           "linecolor": "white",
           "ticks": "",
           "title": {
            "standoff": 15
           },
           "zerolinecolor": "white",
           "zerolinewidth": 2
          }
         }
        },
        "violinmode": "overlay",
        "xaxis": {
         "anchor": "y",
         "categoryarray": [
          "Hard",
          "Soft"
         ],
         "categoryorder": "array",
         "domain": [
          0,
          1
         ],
         "title": {
          "text": "voting"
         }
        },
        "yaxis": {
         "anchor": "x",
         "domain": [
          0,
          1
         ],
         "title": {
          "text": "test_score"
         }
        }
       }
      }
     },
     "metadata": {},
     "output_type": "display_data"
    }
   ],
   "source": [
    "# Avaliando tipos de votings\n",
    "num_cat_hip(dados_combinados, 'voting', 'test_score')"
   ]
  },
  {
   "cell_type": "markdown",
   "id": "48427179",
   "metadata": {},
   "source": [
    "### Criando grade de peso"
   ]
  },
  {
   "cell_type": "code",
   "execution_count": 18,
   "id": "06f1804b",
   "metadata": {},
   "outputs": [
    {
     "data": {
      "text/html": [
       "<style>#sk-container-id-3 {color: black;background-color: white;}#sk-container-id-3 pre{padding: 0;}#sk-container-id-3 div.sk-toggleable {background-color: white;}#sk-container-id-3 label.sk-toggleable__label {cursor: pointer;display: block;width: 100%;margin-bottom: 0;padding: 0.3em;box-sizing: border-box;text-align: center;}#sk-container-id-3 label.sk-toggleable__label-arrow:before {content: \"▸\";float: left;margin-right: 0.25em;color: #696969;}#sk-container-id-3 label.sk-toggleable__label-arrow:hover:before {color: black;}#sk-container-id-3 div.sk-estimator:hover label.sk-toggleable__label-arrow:before {color: black;}#sk-container-id-3 div.sk-toggleable__content {max-height: 0;max-width: 0;overflow: hidden;text-align: left;background-color: #f0f8ff;}#sk-container-id-3 div.sk-toggleable__content pre {margin: 0.2em;color: black;border-radius: 0.25em;background-color: #f0f8ff;}#sk-container-id-3 input.sk-toggleable__control:checked~div.sk-toggleable__content {max-height: 200px;max-width: 100%;overflow: auto;}#sk-container-id-3 input.sk-toggleable__control:checked~label.sk-toggleable__label-arrow:before {content: \"▾\";}#sk-container-id-3 div.sk-estimator input.sk-toggleable__control:checked~label.sk-toggleable__label {background-color: #d4ebff;}#sk-container-id-3 div.sk-label input.sk-toggleable__control:checked~label.sk-toggleable__label {background-color: #d4ebff;}#sk-container-id-3 input.sk-hidden--visually {border: 0;clip: rect(1px 1px 1px 1px);clip: rect(1px, 1px, 1px, 1px);height: 1px;margin: -1px;overflow: hidden;padding: 0;position: absolute;width: 1px;}#sk-container-id-3 div.sk-estimator {font-family: monospace;background-color: #f0f8ff;border: 1px dotted black;border-radius: 0.25em;box-sizing: border-box;margin-bottom: 0.5em;}#sk-container-id-3 div.sk-estimator:hover {background-color: #d4ebff;}#sk-container-id-3 div.sk-parallel-item::after {content: \"\";width: 100%;border-bottom: 1px solid gray;flex-grow: 1;}#sk-container-id-3 div.sk-label:hover label.sk-toggleable__label {background-color: #d4ebff;}#sk-container-id-3 div.sk-serial::before {content: \"\";position: absolute;border-left: 1px solid gray;box-sizing: border-box;top: 0;bottom: 0;left: 50%;z-index: 0;}#sk-container-id-3 div.sk-serial {display: flex;flex-direction: column;align-items: center;background-color: white;padding-right: 0.2em;padding-left: 0.2em;position: relative;}#sk-container-id-3 div.sk-item {position: relative;z-index: 1;}#sk-container-id-3 div.sk-parallel {display: flex;align-items: stretch;justify-content: center;background-color: white;position: relative;}#sk-container-id-3 div.sk-item::before, #sk-container-id-3 div.sk-parallel-item::before {content: \"\";position: absolute;border-left: 1px solid gray;box-sizing: border-box;top: 0;bottom: 0;left: 50%;z-index: -1;}#sk-container-id-3 div.sk-parallel-item {display: flex;flex-direction: column;z-index: 1;position: relative;background-color: white;}#sk-container-id-3 div.sk-parallel-item:first-child::after {align-self: flex-end;width: 50%;}#sk-container-id-3 div.sk-parallel-item:last-child::after {align-self: flex-start;width: 50%;}#sk-container-id-3 div.sk-parallel-item:only-child::after {width: 0;}#sk-container-id-3 div.sk-dashed-wrapped {border: 1px dashed gray;margin: 0 0.4em 0.5em 0.4em;box-sizing: border-box;padding-bottom: 0.4em;background-color: white;}#sk-container-id-3 div.sk-label label {font-family: monospace;font-weight: bold;display: inline-block;line-height: 1.2em;}#sk-container-id-3 div.sk-label-container {text-align: center;}#sk-container-id-3 div.sk-container {/* jupyter's `normalize.less` sets `[hidden] { display: none; }` but bootstrap.min.css set `[hidden] { display: none !important; }` so we also need the `!important` here to be able to override the default hidden behavior on the sphinx rendered scikit-learn.org. See: https://github.com/scikit-learn/scikit-learn/issues/21755 */display: inline-block !important;position: relative;}#sk-container-id-3 div.sk-text-repr-fallback {display: none;}</style><div id=\"sk-container-id-3\" class=\"sk-top-container\"><div class=\"sk-text-repr-fallback\"><pre>GridSearchCV(estimator=VotingClassifier(estimators=[(&#x27;Árvores&#x27;,\n",
       "                                                     Pipeline(steps=[(&#x27;scaler&#x27;,\n",
       "                                                                      StandardScaler()),\n",
       "                                                                     (&#x27;model&#x27;,\n",
       "                                                                      DecisionTreeClassifier(max_depth=3,\n",
       "                                                                                             random_state=5))])),\n",
       "                                                    (&#x27;Logística&#x27;,\n",
       "                                                     Pipeline(steps=[(&#x27;scaler&#x27;,\n",
       "                                                                      StandardScaler()),\n",
       "                                                                     (&#x27;model&#x27;,\n",
       "                                                                      LogisticRegression(random_state=1))])),\n",
       "                                                    (&#x27;Naive Bayes&#x27;,\n",
       "                                                     Pipeline(steps=[(&#x27;scaler&#x27;,\n",
       "                                                                      StandardScaler()),\n",
       "                                                                     (&#x27;model&#x27;,\n",
       "                                                                      GaussianNB())]))],\n",
       "                                        voting=&#x27;soft&#x27;),\n",
       "             n_jobs=-1,\n",
       "             param_grid={&#x27;voting&#x27;: [&#x27;hard&#x27;, &#x27;soft&#x27;],\n",
       "                         &#x27;weights&#x27;: [(1, 1, 1), (2, 1, 1), (1, 2, 1),\n",
       "                                     (1, 1, 2)]})</pre><b>In a Jupyter environment, please rerun this cell to show the HTML representation or trust the notebook. <br />On GitHub, the HTML representation is unable to render, please try loading this page with nbviewer.org.</b></div><div class=\"sk-container\" hidden><div class=\"sk-item sk-dashed-wrapped\"><div class=\"sk-label-container\"><div class=\"sk-label sk-toggleable\"><input class=\"sk-toggleable__control sk-hidden--visually\" id=\"sk-estimator-id-15\" type=\"checkbox\" ><label for=\"sk-estimator-id-15\" class=\"sk-toggleable__label sk-toggleable__label-arrow\">GridSearchCV</label><div class=\"sk-toggleable__content\"><pre>GridSearchCV(estimator=VotingClassifier(estimators=[(&#x27;Árvores&#x27;,\n",
       "                                                     Pipeline(steps=[(&#x27;scaler&#x27;,\n",
       "                                                                      StandardScaler()),\n",
       "                                                                     (&#x27;model&#x27;,\n",
       "                                                                      DecisionTreeClassifier(max_depth=3,\n",
       "                                                                                             random_state=5))])),\n",
       "                                                    (&#x27;Logística&#x27;,\n",
       "                                                     Pipeline(steps=[(&#x27;scaler&#x27;,\n",
       "                                                                      StandardScaler()),\n",
       "                                                                     (&#x27;model&#x27;,\n",
       "                                                                      LogisticRegression(random_state=1))])),\n",
       "                                                    (&#x27;Naive Bayes&#x27;,\n",
       "                                                     Pipeline(steps=[(&#x27;scaler&#x27;,\n",
       "                                                                      StandardScaler()),\n",
       "                                                                     (&#x27;model&#x27;,\n",
       "                                                                      GaussianNB())]))],\n",
       "                                        voting=&#x27;soft&#x27;),\n",
       "             n_jobs=-1,\n",
       "             param_grid={&#x27;voting&#x27;: [&#x27;hard&#x27;, &#x27;soft&#x27;],\n",
       "                         &#x27;weights&#x27;: [(1, 1, 1), (2, 1, 1), (1, 2, 1),\n",
       "                                     (1, 1, 2)]})</pre></div></div></div><div class=\"sk-parallel\"><div class=\"sk-parallel-item\"><div class=\"sk-item\"><div class=\"sk-label-container\"><div class=\"sk-label sk-toggleable\"><input class=\"sk-toggleable__control sk-hidden--visually\" id=\"sk-estimator-id-16\" type=\"checkbox\" ><label for=\"sk-estimator-id-16\" class=\"sk-toggleable__label sk-toggleable__label-arrow\">estimator: VotingClassifier</label><div class=\"sk-toggleable__content\"><pre>VotingClassifier(estimators=[(&#x27;Árvores&#x27;,\n",
       "                              Pipeline(steps=[(&#x27;scaler&#x27;, StandardScaler()),\n",
       "                                              (&#x27;model&#x27;,\n",
       "                                               DecisionTreeClassifier(max_depth=3,\n",
       "                                                                      random_state=5))])),\n",
       "                             (&#x27;Logística&#x27;,\n",
       "                              Pipeline(steps=[(&#x27;scaler&#x27;, StandardScaler()),\n",
       "                                              (&#x27;model&#x27;,\n",
       "                                               LogisticRegression(random_state=1))])),\n",
       "                             (&#x27;Naive Bayes&#x27;,\n",
       "                              Pipeline(steps=[(&#x27;scaler&#x27;, StandardScaler()),\n",
       "                                              (&#x27;model&#x27;, GaussianNB())]))],\n",
       "                 voting=&#x27;soft&#x27;)</pre></div></div></div><div class=\"sk-serial\"><div class=\"sk-item sk-dashed-wrapped\"><div class=\"sk-parallel\"><div class=\"sk-parallel-item\"><div class=\"sk-item\"><div class=\"sk-label-container\"><div class=\"sk-label sk-toggleable\"><label>Árvores</label></div></div><div class=\"sk-serial\"><div class=\"sk-item\"><div class=\"sk-serial\"><div class=\"sk-item\"><div class=\"sk-estimator sk-toggleable\"><input class=\"sk-toggleable__control sk-hidden--visually\" id=\"sk-estimator-id-17\" type=\"checkbox\" ><label for=\"sk-estimator-id-17\" class=\"sk-toggleable__label sk-toggleable__label-arrow\">StandardScaler</label><div class=\"sk-toggleable__content\"><pre>StandardScaler()</pre></div></div></div><div class=\"sk-item\"><div class=\"sk-estimator sk-toggleable\"><input class=\"sk-toggleable__control sk-hidden--visually\" id=\"sk-estimator-id-18\" type=\"checkbox\" ><label for=\"sk-estimator-id-18\" class=\"sk-toggleable__label sk-toggleable__label-arrow\">DecisionTreeClassifier</label><div class=\"sk-toggleable__content\"><pre>DecisionTreeClassifier(max_depth=3, random_state=5)</pre></div></div></div></div></div></div></div></div><div class=\"sk-parallel-item\"><div class=\"sk-item\"><div class=\"sk-label-container\"><div class=\"sk-label sk-toggleable\"><label>Logística</label></div></div><div class=\"sk-serial\"><div class=\"sk-item\"><div class=\"sk-serial\"><div class=\"sk-item\"><div class=\"sk-estimator sk-toggleable\"><input class=\"sk-toggleable__control sk-hidden--visually\" id=\"sk-estimator-id-19\" type=\"checkbox\" ><label for=\"sk-estimator-id-19\" class=\"sk-toggleable__label sk-toggleable__label-arrow\">StandardScaler</label><div class=\"sk-toggleable__content\"><pre>StandardScaler()</pre></div></div></div><div class=\"sk-item\"><div class=\"sk-estimator sk-toggleable\"><input class=\"sk-toggleable__control sk-hidden--visually\" id=\"sk-estimator-id-20\" type=\"checkbox\" ><label for=\"sk-estimator-id-20\" class=\"sk-toggleable__label sk-toggleable__label-arrow\">LogisticRegression</label><div class=\"sk-toggleable__content\"><pre>LogisticRegression(random_state=1)</pre></div></div></div></div></div></div></div></div><div class=\"sk-parallel-item\"><div class=\"sk-item\"><div class=\"sk-label-container\"><div class=\"sk-label sk-toggleable\"><label>Naive Bayes</label></div></div><div class=\"sk-serial\"><div class=\"sk-item\"><div class=\"sk-serial\"><div class=\"sk-item\"><div class=\"sk-estimator sk-toggleable\"><input class=\"sk-toggleable__control sk-hidden--visually\" id=\"sk-estimator-id-21\" type=\"checkbox\" ><label for=\"sk-estimator-id-21\" class=\"sk-toggleable__label sk-toggleable__label-arrow\">StandardScaler</label><div class=\"sk-toggleable__content\"><pre>StandardScaler()</pre></div></div></div><div class=\"sk-item\"><div class=\"sk-estimator sk-toggleable\"><input class=\"sk-toggleable__control sk-hidden--visually\" id=\"sk-estimator-id-22\" type=\"checkbox\" ><label for=\"sk-estimator-id-22\" class=\"sk-toggleable__label sk-toggleable__label-arrow\">GaussianNB</label><div class=\"sk-toggleable__content\"><pre>GaussianNB()</pre></div></div></div></div></div></div></div></div></div></div></div></div></div></div></div></div></div>"
      ],
      "text/plain": [
       "GridSearchCV(estimator=VotingClassifier(estimators=[('Árvores',\n",
       "                                                     Pipeline(steps=[('scaler',\n",
       "                                                                      StandardScaler()),\n",
       "                                                                     ('model',\n",
       "                                                                      DecisionTreeClassifier(max_depth=3,\n",
       "                                                                                             random_state=5))])),\n",
       "                                                    ('Logística',\n",
       "                                                     Pipeline(steps=[('scaler',\n",
       "                                                                      StandardScaler()),\n",
       "                                                                     ('model',\n",
       "                                                                      LogisticRegression(random_state=1))])),\n",
       "                                                    ('Naive Bayes',\n",
       "                                                     Pipeline(steps=[('scaler',\n",
       "                                                                      StandardScaler()),\n",
       "                                                                     ('model',\n",
       "                                                                      GaussianNB())]))],\n",
       "                                        voting='soft'),\n",
       "             n_jobs=-1,\n",
       "             param_grid={'voting': ['hard', 'soft'],\n",
       "                         'weights': [(1, 1, 1), (2, 1, 1), (1, 2, 1),\n",
       "                                     (1, 1, 2)]})"
      ]
     },
     "execution_count": 18,
     "metadata": {},
     "output_type": "execute_result"
    }
   ],
   "source": [
    "parametros = {\n",
    "    'voting':['hard','soft'],\n",
    "    'weights':[(1,1,1),(2,1,1),(1,2,1),(1,1,2)]\n",
    "}\n",
    "\n",
    "from sklearn.model_selection import GridSearchCV\n",
    "gridsearch = GridSearchCV(votacao, parametros, n_jobs=-1)\n",
    "gridsearch.fit(x_treino, y_treino)"
   ]
  },
  {
   "cell_type": "code",
   "execution_count": 19,
   "id": "97a3b812",
   "metadata": {},
   "outputs": [
    {
     "data": {
      "text/plain": [
       "{'voting': 'hard', 'weights': (1, 2, 1)}"
      ]
     },
     "execution_count": 19,
     "metadata": {},
     "output_type": "execute_result"
    }
   ],
   "source": [
    "gridsearch.best_params_"
   ]
  },
  {
   "cell_type": "code",
   "execution_count": 20,
   "id": "0aca91b9",
   "metadata": {},
   "outputs": [
    {
     "data": {
      "text/plain": [
       "0.9226666666666666"
      ]
     },
     "execution_count": 20,
     "metadata": {},
     "output_type": "execute_result"
    }
   ],
   "source": [
    "gridsearch.best_score_"
   ]
  },
  {
   "cell_type": "code",
   "execution_count": 21,
   "id": "315740e1",
   "metadata": {},
   "outputs": [
    {
     "data": {
      "text/html": [
       "<div>\n",
       "<style scoped>\n",
       "    .dataframe tbody tr th:only-of-type {\n",
       "        vertical-align: middle;\n",
       "    }\n",
       "\n",
       "    .dataframe tbody tr th {\n",
       "        vertical-align: top;\n",
       "    }\n",
       "\n",
       "    .dataframe thead th {\n",
       "        text-align: right;\n",
       "    }\n",
       "</style>\n",
       "<table border=\"1\" class=\"dataframe\">\n",
       "  <thead>\n",
       "    <tr style=\"text-align: right;\">\n",
       "      <th></th>\n",
       "      <th>mean_fit_time</th>\n",
       "      <th>std_fit_time</th>\n",
       "      <th>mean_score_time</th>\n",
       "      <th>std_score_time</th>\n",
       "      <th>param_voting</th>\n",
       "      <th>param_weights</th>\n",
       "      <th>params</th>\n",
       "      <th>split0_test_score</th>\n",
       "      <th>split1_test_score</th>\n",
       "      <th>split2_test_score</th>\n",
       "      <th>split3_test_score</th>\n",
       "      <th>split4_test_score</th>\n",
       "      <th>mean_test_score</th>\n",
       "      <th>std_test_score</th>\n",
       "      <th>rank_test_score</th>\n",
       "    </tr>\n",
       "  </thead>\n",
       "  <tbody>\n",
       "    <tr>\n",
       "      <th>0</th>\n",
       "      <td>0.066162</td>\n",
       "      <td>0.032804</td>\n",
       "      <td>0.004878</td>\n",
       "      <td>0.002672</td>\n",
       "      <td>hard</td>\n",
       "      <td>(1, 1, 1)</td>\n",
       "      <td>{'voting': 'hard', 'weights': (1, 1, 1)}</td>\n",
       "      <td>0.893333</td>\n",
       "      <td>0.933333</td>\n",
       "      <td>0.893333</td>\n",
       "      <td>0.940000</td>\n",
       "      <td>0.946667</td>\n",
       "      <td>0.921333</td>\n",
       "      <td>0.023247</td>\n",
       "      <td>2</td>\n",
       "    </tr>\n",
       "    <tr>\n",
       "      <th>1</th>\n",
       "      <td>0.054217</td>\n",
       "      <td>0.027889</td>\n",
       "      <td>0.006400</td>\n",
       "      <td>0.002331</td>\n",
       "      <td>hard</td>\n",
       "      <td>(2, 1, 1)</td>\n",
       "      <td>{'voting': 'hard', 'weights': (2, 1, 1)}</td>\n",
       "      <td>0.866667</td>\n",
       "      <td>0.893333</td>\n",
       "      <td>0.833333</td>\n",
       "      <td>0.846667</td>\n",
       "      <td>0.886667</td>\n",
       "      <td>0.865333</td>\n",
       "      <td>0.022862</td>\n",
       "      <td>8</td>\n",
       "    </tr>\n",
       "    <tr>\n",
       "      <th>2</th>\n",
       "      <td>0.022345</td>\n",
       "      <td>0.002149</td>\n",
       "      <td>0.004453</td>\n",
       "      <td>0.000976</td>\n",
       "      <td>hard</td>\n",
       "      <td>(1, 2, 1)</td>\n",
       "      <td>{'voting': 'hard', 'weights': (1, 2, 1)}</td>\n",
       "      <td>0.900000</td>\n",
       "      <td>0.926667</td>\n",
       "      <td>0.893333</td>\n",
       "      <td>0.940000</td>\n",
       "      <td>0.953333</td>\n",
       "      <td>0.922667</td>\n",
       "      <td>0.022940</td>\n",
       "      <td>1</td>\n",
       "    </tr>\n",
       "    <tr>\n",
       "      <th>3</th>\n",
       "      <td>0.021866</td>\n",
       "      <td>0.003529</td>\n",
       "      <td>0.004606</td>\n",
       "      <td>0.001359</td>\n",
       "      <td>hard</td>\n",
       "      <td>(1, 1, 2)</td>\n",
       "      <td>{'voting': 'hard', 'weights': (1, 1, 2)}</td>\n",
       "      <td>0.900000</td>\n",
       "      <td>0.946667</td>\n",
       "      <td>0.866667</td>\n",
       "      <td>0.913333</td>\n",
       "      <td>0.926667</td>\n",
       "      <td>0.910667</td>\n",
       "      <td>0.026866</td>\n",
       "      <td>5</td>\n",
       "    </tr>\n",
       "    <tr>\n",
       "      <th>4</th>\n",
       "      <td>0.021599</td>\n",
       "      <td>0.003006</td>\n",
       "      <td>0.002204</td>\n",
       "      <td>0.000752</td>\n",
       "      <td>soft</td>\n",
       "      <td>(1, 1, 1)</td>\n",
       "      <td>{'voting': 'soft', 'weights': (1, 1, 1)}</td>\n",
       "      <td>0.900000</td>\n",
       "      <td>0.933333</td>\n",
       "      <td>0.880000</td>\n",
       "      <td>0.933333</td>\n",
       "      <td>0.946667</td>\n",
       "      <td>0.918667</td>\n",
       "      <td>0.024730</td>\n",
       "      <td>4</td>\n",
       "    </tr>\n",
       "    <tr>\n",
       "      <th>5</th>\n",
       "      <td>0.022602</td>\n",
       "      <td>0.003821</td>\n",
       "      <td>0.002797</td>\n",
       "      <td>0.000748</td>\n",
       "      <td>soft</td>\n",
       "      <td>(2, 1, 1)</td>\n",
       "      <td>{'voting': 'soft', 'weights': (2, 1, 1)}</td>\n",
       "      <td>0.886667</td>\n",
       "      <td>0.906667</td>\n",
       "      <td>0.880000</td>\n",
       "      <td>0.926667</td>\n",
       "      <td>0.940000</td>\n",
       "      <td>0.908000</td>\n",
       "      <td>0.022862</td>\n",
       "      <td>7</td>\n",
       "    </tr>\n",
       "    <tr>\n",
       "      <th>6</th>\n",
       "      <td>0.017106</td>\n",
       "      <td>0.001341</td>\n",
       "      <td>0.003405</td>\n",
       "      <td>0.002503</td>\n",
       "      <td>soft</td>\n",
       "      <td>(1, 2, 1)</td>\n",
       "      <td>{'voting': 'soft', 'weights': (1, 2, 1)}</td>\n",
       "      <td>0.906667</td>\n",
       "      <td>0.926667</td>\n",
       "      <td>0.893333</td>\n",
       "      <td>0.933333</td>\n",
       "      <td>0.946667</td>\n",
       "      <td>0.921333</td>\n",
       "      <td>0.019044</td>\n",
       "      <td>2</td>\n",
       "    </tr>\n",
       "    <tr>\n",
       "      <th>7</th>\n",
       "      <td>0.024504</td>\n",
       "      <td>0.011052</td>\n",
       "      <td>0.003031</td>\n",
       "      <td>0.002158</td>\n",
       "      <td>soft</td>\n",
       "      <td>(1, 1, 2)</td>\n",
       "      <td>{'voting': 'soft', 'weights': (1, 1, 2)}</td>\n",
       "      <td>0.886667</td>\n",
       "      <td>0.933333</td>\n",
       "      <td>0.893333</td>\n",
       "      <td>0.920000</td>\n",
       "      <td>0.920000</td>\n",
       "      <td>0.910667</td>\n",
       "      <td>0.017689</td>\n",
       "      <td>5</td>\n",
       "    </tr>\n",
       "  </tbody>\n",
       "</table>\n",
       "</div>"
      ],
      "text/plain": [
       "   mean_fit_time  std_fit_time  mean_score_time  std_score_time param_voting  \\\n",
       "0       0.066162      0.032804         0.004878        0.002672         hard   \n",
       "1       0.054217      0.027889         0.006400        0.002331         hard   \n",
       "2       0.022345      0.002149         0.004453        0.000976         hard   \n",
       "3       0.021866      0.003529         0.004606        0.001359         hard   \n",
       "4       0.021599      0.003006         0.002204        0.000752         soft   \n",
       "5       0.022602      0.003821         0.002797        0.000748         soft   \n",
       "6       0.017106      0.001341         0.003405        0.002503         soft   \n",
       "7       0.024504      0.011052         0.003031        0.002158         soft   \n",
       "\n",
       "  param_weights                                    params  split0_test_score  \\\n",
       "0     (1, 1, 1)  {'voting': 'hard', 'weights': (1, 1, 1)}           0.893333   \n",
       "1     (2, 1, 1)  {'voting': 'hard', 'weights': (2, 1, 1)}           0.866667   \n",
       "2     (1, 2, 1)  {'voting': 'hard', 'weights': (1, 2, 1)}           0.900000   \n",
       "3     (1, 1, 2)  {'voting': 'hard', 'weights': (1, 1, 2)}           0.900000   \n",
       "4     (1, 1, 1)  {'voting': 'soft', 'weights': (1, 1, 1)}           0.900000   \n",
       "5     (2, 1, 1)  {'voting': 'soft', 'weights': (2, 1, 1)}           0.886667   \n",
       "6     (1, 2, 1)  {'voting': 'soft', 'weights': (1, 2, 1)}           0.906667   \n",
       "7     (1, 1, 2)  {'voting': 'soft', 'weights': (1, 1, 2)}           0.886667   \n",
       "\n",
       "   split1_test_score  split2_test_score  split3_test_score  split4_test_score  \\\n",
       "0           0.933333           0.893333           0.940000           0.946667   \n",
       "1           0.893333           0.833333           0.846667           0.886667   \n",
       "2           0.926667           0.893333           0.940000           0.953333   \n",
       "3           0.946667           0.866667           0.913333           0.926667   \n",
       "4           0.933333           0.880000           0.933333           0.946667   \n",
       "5           0.906667           0.880000           0.926667           0.940000   \n",
       "6           0.926667           0.893333           0.933333           0.946667   \n",
       "7           0.933333           0.893333           0.920000           0.920000   \n",
       "\n",
       "   mean_test_score  std_test_score  rank_test_score  \n",
       "0         0.921333        0.023247                2  \n",
       "1         0.865333        0.022862                8  \n",
       "2         0.922667        0.022940                1  \n",
       "3         0.910667        0.026866                5  \n",
       "4         0.918667        0.024730                4  \n",
       "5         0.908000        0.022862                7  \n",
       "6         0.921333        0.019044                2  \n",
       "7         0.910667        0.017689                5  "
      ]
     },
     "execution_count": 21,
     "metadata": {},
     "output_type": "execute_result"
    }
   ],
   "source": [
    "pd.DataFrame(gridsearch.cv_results_)\n"
   ]
  },
  {
   "cell_type": "code",
   "execution_count": 22,
   "id": "d52c6915",
   "metadata": {},
   "outputs": [
    {
     "name": "stdout",
     "output_type": "stream",
     "text": [
      "**********************************************************************\n",
      "Relatório de Classificação para o Conjunto de voting :\n",
      "\n",
      "              precision    recall  f1-score   support\n",
      "\n",
      "           0       0.85      0.94      0.89       124\n",
      "           1       0.94      0.83      0.88       126\n",
      "\n",
      "    accuracy                           0.89       250\n",
      "   macro avg       0.89      0.89      0.89       250\n",
      "weighted avg       0.89      0.89      0.89       250\n",
      "\n",
      "**************************************************\n",
      "Matriz de Confusão para o Conjunto de voting :\n",
      "\n",
      "[[117   7]\n",
      " [ 21 105]]\n",
      "**********************************************************************\n"
     ]
    }
   ],
   "source": [
    "y_pred = gridsearch.predict(x_teste)\n",
    "avaliar_modelo(y_teste, y_pred, 'voting')"
   ]
  },
  {
   "cell_type": "markdown",
   "id": "cb1b79fe",
   "metadata": {},
   "source": [
    "# Hard com pesos vs Soft com pesos\n",
    "\n",
    "**Voting Hard com Pesos**\n",
    "No voting \"hard\" com pesos:\n",
    "- **Decisão Baseada em Rótulos de Classe**: O classificador toma suas decisões baseado exclusivamente nos rótulos de classe preditos por cada classificador individual.\n",
    "- **Aplicação de Pesos**: Cada voto (rótulo de classe predito) de um classificador tem um peso associado. Se um classificador com um peso de 2 prediz a classe 1, é como se essa predição contasse como dois votos para a classe 1. O resultado final é determinado pela classe que acumula o maior peso total de votos.\n",
    "- **Uso**: É útil quando você confia diferentemente na precisão dos modelos individuais e deseja que essa confiança seja refletida na decisão final.\n",
    "\n",
    "**Voting Soft com Pesos**\n",
    "No voting \"soft\" com pesos:\n",
    "- **Decisão Baseada em Probabilidades**: O classificador leva em consideração a probabilidade prevista de cada classe por cada classificador.\n",
    "- **Aplicação de Pesos**: As probabilidades previstas são ponderadas conforme os pesos atribuídos a cada classificador. Por exemplo, se um classificador com peso 2 dá uma probabilidade de 0.7 para a classe 1, essa contribuição é dobrada ao calcular a média ponderada das probabilidades.\n",
    "- **Resultado**: A classe final é escolhida com base na maior média ponderada das probabilidades previstas, não apenas na maioria dos votos.\n",
    "- **Uso**: É recomendado quando os classificadores estão bem calibrados e suas probabilidades de predição são confiáveis. O modo soft permite que a incerteza nas predições dos classificadores influencie mais diretamente a decisão final.\n",
    "\n",
    "**Comparação e Implicações**\n",
    "- **Sensibilidade a Probabilidades**: O voting soft é mais sensível a como os classificadores individuais quantificam sua incerteza nas predições. Ele não apenas conta votos, mas avalia quão seguros os classificadores estão em suas predições.\n",
    "- **Influência de Classificadores Individuais**: No modo hard, um classificador com alto peso pode influenciar desproporcionalmente o resultado final se sua decisão for contrária à maioria. No modo soft, esse impacto pode ser suavizado se as probabilidades não forem extremamente polarizadas.\n",
    "- **Flexibilidade e Desempenho**: O voting soft tende a ser mais flexível e potencialmente mais eficaz em capturar nuances nos dados, já que utiliza informações mais ricas (probabilidades em vez de rótulos binários). No entanto, isso pressupõe que as probabilidades de cada classificador sejam bem calibradas e comparáveis.\n",
    "\n",
    "**Conclusão**\n",
    "A escolha entre hard e soft voting com pesos deve ser guiada por uma compreensão clara de como cada classificador individual opera, a confiabilidade de suas saídas, e os objetivos específicos de seu problema de classificação. Avaliações experimentais, como validação cruzada, são essenciais para determinar qual abordagem oferece o melhor desempenho em seu contexto específico."
   ]
  },
  {
   "cell_type": "markdown",
   "id": "14510490",
   "metadata": {},
   "source": [
    "# Bagging - Bootstrap Aggregating\n",
    "\n",
    "Bagging, ou Bootstrap Aggregating, envolve treinar múltiplos modelos do mesmo tipo em diferentes subconjuntos dos dados de treinamento. Cada modelo é treinado em um subconjunto gerado por amostragem com reposição (bootstrap) do conjunto de dados original. As previsões finais são feitas por votação majoritária (classificação) ou média (regressão).\n",
    "\n",
    "A diferença no Bagging Classifier está no dataset: ele passará linhas diferentes do dataset para essas árvores, permitindo que essas árvores enxerguem padrões diferentes nos nossos dados.\n",
    "\n",
    "termo bagging é uma abreviação de `bootstrap aggregating`. Essa é uma técnica de machine learning que visa melhorar a estabilidade e precisão de algoritmos de aprendizagem de máquina. \n",
    "\n",
    "Essencialmente, `o bagging envolve a criação de múltiplos conjuntos de dados de treinamento através da amostragem com reposição (conhecida como bootstrap) do conjunto de treinamento original`. \n",
    "\n",
    "`Modelos separados são treinados de forma independente em cada um desses conjuntos de dados boostrap. Após o treinamento, as previsões desses múltiplos modelos são combinadas`. \n",
    "\n",
    "Geralmente o processo de combinação é feito pela votação para a classificação ou média para regressão. Isso é benéfico principalmente para algoritmos que são sensíveis a variações nos dados de treinamento, como árvores de decisão.\n",
    "\n",
    "- **Vantagens**:\n",
    "  - Reduz o overfitting e aumenta a estabilidade do modelo.\n",
    "  - Melhora a precisão de modelos que têm alta variância.\n",
    "  \n",
    "- **Desvantagens**:\n",
    "  - Pode ser computacionalmente intensivo, pois requer treinamento de múltiplos modelos.\n",
    "  - Menos eficaz se os modelos individuais são muito enviesados."
   ]
  },
  {
   "cell_type": "code",
   "execution_count": 23,
   "id": "d37e4328",
   "metadata": {},
   "outputs": [
    {
     "data": {
      "text/html": [
       "<style>#sk-container-id-4 {color: black;background-color: white;}#sk-container-id-4 pre{padding: 0;}#sk-container-id-4 div.sk-toggleable {background-color: white;}#sk-container-id-4 label.sk-toggleable__label {cursor: pointer;display: block;width: 100%;margin-bottom: 0;padding: 0.3em;box-sizing: border-box;text-align: center;}#sk-container-id-4 label.sk-toggleable__label-arrow:before {content: \"▸\";float: left;margin-right: 0.25em;color: #696969;}#sk-container-id-4 label.sk-toggleable__label-arrow:hover:before {color: black;}#sk-container-id-4 div.sk-estimator:hover label.sk-toggleable__label-arrow:before {color: black;}#sk-container-id-4 div.sk-toggleable__content {max-height: 0;max-width: 0;overflow: hidden;text-align: left;background-color: #f0f8ff;}#sk-container-id-4 div.sk-toggleable__content pre {margin: 0.2em;color: black;border-radius: 0.25em;background-color: #f0f8ff;}#sk-container-id-4 input.sk-toggleable__control:checked~div.sk-toggleable__content {max-height: 200px;max-width: 100%;overflow: auto;}#sk-container-id-4 input.sk-toggleable__control:checked~label.sk-toggleable__label-arrow:before {content: \"▾\";}#sk-container-id-4 div.sk-estimator input.sk-toggleable__control:checked~label.sk-toggleable__label {background-color: #d4ebff;}#sk-container-id-4 div.sk-label input.sk-toggleable__control:checked~label.sk-toggleable__label {background-color: #d4ebff;}#sk-container-id-4 input.sk-hidden--visually {border: 0;clip: rect(1px 1px 1px 1px);clip: rect(1px, 1px, 1px, 1px);height: 1px;margin: -1px;overflow: hidden;padding: 0;position: absolute;width: 1px;}#sk-container-id-4 div.sk-estimator {font-family: monospace;background-color: #f0f8ff;border: 1px dotted black;border-radius: 0.25em;box-sizing: border-box;margin-bottom: 0.5em;}#sk-container-id-4 div.sk-estimator:hover {background-color: #d4ebff;}#sk-container-id-4 div.sk-parallel-item::after {content: \"\";width: 100%;border-bottom: 1px solid gray;flex-grow: 1;}#sk-container-id-4 div.sk-label:hover label.sk-toggleable__label {background-color: #d4ebff;}#sk-container-id-4 div.sk-serial::before {content: \"\";position: absolute;border-left: 1px solid gray;box-sizing: border-box;top: 0;bottom: 0;left: 50%;z-index: 0;}#sk-container-id-4 div.sk-serial {display: flex;flex-direction: column;align-items: center;background-color: white;padding-right: 0.2em;padding-left: 0.2em;position: relative;}#sk-container-id-4 div.sk-item {position: relative;z-index: 1;}#sk-container-id-4 div.sk-parallel {display: flex;align-items: stretch;justify-content: center;background-color: white;position: relative;}#sk-container-id-4 div.sk-item::before, #sk-container-id-4 div.sk-parallel-item::before {content: \"\";position: absolute;border-left: 1px solid gray;box-sizing: border-box;top: 0;bottom: 0;left: 50%;z-index: -1;}#sk-container-id-4 div.sk-parallel-item {display: flex;flex-direction: column;z-index: 1;position: relative;background-color: white;}#sk-container-id-4 div.sk-parallel-item:first-child::after {align-self: flex-end;width: 50%;}#sk-container-id-4 div.sk-parallel-item:last-child::after {align-self: flex-start;width: 50%;}#sk-container-id-4 div.sk-parallel-item:only-child::after {width: 0;}#sk-container-id-4 div.sk-dashed-wrapped {border: 1px dashed gray;margin: 0 0.4em 0.5em 0.4em;box-sizing: border-box;padding-bottom: 0.4em;background-color: white;}#sk-container-id-4 div.sk-label label {font-family: monospace;font-weight: bold;display: inline-block;line-height: 1.2em;}#sk-container-id-4 div.sk-label-container {text-align: center;}#sk-container-id-4 div.sk-container {/* jupyter's `normalize.less` sets `[hidden] { display: none; }` but bootstrap.min.css set `[hidden] { display: none !important; }` so we also need the `!important` here to be able to override the default hidden behavior on the sphinx rendered scikit-learn.org. See: https://github.com/scikit-learn/scikit-learn/issues/21755 */display: inline-block !important;position: relative;}#sk-container-id-4 div.sk-text-repr-fallback {display: none;}</style><div id=\"sk-container-id-4\" class=\"sk-top-container\"><div class=\"sk-text-repr-fallback\"><pre>BaggingClassifier(random_state=42)</pre><b>In a Jupyter environment, please rerun this cell to show the HTML representation or trust the notebook. <br />On GitHub, the HTML representation is unable to render, please try loading this page with nbviewer.org.</b></div><div class=\"sk-container\" hidden><div class=\"sk-item\"><div class=\"sk-estimator sk-toggleable\"><input class=\"sk-toggleable__control sk-hidden--visually\" id=\"sk-estimator-id-23\" type=\"checkbox\" checked><label for=\"sk-estimator-id-23\" class=\"sk-toggleable__label sk-toggleable__label-arrow\">BaggingClassifier</label><div class=\"sk-toggleable__content\"><pre>BaggingClassifier(random_state=42)</pre></div></div></div></div></div>"
      ],
      "text/plain": [
       "BaggingClassifier(random_state=42)"
      ]
     },
     "execution_count": 23,
     "metadata": {},
     "output_type": "execute_result"
    }
   ],
   "source": [
    "from sklearn.ensemble import BaggingClassifier\n",
    "\n",
    "bagging_classifier = BaggingClassifier(n_estimators=10, random_state=42)\n",
    "bagging_classifier.fit(x_treino, y_treino)"
   ]
  },
  {
   "cell_type": "code",
   "execution_count": 24,
   "id": "cf2d88c4",
   "metadata": {},
   "outputs": [
    {
     "name": "stdout",
     "output_type": "stream",
     "text": [
      "**********************************************************************\n",
      "Relatório de Classificação para o Conjunto de Bagging Classifier :\n",
      "\n",
      "              precision    recall  f1-score   support\n",
      "\n",
      "           0       0.93      0.82      0.87       140\n",
      "           1       0.80      0.92      0.86       110\n",
      "\n",
      "    accuracy                           0.86       250\n",
      "   macro avg       0.86      0.87      0.86       250\n",
      "weighted avg       0.87      0.86      0.86       250\n",
      "\n",
      "**************************************************\n",
      "Matriz de Confusão para o Conjunto de Bagging Classifier :\n",
      "\n",
      "[[115  25]\n",
      " [  9 101]]\n",
      "**********************************************************************\n"
     ]
    }
   ],
   "source": [
    "y_pred = bagging_classifier.predict(x_teste)\n",
    "avaliar_modelo(y_pred, y_teste, 'Bagging Classifier')"
   ]
  },
  {
   "cell_type": "code",
   "execution_count": 36,
   "id": "2cc2615f",
   "metadata": {},
   "outputs": [
    {
     "data": {
      "text/html": [
       "<style>#sk-container-id-6 {color: black;background-color: white;}#sk-container-id-6 pre{padding: 0;}#sk-container-id-6 div.sk-toggleable {background-color: white;}#sk-container-id-6 label.sk-toggleable__label {cursor: pointer;display: block;width: 100%;margin-bottom: 0;padding: 0.3em;box-sizing: border-box;text-align: center;}#sk-container-id-6 label.sk-toggleable__label-arrow:before {content: \"▸\";float: left;margin-right: 0.25em;color: #696969;}#sk-container-id-6 label.sk-toggleable__label-arrow:hover:before {color: black;}#sk-container-id-6 div.sk-estimator:hover label.sk-toggleable__label-arrow:before {color: black;}#sk-container-id-6 div.sk-toggleable__content {max-height: 0;max-width: 0;overflow: hidden;text-align: left;background-color: #f0f8ff;}#sk-container-id-6 div.sk-toggleable__content pre {margin: 0.2em;color: black;border-radius: 0.25em;background-color: #f0f8ff;}#sk-container-id-6 input.sk-toggleable__control:checked~div.sk-toggleable__content {max-height: 200px;max-width: 100%;overflow: auto;}#sk-container-id-6 input.sk-toggleable__control:checked~label.sk-toggleable__label-arrow:before {content: \"▾\";}#sk-container-id-6 div.sk-estimator input.sk-toggleable__control:checked~label.sk-toggleable__label {background-color: #d4ebff;}#sk-container-id-6 div.sk-label input.sk-toggleable__control:checked~label.sk-toggleable__label {background-color: #d4ebff;}#sk-container-id-6 input.sk-hidden--visually {border: 0;clip: rect(1px 1px 1px 1px);clip: rect(1px, 1px, 1px, 1px);height: 1px;margin: -1px;overflow: hidden;padding: 0;position: absolute;width: 1px;}#sk-container-id-6 div.sk-estimator {font-family: monospace;background-color: #f0f8ff;border: 1px dotted black;border-radius: 0.25em;box-sizing: border-box;margin-bottom: 0.5em;}#sk-container-id-6 div.sk-estimator:hover {background-color: #d4ebff;}#sk-container-id-6 div.sk-parallel-item::after {content: \"\";width: 100%;border-bottom: 1px solid gray;flex-grow: 1;}#sk-container-id-6 div.sk-label:hover label.sk-toggleable__label {background-color: #d4ebff;}#sk-container-id-6 div.sk-serial::before {content: \"\";position: absolute;border-left: 1px solid gray;box-sizing: border-box;top: 0;bottom: 0;left: 50%;z-index: 0;}#sk-container-id-6 div.sk-serial {display: flex;flex-direction: column;align-items: center;background-color: white;padding-right: 0.2em;padding-left: 0.2em;position: relative;}#sk-container-id-6 div.sk-item {position: relative;z-index: 1;}#sk-container-id-6 div.sk-parallel {display: flex;align-items: stretch;justify-content: center;background-color: white;position: relative;}#sk-container-id-6 div.sk-item::before, #sk-container-id-6 div.sk-parallel-item::before {content: \"\";position: absolute;border-left: 1px solid gray;box-sizing: border-box;top: 0;bottom: 0;left: 50%;z-index: -1;}#sk-container-id-6 div.sk-parallel-item {display: flex;flex-direction: column;z-index: 1;position: relative;background-color: white;}#sk-container-id-6 div.sk-parallel-item:first-child::after {align-self: flex-end;width: 50%;}#sk-container-id-6 div.sk-parallel-item:last-child::after {align-self: flex-start;width: 50%;}#sk-container-id-6 div.sk-parallel-item:only-child::after {width: 0;}#sk-container-id-6 div.sk-dashed-wrapped {border: 1px dashed gray;margin: 0 0.4em 0.5em 0.4em;box-sizing: border-box;padding-bottom: 0.4em;background-color: white;}#sk-container-id-6 div.sk-label label {font-family: monospace;font-weight: bold;display: inline-block;line-height: 1.2em;}#sk-container-id-6 div.sk-label-container {text-align: center;}#sk-container-id-6 div.sk-container {/* jupyter's `normalize.less` sets `[hidden] { display: none; }` but bootstrap.min.css set `[hidden] { display: none !important; }` so we also need the `!important` here to be able to override the default hidden behavior on the sphinx rendered scikit-learn.org. See: https://github.com/scikit-learn/scikit-learn/issues/21755 */display: inline-block !important;position: relative;}#sk-container-id-6 div.sk-text-repr-fallback {display: none;}</style><div id=\"sk-container-id-6\" class=\"sk-top-container\"><div class=\"sk-text-repr-fallback\"><pre>GridSearchCV(cv=StratifiedKFold(n_splits=10, random_state=5, shuffle=True),\n",
       "             estimator=BaggingClassifier(), n_jobs=-1,\n",
       "             param_grid={&#x27;max_features&#x27;: [0.5, 0.7, 0.9],\n",
       "                         &#x27;max_samples&#x27;: [0.5, 0.7, 0.9],\n",
       "                         &#x27;n_estimators&#x27;: [10, 20, 30]})</pre><b>In a Jupyter environment, please rerun this cell to show the HTML representation or trust the notebook. <br />On GitHub, the HTML representation is unable to render, please try loading this page with nbviewer.org.</b></div><div class=\"sk-container\" hidden><div class=\"sk-item sk-dashed-wrapped\"><div class=\"sk-label-container\"><div class=\"sk-label sk-toggleable\"><input class=\"sk-toggleable__control sk-hidden--visually\" id=\"sk-estimator-id-27\" type=\"checkbox\" ><label for=\"sk-estimator-id-27\" class=\"sk-toggleable__label sk-toggleable__label-arrow\">GridSearchCV</label><div class=\"sk-toggleable__content\"><pre>GridSearchCV(cv=StratifiedKFold(n_splits=10, random_state=5, shuffle=True),\n",
       "             estimator=BaggingClassifier(), n_jobs=-1,\n",
       "             param_grid={&#x27;max_features&#x27;: [0.5, 0.7, 0.9],\n",
       "                         &#x27;max_samples&#x27;: [0.5, 0.7, 0.9],\n",
       "                         &#x27;n_estimators&#x27;: [10, 20, 30]})</pre></div></div></div><div class=\"sk-parallel\"><div class=\"sk-parallel-item\"><div class=\"sk-item\"><div class=\"sk-label-container\"><div class=\"sk-label sk-toggleable\"><input class=\"sk-toggleable__control sk-hidden--visually\" id=\"sk-estimator-id-28\" type=\"checkbox\" ><label for=\"sk-estimator-id-28\" class=\"sk-toggleable__label sk-toggleable__label-arrow\">estimator: BaggingClassifier</label><div class=\"sk-toggleable__content\"><pre>BaggingClassifier()</pre></div></div></div><div class=\"sk-serial\"><div class=\"sk-item\"><div class=\"sk-estimator sk-toggleable\"><input class=\"sk-toggleable__control sk-hidden--visually\" id=\"sk-estimator-id-29\" type=\"checkbox\" ><label for=\"sk-estimator-id-29\" class=\"sk-toggleable__label sk-toggleable__label-arrow\">BaggingClassifier</label><div class=\"sk-toggleable__content\"><pre>BaggingClassifier()</pre></div></div></div></div></div></div></div></div></div></div>"
      ],
      "text/plain": [
       "GridSearchCV(cv=StratifiedKFold(n_splits=10, random_state=5, shuffle=True),\n",
       "             estimator=BaggingClassifier(), n_jobs=-1,\n",
       "             param_grid={'max_features': [0.5, 0.7, 0.9],\n",
       "                         'max_samples': [0.5, 0.7, 0.9],\n",
       "                         'n_estimators': [10, 20, 30]})"
      ]
     },
     "execution_count": 36,
     "metadata": {},
     "output_type": "execute_result"
    }
   ],
   "source": [
    "# Validando Begging\n",
    "\n",
    "# Definir os modelos base # instanciando modelo\n",
    "modelo_base = pipelines[0] \n",
    "\n",
    "# Definir os parâmetros para o GridSearchCV\n",
    "parametros_grid = {\n",
    "    'n_estimators': [10, 20, 30],\n",
    "    'max_samples': [0.5, 0.7, 0.9],\n",
    "    'max_features': [0.5, 0.7, 0.9],\n",
    "}\n",
    "\n",
    "# Criar o BaggingClassifier com o GridSearchCV\n",
    "bagging_grid = GridSearchCV(\n",
    "    BaggingClassifier(),\n",
    "    parametros_grid,\n",
    "    cv=skf,\n",
    "    n_jobs=-1\n",
    ")\n",
    "\n",
    "bagging_grid.fit(x_treino, y_treino) # Treinar o modelo final"
   ]
  },
  {
   "cell_type": "code",
   "execution_count": 35,
   "id": "35acc56e",
   "metadata": {},
   "outputs": [
    {
     "name": "stdout",
     "output_type": "stream",
     "text": [
      "{'max_features': 0.5, 'max_samples': 0.7, 'n_estimators': 30}\n",
      "0.932\n"
     ]
    }
   ],
   "source": [
    "# Obter a melhor combinação de parâmetros encontrada pelo GridSearchCV\n",
    "melhores_parametros = bagging_grid.best_params_\n",
    "print(melhores_parametros)\n",
    "\n",
    "print(bagging_grid.best_score_)"
   ]
  },
  {
   "cell_type": "code",
   "execution_count": 39,
   "id": "c5849415",
   "metadata": {},
   "outputs": [
    {
     "name": "stdout",
     "output_type": "stream",
     "text": [
      "**********************************************************************\n",
      "Relatório de Classificação para o Conjunto de BaggingClassifier :\n",
      "\n",
      "              precision    recall  f1-score   support\n",
      "\n",
      "           0       0.90      0.80      0.85       138\n",
      "           1       0.79      0.88      0.83       112\n",
      "\n",
      "    accuracy                           0.84       250\n",
      "   macro avg       0.84      0.84      0.84       250\n",
      "weighted avg       0.85      0.84      0.84       250\n",
      "\n",
      "**************************************************\n",
      "Matriz de Confusão para o Conjunto de BaggingClassifier :\n",
      "\n",
      "[[111  27]\n",
      " [ 13  99]]\n",
      "**********************************************************************\n"
     ]
    }
   ],
   "source": [
    "# Criar o BaggingClassifier com os melhores parâmetros encontrados\n",
    "bagging_classifier = BaggingClassifier(estimator=modelo_base, **melhores_parametros)\n",
    "bagging_classifier.fit(x_treino, y_treino) # Treinar o modelo final\n",
    "\n",
    "# Fazer previsões\n",
    "y_pred = bagging_classifier.predict(x_teste)\n",
    "avaliar_modelo(y_pred, y_teste, 'BaggingClassifier')"
   ]
  },
  {
   "cell_type": "markdown",
   "id": "fc9ded5e",
   "metadata": {},
   "source": [
    "# ExtraTreesClassifier - Extremely Randomized Trees Classifier\n",
    "\n",
    "É um algoritmo de ensemble baseado em árvores de decisão que faz parte da família de métodos de \"bagging\". Ele é uma variação do Random Forest e pertence à classe de algoritmos que constroem múltiplas árvores de decisão para realizar previsões agregadas, seja para problemas de classificação ou regressão. \n",
    "\n",
    "O **ExtraTreesClassifier** é similar ao **Random Forest**, mas com algumas diferenças importantes que tornam o algoritmo ainda mais aleatório, o que pode melhorar o desempenho em alguns casos.\n",
    "\n",
    "**Treinamento de Árvores**\n",
    "\n",
    "Como no Random Forest, o **ExtraTreesClassifier** constrói várias árvores de decisão, onde cada árvore é treinada com um subconjunto de dados. No entanto, no ExtraTrees, **não há amostragem com reposição dos dados** (bootstrap). Ou seja, ele utiliza o conjunto de dados original em vez de amostras bootstrapped.\n",
    "\n",
    "**Aleatoriedade no Corte dos Atributos**\n",
    "\n",
    "- **Random Forest**: Em cada nó da árvore, o Random Forest seleciona aleatoriamente um subconjunto de características e, para cada característica desse subconjunto, determina o melhor ponto de divisão (*threshold*) para separar os dados.\n",
    "\n",
    "- **ExtraTrees**: O **ExtraTreesClassifier** vai um passo além na aleatoriedade. Ele não apenas seleciona aleatoriamente um subconjunto de características, mas também escolhe **aleatoriamente o ponto de divisão** dentro do conjunto de possíveis divisões, em vez de escolher o ponto que melhor separa os dados. Isso adiciona mais variabilidade às árvores, o que pode reduzir o overfitting, mas, ao mesmo tempo, aumenta a aleatoriedade.\n",
    "\n",
    "**Agregação**\n",
    "\n",
    "- Para tarefas de **classificação**, a predição final é feita com base na votação majoritária das predições de todas as árvores.\n",
    "- Para tarefas de **regressão**, a predição final é a média das previsões de todas as árvores.\n",
    "\n",
    "**Diferenças Chave entre ExtraTrees e Random Forest**\n",
    "\n",
    "- **Divisões Aleatórias**: Enquanto o Random Forest escolhe a melhor divisão para uma determinada característica, o ExtraTrees escolhe a divisão de forma completamente aleatória. Isso resulta em árvores ainda mais diferentes entre si, o que pode levar a uma maior redução da variância, mas com o custo de potencialmente aumentar o viés.\n",
    "\n",
    "**Vantagens do ExtraTreesClassifier**\n",
    "\n",
    "- **Menor Variância**: Devido à alta aleatoriedade na construção das árvores, o ExtraTrees tende a produzir um modelo com menor variância em comparação com uma única árvore de decisão, e até mesmo comparado ao Random Forest, que já usa a aleatoriedade.\n",
    "\n",
    "- **Maior Velocidade**: Como o ExtraTrees não precisa calcular o ponto ideal de divisão em cada nó (como no Random Forest), ele pode ser mais rápido para treinar. A escolha aleatória do ponto de divisão simplifica o processo de construção da árvore.\n",
    "\n",
    "- **Redução de Overfitting**: A aleatoriedade adicional pode ajudar a prevenir overfitting, especialmente em dados ruidosos.\n",
    "\n",
    "**Desvantagens do ExtraTreesClassifier**\n",
    "\n",
    "- **Aumento de Viés**: A desvantagem da aleatoriedade extra é que ela pode aumentar o viés do modelo\n",
    "\n",
    "\n"
   ]
  },
  {
   "cell_type": "code",
   "execution_count": 41,
   "id": "20454f93",
   "metadata": {},
   "outputs": [
    {
     "data": {
      "text/html": [
       "<style>#sk-container-id-8 {color: black;background-color: white;}#sk-container-id-8 pre{padding: 0;}#sk-container-id-8 div.sk-toggleable {background-color: white;}#sk-container-id-8 label.sk-toggleable__label {cursor: pointer;display: block;width: 100%;margin-bottom: 0;padding: 0.3em;box-sizing: border-box;text-align: center;}#sk-container-id-8 label.sk-toggleable__label-arrow:before {content: \"▸\";float: left;margin-right: 0.25em;color: #696969;}#sk-container-id-8 label.sk-toggleable__label-arrow:hover:before {color: black;}#sk-container-id-8 div.sk-estimator:hover label.sk-toggleable__label-arrow:before {color: black;}#sk-container-id-8 div.sk-toggleable__content {max-height: 0;max-width: 0;overflow: hidden;text-align: left;background-color: #f0f8ff;}#sk-container-id-8 div.sk-toggleable__content pre {margin: 0.2em;color: black;border-radius: 0.25em;background-color: #f0f8ff;}#sk-container-id-8 input.sk-toggleable__control:checked~div.sk-toggleable__content {max-height: 200px;max-width: 100%;overflow: auto;}#sk-container-id-8 input.sk-toggleable__control:checked~label.sk-toggleable__label-arrow:before {content: \"▾\";}#sk-container-id-8 div.sk-estimator input.sk-toggleable__control:checked~label.sk-toggleable__label {background-color: #d4ebff;}#sk-container-id-8 div.sk-label input.sk-toggleable__control:checked~label.sk-toggleable__label {background-color: #d4ebff;}#sk-container-id-8 input.sk-hidden--visually {border: 0;clip: rect(1px 1px 1px 1px);clip: rect(1px, 1px, 1px, 1px);height: 1px;margin: -1px;overflow: hidden;padding: 0;position: absolute;width: 1px;}#sk-container-id-8 div.sk-estimator {font-family: monospace;background-color: #f0f8ff;border: 1px dotted black;border-radius: 0.25em;box-sizing: border-box;margin-bottom: 0.5em;}#sk-container-id-8 div.sk-estimator:hover {background-color: #d4ebff;}#sk-container-id-8 div.sk-parallel-item::after {content: \"\";width: 100%;border-bottom: 1px solid gray;flex-grow: 1;}#sk-container-id-8 div.sk-label:hover label.sk-toggleable__label {background-color: #d4ebff;}#sk-container-id-8 div.sk-serial::before {content: \"\";position: absolute;border-left: 1px solid gray;box-sizing: border-box;top: 0;bottom: 0;left: 50%;z-index: 0;}#sk-container-id-8 div.sk-serial {display: flex;flex-direction: column;align-items: center;background-color: white;padding-right: 0.2em;padding-left: 0.2em;position: relative;}#sk-container-id-8 div.sk-item {position: relative;z-index: 1;}#sk-container-id-8 div.sk-parallel {display: flex;align-items: stretch;justify-content: center;background-color: white;position: relative;}#sk-container-id-8 div.sk-item::before, #sk-container-id-8 div.sk-parallel-item::before {content: \"\";position: absolute;border-left: 1px solid gray;box-sizing: border-box;top: 0;bottom: 0;left: 50%;z-index: -1;}#sk-container-id-8 div.sk-parallel-item {display: flex;flex-direction: column;z-index: 1;position: relative;background-color: white;}#sk-container-id-8 div.sk-parallel-item:first-child::after {align-self: flex-end;width: 50%;}#sk-container-id-8 div.sk-parallel-item:last-child::after {align-self: flex-start;width: 50%;}#sk-container-id-8 div.sk-parallel-item:only-child::after {width: 0;}#sk-container-id-8 div.sk-dashed-wrapped {border: 1px dashed gray;margin: 0 0.4em 0.5em 0.4em;box-sizing: border-box;padding-bottom: 0.4em;background-color: white;}#sk-container-id-8 div.sk-label label {font-family: monospace;font-weight: bold;display: inline-block;line-height: 1.2em;}#sk-container-id-8 div.sk-label-container {text-align: center;}#sk-container-id-8 div.sk-container {/* jupyter's `normalize.less` sets `[hidden] { display: none; }` but bootstrap.min.css set `[hidden] { display: none !important; }` so we also need the `!important` here to be able to override the default hidden behavior on the sphinx rendered scikit-learn.org. See: https://github.com/scikit-learn/scikit-learn/issues/21755 */display: inline-block !important;position: relative;}#sk-container-id-8 div.sk-text-repr-fallback {display: none;}</style><div id=\"sk-container-id-8\" class=\"sk-top-container\"><div class=\"sk-text-repr-fallback\"><pre>GridSearchCV(cv=StratifiedKFold(n_splits=10, random_state=5, shuffle=True),\n",
       "             estimator=ExtraTreesClassifier(), n_jobs=-1,\n",
       "             param_grid={&#x27;max_features&#x27;: [0.5, 0.7, 0.9],\n",
       "                         &#x27;n_estimators&#x27;: [10, 20, 30]})</pre><b>In a Jupyter environment, please rerun this cell to show the HTML representation or trust the notebook. <br />On GitHub, the HTML representation is unable to render, please try loading this page with nbviewer.org.</b></div><div class=\"sk-container\" hidden><div class=\"sk-item sk-dashed-wrapped\"><div class=\"sk-label-container\"><div class=\"sk-label sk-toggleable\"><input class=\"sk-toggleable__control sk-hidden--visually\" id=\"sk-estimator-id-33\" type=\"checkbox\" ><label for=\"sk-estimator-id-33\" class=\"sk-toggleable__label sk-toggleable__label-arrow\">GridSearchCV</label><div class=\"sk-toggleable__content\"><pre>GridSearchCV(cv=StratifiedKFold(n_splits=10, random_state=5, shuffle=True),\n",
       "             estimator=ExtraTreesClassifier(), n_jobs=-1,\n",
       "             param_grid={&#x27;max_features&#x27;: [0.5, 0.7, 0.9],\n",
       "                         &#x27;n_estimators&#x27;: [10, 20, 30]})</pre></div></div></div><div class=\"sk-parallel\"><div class=\"sk-parallel-item\"><div class=\"sk-item\"><div class=\"sk-label-container\"><div class=\"sk-label sk-toggleable\"><input class=\"sk-toggleable__control sk-hidden--visually\" id=\"sk-estimator-id-34\" type=\"checkbox\" ><label for=\"sk-estimator-id-34\" class=\"sk-toggleable__label sk-toggleable__label-arrow\">estimator: ExtraTreesClassifier</label><div class=\"sk-toggleable__content\"><pre>ExtraTreesClassifier()</pre></div></div></div><div class=\"sk-serial\"><div class=\"sk-item\"><div class=\"sk-estimator sk-toggleable\"><input class=\"sk-toggleable__control sk-hidden--visually\" id=\"sk-estimator-id-35\" type=\"checkbox\" ><label for=\"sk-estimator-id-35\" class=\"sk-toggleable__label sk-toggleable__label-arrow\">ExtraTreesClassifier</label><div class=\"sk-toggleable__content\"><pre>ExtraTreesClassifier()</pre></div></div></div></div></div></div></div></div></div></div>"
      ],
      "text/plain": [
       "GridSearchCV(cv=StratifiedKFold(n_splits=10, random_state=5, shuffle=True),\n",
       "             estimator=ExtraTreesClassifier(), n_jobs=-1,\n",
       "             param_grid={'max_features': [0.5, 0.7, 0.9],\n",
       "                         'n_estimators': [10, 20, 30]})"
      ]
     },
     "execution_count": 41,
     "metadata": {},
     "output_type": "execute_result"
    }
   ],
   "source": [
    "from sklearn.ensemble import ExtraTreesClassifier\n",
    "\n",
    "parametros_grid = {\n",
    "    'n_estimators': [10, 20, 30],\n",
    "    'max_features': [0.5, 0.7, 0.9]\n",
    "}\n",
    "\n",
    "extratrees_grid = GridSearchCV(\n",
    "    ExtraTreesClassifier(),\n",
    "    parametros_grid,\n",
    "    cv=skf, \n",
    "    n_jobs=-1\n",
    ")\n",
    "\n",
    "# Treinar e ajustar o modelo\n",
    "extratrees_grid.fit(x_treino, y_treino)"
   ]
  },
  {
   "cell_type": "code",
   "execution_count": 42,
   "id": "79fc8246",
   "metadata": {},
   "outputs": [
    {
     "name": "stdout",
     "output_type": "stream",
     "text": [
      "{'max_features': 0.5, 'n_estimators': 30}\n",
      "0.8786666666666667\n"
     ]
    }
   ],
   "source": [
    "# Obter a melhor combinação de parâmetros encontrada pelo GridSearchCV\n",
    "melhores_parametros = extratrees_grid.best_params_\n",
    "print(melhores_parametros)\n",
    "\n",
    "print(extratrees_grid.best_score_)"
   ]
  },
  {
   "cell_type": "code",
   "execution_count": 44,
   "id": "640d69d1",
   "metadata": {},
   "outputs": [
    {
     "name": "stdout",
     "output_type": "stream",
     "text": [
      "**********************************************************************\n",
      "Relatório de Classificação para o Conjunto de ExtraTreesClassifier :\n",
      "\n",
      "              precision    recall  f1-score   support\n",
      "\n",
      "           0       0.90      0.80      0.85       138\n",
      "           1       0.79      0.88      0.83       112\n",
      "\n",
      "    accuracy                           0.84       250\n",
      "   macro avg       0.84      0.84      0.84       250\n",
      "weighted avg       0.85      0.84      0.84       250\n",
      "\n",
      "**************************************************\n",
      "Matriz de Confusão para o Conjunto de ExtraTreesClassifier :\n",
      "\n",
      "[[111  27]\n",
      " [ 13  99]]\n",
      "**********************************************************************\n"
     ]
    }
   ],
   "source": [
    "# Criar o ExtraTreesClassifier com os melhores parâmetros encontrados\n",
    "extratrees_classifier = ExtraTreesClassifier(**melhores_parametros)\n",
    "extratrees_classifier.fit(x_treino, y_treino) # Treinar o modelo final\n",
    "\n",
    "# Fazer previsões\n",
    "y_pred = bagging_classifier.predict(x_teste)\n",
    "avaliar_modelo(y_pred, y_teste, 'ExtraTreesClassifier')"
   ]
  },
  {
   "cell_type": "markdown",
   "id": "ff3a49dd",
   "metadata": {},
   "source": [
    "## vs\n",
    "O **ExtraTreesClassifier**, também conhecido como **Extremely Randomized Trees**, é um tipo de ensemble learning que faz parte da família das árvores de decisão. Ele tem algumas diferenças fundamentais em relação ao **BaggingClassifier** quando este é usado com árvores de decisão.\n",
    "\n",
    "Durante a construção das árvores, o ExtraTrees seleciona aleatoriamente um subconjunto de colunas e, para cada recurso, escolhe um ponto de divisão aleatório. Isto é, ele usa limites aleatórios para cada recurso. Já no **BaggingClassifier**, cada árvore tenta encontrar o melhor ponto de divisão.\n",
    "\n",
    "No ExtraTrees, as árvores são construídas usando todas as linhas do dataset de treinamento (embora possam ser usadas amostras bootstrap como opção). No **Bagging**, cada árvore recebe uma amostra de linhas diferentes do dataset de treinamento.\n",
    "\n",
    "**Decision Tree**\n",
    "A **Decision Tree** (Árvore de Decisão) é um modelo de aprendizado supervisionado que funciona dividindo repetidamente os dados com base em regras de decisão derivadas dos recursos (features). As características principais de uma árvore de decisão são:\n",
    "\n",
    "- **Divisões Otimizadas**: Cada nó da árvore tenta encontrar a melhor divisão (o melhor ponto de separação) para o conjunto de dados naquele momento.\n",
    "- **Simples e Interpretável**: A árvore de decisão pode ser facilmente visualizada e interpretada. Cada caminho da raiz até uma folha representa uma sequência de decisões lógicas que levam a uma predição.\n",
    "- **Problemas com Overfitting**: Árvores de decisão são propensas a overfitting, especialmente quando são profundas, já que podem capturar detalhes e ruídos específicos dos dados de treinamento.\n",
    "\n",
    "**Random Forest**\n",
    "O **Random Forest** é um ensemble de árvores de decisão, onde cada árvore é construída a partir de um subconjunto dos dados de treinamento, gerado por amostragem com reposição (bootstrap), e com um subconjunto aleatório de recursos (features) em cada nó.\n",
    "\n",
    "- **Bagging e Subconjuntos de Features**: O Random Forest aplica a técnica de **bagging** (bootstrap aggregating) para criar diferentes amostras dos dados de treinamento para cada árvore. Além disso, em cada nó da árvore, é selecionado aleatoriamente um subconjunto de features para encontrar o melhor ponto de divisão.\n",
    "- **Redução de Variância**: Ao combinar os resultados de várias árvores (por meio de votação para classificação ou média para regressão), o Random Forest reduz a variância e o risco de overfitting, tornando-o mais robusto do que uma única árvore de decisão.\n",
    "- **Eficiência**: O Random Forest é eficiente e bastante preciso em muitas tarefas de classificação e regressão, pois suas árvores são relativamente independentes e se beneficiam da combinação de suas previsões.\n",
    "\n",
    "**Bagging (Bootstrap Aggregating)**\n",
    "O **BaggingClassifier** é uma técnica de ensemble que usa o princípio do bagging, ou **bootstrap aggregating**, para treinar múltiplos modelos de forma independente em diferentes amostras bootstrap dos dados de treinamento.\n",
    "\n",
    "- **Amostragem com Reposição (Bootstrap)**: No bagging, cada modelo recebe uma amostra aleatória com reposição do conjunto de dados original. Isso cria várias versões dos dados de treinamento, cada uma com possíveis repetições de amostras.\n",
    "- **Modelos Independentes**: Cada modelo base (geralmente árvores de decisão) é treinado de forma independente. As previsões dos modelos são combinadas por votação (para classificação) ou por média (para regressão).\n",
    "- **Redução de Variância**: O bagging ajuda a reduzir a variância, tornando os modelos mais robustos e resistentes ao overfitting. No entanto, a aleatoriedade adicional nas amostras melhora a estabilidade do modelo sem alterar significativamente seu viés.\n",
    "\n",
    "**ExtraTreesClassifier**\n",
    "Como mencionado, o **ExtraTreesClassifier** é um método semelhante ao Random Forest, mas com mais aleatoriedade no processo de construção das árvores. As diferenças principais incluem:\n",
    "\n",
    "- **Divisões Aleatórias**: No ExtraTrees, o ponto de divisão em cada nó é escolhido de forma aleatória, dentro de um subconjunto de recursos, em vez de tentar encontrar o ponto de divisão ideal. Isso adiciona mais variabilidade às árvores.\n",
    "- **Uso Completo dos Dados**: Ao contrário do Random Forest e do Bagging, o ExtraTrees não usa amostragem bootstrap por padrão. Em vez disso, ele utiliza todo o conjunto de dados original para construir cada árvore.\n",
    "- **Menor Variância**: Devido à sua maior aleatoriedade, o ExtraTrees tende a ter menor variância e, em muitos casos, pode ser mais rápido para treinar, pois não precisa encontrar a melhor divisão para cada nó.\n",
    "- **Potencial Aumento de Viés**: O custo dessa maior aleatoriedade é um potencial aumento de viés, o que pode resultar em menor precisão, especialmente em problemas onde uma boa divisão é crítica para o desempenho.\n",
    "\n",
    "**Conclusão**\n",
    "\n",
    "- **Decision Tree**: Modelo simples e interpretável que busca a melhor divisão em cada nó, mas é propenso ao overfitting.\n",
    "- **Random Forest**: Ensemble de árvores de decisão construídas com amostras bootstrap e subconjuntos aleatórios de features, que reduz a variância e melhora a robustez.\n",
    "- **Bagging**: Técnica de ensemble que treina modelos independentes em amostras bootstrap e combina suas previsões para melhorar a estabilidade.\n",
    "- **ExtraTreesClassifier**: Similar ao Random Forest, mas com maior aleatoriedade no ponto de divisão dos nós e sem amostragem bootstrap por padrão. Oferece menor variância, mas pode aumentar o viés.\n",
    "\n",
    "Esses modelos formam a base de várias técnicas avançadas de aprendizado de máquina e podem ser aplicados a uma ampla gama de problemas de classificação e regressão, cada um com suas vantagens e desvantagens dependendo do cenário.\n"
   ]
  },
  {
   "cell_type": "markdown",
   "id": "89bbb03e",
   "metadata": {},
   "source": [
    "# -----------------------------------------------------------------"
   ]
  },
  {
   "cell_type": "markdown",
   "id": "2b331992",
   "metadata": {},
   "source": [
    "O método de voting possibilitou combinar diferentes modelos para aperfeiçoar nosso modelo de classificação, e o método de bagging permitiu aplicar diferentes versões do nosso conjunto de dados a modelos de árvores, com o objetivo de também melhorar nosso modelo de classificação."
   ]
  },
  {
   "cell_type": "markdown",
   "id": "a4ea7420",
   "metadata": {},
   "source": [
    "# Boosting"
   ]
  },
  {
   "cell_type": "markdown",
   "id": "aaea5e9f",
   "metadata": {},
   "source": [
    "## AdaBoost\n",
    "\n",
    "Esse modelo opera com modelos de árvores de maneira sequencial, aperfeiçoando o funcionamento dos modelos de árvores a cada iteração. Temos uma taxa de aprendizado (learning_rate) que pode variar. O n_estimators representará a quantidade de árvores que passaremos dentro do AdaBoostClassifier.\n",
    "\n",
    "O AdaBoost (Adaptive Boosting) é um algoritmo de aprendizado de máquina baseado na combinação de modelos. Ele começa treinando um classificador (geralmente uma árvore de decisão) no dataset original. Em seguida, treina iterativamente uma série de classificadores adicionais, cada um focando nos casos onde o classificador anterior falhou. Em cada rodada, o AdaBoost ajusta os pesos das instâncias de treinamento aumentando os pesos dos casos mal classificados, para que o próximo classificador se concentre mais neles, e diminuindo os pesos dos casos bem classificados. Os classificadores são então ponderados de acordo com sua precisão e combinados para formar o modelo final, onde as decisões são levadas em conta de acordo com seu desempenho, resultando em uma maior capacidade de generalização e robustez em comparação a um classificador único."
   ]
  },
  {
   "cell_type": "code",
   "execution_count": 45,
   "id": "18a9564c",
   "metadata": {},
   "outputs": [
    {
     "data": {
      "text/html": [
       "<style>#sk-container-id-9 {color: black;background-color: white;}#sk-container-id-9 pre{padding: 0;}#sk-container-id-9 div.sk-toggleable {background-color: white;}#sk-container-id-9 label.sk-toggleable__label {cursor: pointer;display: block;width: 100%;margin-bottom: 0;padding: 0.3em;box-sizing: border-box;text-align: center;}#sk-container-id-9 label.sk-toggleable__label-arrow:before {content: \"▸\";float: left;margin-right: 0.25em;color: #696969;}#sk-container-id-9 label.sk-toggleable__label-arrow:hover:before {color: black;}#sk-container-id-9 div.sk-estimator:hover label.sk-toggleable__label-arrow:before {color: black;}#sk-container-id-9 div.sk-toggleable__content {max-height: 0;max-width: 0;overflow: hidden;text-align: left;background-color: #f0f8ff;}#sk-container-id-9 div.sk-toggleable__content pre {margin: 0.2em;color: black;border-radius: 0.25em;background-color: #f0f8ff;}#sk-container-id-9 input.sk-toggleable__control:checked~div.sk-toggleable__content {max-height: 200px;max-width: 100%;overflow: auto;}#sk-container-id-9 input.sk-toggleable__control:checked~label.sk-toggleable__label-arrow:before {content: \"▾\";}#sk-container-id-9 div.sk-estimator input.sk-toggleable__control:checked~label.sk-toggleable__label {background-color: #d4ebff;}#sk-container-id-9 div.sk-label input.sk-toggleable__control:checked~label.sk-toggleable__label {background-color: #d4ebff;}#sk-container-id-9 input.sk-hidden--visually {border: 0;clip: rect(1px 1px 1px 1px);clip: rect(1px, 1px, 1px, 1px);height: 1px;margin: -1px;overflow: hidden;padding: 0;position: absolute;width: 1px;}#sk-container-id-9 div.sk-estimator {font-family: monospace;background-color: #f0f8ff;border: 1px dotted black;border-radius: 0.25em;box-sizing: border-box;margin-bottom: 0.5em;}#sk-container-id-9 div.sk-estimator:hover {background-color: #d4ebff;}#sk-container-id-9 div.sk-parallel-item::after {content: \"\";width: 100%;border-bottom: 1px solid gray;flex-grow: 1;}#sk-container-id-9 div.sk-label:hover label.sk-toggleable__label {background-color: #d4ebff;}#sk-container-id-9 div.sk-serial::before {content: \"\";position: absolute;border-left: 1px solid gray;box-sizing: border-box;top: 0;bottom: 0;left: 50%;z-index: 0;}#sk-container-id-9 div.sk-serial {display: flex;flex-direction: column;align-items: center;background-color: white;padding-right: 0.2em;padding-left: 0.2em;position: relative;}#sk-container-id-9 div.sk-item {position: relative;z-index: 1;}#sk-container-id-9 div.sk-parallel {display: flex;align-items: stretch;justify-content: center;background-color: white;position: relative;}#sk-container-id-9 div.sk-item::before, #sk-container-id-9 div.sk-parallel-item::before {content: \"\";position: absolute;border-left: 1px solid gray;box-sizing: border-box;top: 0;bottom: 0;left: 50%;z-index: -1;}#sk-container-id-9 div.sk-parallel-item {display: flex;flex-direction: column;z-index: 1;position: relative;background-color: white;}#sk-container-id-9 div.sk-parallel-item:first-child::after {align-self: flex-end;width: 50%;}#sk-container-id-9 div.sk-parallel-item:last-child::after {align-self: flex-start;width: 50%;}#sk-container-id-9 div.sk-parallel-item:only-child::after {width: 0;}#sk-container-id-9 div.sk-dashed-wrapped {border: 1px dashed gray;margin: 0 0.4em 0.5em 0.4em;box-sizing: border-box;padding-bottom: 0.4em;background-color: white;}#sk-container-id-9 div.sk-label label {font-family: monospace;font-weight: bold;display: inline-block;line-height: 1.2em;}#sk-container-id-9 div.sk-label-container {text-align: center;}#sk-container-id-9 div.sk-container {/* jupyter's `normalize.less` sets `[hidden] { display: none; }` but bootstrap.min.css set `[hidden] { display: none !important; }` so we also need the `!important` here to be able to override the default hidden behavior on the sphinx rendered scikit-learn.org. See: https://github.com/scikit-learn/scikit-learn/issues/21755 */display: inline-block !important;position: relative;}#sk-container-id-9 div.sk-text-repr-fallback {display: none;}</style><div id=\"sk-container-id-9\" class=\"sk-top-container\"><div class=\"sk-text-repr-fallback\"><pre>AdaBoostClassifier(learning_rate=1)</pre><b>In a Jupyter environment, please rerun this cell to show the HTML representation or trust the notebook. <br />On GitHub, the HTML representation is unable to render, please try loading this page with nbviewer.org.</b></div><div class=\"sk-container\" hidden><div class=\"sk-item\"><div class=\"sk-estimator sk-toggleable\"><input class=\"sk-toggleable__control sk-hidden--visually\" id=\"sk-estimator-id-36\" type=\"checkbox\" checked><label for=\"sk-estimator-id-36\" class=\"sk-toggleable__label sk-toggleable__label-arrow\">AdaBoostClassifier</label><div class=\"sk-toggleable__content\"><pre>AdaBoostClassifier(learning_rate=1)</pre></div></div></div></div></div>"
      ],
      "text/plain": [
       "AdaBoostClassifier(learning_rate=1)"
      ]
     },
     "execution_count": 45,
     "metadata": {},
     "output_type": "execute_result"
    }
   ],
   "source": [
    "from sklearn.ensemble import AdaBoostClassifier\n",
    "\n",
    "modelo = AdaBoostClassifier(n_estimators=50, #numero de arvores\n",
    "                            learning_rate=1\n",
    "                            )\n",
    "modelo.fit(x_treino, y_treino)"
   ]
  },
  {
   "cell_type": "code",
   "execution_count": 47,
   "id": "a683e966",
   "metadata": {},
   "outputs": [
    {
     "name": "stdout",
     "output_type": "stream",
     "text": [
      "**********************************************************************\n",
      "Relatório de Classificação para o Conjunto de AdaBoostClassifier :\n",
      "\n",
      "              precision    recall  f1-score   support\n",
      "\n",
      "           0       0.93      0.86      0.89       134\n",
      "           1       0.85      0.92      0.88       116\n",
      "\n",
      "    accuracy                           0.89       250\n",
      "   macro avg       0.89      0.89      0.89       250\n",
      "weighted avg       0.89      0.89      0.89       250\n",
      "\n",
      "**************************************************\n",
      "Matriz de Confusão para o Conjunto de AdaBoostClassifier :\n",
      "\n",
      "[[115  19]\n",
      " [  9 107]]\n",
      "**********************************************************************\n"
     ]
    }
   ],
   "source": [
    "y_pred = modelo.predict(x_teste)\n",
    "avaliar_modelo(y_pred, y_teste, 'AdaBoostClassifier')"
   ]
  },
  {
   "cell_type": "code",
   "execution_count": 56,
   "id": "8492da63",
   "metadata": {},
   "outputs": [
    {
     "data": {
      "text/html": [
       "<style>#sk-container-id-12 {color: black;background-color: white;}#sk-container-id-12 pre{padding: 0;}#sk-container-id-12 div.sk-toggleable {background-color: white;}#sk-container-id-12 label.sk-toggleable__label {cursor: pointer;display: block;width: 100%;margin-bottom: 0;padding: 0.3em;box-sizing: border-box;text-align: center;}#sk-container-id-12 label.sk-toggleable__label-arrow:before {content: \"▸\";float: left;margin-right: 0.25em;color: #696969;}#sk-container-id-12 label.sk-toggleable__label-arrow:hover:before {color: black;}#sk-container-id-12 div.sk-estimator:hover label.sk-toggleable__label-arrow:before {color: black;}#sk-container-id-12 div.sk-toggleable__content {max-height: 0;max-width: 0;overflow: hidden;text-align: left;background-color: #f0f8ff;}#sk-container-id-12 div.sk-toggleable__content pre {margin: 0.2em;color: black;border-radius: 0.25em;background-color: #f0f8ff;}#sk-container-id-12 input.sk-toggleable__control:checked~div.sk-toggleable__content {max-height: 200px;max-width: 100%;overflow: auto;}#sk-container-id-12 input.sk-toggleable__control:checked~label.sk-toggleable__label-arrow:before {content: \"▾\";}#sk-container-id-12 div.sk-estimator input.sk-toggleable__control:checked~label.sk-toggleable__label {background-color: #d4ebff;}#sk-container-id-12 div.sk-label input.sk-toggleable__control:checked~label.sk-toggleable__label {background-color: #d4ebff;}#sk-container-id-12 input.sk-hidden--visually {border: 0;clip: rect(1px 1px 1px 1px);clip: rect(1px, 1px, 1px, 1px);height: 1px;margin: -1px;overflow: hidden;padding: 0;position: absolute;width: 1px;}#sk-container-id-12 div.sk-estimator {font-family: monospace;background-color: #f0f8ff;border: 1px dotted black;border-radius: 0.25em;box-sizing: border-box;margin-bottom: 0.5em;}#sk-container-id-12 div.sk-estimator:hover {background-color: #d4ebff;}#sk-container-id-12 div.sk-parallel-item::after {content: \"\";width: 100%;border-bottom: 1px solid gray;flex-grow: 1;}#sk-container-id-12 div.sk-label:hover label.sk-toggleable__label {background-color: #d4ebff;}#sk-container-id-12 div.sk-serial::before {content: \"\";position: absolute;border-left: 1px solid gray;box-sizing: border-box;top: 0;bottom: 0;left: 50%;z-index: 0;}#sk-container-id-12 div.sk-serial {display: flex;flex-direction: column;align-items: center;background-color: white;padding-right: 0.2em;padding-left: 0.2em;position: relative;}#sk-container-id-12 div.sk-item {position: relative;z-index: 1;}#sk-container-id-12 div.sk-parallel {display: flex;align-items: stretch;justify-content: center;background-color: white;position: relative;}#sk-container-id-12 div.sk-item::before, #sk-container-id-12 div.sk-parallel-item::before {content: \"\";position: absolute;border-left: 1px solid gray;box-sizing: border-box;top: 0;bottom: 0;left: 50%;z-index: -1;}#sk-container-id-12 div.sk-parallel-item {display: flex;flex-direction: column;z-index: 1;position: relative;background-color: white;}#sk-container-id-12 div.sk-parallel-item:first-child::after {align-self: flex-end;width: 50%;}#sk-container-id-12 div.sk-parallel-item:last-child::after {align-self: flex-start;width: 50%;}#sk-container-id-12 div.sk-parallel-item:only-child::after {width: 0;}#sk-container-id-12 div.sk-dashed-wrapped {border: 1px dashed gray;margin: 0 0.4em 0.5em 0.4em;box-sizing: border-box;padding-bottom: 0.4em;background-color: white;}#sk-container-id-12 div.sk-label label {font-family: monospace;font-weight: bold;display: inline-block;line-height: 1.2em;}#sk-container-id-12 div.sk-label-container {text-align: center;}#sk-container-id-12 div.sk-container {/* jupyter's `normalize.less` sets `[hidden] { display: none; }` but bootstrap.min.css set `[hidden] { display: none !important; }` so we also need the `!important` here to be able to override the default hidden behavior on the sphinx rendered scikit-learn.org. See: https://github.com/scikit-learn/scikit-learn/issues/21755 */display: inline-block !important;position: relative;}#sk-container-id-12 div.sk-text-repr-fallback {display: none;}</style><div id=\"sk-container-id-12\" class=\"sk-top-container\"><div class=\"sk-text-repr-fallback\"><pre>GridSearchCV(cv=StratifiedKFold(n_splits=10, random_state=5, shuffle=True),\n",
       "             estimator=AdaBoostClassifier(), n_jobs=-1,\n",
       "             param_grid={&#x27;learning_rate&#x27;: [0.1, 0.01, 0.001],\n",
       "                         &#x27;n_estimators&#x27;: [50, 100, 200]},\n",
       "             scoring=&#x27;accuracy&#x27;)</pre><b>In a Jupyter environment, please rerun this cell to show the HTML representation or trust the notebook. <br />On GitHub, the HTML representation is unable to render, please try loading this page with nbviewer.org.</b></div><div class=\"sk-container\" hidden><div class=\"sk-item sk-dashed-wrapped\"><div class=\"sk-label-container\"><div class=\"sk-label sk-toggleable\"><input class=\"sk-toggleable__control sk-hidden--visually\" id=\"sk-estimator-id-43\" type=\"checkbox\" ><label for=\"sk-estimator-id-43\" class=\"sk-toggleable__label sk-toggleable__label-arrow\">GridSearchCV</label><div class=\"sk-toggleable__content\"><pre>GridSearchCV(cv=StratifiedKFold(n_splits=10, random_state=5, shuffle=True),\n",
       "             estimator=AdaBoostClassifier(), n_jobs=-1,\n",
       "             param_grid={&#x27;learning_rate&#x27;: [0.1, 0.01, 0.001],\n",
       "                         &#x27;n_estimators&#x27;: [50, 100, 200]},\n",
       "             scoring=&#x27;accuracy&#x27;)</pre></div></div></div><div class=\"sk-parallel\"><div class=\"sk-parallel-item\"><div class=\"sk-item\"><div class=\"sk-label-container\"><div class=\"sk-label sk-toggleable\"><input class=\"sk-toggleable__control sk-hidden--visually\" id=\"sk-estimator-id-44\" type=\"checkbox\" ><label for=\"sk-estimator-id-44\" class=\"sk-toggleable__label sk-toggleable__label-arrow\">estimator: AdaBoostClassifier</label><div class=\"sk-toggleable__content\"><pre>AdaBoostClassifier()</pre></div></div></div><div class=\"sk-serial\"><div class=\"sk-item\"><div class=\"sk-estimator sk-toggleable\"><input class=\"sk-toggleable__control sk-hidden--visually\" id=\"sk-estimator-id-45\" type=\"checkbox\" ><label for=\"sk-estimator-id-45\" class=\"sk-toggleable__label sk-toggleable__label-arrow\">AdaBoostClassifier</label><div class=\"sk-toggleable__content\"><pre>AdaBoostClassifier()</pre></div></div></div></div></div></div></div></div></div></div>"
      ],
      "text/plain": [
       "GridSearchCV(cv=StratifiedKFold(n_splits=10, random_state=5, shuffle=True),\n",
       "             estimator=AdaBoostClassifier(), n_jobs=-1,\n",
       "             param_grid={'learning_rate': [0.1, 0.01, 0.001],\n",
       "                         'n_estimators': [50, 100, 200]},\n",
       "             scoring='accuracy')"
      ]
     },
     "execution_count": 56,
     "metadata": {},
     "output_type": "execute_result"
    }
   ],
   "source": [
    "# Buscando os melhores parametros\n",
    "modelo = AdaBoostClassifier()\n",
    "\n",
    "param_grid = {\n",
    "'n_estimators': [50,100,200],\n",
    "'learning_rate': [0.1,0.01,0.001]\n",
    "}\n",
    "\n",
    "grid_search = GridSearchCV(modelo, param_grid, cv=skf, scoring='accuracy',n_jobs=-1)\n",
    "grid_search.fit(x_treino,y_treino)"
   ]
  },
  {
   "cell_type": "code",
   "execution_count": 57,
   "id": "5472c98f",
   "metadata": {},
   "outputs": [
    {
     "name": "stdout",
     "output_type": "stream",
     "text": [
      "**********************************************************************\n",
      "Relatório de Classificação para o Conjunto de AdaBoost :\n",
      "\n",
      "              precision    recall  f1-score   support\n",
      "\n",
      "           0       0.91      0.86      0.89       131\n",
      "           1       0.86      0.91      0.88       119\n",
      "\n",
      "    accuracy                           0.88       250\n",
      "   macro avg       0.88      0.89      0.88       250\n",
      "weighted avg       0.89      0.88      0.88       250\n",
      "\n",
      "**************************************************\n",
      "Matriz de Confusão para o Conjunto de AdaBoost :\n",
      "\n",
      "[[113  18]\n",
      " [ 11 108]]\n",
      "**********************************************************************\n"
     ]
    }
   ],
   "source": [
    "y_pred = grid_search.predict(x_teste)\n",
    "avaliar_modelo(y_pred, y_teste, 'AdaBoost')"
   ]
  },
  {
   "cell_type": "markdown",
   "id": "701cc749",
   "metadata": {},
   "source": [
    "# CatBoost\n",
    "\n",
    "O CatBoost, abreviação de Category Boosting, é um algoritmo de boosting baseado em árvores de decisão, desenvolvido pela equipe da Yandex. Como um membro da família dos algoritmos de gradient boosting, o Catboost se destaca por sua habilidade de lidar com dados categóricos sem a necessidade de extenso pré-processamento. Isso é possível graças ao seu método inovador de codificação que melhora a eficiência e reduz o risco de overfitting.\n",
    "\n",
    "No tratamento de dados categóricos o CatBoost lida de maneira nativa com esses dados, algo que outros algoritmos de boosting não fazem diretamente. Isso elimina a necessidade de pré-processamento como one-hot enconding, poupando tempo e evitando a expansão dimensional que pode acompanhar essas técnicas. Além disso, através de técnicas de regularização e uma estratégia de gradiente otimizada, o CatBoost se torna particularmente robusto contra o overfitting.\n",
    "\n",
    "**Funcionamento -**\n",
    "O CatBoost opera em um processo iterativo onde constrói árvore por árvore. Cada árvore tenta corrigir os erros da árvore anterior, focando nos casos mais difíceis. Porém, ao contrário de outros algoritmos que ajustam os pesos dos dados, o CatBoost ajusta o valor do gradiente para cada árvore, melhorando a precisão do modelo de maneira incremental.\n",
    "\n",
    "Esse método tem uma abordagem otimizada para dados categóricos e resistência ao overfitting, ele não só melhora a precisão das previsões, mas também simplifica o fluxo de trabalho de pré-processamento de dados."
   ]
  },
  {
   "cell_type": "code",
   "execution_count": 59,
   "id": "811441b0",
   "metadata": {},
   "outputs": [
    {
     "data": {
      "text/html": [
       "<style>#sk-container-id-13 {color: black;background-color: white;}#sk-container-id-13 pre{padding: 0;}#sk-container-id-13 div.sk-toggleable {background-color: white;}#sk-container-id-13 label.sk-toggleable__label {cursor: pointer;display: block;width: 100%;margin-bottom: 0;padding: 0.3em;box-sizing: border-box;text-align: center;}#sk-container-id-13 label.sk-toggleable__label-arrow:before {content: \"▸\";float: left;margin-right: 0.25em;color: #696969;}#sk-container-id-13 label.sk-toggleable__label-arrow:hover:before {color: black;}#sk-container-id-13 div.sk-estimator:hover label.sk-toggleable__label-arrow:before {color: black;}#sk-container-id-13 div.sk-toggleable__content {max-height: 0;max-width: 0;overflow: hidden;text-align: left;background-color: #f0f8ff;}#sk-container-id-13 div.sk-toggleable__content pre {margin: 0.2em;color: black;border-radius: 0.25em;background-color: #f0f8ff;}#sk-container-id-13 input.sk-toggleable__control:checked~div.sk-toggleable__content {max-height: 200px;max-width: 100%;overflow: auto;}#sk-container-id-13 input.sk-toggleable__control:checked~label.sk-toggleable__label-arrow:before {content: \"▾\";}#sk-container-id-13 div.sk-estimator input.sk-toggleable__control:checked~label.sk-toggleable__label {background-color: #d4ebff;}#sk-container-id-13 div.sk-label input.sk-toggleable__control:checked~label.sk-toggleable__label {background-color: #d4ebff;}#sk-container-id-13 input.sk-hidden--visually {border: 0;clip: rect(1px 1px 1px 1px);clip: rect(1px, 1px, 1px, 1px);height: 1px;margin: -1px;overflow: hidden;padding: 0;position: absolute;width: 1px;}#sk-container-id-13 div.sk-estimator {font-family: monospace;background-color: #f0f8ff;border: 1px dotted black;border-radius: 0.25em;box-sizing: border-box;margin-bottom: 0.5em;}#sk-container-id-13 div.sk-estimator:hover {background-color: #d4ebff;}#sk-container-id-13 div.sk-parallel-item::after {content: \"\";width: 100%;border-bottom: 1px solid gray;flex-grow: 1;}#sk-container-id-13 div.sk-label:hover label.sk-toggleable__label {background-color: #d4ebff;}#sk-container-id-13 div.sk-serial::before {content: \"\";position: absolute;border-left: 1px solid gray;box-sizing: border-box;top: 0;bottom: 0;left: 50%;z-index: 0;}#sk-container-id-13 div.sk-serial {display: flex;flex-direction: column;align-items: center;background-color: white;padding-right: 0.2em;padding-left: 0.2em;position: relative;}#sk-container-id-13 div.sk-item {position: relative;z-index: 1;}#sk-container-id-13 div.sk-parallel {display: flex;align-items: stretch;justify-content: center;background-color: white;position: relative;}#sk-container-id-13 div.sk-item::before, #sk-container-id-13 div.sk-parallel-item::before {content: \"\";position: absolute;border-left: 1px solid gray;box-sizing: border-box;top: 0;bottom: 0;left: 50%;z-index: -1;}#sk-container-id-13 div.sk-parallel-item {display: flex;flex-direction: column;z-index: 1;position: relative;background-color: white;}#sk-container-id-13 div.sk-parallel-item:first-child::after {align-self: flex-end;width: 50%;}#sk-container-id-13 div.sk-parallel-item:last-child::after {align-self: flex-start;width: 50%;}#sk-container-id-13 div.sk-parallel-item:only-child::after {width: 0;}#sk-container-id-13 div.sk-dashed-wrapped {border: 1px dashed gray;margin: 0 0.4em 0.5em 0.4em;box-sizing: border-box;padding-bottom: 0.4em;background-color: white;}#sk-container-id-13 div.sk-label label {font-family: monospace;font-weight: bold;display: inline-block;line-height: 1.2em;}#sk-container-id-13 div.sk-label-container {text-align: center;}#sk-container-id-13 div.sk-container {/* jupyter's `normalize.less` sets `[hidden] { display: none; }` but bootstrap.min.css set `[hidden] { display: none !important; }` so we also need the `!important` here to be able to override the default hidden behavior on the sphinx rendered scikit-learn.org. See: https://github.com/scikit-learn/scikit-learn/issues/21755 */display: inline-block !important;position: relative;}#sk-container-id-13 div.sk-text-repr-fallback {display: none;}</style><div id=\"sk-container-id-13\" class=\"sk-top-container\"><div class=\"sk-text-repr-fallback\"><pre>GridSearchCV(cv=5,\n",
       "             estimator=&lt;catboost.core.CatBoostClassifier object at 0x00000238D34502D0&gt;,\n",
       "             n_jobs=-1,\n",
       "             param_grid={&#x27;depth&#x27;: [4, 6, 8], &#x27;iterations&#x27;: [100, 200, 300],\n",
       "                         &#x27;learning_rate&#x27;: [0.1, 0.01, 0.001]},\n",
       "             scoring=&#x27;accuracy&#x27;)</pre><b>In a Jupyter environment, please rerun this cell to show the HTML representation or trust the notebook. <br />On GitHub, the HTML representation is unable to render, please try loading this page with nbviewer.org.</b></div><div class=\"sk-container\" hidden><div class=\"sk-item sk-dashed-wrapped\"><div class=\"sk-label-container\"><div class=\"sk-label sk-toggleable\"><input class=\"sk-toggleable__control sk-hidden--visually\" id=\"sk-estimator-id-46\" type=\"checkbox\" ><label for=\"sk-estimator-id-46\" class=\"sk-toggleable__label sk-toggleable__label-arrow\">GridSearchCV</label><div class=\"sk-toggleable__content\"><pre>GridSearchCV(cv=5,\n",
       "             estimator=&lt;catboost.core.CatBoostClassifier object at 0x00000238D34502D0&gt;,\n",
       "             n_jobs=-1,\n",
       "             param_grid={&#x27;depth&#x27;: [4, 6, 8], &#x27;iterations&#x27;: [100, 200, 300],\n",
       "                         &#x27;learning_rate&#x27;: [0.1, 0.01, 0.001]},\n",
       "             scoring=&#x27;accuracy&#x27;)</pre></div></div></div><div class=\"sk-parallel\"><div class=\"sk-parallel-item\"><div class=\"sk-item\"><div class=\"sk-label-container\"><div class=\"sk-label sk-toggleable\"><input class=\"sk-toggleable__control sk-hidden--visually\" id=\"sk-estimator-id-47\" type=\"checkbox\" ><label for=\"sk-estimator-id-47\" class=\"sk-toggleable__label sk-toggleable__label-arrow\">estimator: CatBoostClassifier</label><div class=\"sk-toggleable__content\"><pre>&lt;catboost.core.CatBoostClassifier object at 0x00000238D34502D0&gt;</pre></div></div></div><div class=\"sk-serial\"><div class=\"sk-item\"><div class=\"sk-estimator sk-toggleable\"><input class=\"sk-toggleable__control sk-hidden--visually\" id=\"sk-estimator-id-48\" type=\"checkbox\" ><label for=\"sk-estimator-id-48\" class=\"sk-toggleable__label sk-toggleable__label-arrow\">CatBoostClassifier</label><div class=\"sk-toggleable__content\"><pre>&lt;catboost.core.CatBoostClassifier object at 0x00000238D34502D0&gt;</pre></div></div></div></div></div></div></div></div></div></div>"
      ],
      "text/plain": [
       "GridSearchCV(cv=5,\n",
       "             estimator=<catboost.core.CatBoostClassifier object at 0x00000238D34502D0>,\n",
       "             n_jobs=-1,\n",
       "             param_grid={'depth': [4, 6, 8], 'iterations': [100, 200, 300],\n",
       "                         'learning_rate': [0.1, 0.01, 0.001]},\n",
       "             scoring='accuracy')"
      ]
     },
     "execution_count": 59,
     "metadata": {},
     "output_type": "execute_result"
    }
   ],
   "source": [
    "from catboost import CatBoostClassifier\n",
    "\n",
    "param_grid = {\n",
    "'iterations': [100, 200,300],\n",
    "'depth': [4,6,8],\n",
    "'learning_rate': [0.1,0.01,0.001]\n",
    "}\n",
    "\n",
    "grid_search = GridSearchCV(estimator=CatBoostClassifier(verbose=0), # verbose é para não mostrar warning e outras saidas do algoritmo\n",
    "                           param_grid = param_grid, \n",
    "                           cv=5,\n",
    "                           scoring='accuracy',\n",
    "                           n_jobs=-1)\n",
    "grid_search.fit(x_treino, y_treino)"
   ]
  },
  {
   "cell_type": "code",
   "execution_count": 61,
   "id": "f1151159",
   "metadata": {},
   "outputs": [
    {
     "name": "stdout",
     "output_type": "stream",
     "text": [
      "{'depth': 4, 'iterations': 200, 'learning_rate': 0.1}\n",
      "0.9613333333333334\n"
     ]
    }
   ],
   "source": [
    "# Obter a melhor combinação de parâmetros encontrada pelo GridSearchCV\n",
    "melhores_parametros = grid_search.best_params_\n",
    "print(melhores_parametros)\n",
    "\n",
    "print(grid_search.best_score_)"
   ]
  },
  {
   "cell_type": "code",
   "execution_count": 60,
   "id": "3441c037",
   "metadata": {},
   "outputs": [
    {
     "name": "stdout",
     "output_type": "stream",
     "text": [
      "**********************************************************************\n",
      "Relatório de Classificação para o Conjunto de AdaBoost :\n",
      "\n",
      "              precision    recall  f1-score   support\n",
      "\n",
      "           0       0.98      0.93      0.95       130\n",
      "           1       0.93      0.97      0.95       120\n",
      "\n",
      "    accuracy                           0.95       250\n",
      "   macro avg       0.95      0.95      0.95       250\n",
      "weighted avg       0.95      0.95      0.95       250\n",
      "\n",
      "**************************************************\n",
      "Matriz de Confusão para o Conjunto de AdaBoost :\n",
      "\n",
      "[[121   9]\n",
      " [  3 117]]\n",
      "**********************************************************************\n"
     ]
    }
   ],
   "source": [
    "y_pred = grid_search.predict(x_teste)\n",
    "avaliar_modelo(y_pred, y_teste, 'AdaBoost')"
   ]
  },
  {
   "cell_type": "markdown",
   "id": "e963ff9d",
   "metadata": {},
   "source": [
    "**WOOWW, ESSE FOI O MELHOR MODELO ATÉ AGORA**"
   ]
  },
  {
   "cell_type": "code",
   "execution_count": 62,
   "id": "1468480e",
   "metadata": {},
   "outputs": [
    {
     "data": {
      "text/html": [
       "<style>#sk-container-id-14 {color: black;background-color: white;}#sk-container-id-14 pre{padding: 0;}#sk-container-id-14 div.sk-toggleable {background-color: white;}#sk-container-id-14 label.sk-toggleable__label {cursor: pointer;display: block;width: 100%;margin-bottom: 0;padding: 0.3em;box-sizing: border-box;text-align: center;}#sk-container-id-14 label.sk-toggleable__label-arrow:before {content: \"▸\";float: left;margin-right: 0.25em;color: #696969;}#sk-container-id-14 label.sk-toggleable__label-arrow:hover:before {color: black;}#sk-container-id-14 div.sk-estimator:hover label.sk-toggleable__label-arrow:before {color: black;}#sk-container-id-14 div.sk-toggleable__content {max-height: 0;max-width: 0;overflow: hidden;text-align: left;background-color: #f0f8ff;}#sk-container-id-14 div.sk-toggleable__content pre {margin: 0.2em;color: black;border-radius: 0.25em;background-color: #f0f8ff;}#sk-container-id-14 input.sk-toggleable__control:checked~div.sk-toggleable__content {max-height: 200px;max-width: 100%;overflow: auto;}#sk-container-id-14 input.sk-toggleable__control:checked~label.sk-toggleable__label-arrow:before {content: \"▾\";}#sk-container-id-14 div.sk-estimator input.sk-toggleable__control:checked~label.sk-toggleable__label {background-color: #d4ebff;}#sk-container-id-14 div.sk-label input.sk-toggleable__control:checked~label.sk-toggleable__label {background-color: #d4ebff;}#sk-container-id-14 input.sk-hidden--visually {border: 0;clip: rect(1px 1px 1px 1px);clip: rect(1px, 1px, 1px, 1px);height: 1px;margin: -1px;overflow: hidden;padding: 0;position: absolute;width: 1px;}#sk-container-id-14 div.sk-estimator {font-family: monospace;background-color: #f0f8ff;border: 1px dotted black;border-radius: 0.25em;box-sizing: border-box;margin-bottom: 0.5em;}#sk-container-id-14 div.sk-estimator:hover {background-color: #d4ebff;}#sk-container-id-14 div.sk-parallel-item::after {content: \"\";width: 100%;border-bottom: 1px solid gray;flex-grow: 1;}#sk-container-id-14 div.sk-label:hover label.sk-toggleable__label {background-color: #d4ebff;}#sk-container-id-14 div.sk-serial::before {content: \"\";position: absolute;border-left: 1px solid gray;box-sizing: border-box;top: 0;bottom: 0;left: 50%;z-index: 0;}#sk-container-id-14 div.sk-serial {display: flex;flex-direction: column;align-items: center;background-color: white;padding-right: 0.2em;padding-left: 0.2em;position: relative;}#sk-container-id-14 div.sk-item {position: relative;z-index: 1;}#sk-container-id-14 div.sk-parallel {display: flex;align-items: stretch;justify-content: center;background-color: white;position: relative;}#sk-container-id-14 div.sk-item::before, #sk-container-id-14 div.sk-parallel-item::before {content: \"\";position: absolute;border-left: 1px solid gray;box-sizing: border-box;top: 0;bottom: 0;left: 50%;z-index: -1;}#sk-container-id-14 div.sk-parallel-item {display: flex;flex-direction: column;z-index: 1;position: relative;background-color: white;}#sk-container-id-14 div.sk-parallel-item:first-child::after {align-self: flex-end;width: 50%;}#sk-container-id-14 div.sk-parallel-item:last-child::after {align-self: flex-start;width: 50%;}#sk-container-id-14 div.sk-parallel-item:only-child::after {width: 0;}#sk-container-id-14 div.sk-dashed-wrapped {border: 1px dashed gray;margin: 0 0.4em 0.5em 0.4em;box-sizing: border-box;padding-bottom: 0.4em;background-color: white;}#sk-container-id-14 div.sk-label label {font-family: monospace;font-weight: bold;display: inline-block;line-height: 1.2em;}#sk-container-id-14 div.sk-label-container {text-align: center;}#sk-container-id-14 div.sk-container {/* jupyter's `normalize.less` sets `[hidden] { display: none; }` but bootstrap.min.css set `[hidden] { display: none !important; }` so we also need the `!important` here to be able to override the default hidden behavior on the sphinx rendered scikit-learn.org. See: https://github.com/scikit-learn/scikit-learn/issues/21755 */display: inline-block !important;position: relative;}#sk-container-id-14 div.sk-text-repr-fallback {display: none;}</style><div id=\"sk-container-id-14\" class=\"sk-top-container\"><div class=\"sk-text-repr-fallback\"><pre>GridSearchCV(cv=StratifiedKFold(n_splits=10, random_state=5, shuffle=True),\n",
       "             estimator=&lt;catboost.core.CatBoostClassifier object at 0x00000238D394C890&gt;,\n",
       "             n_jobs=-1,\n",
       "             param_grid={&#x27;depth&#x27;: [4, 6, 8], &#x27;iterations&#x27;: [100, 200, 300],\n",
       "                         &#x27;learning_rate&#x27;: [0.1, 0.01, 0.001]},\n",
       "             scoring=&#x27;accuracy&#x27;)</pre><b>In a Jupyter environment, please rerun this cell to show the HTML representation or trust the notebook. <br />On GitHub, the HTML representation is unable to render, please try loading this page with nbviewer.org.</b></div><div class=\"sk-container\" hidden><div class=\"sk-item sk-dashed-wrapped\"><div class=\"sk-label-container\"><div class=\"sk-label sk-toggleable\"><input class=\"sk-toggleable__control sk-hidden--visually\" id=\"sk-estimator-id-49\" type=\"checkbox\" ><label for=\"sk-estimator-id-49\" class=\"sk-toggleable__label sk-toggleable__label-arrow\">GridSearchCV</label><div class=\"sk-toggleable__content\"><pre>GridSearchCV(cv=StratifiedKFold(n_splits=10, random_state=5, shuffle=True),\n",
       "             estimator=&lt;catboost.core.CatBoostClassifier object at 0x00000238D394C890&gt;,\n",
       "             n_jobs=-1,\n",
       "             param_grid={&#x27;depth&#x27;: [4, 6, 8], &#x27;iterations&#x27;: [100, 200, 300],\n",
       "                         &#x27;learning_rate&#x27;: [0.1, 0.01, 0.001]},\n",
       "             scoring=&#x27;accuracy&#x27;)</pre></div></div></div><div class=\"sk-parallel\"><div class=\"sk-parallel-item\"><div class=\"sk-item\"><div class=\"sk-label-container\"><div class=\"sk-label sk-toggleable\"><input class=\"sk-toggleable__control sk-hidden--visually\" id=\"sk-estimator-id-50\" type=\"checkbox\" ><label for=\"sk-estimator-id-50\" class=\"sk-toggleable__label sk-toggleable__label-arrow\">estimator: CatBoostClassifier</label><div class=\"sk-toggleable__content\"><pre>&lt;catboost.core.CatBoostClassifier object at 0x00000238D394C890&gt;</pre></div></div></div><div class=\"sk-serial\"><div class=\"sk-item\"><div class=\"sk-estimator sk-toggleable\"><input class=\"sk-toggleable__control sk-hidden--visually\" id=\"sk-estimator-id-51\" type=\"checkbox\" ><label for=\"sk-estimator-id-51\" class=\"sk-toggleable__label sk-toggleable__label-arrow\">CatBoostClassifier</label><div class=\"sk-toggleable__content\"><pre>&lt;catboost.core.CatBoostClassifier object at 0x00000238D394C890&gt;</pre></div></div></div></div></div></div></div></div></div></div>"
      ],
      "text/plain": [
       "GridSearchCV(cv=StratifiedKFold(n_splits=10, random_state=5, shuffle=True),\n",
       "             estimator=<catboost.core.CatBoostClassifier object at 0x00000238D394C890>,\n",
       "             n_jobs=-1,\n",
       "             param_grid={'depth': [4, 6, 8], 'iterations': [100, 200, 300],\n",
       "                         'learning_rate': [0.1, 0.01, 0.001]},\n",
       "             scoring='accuracy')"
      ]
     },
     "execution_count": 62,
     "metadata": {},
     "output_type": "execute_result"
    }
   ],
   "source": [
    "from catboost import CatBoostClassifier\n",
    "\n",
    "param_grid = {\n",
    "'iterations': [100, 200,300],\n",
    "'depth': [4,6,8],\n",
    "'learning_rate': [0.1,0.01,0.001]\n",
    "}\n",
    "\n",
    "grid_search = GridSearchCV(estimator=CatBoostClassifier(verbose=0), # verbose é para não mostrar warning e outras saidas do algoritmo\n",
    "                           param_grid = param_grid, \n",
    "                           cv=skf,\n",
    "                           scoring='accuracy',\n",
    "                           n_jobs=-1)\n",
    "grid_search.fit(x_treino, y_treino)"
   ]
  },
  {
   "cell_type": "code",
   "execution_count": 63,
   "id": "399c2bed",
   "metadata": {},
   "outputs": [
    {
     "name": "stdout",
     "output_type": "stream",
     "text": [
      "{'depth': 6, 'iterations': 300, 'learning_rate': 0.1}\n",
      "0.9600000000000002\n"
     ]
    }
   ],
   "source": [
    "# Obter a melhor combinação de parâmetros encontrada pelo GridSearchCV\n",
    "melhores_parametros = grid_search.best_params_\n",
    "print(melhores_parametros)\n",
    "\n",
    "print(grid_search.best_score_)"
   ]
  },
  {
   "cell_type": "code",
   "execution_count": 64,
   "id": "758f6be8",
   "metadata": {},
   "outputs": [
    {
     "name": "stdout",
     "output_type": "stream",
     "text": [
      "**********************************************************************\n",
      "Relatório de Classificação para o Conjunto de AdaBoost :\n",
      "\n",
      "              precision    recall  f1-score   support\n",
      "\n",
      "           0       0.96      0.92      0.94       129\n",
      "           1       0.92      0.96      0.94       121\n",
      "\n",
      "    accuracy                           0.94       250\n",
      "   macro avg       0.94      0.94      0.94       250\n",
      "weighted avg       0.94      0.94      0.94       250\n",
      "\n",
      "**************************************************\n",
      "Matriz de Confusão para o Conjunto de AdaBoost :\n",
      "\n",
      "[[119  10]\n",
      " [  5 116]]\n",
      "**********************************************************************\n"
     ]
    }
   ],
   "source": [
    "y_pred = grid_search.predict(x_teste)\n",
    "avaliar_modelo(y_pred, y_teste, 'AdaBoost')"
   ]
  },
  {
   "cell_type": "markdown",
   "id": "7c338e26",
   "metadata": {},
   "source": [
    "# Stacking\n",
    "\n",
    "É um metodo semelhante ao voting, possibilita combinar tantos modelos simples e modelos complexos.\n",
    "\n",
    "O StackingClassifier à primeira vista parece bastante com o método de votação. Porém, essa técnica utiliza um meta-classificador na combinação do resultado de uma série de modelos de base. Primeiro, um conjunto de modelos de aprendizado de máquina, conhecidos como modelos base ou de nível 0, são treinados independentemente nos mesmos dados de treino. Estes modelos podem ser de tipos variados, como árvores de decisão, regressão logística, SVMs, etc., e cada um fará suas próprias previsões. As previsões dos modelos base são então usadas como entrada para criar um novo conjunto de treinamento. Este conjunto é construído de tal forma que as saídas dos modelos base tornam-se características que alimentam o próximo nível do stacking.\n",
    "\n",
    "Em seguida, um meta-modelo, também conhecido como modelo de nível 1, é treinado neste novo conjunto de dados. O trabalho do meta-modelo é aprender como combinar melhor as previsões dos modelos base para fazer uma previsão final. O meta-modelo pode ser um modelo diferente dos modelos base ou até mesmo o mesmo tipo, mas é treinado para focar em como integrar as informações dos modelos base ao invés de aprender diretamente dos dados originais.\n",
    "\n",
    "O que torna o stacking tão poderoso é que ele pode capturar os pontos fortes de cada modelo base e, ao mesmo tempo, compensar suas fraquezas, resultando em um modelo composto que é frequentemente mais preciso e robusto do que qualquer um dos modelos individuais. Porém, é importante notar que o stacking pode ser computacionalmente intensivo e corre o risco de overfitting, especialmente se o número de modelos base for grande ou se os modelos forem altamente correlacionados. Portanto, uma seleção cuidadosa dos modelos base e do meta-modelo é essencial para o sucesso desta técnica."
   ]
  },
  {
   "cell_type": "markdown",
   "id": "d8f96f22",
   "metadata": {},
   "source": [
    "## Combinação de modelos simples"
   ]
  },
  {
   "cell_type": "code",
   "execution_count": 68,
   "id": "79b48eaf",
   "metadata": {},
   "outputs": [
    {
     "data": {
      "text/plain": [
       "[('Árvores',\n",
       "  Pipeline(steps=[('scaler', StandardScaler()),\n",
       "                  ('model', DecisionTreeClassifier(max_depth=3, random_state=5))])),\n",
       " ('Logística',\n",
       "  Pipeline(steps=[('scaler', StandardScaler()),\n",
       "                  ('model', LogisticRegression(random_state=1))])),\n",
       " ('Naive Bayes',\n",
       "  Pipeline(steps=[('scaler', StandardScaler()), ('model', GaussianNB())]))]"
      ]
     },
     "execution_count": 68,
     "metadata": {},
     "output_type": "execute_result"
    }
   ],
   "source": [
    "from sklearn.ensemble import StackingClassifier\n",
    "\n",
    "# Instanciando modelos\n",
    "modelos_base = [\n",
    "    (nome_modelos[0], pipelines[0]),\n",
    "    (nome_modelos[1], pipelines[1]),\n",
    "    (nome_modelos[2], pipelines[2])\n",
    "    ]\n",
    "modelos_base"
   ]
  },
  {
   "cell_type": "code",
   "execution_count": 69,
   "id": "051b0798",
   "metadata": {},
   "outputs": [
    {
     "data": {
      "text/html": [
       "<style>#sk-container-id-16 {color: black;background-color: white;}#sk-container-id-16 pre{padding: 0;}#sk-container-id-16 div.sk-toggleable {background-color: white;}#sk-container-id-16 label.sk-toggleable__label {cursor: pointer;display: block;width: 100%;margin-bottom: 0;padding: 0.3em;box-sizing: border-box;text-align: center;}#sk-container-id-16 label.sk-toggleable__label-arrow:before {content: \"▸\";float: left;margin-right: 0.25em;color: #696969;}#sk-container-id-16 label.sk-toggleable__label-arrow:hover:before {color: black;}#sk-container-id-16 div.sk-estimator:hover label.sk-toggleable__label-arrow:before {color: black;}#sk-container-id-16 div.sk-toggleable__content {max-height: 0;max-width: 0;overflow: hidden;text-align: left;background-color: #f0f8ff;}#sk-container-id-16 div.sk-toggleable__content pre {margin: 0.2em;color: black;border-radius: 0.25em;background-color: #f0f8ff;}#sk-container-id-16 input.sk-toggleable__control:checked~div.sk-toggleable__content {max-height: 200px;max-width: 100%;overflow: auto;}#sk-container-id-16 input.sk-toggleable__control:checked~label.sk-toggleable__label-arrow:before {content: \"▾\";}#sk-container-id-16 div.sk-estimator input.sk-toggleable__control:checked~label.sk-toggleable__label {background-color: #d4ebff;}#sk-container-id-16 div.sk-label input.sk-toggleable__control:checked~label.sk-toggleable__label {background-color: #d4ebff;}#sk-container-id-16 input.sk-hidden--visually {border: 0;clip: rect(1px 1px 1px 1px);clip: rect(1px, 1px, 1px, 1px);height: 1px;margin: -1px;overflow: hidden;padding: 0;position: absolute;width: 1px;}#sk-container-id-16 div.sk-estimator {font-family: monospace;background-color: #f0f8ff;border: 1px dotted black;border-radius: 0.25em;box-sizing: border-box;margin-bottom: 0.5em;}#sk-container-id-16 div.sk-estimator:hover {background-color: #d4ebff;}#sk-container-id-16 div.sk-parallel-item::after {content: \"\";width: 100%;border-bottom: 1px solid gray;flex-grow: 1;}#sk-container-id-16 div.sk-label:hover label.sk-toggleable__label {background-color: #d4ebff;}#sk-container-id-16 div.sk-serial::before {content: \"\";position: absolute;border-left: 1px solid gray;box-sizing: border-box;top: 0;bottom: 0;left: 50%;z-index: 0;}#sk-container-id-16 div.sk-serial {display: flex;flex-direction: column;align-items: center;background-color: white;padding-right: 0.2em;padding-left: 0.2em;position: relative;}#sk-container-id-16 div.sk-item {position: relative;z-index: 1;}#sk-container-id-16 div.sk-parallel {display: flex;align-items: stretch;justify-content: center;background-color: white;position: relative;}#sk-container-id-16 div.sk-item::before, #sk-container-id-16 div.sk-parallel-item::before {content: \"\";position: absolute;border-left: 1px solid gray;box-sizing: border-box;top: 0;bottom: 0;left: 50%;z-index: -1;}#sk-container-id-16 div.sk-parallel-item {display: flex;flex-direction: column;z-index: 1;position: relative;background-color: white;}#sk-container-id-16 div.sk-parallel-item:first-child::after {align-self: flex-end;width: 50%;}#sk-container-id-16 div.sk-parallel-item:last-child::after {align-self: flex-start;width: 50%;}#sk-container-id-16 div.sk-parallel-item:only-child::after {width: 0;}#sk-container-id-16 div.sk-dashed-wrapped {border: 1px dashed gray;margin: 0 0.4em 0.5em 0.4em;box-sizing: border-box;padding-bottom: 0.4em;background-color: white;}#sk-container-id-16 div.sk-label label {font-family: monospace;font-weight: bold;display: inline-block;line-height: 1.2em;}#sk-container-id-16 div.sk-label-container {text-align: center;}#sk-container-id-16 div.sk-container {/* jupyter's `normalize.less` sets `[hidden] { display: none; }` but bootstrap.min.css set `[hidden] { display: none !important; }` so we also need the `!important` here to be able to override the default hidden behavior on the sphinx rendered scikit-learn.org. See: https://github.com/scikit-learn/scikit-learn/issues/21755 */display: inline-block !important;position: relative;}#sk-container-id-16 div.sk-text-repr-fallback {display: none;}</style><div id=\"sk-container-id-16\" class=\"sk-top-container\"><div class=\"sk-text-repr-fallback\"><pre>LogisticRegression(random_state=3141592)</pre><b>In a Jupyter environment, please rerun this cell to show the HTML representation or trust the notebook. <br />On GitHub, the HTML representation is unable to render, please try loading this page with nbviewer.org.</b></div><div class=\"sk-container\" hidden><div class=\"sk-item\"><div class=\"sk-estimator sk-toggleable\"><input class=\"sk-toggleable__control sk-hidden--visually\" id=\"sk-estimator-id-53\" type=\"checkbox\" checked><label for=\"sk-estimator-id-53\" class=\"sk-toggleable__label sk-toggleable__label-arrow\">LogisticRegression</label><div class=\"sk-toggleable__content\"><pre>LogisticRegression(random_state=3141592)</pre></div></div></div></div></div>"
      ],
      "text/plain": [
       "LogisticRegression(random_state=3141592)"
      ]
     },
     "execution_count": 69,
     "metadata": {},
     "output_type": "execute_result"
    }
   ],
   "source": [
    "modelo_meta = LogisticRegression(random_state=RANDOM_STATE)\n",
    "modelo_meta"
   ]
  },
  {
   "cell_type": "code",
   "execution_count": 70,
   "id": "9ee3190f",
   "metadata": {},
   "outputs": [
    {
     "data": {
      "text/html": [
       "<style>#sk-container-id-17 {color: black;background-color: white;}#sk-container-id-17 pre{padding: 0;}#sk-container-id-17 div.sk-toggleable {background-color: white;}#sk-container-id-17 label.sk-toggleable__label {cursor: pointer;display: block;width: 100%;margin-bottom: 0;padding: 0.3em;box-sizing: border-box;text-align: center;}#sk-container-id-17 label.sk-toggleable__label-arrow:before {content: \"▸\";float: left;margin-right: 0.25em;color: #696969;}#sk-container-id-17 label.sk-toggleable__label-arrow:hover:before {color: black;}#sk-container-id-17 div.sk-estimator:hover label.sk-toggleable__label-arrow:before {color: black;}#sk-container-id-17 div.sk-toggleable__content {max-height: 0;max-width: 0;overflow: hidden;text-align: left;background-color: #f0f8ff;}#sk-container-id-17 div.sk-toggleable__content pre {margin: 0.2em;color: black;border-radius: 0.25em;background-color: #f0f8ff;}#sk-container-id-17 input.sk-toggleable__control:checked~div.sk-toggleable__content {max-height: 200px;max-width: 100%;overflow: auto;}#sk-container-id-17 input.sk-toggleable__control:checked~label.sk-toggleable__label-arrow:before {content: \"▾\";}#sk-container-id-17 div.sk-estimator input.sk-toggleable__control:checked~label.sk-toggleable__label {background-color: #d4ebff;}#sk-container-id-17 div.sk-label input.sk-toggleable__control:checked~label.sk-toggleable__label {background-color: #d4ebff;}#sk-container-id-17 input.sk-hidden--visually {border: 0;clip: rect(1px 1px 1px 1px);clip: rect(1px, 1px, 1px, 1px);height: 1px;margin: -1px;overflow: hidden;padding: 0;position: absolute;width: 1px;}#sk-container-id-17 div.sk-estimator {font-family: monospace;background-color: #f0f8ff;border: 1px dotted black;border-radius: 0.25em;box-sizing: border-box;margin-bottom: 0.5em;}#sk-container-id-17 div.sk-estimator:hover {background-color: #d4ebff;}#sk-container-id-17 div.sk-parallel-item::after {content: \"\";width: 100%;border-bottom: 1px solid gray;flex-grow: 1;}#sk-container-id-17 div.sk-label:hover label.sk-toggleable__label {background-color: #d4ebff;}#sk-container-id-17 div.sk-serial::before {content: \"\";position: absolute;border-left: 1px solid gray;box-sizing: border-box;top: 0;bottom: 0;left: 50%;z-index: 0;}#sk-container-id-17 div.sk-serial {display: flex;flex-direction: column;align-items: center;background-color: white;padding-right: 0.2em;padding-left: 0.2em;position: relative;}#sk-container-id-17 div.sk-item {position: relative;z-index: 1;}#sk-container-id-17 div.sk-parallel {display: flex;align-items: stretch;justify-content: center;background-color: white;position: relative;}#sk-container-id-17 div.sk-item::before, #sk-container-id-17 div.sk-parallel-item::before {content: \"\";position: absolute;border-left: 1px solid gray;box-sizing: border-box;top: 0;bottom: 0;left: 50%;z-index: -1;}#sk-container-id-17 div.sk-parallel-item {display: flex;flex-direction: column;z-index: 1;position: relative;background-color: white;}#sk-container-id-17 div.sk-parallel-item:first-child::after {align-self: flex-end;width: 50%;}#sk-container-id-17 div.sk-parallel-item:last-child::after {align-self: flex-start;width: 50%;}#sk-container-id-17 div.sk-parallel-item:only-child::after {width: 0;}#sk-container-id-17 div.sk-dashed-wrapped {border: 1px dashed gray;margin: 0 0.4em 0.5em 0.4em;box-sizing: border-box;padding-bottom: 0.4em;background-color: white;}#sk-container-id-17 div.sk-label label {font-family: monospace;font-weight: bold;display: inline-block;line-height: 1.2em;}#sk-container-id-17 div.sk-label-container {text-align: center;}#sk-container-id-17 div.sk-container {/* jupyter's `normalize.less` sets `[hidden] { display: none; }` but bootstrap.min.css set `[hidden] { display: none !important; }` so we also need the `!important` here to be able to override the default hidden behavior on the sphinx rendered scikit-learn.org. See: https://github.com/scikit-learn/scikit-learn/issues/21755 */display: inline-block !important;position: relative;}#sk-container-id-17 div.sk-text-repr-fallback {display: none;}</style><div id=\"sk-container-id-17\" class=\"sk-top-container\"><div class=\"sk-text-repr-fallback\"><pre>StackingClassifier(estimators=[(&#x27;Árvores&#x27;,\n",
       "                                Pipeline(steps=[(&#x27;scaler&#x27;, StandardScaler()),\n",
       "                                                (&#x27;model&#x27;,\n",
       "                                                 DecisionTreeClassifier(max_depth=3,\n",
       "                                                                        random_state=5))])),\n",
       "                               (&#x27;Logística&#x27;,\n",
       "                                Pipeline(steps=[(&#x27;scaler&#x27;, StandardScaler()),\n",
       "                                                (&#x27;model&#x27;,\n",
       "                                                 LogisticRegression(random_state=1))])),\n",
       "                               (&#x27;Naive Bayes&#x27;,\n",
       "                                Pipeline(steps=[(&#x27;scaler&#x27;, StandardScaler()),\n",
       "                                                (&#x27;model&#x27;, GaussianNB())]))],\n",
       "                   final_estimator=LogisticRegression(random_state=3141592))</pre><b>In a Jupyter environment, please rerun this cell to show the HTML representation or trust the notebook. <br />On GitHub, the HTML representation is unable to render, please try loading this page with nbviewer.org.</b></div><div class=\"sk-container\" hidden><div class=\"sk-item sk-dashed-wrapped\"><div class=\"sk-label-container\"><div class=\"sk-label sk-toggleable\"><input class=\"sk-toggleable__control sk-hidden--visually\" id=\"sk-estimator-id-54\" type=\"checkbox\" ><label for=\"sk-estimator-id-54\" class=\"sk-toggleable__label sk-toggleable__label-arrow\">StackingClassifier</label><div class=\"sk-toggleable__content\"><pre>StackingClassifier(estimators=[(&#x27;Árvores&#x27;,\n",
       "                                Pipeline(steps=[(&#x27;scaler&#x27;, StandardScaler()),\n",
       "                                                (&#x27;model&#x27;,\n",
       "                                                 DecisionTreeClassifier(max_depth=3,\n",
       "                                                                        random_state=5))])),\n",
       "                               (&#x27;Logística&#x27;,\n",
       "                                Pipeline(steps=[(&#x27;scaler&#x27;, StandardScaler()),\n",
       "                                                (&#x27;model&#x27;,\n",
       "                                                 LogisticRegression(random_state=1))])),\n",
       "                               (&#x27;Naive Bayes&#x27;,\n",
       "                                Pipeline(steps=[(&#x27;scaler&#x27;, StandardScaler()),\n",
       "                                                (&#x27;model&#x27;, GaussianNB())]))],\n",
       "                   final_estimator=LogisticRegression(random_state=3141592))</pre></div></div></div><div class=\"sk-serial\"><div class=\"sk-item\"><div class=\"sk-parallel\"><div class=\"sk-parallel-item\"><div class=\"sk-item\"><div class=\"sk-label-container\"><div class=\"sk-label sk-toggleable\"><label>Árvores</label></div></div><div class=\"sk-serial\"><div class=\"sk-item\"><div class=\"sk-serial\"><div class=\"sk-item\"><div class=\"sk-estimator sk-toggleable\"><input class=\"sk-toggleable__control sk-hidden--visually\" id=\"sk-estimator-id-55\" type=\"checkbox\" ><label for=\"sk-estimator-id-55\" class=\"sk-toggleable__label sk-toggleable__label-arrow\">StandardScaler</label><div class=\"sk-toggleable__content\"><pre>StandardScaler()</pre></div></div></div><div class=\"sk-item\"><div class=\"sk-estimator sk-toggleable\"><input class=\"sk-toggleable__control sk-hidden--visually\" id=\"sk-estimator-id-56\" type=\"checkbox\" ><label for=\"sk-estimator-id-56\" class=\"sk-toggleable__label sk-toggleable__label-arrow\">DecisionTreeClassifier</label><div class=\"sk-toggleable__content\"><pre>DecisionTreeClassifier(max_depth=3, random_state=5)</pre></div></div></div></div></div></div></div></div><div class=\"sk-parallel-item\"><div class=\"sk-item\"><div class=\"sk-label-container\"><div class=\"sk-label sk-toggleable\"><label>Logística</label></div></div><div class=\"sk-serial\"><div class=\"sk-item\"><div class=\"sk-serial\"><div class=\"sk-item\"><div class=\"sk-estimator sk-toggleable\"><input class=\"sk-toggleable__control sk-hidden--visually\" id=\"sk-estimator-id-57\" type=\"checkbox\" ><label for=\"sk-estimator-id-57\" class=\"sk-toggleable__label sk-toggleable__label-arrow\">StandardScaler</label><div class=\"sk-toggleable__content\"><pre>StandardScaler()</pre></div></div></div><div class=\"sk-item\"><div class=\"sk-estimator sk-toggleable\"><input class=\"sk-toggleable__control sk-hidden--visually\" id=\"sk-estimator-id-58\" type=\"checkbox\" ><label for=\"sk-estimator-id-58\" class=\"sk-toggleable__label sk-toggleable__label-arrow\">LogisticRegression</label><div class=\"sk-toggleable__content\"><pre>LogisticRegression(random_state=1)</pre></div></div></div></div></div></div></div></div><div class=\"sk-parallel-item\"><div class=\"sk-item\"><div class=\"sk-label-container\"><div class=\"sk-label sk-toggleable\"><label>Naive Bayes</label></div></div><div class=\"sk-serial\"><div class=\"sk-item\"><div class=\"sk-serial\"><div class=\"sk-item\"><div class=\"sk-estimator sk-toggleable\"><input class=\"sk-toggleable__control sk-hidden--visually\" id=\"sk-estimator-id-59\" type=\"checkbox\" ><label for=\"sk-estimator-id-59\" class=\"sk-toggleable__label sk-toggleable__label-arrow\">StandardScaler</label><div class=\"sk-toggleable__content\"><pre>StandardScaler()</pre></div></div></div><div class=\"sk-item\"><div class=\"sk-estimator sk-toggleable\"><input class=\"sk-toggleable__control sk-hidden--visually\" id=\"sk-estimator-id-60\" type=\"checkbox\" ><label for=\"sk-estimator-id-60\" class=\"sk-toggleable__label sk-toggleable__label-arrow\">GaussianNB</label><div class=\"sk-toggleable__content\"><pre>GaussianNB()</pre></div></div></div></div></div></div></div></div></div></div><div class=\"sk-item\"><div class=\"sk-parallel\"><div class=\"sk-parallel-item\"><div class=\"sk-item\"><div class=\"sk-label-container\"><div class=\"sk-label sk-toggleable\"><label>final_estimator</label></div></div><div class=\"sk-serial\"><div class=\"sk-item\"><div class=\"sk-estimator sk-toggleable\"><input class=\"sk-toggleable__control sk-hidden--visually\" id=\"sk-estimator-id-61\" type=\"checkbox\" ><label for=\"sk-estimator-id-61\" class=\"sk-toggleable__label sk-toggleable__label-arrow\">LogisticRegression</label><div class=\"sk-toggleable__content\"><pre>LogisticRegression(random_state=3141592)</pre></div></div></div></div></div></div></div></div></div></div></div></div>"
      ],
      "text/plain": [
       "StackingClassifier(estimators=[('Árvores',\n",
       "                                Pipeline(steps=[('scaler', StandardScaler()),\n",
       "                                                ('model',\n",
       "                                                 DecisionTreeClassifier(max_depth=3,\n",
       "                                                                        random_state=5))])),\n",
       "                               ('Logística',\n",
       "                                Pipeline(steps=[('scaler', StandardScaler()),\n",
       "                                                ('model',\n",
       "                                                 LogisticRegression(random_state=1))])),\n",
       "                               ('Naive Bayes',\n",
       "                                Pipeline(steps=[('scaler', StandardScaler()),\n",
       "                                                ('model', GaussianNB())]))],\n",
       "                   final_estimator=LogisticRegression(random_state=3141592))"
      ]
     },
     "execution_count": 70,
     "metadata": {},
     "output_type": "execute_result"
    }
   ],
   "source": [
    "stacking_classifier = StackingClassifier(estimators=modelos_base,\n",
    "                                         final_estimator=modelo_meta)\n",
    "stacking_classifier"
   ]
  },
  {
   "cell_type": "markdown",
   "id": "5e399232",
   "metadata": {},
   "source": [
    "Temos uma estrutura parecida com o voting, com os três modelos combinados em um único resultado, mas esse único resultado é pego por um estimador final, mostrado na figura acima, e esta figura mostra que o modelo combina, entende, aprende com o resultado final dado pelos três modelos."
   ]
  },
  {
   "cell_type": "code",
   "execution_count": 71,
   "id": "90277108",
   "metadata": {},
   "outputs": [
    {
     "data": {
      "text/html": [
       "<style>#sk-container-id-18 {color: black;background-color: white;}#sk-container-id-18 pre{padding: 0;}#sk-container-id-18 div.sk-toggleable {background-color: white;}#sk-container-id-18 label.sk-toggleable__label {cursor: pointer;display: block;width: 100%;margin-bottom: 0;padding: 0.3em;box-sizing: border-box;text-align: center;}#sk-container-id-18 label.sk-toggleable__label-arrow:before {content: \"▸\";float: left;margin-right: 0.25em;color: #696969;}#sk-container-id-18 label.sk-toggleable__label-arrow:hover:before {color: black;}#sk-container-id-18 div.sk-estimator:hover label.sk-toggleable__label-arrow:before {color: black;}#sk-container-id-18 div.sk-toggleable__content {max-height: 0;max-width: 0;overflow: hidden;text-align: left;background-color: #f0f8ff;}#sk-container-id-18 div.sk-toggleable__content pre {margin: 0.2em;color: black;border-radius: 0.25em;background-color: #f0f8ff;}#sk-container-id-18 input.sk-toggleable__control:checked~div.sk-toggleable__content {max-height: 200px;max-width: 100%;overflow: auto;}#sk-container-id-18 input.sk-toggleable__control:checked~label.sk-toggleable__label-arrow:before {content: \"▾\";}#sk-container-id-18 div.sk-estimator input.sk-toggleable__control:checked~label.sk-toggleable__label {background-color: #d4ebff;}#sk-container-id-18 div.sk-label input.sk-toggleable__control:checked~label.sk-toggleable__label {background-color: #d4ebff;}#sk-container-id-18 input.sk-hidden--visually {border: 0;clip: rect(1px 1px 1px 1px);clip: rect(1px, 1px, 1px, 1px);height: 1px;margin: -1px;overflow: hidden;padding: 0;position: absolute;width: 1px;}#sk-container-id-18 div.sk-estimator {font-family: monospace;background-color: #f0f8ff;border: 1px dotted black;border-radius: 0.25em;box-sizing: border-box;margin-bottom: 0.5em;}#sk-container-id-18 div.sk-estimator:hover {background-color: #d4ebff;}#sk-container-id-18 div.sk-parallel-item::after {content: \"\";width: 100%;border-bottom: 1px solid gray;flex-grow: 1;}#sk-container-id-18 div.sk-label:hover label.sk-toggleable__label {background-color: #d4ebff;}#sk-container-id-18 div.sk-serial::before {content: \"\";position: absolute;border-left: 1px solid gray;box-sizing: border-box;top: 0;bottom: 0;left: 50%;z-index: 0;}#sk-container-id-18 div.sk-serial {display: flex;flex-direction: column;align-items: center;background-color: white;padding-right: 0.2em;padding-left: 0.2em;position: relative;}#sk-container-id-18 div.sk-item {position: relative;z-index: 1;}#sk-container-id-18 div.sk-parallel {display: flex;align-items: stretch;justify-content: center;background-color: white;position: relative;}#sk-container-id-18 div.sk-item::before, #sk-container-id-18 div.sk-parallel-item::before {content: \"\";position: absolute;border-left: 1px solid gray;box-sizing: border-box;top: 0;bottom: 0;left: 50%;z-index: -1;}#sk-container-id-18 div.sk-parallel-item {display: flex;flex-direction: column;z-index: 1;position: relative;background-color: white;}#sk-container-id-18 div.sk-parallel-item:first-child::after {align-self: flex-end;width: 50%;}#sk-container-id-18 div.sk-parallel-item:last-child::after {align-self: flex-start;width: 50%;}#sk-container-id-18 div.sk-parallel-item:only-child::after {width: 0;}#sk-container-id-18 div.sk-dashed-wrapped {border: 1px dashed gray;margin: 0 0.4em 0.5em 0.4em;box-sizing: border-box;padding-bottom: 0.4em;background-color: white;}#sk-container-id-18 div.sk-label label {font-family: monospace;font-weight: bold;display: inline-block;line-height: 1.2em;}#sk-container-id-18 div.sk-label-container {text-align: center;}#sk-container-id-18 div.sk-container {/* jupyter's `normalize.less` sets `[hidden] { display: none; }` but bootstrap.min.css set `[hidden] { display: none !important; }` so we also need the `!important` here to be able to override the default hidden behavior on the sphinx rendered scikit-learn.org. See: https://github.com/scikit-learn/scikit-learn/issues/21755 */display: inline-block !important;position: relative;}#sk-container-id-18 div.sk-text-repr-fallback {display: none;}</style><div id=\"sk-container-id-18\" class=\"sk-top-container\"><div class=\"sk-text-repr-fallback\"><pre>StackingClassifier(estimators=[(&#x27;Árvores&#x27;,\n",
       "                                Pipeline(steps=[(&#x27;scaler&#x27;, StandardScaler()),\n",
       "                                                (&#x27;model&#x27;,\n",
       "                                                 DecisionTreeClassifier(max_depth=3,\n",
       "                                                                        random_state=5))])),\n",
       "                               (&#x27;Logística&#x27;,\n",
       "                                Pipeline(steps=[(&#x27;scaler&#x27;, StandardScaler()),\n",
       "                                                (&#x27;model&#x27;,\n",
       "                                                 LogisticRegression(random_state=1))])),\n",
       "                               (&#x27;Naive Bayes&#x27;,\n",
       "                                Pipeline(steps=[(&#x27;scaler&#x27;, StandardScaler()),\n",
       "                                                (&#x27;model&#x27;, GaussianNB())]))],\n",
       "                   final_estimator=LogisticRegression(random_state=3141592))</pre><b>In a Jupyter environment, please rerun this cell to show the HTML representation or trust the notebook. <br />On GitHub, the HTML representation is unable to render, please try loading this page with nbviewer.org.</b></div><div class=\"sk-container\" hidden><div class=\"sk-item sk-dashed-wrapped\"><div class=\"sk-label-container\"><div class=\"sk-label sk-toggleable\"><input class=\"sk-toggleable__control sk-hidden--visually\" id=\"sk-estimator-id-62\" type=\"checkbox\" ><label for=\"sk-estimator-id-62\" class=\"sk-toggleable__label sk-toggleable__label-arrow\">StackingClassifier</label><div class=\"sk-toggleable__content\"><pre>StackingClassifier(estimators=[(&#x27;Árvores&#x27;,\n",
       "                                Pipeline(steps=[(&#x27;scaler&#x27;, StandardScaler()),\n",
       "                                                (&#x27;model&#x27;,\n",
       "                                                 DecisionTreeClassifier(max_depth=3,\n",
       "                                                                        random_state=5))])),\n",
       "                               (&#x27;Logística&#x27;,\n",
       "                                Pipeline(steps=[(&#x27;scaler&#x27;, StandardScaler()),\n",
       "                                                (&#x27;model&#x27;,\n",
       "                                                 LogisticRegression(random_state=1))])),\n",
       "                               (&#x27;Naive Bayes&#x27;,\n",
       "                                Pipeline(steps=[(&#x27;scaler&#x27;, StandardScaler()),\n",
       "                                                (&#x27;model&#x27;, GaussianNB())]))],\n",
       "                   final_estimator=LogisticRegression(random_state=3141592))</pre></div></div></div><div class=\"sk-serial\"><div class=\"sk-item\"><div class=\"sk-parallel\"><div class=\"sk-parallel-item\"><div class=\"sk-item\"><div class=\"sk-label-container\"><div class=\"sk-label sk-toggleable\"><label>Árvores</label></div></div><div class=\"sk-serial\"><div class=\"sk-item\"><div class=\"sk-serial\"><div class=\"sk-item\"><div class=\"sk-estimator sk-toggleable\"><input class=\"sk-toggleable__control sk-hidden--visually\" id=\"sk-estimator-id-63\" type=\"checkbox\" ><label for=\"sk-estimator-id-63\" class=\"sk-toggleable__label sk-toggleable__label-arrow\">StandardScaler</label><div class=\"sk-toggleable__content\"><pre>StandardScaler()</pre></div></div></div><div class=\"sk-item\"><div class=\"sk-estimator sk-toggleable\"><input class=\"sk-toggleable__control sk-hidden--visually\" id=\"sk-estimator-id-64\" type=\"checkbox\" ><label for=\"sk-estimator-id-64\" class=\"sk-toggleable__label sk-toggleable__label-arrow\">DecisionTreeClassifier</label><div class=\"sk-toggleable__content\"><pre>DecisionTreeClassifier(max_depth=3, random_state=5)</pre></div></div></div></div></div></div></div></div><div class=\"sk-parallel-item\"><div class=\"sk-item\"><div class=\"sk-label-container\"><div class=\"sk-label sk-toggleable\"><label>Logística</label></div></div><div class=\"sk-serial\"><div class=\"sk-item\"><div class=\"sk-serial\"><div class=\"sk-item\"><div class=\"sk-estimator sk-toggleable\"><input class=\"sk-toggleable__control sk-hidden--visually\" id=\"sk-estimator-id-65\" type=\"checkbox\" ><label for=\"sk-estimator-id-65\" class=\"sk-toggleable__label sk-toggleable__label-arrow\">StandardScaler</label><div class=\"sk-toggleable__content\"><pre>StandardScaler()</pre></div></div></div><div class=\"sk-item\"><div class=\"sk-estimator sk-toggleable\"><input class=\"sk-toggleable__control sk-hidden--visually\" id=\"sk-estimator-id-66\" type=\"checkbox\" ><label for=\"sk-estimator-id-66\" class=\"sk-toggleable__label sk-toggleable__label-arrow\">LogisticRegression</label><div class=\"sk-toggleable__content\"><pre>LogisticRegression(random_state=1)</pre></div></div></div></div></div></div></div></div><div class=\"sk-parallel-item\"><div class=\"sk-item\"><div class=\"sk-label-container\"><div class=\"sk-label sk-toggleable\"><label>Naive Bayes</label></div></div><div class=\"sk-serial\"><div class=\"sk-item\"><div class=\"sk-serial\"><div class=\"sk-item\"><div class=\"sk-estimator sk-toggleable\"><input class=\"sk-toggleable__control sk-hidden--visually\" id=\"sk-estimator-id-67\" type=\"checkbox\" ><label for=\"sk-estimator-id-67\" class=\"sk-toggleable__label sk-toggleable__label-arrow\">StandardScaler</label><div class=\"sk-toggleable__content\"><pre>StandardScaler()</pre></div></div></div><div class=\"sk-item\"><div class=\"sk-estimator sk-toggleable\"><input class=\"sk-toggleable__control sk-hidden--visually\" id=\"sk-estimator-id-68\" type=\"checkbox\" ><label for=\"sk-estimator-id-68\" class=\"sk-toggleable__label sk-toggleable__label-arrow\">GaussianNB</label><div class=\"sk-toggleable__content\"><pre>GaussianNB()</pre></div></div></div></div></div></div></div></div></div></div><div class=\"sk-item\"><div class=\"sk-parallel\"><div class=\"sk-parallel-item\"><div class=\"sk-item\"><div class=\"sk-label-container\"><div class=\"sk-label sk-toggleable\"><label>final_estimator</label></div></div><div class=\"sk-serial\"><div class=\"sk-item\"><div class=\"sk-estimator sk-toggleable\"><input class=\"sk-toggleable__control sk-hidden--visually\" id=\"sk-estimator-id-69\" type=\"checkbox\" ><label for=\"sk-estimator-id-69\" class=\"sk-toggleable__label sk-toggleable__label-arrow\">LogisticRegression</label><div class=\"sk-toggleable__content\"><pre>LogisticRegression(random_state=3141592)</pre></div></div></div></div></div></div></div></div></div></div></div></div>"
      ],
      "text/plain": [
       "StackingClassifier(estimators=[('Árvores',\n",
       "                                Pipeline(steps=[('scaler', StandardScaler()),\n",
       "                                                ('model',\n",
       "                                                 DecisionTreeClassifier(max_depth=3,\n",
       "                                                                        random_state=5))])),\n",
       "                               ('Logística',\n",
       "                                Pipeline(steps=[('scaler', StandardScaler()),\n",
       "                                                ('model',\n",
       "                                                 LogisticRegression(random_state=1))])),\n",
       "                               ('Naive Bayes',\n",
       "                                Pipeline(steps=[('scaler', StandardScaler()),\n",
       "                                                ('model', GaussianNB())]))],\n",
       "                   final_estimator=LogisticRegression(random_state=3141592))"
      ]
     },
     "execution_count": 71,
     "metadata": {},
     "output_type": "execute_result"
    }
   ],
   "source": [
    "stacking_classifier.fit(x_treino, y_treino)"
   ]
  },
  {
   "cell_type": "code",
   "execution_count": 73,
   "id": "d5cf33c6",
   "metadata": {},
   "outputs": [
    {
     "name": "stdout",
     "output_type": "stream",
     "text": [
      "**********************************************************************\n",
      "Relatório de Classificação para o Conjunto de Stacking :\n",
      "\n",
      "              precision    recall  f1-score   support\n",
      "\n",
      "           0       0.93      0.87      0.90       132\n",
      "           1       0.87      0.92      0.89       118\n",
      "\n",
      "    accuracy                           0.90       250\n",
      "   macro avg       0.90      0.90      0.90       250\n",
      "weighted avg       0.90      0.90      0.90       250\n",
      "\n",
      "**************************************************\n",
      "Matriz de Confusão para o Conjunto de Stacking :\n",
      "\n",
      "[[115  17]\n",
      " [  9 109]]\n",
      "**********************************************************************\n"
     ]
    }
   ],
   "source": [
    "y_pred = stacking_classifier.predict(x_teste)\n",
    "avaliar_modelo(y_pred, y_teste, 'Stacking')"
   ]
  },
  {
   "cell_type": "markdown",
   "id": "5d579da5",
   "metadata": {},
   "source": [
    "fazendo validação"
   ]
  },
  {
   "cell_type": "code",
   "execution_count": 75,
   "id": "85a384d9",
   "metadata": {},
   "outputs": [],
   "source": [
    "from mlxtend.classifier import StackingCVClassifier\n",
    "\n",
    "#Melhores parâmetros do CatBoost\n",
    "parametros_cat = grid_search.best_params_\n",
    "parametros_trees = extratrees_grid.best_params_\n",
    "\n",
    "base_models = [\n",
    "    CatBoostClassifier(**parametros_cat),\n",
    "    ExtraTreesClassifier(**parametros_trees),\n",
    "    pipelines[2]\n",
    "]\n",
    "\n",
    "stacking_cv_classifier = StackingCVClassifier(classifiers=base_models, meta_classifier=modelo_meta)\n",
    "stacking_cv_classifier.fit(X_treino, y_treino)\n",
    "stacking_cv_classifier.score(X_teste,y_teste)"
   ]
  },
  {
   "cell_type": "code",
   "execution_count": null,
   "id": "8126f065",
   "metadata": {},
   "outputs": [],
   "source": []
  },
  {
   "cell_type": "code",
   "execution_count": null,
   "id": "191403ab",
   "metadata": {},
   "outputs": [],
   "source": []
  },
  {
   "cell_type": "code",
   "execution_count": null,
   "id": "97799ce1",
   "metadata": {},
   "outputs": [],
   "source": []
  },
  {
   "cell_type": "code",
   "execution_count": null,
   "id": "64f45803",
   "metadata": {},
   "outputs": [],
   "source": []
  },
  {
   "cell_type": "code",
   "execution_count": null,
   "id": "0a513d15",
   "metadata": {},
   "outputs": [],
   "source": []
  },
  {
   "cell_type": "markdown",
   "id": "cde3f3f5",
   "metadata": {},
   "source": [
    "## Combinação de modelos complexo"
   ]
  },
  {
   "cell_type": "code",
   "execution_count": null,
   "id": "efc77f20",
   "metadata": {},
   "outputs": [],
   "source": []
  },
  {
   "cell_type": "code",
   "execution_count": null,
   "id": "c88639bd",
   "metadata": {},
   "outputs": [],
   "source": []
  },
  {
   "cell_type": "code",
   "execution_count": null,
   "id": "dd8d3a48",
   "metadata": {},
   "outputs": [],
   "source": []
  },
  {
   "cell_type": "code",
   "execution_count": null,
   "id": "3a5184b8",
   "metadata": {},
   "outputs": [],
   "source": []
  },
  {
   "cell_type": "code",
   "execution_count": null,
   "id": "f6cf8cf3",
   "metadata": {},
   "outputs": [],
   "source": []
  },
  {
   "cell_type": "code",
   "execution_count": null,
   "id": "dfc755a0",
   "metadata": {},
   "outputs": [],
   "source": []
  },
  {
   "cell_type": "code",
   "execution_count": null,
   "id": "0b8a0a83",
   "metadata": {},
   "outputs": [],
   "source": []
  },
  {
   "cell_type": "code",
   "execution_count": null,
   "id": "f1eefc1a",
   "metadata": {},
   "outputs": [],
   "source": []
  },
  {
   "cell_type": "code",
   "execution_count": null,
   "id": "854b96a5",
   "metadata": {},
   "outputs": [],
   "source": []
  },
  {
   "cell_type": "code",
   "execution_count": null,
   "id": "23430ce2",
   "metadata": {},
   "outputs": [],
   "source": []
  },
  {
   "cell_type": "code",
   "execution_count": null,
   "id": "9b9c21b8",
   "metadata": {},
   "outputs": [],
   "source": [
    "#num_cat_hip(dados_combinados, 'Modelo', 'test_score')"
   ]
  }
 ],
 "metadata": {
  "kernelspec": {
   "display_name": "Python 3 (ipykernel)",
   "language": "python",
   "name": "python3"
  },
  "language_info": {
   "codemirror_mode": {
    "name": "ipython",
    "version": 3
   },
   "file_extension": ".py",
   "mimetype": "text/x-python",
   "name": "python",
   "nbconvert_exporter": "python",
   "pygments_lexer": "ipython3",
   "version": "3.11.7"
  }
 },
 "nbformat": 4,
 "nbformat_minor": 5
}
