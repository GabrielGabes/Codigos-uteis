{
 "cells": [
  {
   "cell_type": "code",
   "execution_count": null,
   "id": "1d4b6420-1675-458f-9d20-caf7df45a0a3",
   "metadata": {},
   "outputs": [],
   "source": [
    "# Manipulação e Tratamento de dados\n",
    "import pandas as pd\n",
    "import openpyxl"
   ]
  },
  {
   "cell_type": "code",
   "execution_count": null,
   "id": "e6f32b68-e31c-411d-91af-1febadfb0cf9",
   "metadata": {},
   "outputs": [],
   "source": [
    "caminho_completo = local + '[GABRIEL] ' + nome_arquivo + '.xlsx'\n",
    "with pd.ExcelWriter(caminho_completo, engine='openpyxl') as writer:\n",
    "    df.to_excel(writer, sheet_name='Avaliação de Desempenho', index=False)\n",
    "    fd.to_excel(writer, sheet_name='Relatorio', index=False)"
   ]
  },
  {
   "cell_type": "code",
   "execution_count": null,
   "id": "1d153e33-4c33-411a-9988-c3cd0064a099",
   "metadata": {},
   "outputs": [],
   "source": [
    "estilos_light = ['TableStyleLight1',\n",
    "'TableStyleLight2',\n",
    "'TableStyleLight3',\n",
    "'TableStyleLight4',\n",
    "'TableStyleLight5',\n",
    "'TableStyleLight6',\n",
    "'TableStyleLight7',\n",
    "'TableStyleLight8',\n",
    "'TableStyleLight9',\n",
    "'TableStyleLight10',\n",
    "'TableStyleLight11',\n",
    "'TableStyleLight12',\n",
    "'TableStyleLight13',\n",
    "'TableStyleLight14',\n",
    "'TableStyleLight15',\n",
    "'TableStyleLight16',\n",
    "'TableStyleLight17',\n",
    "'TableStyleLight18',\n",
    "'TableStyleLight19',\n",
    "'TableStyleLight20',\n",
    "'TableStyleLight21']"
   ]
  },
  {
   "cell_type": "code",
   "execution_count": null,
   "id": "e0518276-9aad-4336-a6f2-6f9d96c3bab0",
   "metadata": {},
   "outputs": [],
   "source": [
    "estilos_light = ['TableStyleMedium1',\n",
    "'TableStyleMedium2',\n",
    "'TableStyleMedium3',\n",
    "'TableStyleMedium4',\n",
    "'TableStyleMedium5',\n",
    "'TableStyleMedium6',\n",
    "'TableStyleMedium7',\n",
    "'TableStyleMedium8',\n",
    "'TableStyleMedium9',\n",
    "'TableStyleMedium10',\n",
    "'TableStyleMedium11',\n",
    "'TableStyleMedium12',\n",
    "'TableStyleMedium13',\n",
    "'TableStyleMedium14',\n",
    "'TableStyleMedium15',\n",
    "'TableStyleMedium16',\n",
    "'TableStyleMedium17',\n",
    "'TableStyleMedium18',\n",
    "'TableStyleMedium19',\n",
    "'TableStyleMedium20',\n",
    "'TableStyleMedium21',\n",
    "'TableStyleMedium22',\n",
    "'TableStyleMedium23',\n",
    "'TableStyleMedium24',\n",
    "'TableStyleMedium25',\n",
    "'TableStyleMedium26',\n",
    "'TableStyleMedium27',\n",
    "'TableStyleMedium28']"
   ]
  },
  {
   "cell_type": "code",
   "execution_count": null,
   "id": "b307c550-ff89-4ae5-80a6-01d11d6a6c84",
   "metadata": {},
   "outputs": [],
   "source": [
    "estilos_dark = [\n",
    "    'TableStyleDark1',\n",
    "    'TableStyleDark2',\n",
    "    'TableStyleDark3',\n",
    "    'TableStyleDark4',\n",
    "    'TableStyleDark5',\n",
    "    'TableStyleDark6',\n",
    "    'TableStyleDark7',\n",
    "    'TableStyleDark8',\n",
    "    'TableStyleDark9',\n",
    "    'TableStyleDark10',\n",
    "    'TableStyleDark11'\n",
    "]"
   ]
  },
  {
   "cell_type": "code",
   "execution_count": null,
   "id": "7154230a-041b-4241-b355-48ef22587727",
   "metadata": {},
   "outputs": [],
   "source": [
    "import pandas as pd\n",
    "from openpyxl import Workbook\n",
    "from openpyxl.styles import PatternFill\n",
    "from openpyxl.utils.dataframe import dataframe_to_rows\n",
    "from openpyxl.utils import get_column_letter\n",
    "from openpyxl.worksheet.table import Table, TableStyleInfo\n",
    "\n",
    "wb = Workbook()\n",
    "wb.remove(wb.active)  # Remove a aba padrão inicial se você não precisar dela\n",
    "\n",
    "for estilo_da_vez in estilos_light:\n",
    "    ws = wb.create_sheet(title='Tab ' + estilo_da_vez)\n",
    "    \n",
    "    # Adicionando dados ao Worksheet\n",
    "    data = [\n",
    "        [\"Name\", \"Age\"],\n",
    "        [\"John\", 30],\n",
    "        [\"Jane\", 28],\n",
    "        [\"Doe\", 22]\n",
    "    ]\n",
    "    for row in data:\n",
    "        ws.append(row)\n",
    "    \n",
    "    # Definindo o intervalo da tabela\n",
    "    ref = \"A1:B4\"\n",
    "    \n",
    "    # Usando um nome de tabela único baseado no estilo\n",
    "    table_name = \"Table_\" + estilo_da_vez\n",
    "    tab = Table(displayName=table_name, ref=ref)\n",
    "    style = TableStyleInfo(name=estilo_da_vez, showFirstColumn=False,\n",
    "                           showLastColumn=False, showRowStripes=True, showColumnStripes=False)\n",
    "    tab.tableStyleInfo = style\n",
    "    ws.add_table(tab)\n",
    "\n",
    "wb.save(\"teste_estilos.xlsx\")"
   ]
  },
  {
   "cell_type": "code",
   "execution_count": null,
   "id": "b315b1ba-9c4a-4ce9-8605-ad5b3c1c9122",
   "metadata": {},
   "outputs": [],
   "source": []
  },
  {
   "cell_type": "code",
   "execution_count": null,
   "id": "e7c3a64e-6728-4228-8be1-edb036e782d9",
   "metadata": {},
   "outputs": [],
   "source": []
  },
  {
   "cell_type": "code",
   "execution_count": null,
   "id": "bff0d254-209c-4453-bbbf-530326f21094",
   "metadata": {},
   "outputs": [],
   "source": []
  },
  {
   "cell_type": "code",
   "execution_count": null,
   "id": "105ecf88-c3cb-4531-8fe7-ba73d3b8c46d",
   "metadata": {},
   "outputs": [],
   "source": []
  },
  {
   "cell_type": "code",
   "execution_count": null,
   "id": "28ac5722-88c7-4cbe-b800-3c89f3299597",
   "metadata": {},
   "outputs": [],
   "source": []
  },
  {
   "cell_type": "code",
   "execution_count": null,
   "id": "5386d8b1-9c17-4f79-a60a-db6c12b8bc4c",
   "metadata": {},
   "outputs": [],
   "source": []
  },
  {
   "cell_type": "code",
   "execution_count": null,
   "id": "579d8bb7-c605-480f-bff0-1a3730149aeb",
   "metadata": {},
   "outputs": [],
   "source": []
  },
  {
   "cell_type": "code",
   "execution_count": null,
   "id": "cbdee814-092d-48b7-9e4b-d4a47b62470c",
   "metadata": {},
   "outputs": [],
   "source": []
  },
  {
   "cell_type": "code",
   "execution_count": null,
   "id": "402f808f-2af9-4ef8-91d9-2e441add2e28",
   "metadata": {},
   "outputs": [],
   "source": []
  },
  {
   "cell_type": "code",
   "execution_count": null,
   "id": "673b9bce-f287-455c-b200-1cbca8dacc9d",
   "metadata": {},
   "outputs": [],
   "source": []
  },
  {
   "cell_type": "code",
   "execution_count": null,
   "id": "efd8556d-34dc-4f11-ae64-9a1f9aeb70a1",
   "metadata": {},
   "outputs": [],
   "source": []
  },
  {
   "cell_type": "code",
   "execution_count": null,
   "id": "3efd98c9-432e-4190-8691-c5e762d53049",
   "metadata": {},
   "outputs": [],
   "source": []
  },
  {
   "cell_type": "code",
   "execution_count": null,
   "id": "ce375a37-a456-4eef-bf7a-cd267fe93423",
   "metadata": {},
   "outputs": [],
   "source": []
  },
  {
   "cell_type": "code",
   "execution_count": null,
   "id": "8988e6db-6dde-4400-8d62-a46d03f8bcfc",
   "metadata": {},
   "outputs": [],
   "source": []
  },
  {
   "cell_type": "code",
   "execution_count": null,
   "id": "7275bb98-5900-45d3-b4a2-e7f291ed43a0",
   "metadata": {},
   "outputs": [],
   "source": []
  },
  {
   "cell_type": "code",
   "execution_count": null,
   "id": "4e49a12f-bcdf-49da-bdb6-18bc7bf417c0",
   "metadata": {},
   "outputs": [],
   "source": []
  },
  {
   "cell_type": "code",
   "execution_count": null,
   "id": "ddb9f8df-7fbe-47c6-a89b-1a222420c4da",
   "metadata": {},
   "outputs": [],
   "source": []
  },
  {
   "cell_type": "code",
   "execution_count": null,
   "id": "f5ad0c54-4f11-463f-8d08-e65fbc5bacdf",
   "metadata": {},
   "outputs": [],
   "source": []
  }
 ],
 "metadata": {
  "kernelspec": {
   "display_name": "Python 3 (ipykernel)",
   "language": "python",
   "name": "python3"
  },
  "language_info": {
   "codemirror_mode": {
    "name": "ipython",
    "version": 3
   },
   "file_extension": ".py",
   "mimetype": "text/x-python",
   "name": "python",
   "nbconvert_exporter": "python",
   "pygments_lexer": "ipython3",
   "version": "3.11.7"
  }
 },
 "nbformat": 4,
 "nbformat_minor": 5
}
